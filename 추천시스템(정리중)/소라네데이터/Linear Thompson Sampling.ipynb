{
 "cells": [
  {
   "cell_type": "code",
   "execution_count": 1,
   "metadata": {},
   "outputs": [],
   "source": [
    "import pandas as pd\n",
    "import numpy as np"
   ]
  },
  {
   "cell_type": "code",
   "execution_count": 2,
   "metadata": {},
   "outputs": [],
   "source": [
    "reward = pd.read_csv('./reward.csv',encoding='utf-8')"
   ]
  },
  {
   "cell_type": "code",
   "execution_count": 3,
   "metadata": {},
   "outputs": [
    {
     "data": {
      "text/plain": [
       "(24024943, 5)"
      ]
     },
     "execution_count": 3,
     "metadata": {},
     "output_type": "execute_result"
    }
   ],
   "source": [
    "reward.shape"
   ]
  },
  {
   "cell_type": "code",
   "execution_count": 4,
   "metadata": {},
   "outputs": [
    {
     "data": {
      "text/html": [
       "<div>\n",
       "<style scoped>\n",
       "    .dataframe tbody tr th:only-of-type {\n",
       "        vertical-align: middle;\n",
       "    }\n",
       "\n",
       "    .dataframe tbody tr th {\n",
       "        vertical-align: top;\n",
       "    }\n",
       "\n",
       "    .dataframe thead th {\n",
       "        text-align: right;\n",
       "    }\n",
       "</style>\n",
       "<table border=\"1\" class=\"dataframe\">\n",
       "  <thead>\n",
       "    <tr style=\"text-align: right;\">\n",
       "      <th></th>\n",
       "      <th>account_id</th>\n",
       "      <th>product_id</th>\n",
       "      <th>purchase</th>\n",
       "      <th>book_cluster</th>\n",
       "      <th>user_cluster</th>\n",
       "    </tr>\n",
       "  </thead>\n",
       "  <tbody>\n",
       "    <tr>\n",
       "      <th>0</th>\n",
       "      <td>100001</td>\n",
       "      <td>88440267</td>\n",
       "      <td>1.0</td>\n",
       "      <td>3.0</td>\n",
       "      <td>3.0</td>\n",
       "    </tr>\n",
       "    <tr>\n",
       "      <th>1</th>\n",
       "      <td>100001</td>\n",
       "      <td>88440267</td>\n",
       "      <td>1.0</td>\n",
       "      <td>3.0</td>\n",
       "      <td>3.0</td>\n",
       "    </tr>\n",
       "    <tr>\n",
       "      <th>2</th>\n",
       "      <td>100001</td>\n",
       "      <td>85951536</td>\n",
       "      <td>1.0</td>\n",
       "      <td>3.0</td>\n",
       "      <td>3.0</td>\n",
       "    </tr>\n",
       "    <tr>\n",
       "      <th>3</th>\n",
       "      <td>100001</td>\n",
       "      <td>85951536</td>\n",
       "      <td>1.0</td>\n",
       "      <td>3.0</td>\n",
       "      <td>3.0</td>\n",
       "    </tr>\n",
       "    <tr>\n",
       "      <th>4</th>\n",
       "      <td>100001</td>\n",
       "      <td>86895523</td>\n",
       "      <td>0.0</td>\n",
       "      <td>3.0</td>\n",
       "      <td>3.0</td>\n",
       "    </tr>\n",
       "    <tr>\n",
       "      <th>...</th>\n",
       "      <td>...</td>\n",
       "      <td>...</td>\n",
       "      <td>...</td>\n",
       "      <td>...</td>\n",
       "      <td>...</td>\n",
       "    </tr>\n",
       "    <tr>\n",
       "      <th>24024938</th>\n",
       "      <td>16837205</td>\n",
       "      <td>65060443</td>\n",
       "      <td>1.0</td>\n",
       "      <td>0.0</td>\n",
       "      <td>2.0</td>\n",
       "    </tr>\n",
       "    <tr>\n",
       "      <th>24024939</th>\n",
       "      <td>16837205</td>\n",
       "      <td>42763617</td>\n",
       "      <td>1.0</td>\n",
       "      <td>0.0</td>\n",
       "      <td>2.0</td>\n",
       "    </tr>\n",
       "    <tr>\n",
       "      <th>24024940</th>\n",
       "      <td>16837207</td>\n",
       "      <td>84678826</td>\n",
       "      <td>1.0</td>\n",
       "      <td>3.0</td>\n",
       "      <td>2.0</td>\n",
       "    </tr>\n",
       "    <tr>\n",
       "      <th>24024941</th>\n",
       "      <td>16837207</td>\n",
       "      <td>22791986</td>\n",
       "      <td>0.0</td>\n",
       "      <td>0.0</td>\n",
       "      <td>2.0</td>\n",
       "    </tr>\n",
       "    <tr>\n",
       "      <th>24024942</th>\n",
       "      <td>16837207</td>\n",
       "      <td>84639236</td>\n",
       "      <td>0.0</td>\n",
       "      <td>3.0</td>\n",
       "      <td>2.0</td>\n",
       "    </tr>\n",
       "  </tbody>\n",
       "</table>\n",
       "<p>24024943 rows × 5 columns</p>\n",
       "</div>"
      ],
      "text/plain": [
       "          account_id  product_id  purchase  book_cluster  user_cluster\n",
       "0             100001    88440267       1.0           3.0           3.0\n",
       "1             100001    88440267       1.0           3.0           3.0\n",
       "2             100001    85951536       1.0           3.0           3.0\n",
       "3             100001    85951536       1.0           3.0           3.0\n",
       "4             100001    86895523       0.0           3.0           3.0\n",
       "...              ...         ...       ...           ...           ...\n",
       "24024938    16837205    65060443       1.0           0.0           2.0\n",
       "24024939    16837205    42763617       1.0           0.0           2.0\n",
       "24024940    16837207    84678826       1.0           3.0           2.0\n",
       "24024941    16837207    22791986       0.0           0.0           2.0\n",
       "24024942    16837207    84639236       0.0           3.0           2.0\n",
       "\n",
       "[24024943 rows x 5 columns]"
      ]
     },
     "execution_count": 4,
     "metadata": {},
     "output_type": "execute_result"
    }
   ],
   "source": [
    "reward"
   ]
  },
  {
   "cell_type": "code",
   "execution_count": null,
   "metadata": {
    "scrolled": true
   },
   "outputs": [],
   "source": [
    "context = pd.read_csv('./full_context.csv',encoding='utf-8')"
   ]
  },
  {
   "cell_type": "code",
   "execution_count": null,
   "metadata": {},
   "outputs": [],
   "source": [
    "context.shape"
   ]
  },
  {
   "cell_type": "code",
   "execution_count": null,
   "metadata": {},
   "outputs": [],
   "source": [
    "reward"
   ]
  },
  {
   "cell_type": "code",
   "execution_count": null,
   "metadata": {},
   "outputs": [],
   "source": [
    "context"
   ]
  },
  {
   "cell_type": "code",
   "execution_count": 43,
   "metadata": {},
   "outputs": [],
   "source": [
    "context_1000 = context.iloc[:1000,1:]"
   ]
  },
  {
   "cell_type": "code",
   "execution_count": 44,
   "metadata": {
    "scrolled": false
   },
   "outputs": [],
   "source": [
    "reward_1000 = reward.iloc[:1000]\n",
    "reward_1000 = reward_1000['purchase']"
   ]
  },
  {
   "cell_type": "code",
   "execution_count": null,
   "metadata": {},
   "outputs": [],
   "source": []
  },
  {
   "cell_type": "code",
   "execution_count": 311,
   "metadata": {},
   "outputs": [],
   "source": [
    "narms = 5\n",
    "ndims = 72\n",
    "v = 0.9\n",
    "\n",
    "b = np.identity(ndims)\n",
    "B = np.vstack((b,b,b,b,b))\n",
    "mu_hat = np.zeros((ndims,narms))\n",
    "f = np.zeros(ndims)\n",
    "F = np.vstack((f,f,f,f,f))\n",
    "\n",
    "arm_number = reward['book_cluster'].iloc[:1200].astype('int')\n",
    "\n",
    "bounds = np.zeros((ndims,narms))"
   ]
  },
  {
   "cell_type": "code",
   "execution_count": 240,
   "metadata": {},
   "outputs": [
    {
     "data": {
      "text/plain": [
       "3"
      ]
     },
     "execution_count": 240,
     "metadata": {},
     "output_type": "execute_result"
    }
   ],
   "source": [
    "arm_number[1]"
   ]
  },
  {
   "cell_type": "code",
   "execution_count": 241,
   "metadata": {},
   "outputs": [],
   "source": [
    "i = 1\n",
    "j = arm_number[i]"
   ]
  },
  {
   "cell_type": "code",
   "execution_count": 242,
   "metadata": {},
   "outputs": [],
   "source": [
    "mean = np.transpose(mu_hat)[j]\n",
    "covariance_matrix = ((v)**2)*np.linalg.inv(B[ndims*j:ndims*j+ndims])"
   ]
  },
  {
   "cell_type": "code",
   "execution_count": 247,
   "metadata": {},
   "outputs": [
    {
     "data": {
      "text/plain": [
       "(72,)"
      ]
     },
     "execution_count": 247,
     "metadata": {},
     "output_type": "execute_result"
    }
   ],
   "source": [
    "mean.shape"
   ]
  },
  {
   "cell_type": "code",
   "execution_count": 246,
   "metadata": {},
   "outputs": [
    {
     "data": {
      "text/plain": [
       "(72, 72)"
      ]
     },
     "execution_count": 246,
     "metadata": {},
     "output_type": "execute_result"
    }
   ],
   "source": [
    "covariance_matrix.shape"
   ]
  },
  {
   "cell_type": "code",
   "execution_count": 249,
   "metadata": {},
   "outputs": [],
   "source": [
    "samples = np.random.multivariate_normal(mean, covariance_matrix)+np.random.randn(ndims)\n",
    "sample_mu_tilde = np.expand_dims(samples,axis=1)"
   ]
  },
  {
   "cell_type": "code",
   "execution_count": 253,
   "metadata": {},
   "outputs": [
    {
     "data": {
      "text/plain": [
       "(72, 1)"
      ]
     },
     "execution_count": 253,
     "metadata": {},
     "output_type": "execute_result"
    }
   ],
   "source": [
    "sample_mu_tilde.shape"
   ]
  },
  {
   "cell_type": "code",
   "execution_count": 254,
   "metadata": {},
   "outputs": [],
   "source": [
    "arm_context = np.expand_dims(np.transpose(context_1000.iloc[i]),axis=1)"
   ]
  },
  {
   "cell_type": "code",
   "execution_count": 256,
   "metadata": {
    "scrolled": true
   },
   "outputs": [
    {
     "data": {
      "text/plain": [
       "(72, 1)"
      ]
     },
     "execution_count": 256,
     "metadata": {},
     "output_type": "execute_result"
    }
   ],
   "source": [
    "arm_context.shape"
   ]
  },
  {
   "cell_type": "code",
   "execution_count": 257,
   "metadata": {},
   "outputs": [],
   "source": [
    "B[ndims*j:ndims*j+ndims] = B[ndims*j:ndims*j+ndims] + np.dot(arm_context,np.transpose(arm_context))"
   ]
  },
  {
   "cell_type": "code",
   "execution_count": 281,
   "metadata": {},
   "outputs": [
    {
     "data": {
      "text/plain": [
       "(72, 72)"
      ]
     },
     "execution_count": 281,
     "metadata": {},
     "output_type": "execute_result"
    }
   ],
   "source": [
    "B[72:144].shape"
   ]
  },
  {
   "cell_type": "code",
   "execution_count": 284,
   "metadata": {
    "scrolled": true
   },
   "outputs": [
    {
     "data": {
      "text/plain": [
       "(72,)"
      ]
     },
     "execution_count": 284,
     "metadata": {},
     "output_type": "execute_result"
    }
   ],
   "source": [
    "np.squeeze(arm_context).shape"
   ]
  },
  {
   "cell_type": "code",
   "execution_count": 271,
   "metadata": {
    "scrolled": false
   },
   "outputs": [
    {
     "data": {
      "text/plain": [
       "(72, 1)"
      ]
     },
     "execution_count": 271,
     "metadata": {},
     "output_type": "execute_result"
    }
   ],
   "source": [
    "arm_context.shape"
   ]
  },
  {
   "cell_type": "code",
   "execution_count": 285,
   "metadata": {
    "scrolled": true
   },
   "outputs": [],
   "source": [
    "F[j] = F[j] + np.squeeze(arm_context)*reward_1000[i]"
   ]
  },
  {
   "cell_type": "code",
   "execution_count": 286,
   "metadata": {
    "scrolled": true
   },
   "outputs": [
    {
     "data": {
      "text/plain": [
       "array([0.        , 0.34051455, 0.        , 0.        , 0.        ,\n",
       "       0.        , 0.31689489, 0.        , 0.        , 0.        ,\n",
       "       0.        , 0.13609702, 0.        , 0.        , 0.        ,\n",
       "       0.        , 0.        , 0.        , 0.        , 0.        ,\n",
       "       0.        , 0.        , 0.        , 0.        , 0.        ,\n",
       "       0.        , 0.        , 0.        , 0.        , 0.        ,\n",
       "       0.        , 0.        , 0.        , 0.        , 0.68345648,\n",
       "       0.        , 0.23642498, 0.        , 0.        , 0.        ,\n",
       "       0.11008415, 0.        , 0.        , 0.        , 0.        ,\n",
       "       0.        , 0.        , 0.        , 0.        , 0.        ,\n",
       "       0.        , 0.        , 0.        , 0.        , 0.        ,\n",
       "       0.        , 0.        , 0.        , 0.        , 0.        ,\n",
       "       0.        , 0.        , 0.        , 0.17141852, 0.        ,\n",
       "       0.        , 0.        , 0.        , 0.        , 0.        ,\n",
       "       0.36621018, 0.        ])"
      ]
     },
     "execution_count": 286,
     "metadata": {},
     "output_type": "execute_result"
    }
   ],
   "source": [
    "F[j]"
   ]
  },
  {
   "cell_type": "code",
   "execution_count": 291,
   "metadata": {},
   "outputs": [
    {
     "data": {
      "text/plain": [
       "(72,)"
      ]
     },
     "execution_count": 291,
     "metadata": {},
     "output_type": "execute_result"
    }
   ],
   "source": [
    "np.dot(np.linalg.inv(B[ndims*j:ndims*j+ndims]),F[j]).shape"
   ]
  },
  {
   "cell_type": "code",
   "execution_count": 298,
   "metadata": {},
   "outputs": [
    {
     "data": {
      "text/plain": [
       "(72, 5)"
      ]
     },
     "execution_count": 298,
     "metadata": {},
     "output_type": "execute_result"
    }
   ],
   "source": [
    "mu_hat.shape"
   ]
  },
  {
   "cell_type": "code",
   "execution_count": null,
   "metadata": {},
   "outputs": [],
   "source": []
  },
  {
   "cell_type": "code",
   "execution_count": 361,
   "metadata": {},
   "outputs": [],
   "source": [
    "narms = 5\n",
    "ndims = 72\n",
    "v = 0.9\n",
    "\n",
    "b = np.identity(ndims)\n",
    "B = np.vstack((b,b,b,b,b))\n",
    "mu_hat = np.zeros((ndims,narms))\n",
    "f = np.zeros(ndims)\n",
    "F = np.vstack((f,f,f,f,f))\n",
    "\n",
    "arm_number = reward['book_cluster'].iloc[:1200].astype('int')\n",
    "\n",
    "bounds = np.zeros(narms)"
   ]
  },
  {
   "cell_type": "code",
   "execution_count": 378,
   "metadata": {
    "scrolled": true
   },
   "outputs": [],
   "source": [
    "for i in context_1000.index:\n",
    "    \n",
    "    j = arm_number[i]\n",
    "        \n",
    "    mean = np.transpose(mu_hat)[j]\n",
    "    covariance_matrix = ((v)**2)*np.linalg.inv(B[ndims*j:ndims*j+ndims])\n",
    "    \n",
    "    samples = np.random.multivariate_normal(mean, covariance_matrix)+np.random.randn(ndims)\n",
    "    sample_mu_tilde = np.expand_dims(samples,axis=1)\n",
    "    \n",
    "    arm_context = np.expand_dims(np.transpose(context_1000.iloc[i]),axis=1)\n",
    "    bounds[j] = bounds[j] + np.dot(np.transpose(arm_context),sample_mu_tilde)[0][0]\n",
    "    \n",
    "    \n",
    "    B[ndims*j:ndims*j+ndims] = B[ndims*j:ndims*j+ndims] + np.dot(arm_context,np.transpose(arm_context))\n",
    "    F[j] = F[j] + np.squeeze(arm_context)*reward_1000[i]\n",
    "    np.transpose(mu_hat)[j] = np.dot(np.linalg.inv(B[ndims*j:ndims*j+ndims]),F[j])"
   ]
  },
  {
   "cell_type": "code",
   "execution_count": 395,
   "metadata": {},
   "outputs": [
    {
     "data": {
      "text/plain": [
       "array([ 26.91224399,  55.85019365,  -3.1322682 , 106.50657819,\n",
       "        69.36519875])"
      ]
     },
     "execution_count": 395,
     "metadata": {},
     "output_type": "execute_result"
    }
   ],
   "source": [
    "bounds"
   ]
  },
  {
   "cell_type": "code",
   "execution_count": 396,
   "metadata": {},
   "outputs": [
    {
     "data": {
      "text/plain": [
       "array([ 0.02691224,  0.05585019, -0.00313227,  0.10650658,  0.0693652 ])"
      ]
     },
     "execution_count": 396,
     "metadata": {},
     "output_type": "execute_result"
    }
   ],
   "source": [
    "bounds/1000"
   ]
  },
  {
   "cell_type": "code",
   "execution_count": 389,
   "metadata": {},
   "outputs": [],
   "source": [
    "r1000 = reward.iloc[:1000]\n",
    "r1000 = r1000[['purchase','book_cluster']]"
   ]
  },
  {
   "cell_type": "code",
   "execution_count": 398,
   "metadata": {},
   "outputs": [
    {
     "data": {
      "text/html": [
       "<div>\n",
       "<style scoped>\n",
       "    .dataframe tbody tr th:only-of-type {\n",
       "        vertical-align: middle;\n",
       "    }\n",
       "\n",
       "    .dataframe tbody tr th {\n",
       "        vertical-align: top;\n",
       "    }\n",
       "\n",
       "    .dataframe thead th {\n",
       "        text-align: right;\n",
       "    }\n",
       "</style>\n",
       "<table border=\"1\" class=\"dataframe\">\n",
       "  <thead>\n",
       "    <tr style=\"text-align: right;\">\n",
       "      <th></th>\n",
       "      <th>purchase</th>\n",
       "    </tr>\n",
       "    <tr>\n",
       "      <th>book_cluster</th>\n",
       "      <th></th>\n",
       "    </tr>\n",
       "  </thead>\n",
       "  <tbody>\n",
       "    <tr>\n",
       "      <td>0.0</td>\n",
       "      <td>0.036</td>\n",
       "    </tr>\n",
       "    <tr>\n",
       "      <td>1.0</td>\n",
       "      <td>0.115</td>\n",
       "    </tr>\n",
       "    <tr>\n",
       "      <td>2.0</td>\n",
       "      <td>0.023</td>\n",
       "    </tr>\n",
       "    <tr>\n",
       "      <td>3.0</td>\n",
       "      <td>0.111</td>\n",
       "    </tr>\n",
       "    <tr>\n",
       "      <td>4.0</td>\n",
       "      <td>0.049</td>\n",
       "    </tr>\n",
       "  </tbody>\n",
       "</table>\n",
       "</div>"
      ],
      "text/plain": [
       "              purchase\n",
       "book_cluster          \n",
       "0.0              0.036\n",
       "1.0              0.115\n",
       "2.0              0.023\n",
       "3.0              0.111\n",
       "4.0              0.049"
      ]
     },
     "execution_count": 398,
     "metadata": {},
     "output_type": "execute_result"
    }
   ],
   "source": [
    "r1000.groupby('book_cluster').sum()/1000"
   ]
  },
  {
   "cell_type": "code",
   "execution_count": null,
   "metadata": {},
   "outputs": [],
   "source": []
  },
  {
   "cell_type": "code",
   "execution_count": 321,
   "metadata": {},
   "outputs": [],
   "source": [
    "test = context.iloc[1000:1100,1:]"
   ]
  },
  {
   "cell_type": "code",
   "execution_count": 322,
   "metadata": {},
   "outputs": [
    {
     "data": {
      "text/html": [
       "<div>\n",
       "<style scoped>\n",
       "    .dataframe tbody tr th:only-of-type {\n",
       "        vertical-align: middle;\n",
       "    }\n",
       "\n",
       "    .dataframe tbody tr th {\n",
       "        vertical-align: top;\n",
       "    }\n",
       "\n",
       "    .dataframe thead th {\n",
       "        text-align: right;\n",
       "    }\n",
       "</style>\n",
       "<table border=\"1\" class=\"dataframe\">\n",
       "  <thead>\n",
       "    <tr style=\"text-align: right;\">\n",
       "      <th></th>\n",
       "      <th>gender_0.0</th>\n",
       "      <th>gender_1.0</th>\n",
       "      <th>g_age_0.0</th>\n",
       "      <th>g_age_1.0</th>\n",
       "      <th>g_age_2.0</th>\n",
       "      <th>g_age_3.0</th>\n",
       "      <th>g_age_4.0</th>\n",
       "      <th>g_age_5.0</th>\n",
       "      <th>g_age_6.0</th>\n",
       "      <th>most_pref_1.0</th>\n",
       "      <th>...</th>\n",
       "      <th>cat34.0</th>\n",
       "      <th>pub0.0</th>\n",
       "      <th>pub1.0</th>\n",
       "      <th>pub2.0</th>\n",
       "      <th>pub3.0</th>\n",
       "      <th>pub4.0</th>\n",
       "      <th>pri0.0</th>\n",
       "      <th>pri1.0</th>\n",
       "      <th>pri2.0</th>\n",
       "      <th>pri3.0</th>\n",
       "    </tr>\n",
       "  </thead>\n",
       "  <tbody>\n",
       "    <tr>\n",
       "      <td>1000</td>\n",
       "      <td>0.666066</td>\n",
       "      <td>0.0</td>\n",
       "      <td>0.0</td>\n",
       "      <td>0.0</td>\n",
       "      <td>0.0</td>\n",
       "      <td>0.0</td>\n",
       "      <td>0.396425</td>\n",
       "      <td>0.0</td>\n",
       "      <td>0.0</td>\n",
       "      <td>0.0</td>\n",
       "      <td>...</td>\n",
       "      <td>0.0</td>\n",
       "      <td>0.0</td>\n",
       "      <td>0.000000</td>\n",
       "      <td>0.0</td>\n",
       "      <td>0.236211</td>\n",
       "      <td>0.000000</td>\n",
       "      <td>0.0</td>\n",
       "      <td>0.263816</td>\n",
       "      <td>0.000000</td>\n",
       "      <td>0.0</td>\n",
       "    </tr>\n",
       "    <tr>\n",
       "      <td>1001</td>\n",
       "      <td>0.666066</td>\n",
       "      <td>0.0</td>\n",
       "      <td>0.0</td>\n",
       "      <td>0.0</td>\n",
       "      <td>0.0</td>\n",
       "      <td>0.0</td>\n",
       "      <td>0.396425</td>\n",
       "      <td>0.0</td>\n",
       "      <td>0.0</td>\n",
       "      <td>0.0</td>\n",
       "      <td>...</td>\n",
       "      <td>0.0</td>\n",
       "      <td>0.0</td>\n",
       "      <td>0.000000</td>\n",
       "      <td>0.0</td>\n",
       "      <td>0.000000</td>\n",
       "      <td>0.327535</td>\n",
       "      <td>0.0</td>\n",
       "      <td>0.263816</td>\n",
       "      <td>0.000000</td>\n",
       "      <td>0.0</td>\n",
       "    </tr>\n",
       "    <tr>\n",
       "      <td>1002</td>\n",
       "      <td>0.666066</td>\n",
       "      <td>0.0</td>\n",
       "      <td>0.0</td>\n",
       "      <td>0.0</td>\n",
       "      <td>0.0</td>\n",
       "      <td>0.0</td>\n",
       "      <td>0.396425</td>\n",
       "      <td>0.0</td>\n",
       "      <td>0.0</td>\n",
       "      <td>0.0</td>\n",
       "      <td>...</td>\n",
       "      <td>0.0</td>\n",
       "      <td>0.0</td>\n",
       "      <td>0.000000</td>\n",
       "      <td>0.0</td>\n",
       "      <td>0.236211</td>\n",
       "      <td>0.000000</td>\n",
       "      <td>0.0</td>\n",
       "      <td>0.263816</td>\n",
       "      <td>0.000000</td>\n",
       "      <td>0.0</td>\n",
       "    </tr>\n",
       "    <tr>\n",
       "      <td>1003</td>\n",
       "      <td>0.659485</td>\n",
       "      <td>0.0</td>\n",
       "      <td>0.0</td>\n",
       "      <td>0.0</td>\n",
       "      <td>0.0</td>\n",
       "      <td>0.0</td>\n",
       "      <td>0.316895</td>\n",
       "      <td>0.0</td>\n",
       "      <td>0.0</td>\n",
       "      <td>0.0</td>\n",
       "      <td>...</td>\n",
       "      <td>0.0</td>\n",
       "      <td>0.0</td>\n",
       "      <td>0.129505</td>\n",
       "      <td>0.0</td>\n",
       "      <td>0.000000</td>\n",
       "      <td>0.000000</td>\n",
       "      <td>0.0</td>\n",
       "      <td>0.000000</td>\n",
       "      <td>0.371458</td>\n",
       "      <td>0.0</td>\n",
       "    </tr>\n",
       "    <tr>\n",
       "      <td>1004</td>\n",
       "      <td>0.659485</td>\n",
       "      <td>0.0</td>\n",
       "      <td>0.0</td>\n",
       "      <td>0.0</td>\n",
       "      <td>0.0</td>\n",
       "      <td>0.0</td>\n",
       "      <td>0.316895</td>\n",
       "      <td>0.0</td>\n",
       "      <td>0.0</td>\n",
       "      <td>0.0</td>\n",
       "      <td>...</td>\n",
       "      <td>0.0</td>\n",
       "      <td>0.0</td>\n",
       "      <td>0.129505</td>\n",
       "      <td>0.0</td>\n",
       "      <td>0.000000</td>\n",
       "      <td>0.000000</td>\n",
       "      <td>0.0</td>\n",
       "      <td>0.263816</td>\n",
       "      <td>0.000000</td>\n",
       "      <td>0.0</td>\n",
       "    </tr>\n",
       "    <tr>\n",
       "      <td>...</td>\n",
       "      <td>...</td>\n",
       "      <td>...</td>\n",
       "      <td>...</td>\n",
       "      <td>...</td>\n",
       "      <td>...</td>\n",
       "      <td>...</td>\n",
       "      <td>...</td>\n",
       "      <td>...</td>\n",
       "      <td>...</td>\n",
       "      <td>...</td>\n",
       "      <td>...</td>\n",
       "      <td>...</td>\n",
       "      <td>...</td>\n",
       "      <td>...</td>\n",
       "      <td>...</td>\n",
       "      <td>...</td>\n",
       "      <td>...</td>\n",
       "      <td>...</td>\n",
       "      <td>...</td>\n",
       "      <td>...</td>\n",
       "      <td>...</td>\n",
       "    </tr>\n",
       "    <tr>\n",
       "      <td>1095</td>\n",
       "      <td>0.666066</td>\n",
       "      <td>0.0</td>\n",
       "      <td>0.0</td>\n",
       "      <td>0.0</td>\n",
       "      <td>0.0</td>\n",
       "      <td>0.0</td>\n",
       "      <td>0.396425</td>\n",
       "      <td>0.0</td>\n",
       "      <td>0.0</td>\n",
       "      <td>0.0</td>\n",
       "      <td>...</td>\n",
       "      <td>0.0</td>\n",
       "      <td>0.0</td>\n",
       "      <td>0.000000</td>\n",
       "      <td>0.0</td>\n",
       "      <td>0.232846</td>\n",
       "      <td>0.000000</td>\n",
       "      <td>0.0</td>\n",
       "      <td>0.264633</td>\n",
       "      <td>0.000000</td>\n",
       "      <td>0.0</td>\n",
       "    </tr>\n",
       "    <tr>\n",
       "      <td>1096</td>\n",
       "      <td>0.666066</td>\n",
       "      <td>0.0</td>\n",
       "      <td>0.0</td>\n",
       "      <td>0.0</td>\n",
       "      <td>0.0</td>\n",
       "      <td>0.0</td>\n",
       "      <td>0.396425</td>\n",
       "      <td>0.0</td>\n",
       "      <td>0.0</td>\n",
       "      <td>0.0</td>\n",
       "      <td>...</td>\n",
       "      <td>0.0</td>\n",
       "      <td>0.0</td>\n",
       "      <td>0.000000</td>\n",
       "      <td>0.0</td>\n",
       "      <td>0.232846</td>\n",
       "      <td>0.000000</td>\n",
       "      <td>0.0</td>\n",
       "      <td>0.264633</td>\n",
       "      <td>0.000000</td>\n",
       "      <td>0.0</td>\n",
       "    </tr>\n",
       "    <tr>\n",
       "      <td>1097</td>\n",
       "      <td>0.666066</td>\n",
       "      <td>0.0</td>\n",
       "      <td>0.0</td>\n",
       "      <td>0.0</td>\n",
       "      <td>0.0</td>\n",
       "      <td>0.0</td>\n",
       "      <td>0.396425</td>\n",
       "      <td>0.0</td>\n",
       "      <td>0.0</td>\n",
       "      <td>0.0</td>\n",
       "      <td>...</td>\n",
       "      <td>0.0</td>\n",
       "      <td>0.0</td>\n",
       "      <td>0.000000</td>\n",
       "      <td>0.0</td>\n",
       "      <td>0.232846</td>\n",
       "      <td>0.000000</td>\n",
       "      <td>0.0</td>\n",
       "      <td>0.264633</td>\n",
       "      <td>0.000000</td>\n",
       "      <td>0.0</td>\n",
       "    </tr>\n",
       "    <tr>\n",
       "      <td>1098</td>\n",
       "      <td>0.666066</td>\n",
       "      <td>0.0</td>\n",
       "      <td>0.0</td>\n",
       "      <td>0.0</td>\n",
       "      <td>0.0</td>\n",
       "      <td>0.0</td>\n",
       "      <td>0.396425</td>\n",
       "      <td>0.0</td>\n",
       "      <td>0.0</td>\n",
       "      <td>0.0</td>\n",
       "      <td>...</td>\n",
       "      <td>0.0</td>\n",
       "      <td>0.0</td>\n",
       "      <td>0.000000</td>\n",
       "      <td>0.0</td>\n",
       "      <td>0.000000</td>\n",
       "      <td>0.324797</td>\n",
       "      <td>0.0</td>\n",
       "      <td>0.264633</td>\n",
       "      <td>0.000000</td>\n",
       "      <td>0.0</td>\n",
       "    </tr>\n",
       "    <tr>\n",
       "      <td>1099</td>\n",
       "      <td>0.666066</td>\n",
       "      <td>0.0</td>\n",
       "      <td>0.0</td>\n",
       "      <td>0.0</td>\n",
       "      <td>0.0</td>\n",
       "      <td>0.0</td>\n",
       "      <td>0.396425</td>\n",
       "      <td>0.0</td>\n",
       "      <td>0.0</td>\n",
       "      <td>0.0</td>\n",
       "      <td>...</td>\n",
       "      <td>0.0</td>\n",
       "      <td>0.0</td>\n",
       "      <td>0.000000</td>\n",
       "      <td>0.0</td>\n",
       "      <td>0.000000</td>\n",
       "      <td>0.324797</td>\n",
       "      <td>0.0</td>\n",
       "      <td>0.264633</td>\n",
       "      <td>0.000000</td>\n",
       "      <td>0.0</td>\n",
       "    </tr>\n",
       "  </tbody>\n",
       "</table>\n",
       "<p>100 rows × 72 columns</p>\n",
       "</div>"
      ],
      "text/plain": [
       "      gender_0.0  gender_1.0  g_age_0.0  g_age_1.0  g_age_2.0  g_age_3.0  \\\n",
       "1000    0.666066         0.0        0.0        0.0        0.0        0.0   \n",
       "1001    0.666066         0.0        0.0        0.0        0.0        0.0   \n",
       "1002    0.666066         0.0        0.0        0.0        0.0        0.0   \n",
       "1003    0.659485         0.0        0.0        0.0        0.0        0.0   \n",
       "1004    0.659485         0.0        0.0        0.0        0.0        0.0   \n",
       "...          ...         ...        ...        ...        ...        ...   \n",
       "1095    0.666066         0.0        0.0        0.0        0.0        0.0   \n",
       "1096    0.666066         0.0        0.0        0.0        0.0        0.0   \n",
       "1097    0.666066         0.0        0.0        0.0        0.0        0.0   \n",
       "1098    0.666066         0.0        0.0        0.0        0.0        0.0   \n",
       "1099    0.666066         0.0        0.0        0.0        0.0        0.0   \n",
       "\n",
       "      g_age_4.0  g_age_5.0  g_age_6.0  most_pref_1.0  ...  cat34.0  pub0.0  \\\n",
       "1000   0.396425        0.0        0.0            0.0  ...      0.0     0.0   \n",
       "1001   0.396425        0.0        0.0            0.0  ...      0.0     0.0   \n",
       "1002   0.396425        0.0        0.0            0.0  ...      0.0     0.0   \n",
       "1003   0.316895        0.0        0.0            0.0  ...      0.0     0.0   \n",
       "1004   0.316895        0.0        0.0            0.0  ...      0.0     0.0   \n",
       "...         ...        ...        ...            ...  ...      ...     ...   \n",
       "1095   0.396425        0.0        0.0            0.0  ...      0.0     0.0   \n",
       "1096   0.396425        0.0        0.0            0.0  ...      0.0     0.0   \n",
       "1097   0.396425        0.0        0.0            0.0  ...      0.0     0.0   \n",
       "1098   0.396425        0.0        0.0            0.0  ...      0.0     0.0   \n",
       "1099   0.396425        0.0        0.0            0.0  ...      0.0     0.0   \n",
       "\n",
       "        pub1.0  pub2.0    pub3.0    pub4.0  pri0.0    pri1.0    pri2.0  pri3.0  \n",
       "1000  0.000000     0.0  0.236211  0.000000     0.0  0.263816  0.000000     0.0  \n",
       "1001  0.000000     0.0  0.000000  0.327535     0.0  0.263816  0.000000     0.0  \n",
       "1002  0.000000     0.0  0.236211  0.000000     0.0  0.263816  0.000000     0.0  \n",
       "1003  0.129505     0.0  0.000000  0.000000     0.0  0.000000  0.371458     0.0  \n",
       "1004  0.129505     0.0  0.000000  0.000000     0.0  0.263816  0.000000     0.0  \n",
       "...        ...     ...       ...       ...     ...       ...       ...     ...  \n",
       "1095  0.000000     0.0  0.232846  0.000000     0.0  0.264633  0.000000     0.0  \n",
       "1096  0.000000     0.0  0.232846  0.000000     0.0  0.264633  0.000000     0.0  \n",
       "1097  0.000000     0.0  0.232846  0.000000     0.0  0.264633  0.000000     0.0  \n",
       "1098  0.000000     0.0  0.000000  0.324797     0.0  0.264633  0.000000     0.0  \n",
       "1099  0.000000     0.0  0.000000  0.324797     0.0  0.264633  0.000000     0.0  \n",
       "\n",
       "[100 rows x 72 columns]"
      ]
     },
     "execution_count": 322,
     "metadata": {},
     "output_type": "execute_result"
    }
   ],
   "source": [
    "test"
   ]
  },
  {
   "cell_type": "code",
   "execution_count": 323,
   "metadata": {},
   "outputs": [],
   "source": [
    "i = 10001\n",
    "j = arm_number[1001]"
   ]
  },
  {
   "cell_type": "code",
   "execution_count": 393,
   "metadata": {},
   "outputs": [
    {
     "data": {
      "text/plain": [
       "1"
      ]
     },
     "execution_count": 393,
     "metadata": {},
     "output_type": "execute_result"
    }
   ],
   "source": [
    "j"
   ]
  },
  {
   "cell_type": "code",
   "execution_count": 324,
   "metadata": {},
   "outputs": [],
   "source": [
    "mean = np.transpose(mu_hat)[j]\n",
    "covariance_matrix = ((v)**2)*np.linalg.inv(B[ndims*j:ndims*j+ndims])"
   ]
  },
  {
   "cell_type": "code",
   "execution_count": 335,
   "metadata": {
    "scrolled": false
   },
   "outputs": [
    {
     "data": {
      "text/plain": [
       "array([[107.474554  ,   0.        ,   0.        , ...,  21.43466274,\n",
       "          0.        ,   0.        ],\n",
       "       [  0.        ,   5.2374517 ,   0.        , ...,   3.17456827,\n",
       "          0.        ,   0.        ],\n",
       "       [  0.        ,   0.        ,   1.        , ...,   0.        ,\n",
       "          0.        ,   0.        ],\n",
       "       ...,\n",
       "       [ 21.43466274,   3.17456827,   0.        , ...,  13.17564431,\n",
       "          0.        ,   0.        ],\n",
       "       [  0.        ,   0.        ,   0.        , ...,   0.        ,\n",
       "          1.        ,   0.        ],\n",
       "       [  0.        ,   0.        ,   0.        , ...,   0.        ,\n",
       "          0.        ,   1.        ]])"
      ]
     },
     "execution_count": 335,
     "metadata": {},
     "output_type": "execute_result"
    }
   ],
   "source": [
    "B[72:144]"
   ]
  },
  {
   "cell_type": "code",
   "execution_count": 339,
   "metadata": {
    "scrolled": false
   },
   "outputs": [
    {
     "data": {
      "text/plain": [
       "array([6.92708686e+01, 3.67327352e+00, 0.00000000e+00, 0.00000000e+00,\n",
       "       0.00000000e+00, 3.50176688e+01, 1.22891748e+01, 1.38662617e-01,\n",
       "       1.04440086e-02, 0.00000000e+00, 0.00000000e+00, 1.22661071e+00,\n",
       "       0.00000000e+00, 7.66128684e-02, 0.00000000e+00, 0.00000000e+00,\n",
       "       0.00000000e+00, 0.00000000e+00, 0.00000000e+00, 0.00000000e+00,\n",
       "       0.00000000e+00, 0.00000000e+00, 6.87915259e-03, 0.00000000e+00,\n",
       "       0.00000000e+00, 0.00000000e+00, 0.00000000e+00, 0.00000000e+00,\n",
       "       2.03464416e+00, 0.00000000e+00, 8.17316811e+00, 1.84876146e-01,\n",
       "       0.00000000e+00, 0.00000000e+00, 1.06693666e+02, 1.42133946e-01,\n",
       "       2.21252948e+00, 7.99413194e+01, 0.00000000e+00, 0.00000000e+00,\n",
       "       0.00000000e+00, 0.00000000e+00, 0.00000000e+00, 0.00000000e+00,\n",
       "       0.00000000e+00, 0.00000000e+00, 0.00000000e+00, 0.00000000e+00,\n",
       "       0.00000000e+00, 0.00000000e+00, 0.00000000e+00, 0.00000000e+00,\n",
       "       0.00000000e+00, 0.00000000e+00, 3.07425906e-01, 6.24312506e-02,\n",
       "       0.00000000e+00, 1.75429890e+00, 0.00000000e+00, 2.81831401e+00,\n",
       "       2.47622229e-01, 5.49868429e-01, 1.73792321e-01, 0.00000000e+00,\n",
       "       1.19370421e-01, 1.18087941e+00, 1.04801642e+01, 2.12448226e+01,\n",
       "       1.34060813e+01, 8.60915552e+00, 0.00000000e+00, 0.00000000e+00])"
      ]
     },
     "execution_count": 339,
     "metadata": {},
     "output_type": "execute_result"
    }
   ],
   "source": [
    "F[1]"
   ]
  },
  {
   "cell_type": "code",
   "execution_count": 343,
   "metadata": {},
   "outputs": [
    {
     "data": {
      "text/plain": [
       "array([ 0.10169725,  0.47638799,  0.        ,  0.        ,  0.        ,\n",
       "        0.17634052, -0.19862435,  0.0627501 ,  0.00403337,  0.        ,\n",
       "        0.        ,  0.22956046, -0.00675947,  0.02958709, -0.00477388,\n",
       "        0.        ,  0.        ,  0.        , -0.00317188,  0.        ,\n",
       "        0.        ,  0.        ,  0.00514136,  0.        , -0.00753831,\n",
       "        0.        ,  0.        , -0.07178677,  0.08078577,  0.        ,\n",
       "        0.08491339,  0.13148385, -0.27093344,  0.        ,  0.21110643,\n",
       "        0.06432372,  0.27115088,  0.35921174,  0.        ,  0.        ,\n",
       "        0.        ,  0.        ,  0.        ,  0.        ,  0.        ,\n",
       "        0.        ,  0.        ,  0.        ,  0.        ,  0.        ,\n",
       "        0.        ,  0.        ,  0.        ,  0.        ,  0.15974377,\n",
       "        0.03378969, -0.1284057 ,  0.06565097,  0.        , -0.41108745,\n",
       "       -0.1170032 ,  0.02917303, -0.00450911,  0.        , -0.04113469,\n",
       "        0.2749041 , -0.05948939, -0.19839395,  0.68805035, -0.6617588 ,\n",
       "        0.        ,  0.        ])"
      ]
     },
     "execution_count": 343,
     "metadata": {},
     "output_type": "execute_result"
    }
   ],
   "source": [
    "mu_hat.T[1]"
   ]
  },
  {
   "cell_type": "code",
   "execution_count": 325,
   "metadata": {
    "scrolled": true
   },
   "outputs": [
    {
     "data": {
      "text/plain": [
       "array([ 0.10169725,  0.47638799,  0.        ,  0.        ,  0.        ,\n",
       "        0.17634052, -0.19862435,  0.0627501 ,  0.00403337,  0.        ,\n",
       "        0.        ,  0.22956046, -0.00675947,  0.02958709, -0.00477388,\n",
       "        0.        ,  0.        ,  0.        , -0.00317188,  0.        ,\n",
       "        0.        ,  0.        ,  0.00514136,  0.        , -0.00753831,\n",
       "        0.        ,  0.        , -0.07178677,  0.08078577,  0.        ,\n",
       "        0.08491339,  0.13148385, -0.27093344,  0.        ,  0.21110643,\n",
       "        0.06432372,  0.27115088,  0.35921174,  0.        ,  0.        ,\n",
       "        0.        ,  0.        ,  0.        ,  0.        ,  0.        ,\n",
       "        0.        ,  0.        ,  0.        ,  0.        ,  0.        ,\n",
       "        0.        ,  0.        ,  0.        ,  0.        ,  0.15974377,\n",
       "        0.03378969, -0.1284057 ,  0.06565097,  0.        , -0.41108745,\n",
       "       -0.1170032 ,  0.02917303, -0.00450911,  0.        , -0.04113469,\n",
       "        0.2749041 , -0.05948939, -0.19839395,  0.68805035, -0.6617588 ,\n",
       "        0.        ,  0.        ])"
      ]
     },
     "execution_count": 325,
     "metadata": {},
     "output_type": "execute_result"
    }
   ],
   "source": [
    "mean"
   ]
  },
  {
   "cell_type": "code",
   "execution_count": 326,
   "metadata": {},
   "outputs": [
    {
     "data": {
      "text/plain": [
       "array([[ 0.20541315,  0.2569249 ,  0.        , ...,  0.00916099,\n",
       "         0.        ,  0.        ],\n",
       "       [ 0.2569249 ,  0.53648529, -0.        , ..., -0.03641934,\n",
       "        -0.        , -0.        ],\n",
       "       [ 0.        ,  0.        ,  0.81      , ...,  0.        ,\n",
       "         0.        ,  0.        ],\n",
       "       ...,\n",
       "       [ 0.00916099, -0.03641934,  0.        , ...,  0.26709913,\n",
       "         0.        ,  0.        ],\n",
       "       [ 0.        ,  0.        ,  0.        , ...,  0.        ,\n",
       "         0.81      ,  0.        ],\n",
       "       [ 0.        ,  0.        ,  0.        , ...,  0.        ,\n",
       "         0.        ,  0.81      ]])"
      ]
     },
     "execution_count": 326,
     "metadata": {},
     "output_type": "execute_result"
    }
   ],
   "source": [
    "covariance_matrix"
   ]
  },
  {
   "cell_type": "code",
   "execution_count": 327,
   "metadata": {},
   "outputs": [],
   "source": [
    "samples = np.random.multivariate_normal(mean, covariance_matrix)+np.random.randn(ndims)\n",
    "sample_mu_tilde = np.expand_dims(samples,axis=1)"
   ]
  },
  {
   "cell_type": "code",
   "execution_count": 329,
   "metadata": {},
   "outputs": [
    {
     "data": {
      "text/plain": [
       "(72, 1)"
      ]
     },
     "execution_count": 329,
     "metadata": {},
     "output_type": "execute_result"
    }
   ],
   "source": [
    "sample_mu_tilde.shape"
   ]
  },
  {
   "cell_type": "code",
   "execution_count": 399,
   "metadata": {},
   "outputs": [],
   "source": [
    "arm_context = np.expand_dims(np.transpose(test.iloc[1]),axis=1)"
   ]
  },
  {
   "cell_type": "code",
   "execution_count": 348,
   "metadata": {},
   "outputs": [],
   "source": [
    "B[ndims*j:ndims*j+ndims] = B[ndims*j:ndims*j+ndims] + np.dot(arm_context,np.transpose(arm_context))\n",
    "F[j] = F[j] + np.squeeze(arm_context)*reward.iloc[1001][2]\n",
    "np.transpose(mu_hat)[j] = np.dot(np.linalg.inv(B[ndims*j:ndims*j+ndims]),F[j])"
   ]
  },
  {
   "cell_type": "code",
   "execution_count": 350,
   "metadata": {},
   "outputs": [
    {
     "data": {
      "text/plain": [
       "0.0"
      ]
     },
     "execution_count": 350,
     "metadata": {},
     "output_type": "execute_result"
    }
   ],
   "source": [
    "reward.iloc[1001][2]"
   ]
  },
  {
   "cell_type": "code",
   "execution_count": 349,
   "metadata": {
    "scrolled": true
   },
   "outputs": [
    {
     "data": {
      "text/plain": [
       "array([[-0.04016789]])"
      ]
     },
     "execution_count": 349,
     "metadata": {},
     "output_type": "execute_result"
    }
   ],
   "source": [
    "np.dot(np.transpose(arm_context),sample_mu_tilde)"
   ]
  },
  {
   "cell_type": "code",
   "execution_count": 353,
   "metadata": {},
   "outputs": [
    {
     "data": {
      "text/plain": [
       "array([[108.80548592,   0.        ,   0.        , ...,  21.96181844,\n",
       "          0.        ,   0.        ],\n",
       "       [  0.        ,   5.2374517 ,   0.        , ...,   3.17456827,\n",
       "          0.        ,   0.        ],\n",
       "       [  0.        ,   0.        ,   1.        , ...,   0.        ,\n",
       "          0.        ,   0.        ],\n",
       "       ...,\n",
       "       [ 21.96181844,   3.17456827,   0.        , ...,  13.38444021,\n",
       "          0.        ,   0.        ],\n",
       "       [  0.        ,   0.        ,   0.        , ...,   0.        ,\n",
       "          1.        ,   0.        ],\n",
       "       [  0.        ,   0.        ,   0.        , ...,   0.        ,\n",
       "          0.        ,   1.        ]])"
      ]
     },
     "execution_count": 353,
     "metadata": {},
     "output_type": "execute_result"
    }
   ],
   "source": [
    "B[72:144]"
   ]
  },
  {
   "cell_type": "code",
   "execution_count": 354,
   "metadata": {},
   "outputs": [
    {
     "data": {
      "text/plain": [
       "array([6.92708686e+01, 3.67327352e+00, 0.00000000e+00, 0.00000000e+00,\n",
       "       0.00000000e+00, 3.50176688e+01, 1.22891748e+01, 1.38662617e-01,\n",
       "       1.04440086e-02, 0.00000000e+00, 0.00000000e+00, 1.22661071e+00,\n",
       "       0.00000000e+00, 7.66128684e-02, 0.00000000e+00, 0.00000000e+00,\n",
       "       0.00000000e+00, 0.00000000e+00, 0.00000000e+00, 0.00000000e+00,\n",
       "       0.00000000e+00, 0.00000000e+00, 6.87915259e-03, 0.00000000e+00,\n",
       "       0.00000000e+00, 0.00000000e+00, 0.00000000e+00, 0.00000000e+00,\n",
       "       2.03464416e+00, 0.00000000e+00, 8.17316811e+00, 1.84876146e-01,\n",
       "       0.00000000e+00, 0.00000000e+00, 1.06693666e+02, 1.42133946e-01,\n",
       "       2.21252948e+00, 7.99413194e+01, 0.00000000e+00, 0.00000000e+00,\n",
       "       0.00000000e+00, 0.00000000e+00, 0.00000000e+00, 0.00000000e+00,\n",
       "       0.00000000e+00, 0.00000000e+00, 0.00000000e+00, 0.00000000e+00,\n",
       "       0.00000000e+00, 0.00000000e+00, 0.00000000e+00, 0.00000000e+00,\n",
       "       0.00000000e+00, 0.00000000e+00, 3.07425906e-01, 6.24312506e-02,\n",
       "       0.00000000e+00, 1.75429890e+00, 0.00000000e+00, 2.81831401e+00,\n",
       "       2.47622229e-01, 5.49868429e-01, 1.73792321e-01, 0.00000000e+00,\n",
       "       1.19370421e-01, 1.18087941e+00, 1.04801642e+01, 2.12448226e+01,\n",
       "       1.34060813e+01, 8.60915552e+00, 0.00000000e+00, 0.00000000e+00])"
      ]
     },
     "execution_count": 354,
     "metadata": {},
     "output_type": "execute_result"
    }
   ],
   "source": [
    "F[1]"
   ]
  },
  {
   "cell_type": "code",
   "execution_count": 357,
   "metadata": {},
   "outputs": [
    {
     "data": {
      "text/plain": [
       "array([ 0.0930866 ,  0.47662776,  0.        ,  0.        ,  0.        ,\n",
       "        0.18317585, -0.20955348,  0.06292453,  0.00401889,  0.        ,\n",
       "        0.        ,  0.2467448 , -0.00661838,  0.0294809 , -0.00484855,\n",
       "        0.        ,  0.        ,  0.        , -0.00309018,  0.        ,\n",
       "        0.        ,  0.        ,  0.00510926,  0.        , -0.00724499,\n",
       "        0.        ,  0.        , -0.07150118,  0.08407032,  0.        ,\n",
       "        0.09553267,  0.13405108, -0.33661854,  0.        ,  0.21716392,\n",
       "        0.06344399,  0.27010536,  0.3532111 ,  0.        ,  0.        ,\n",
       "        0.        ,  0.        ,  0.        ,  0.        ,  0.        ,\n",
       "        0.        ,  0.        ,  0.        ,  0.        ,  0.        ,\n",
       "        0.        ,  0.        ,  0.        ,  0.        ,  0.16204211,\n",
       "        0.03492834, -0.12783222,  0.06838065,  0.        , -0.4101927 ,\n",
       "       -0.11109931, -0.00566553, -0.00317627,  0.        , -0.04070396,\n",
       "        0.28110759, -0.07575798, -0.18875318,  0.69556003, -0.66980923,\n",
       "        0.        ,  0.        ])"
      ]
     },
     "execution_count": 357,
     "metadata": {},
     "output_type": "execute_result"
    }
   ],
   "source": [
    "mu_hat.T[1]"
   ]
  },
  {
   "cell_type": "code",
   "execution_count": null,
   "metadata": {},
   "outputs": [],
   "source": []
  }
 ],
 "metadata": {
  "kernelspec": {
   "display_name": "Python 3",
   "language": "python",
   "name": "python3"
  },
  "language_info": {
   "codemirror_mode": {
    "name": "ipython",
    "version": 3
   },
   "file_extension": ".py",
   "mimetype": "text/x-python",
   "name": "python",
   "nbconvert_exporter": "python",
   "pygments_lexer": "ipython3",
   "version": "3.6.10"
  }
 },
 "nbformat": 4,
 "nbformat_minor": 2
}
