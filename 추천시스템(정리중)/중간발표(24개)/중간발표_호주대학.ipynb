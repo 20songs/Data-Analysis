{
 "cells": [
  {
   "cell_type": "code",
   "execution_count": 4,
   "metadata": {},
   "outputs": [],
   "source": [
    "import os\n",
    "import pandas as pd"
   ]
  },
  {
   "cell_type": "code",
   "execution_count": 65,
   "metadata": {},
   "outputs": [],
   "source": [
    "%matplotlib inline\n",
    "import numpy as np\n",
    "from numpy.linalg import inv\n",
    "import matplotlib.pyplot as plt\n",
    "from abc import ABC, abstractmethod"
   ]
  },
  {
   "cell_type": "code",
   "execution_count": 5,
   "metadata": {},
   "outputs": [
    {
     "data": {
      "text/plain": [
       "'C:\\\\python\\\\YES24\\\\2020-06-10'"
      ]
     },
     "execution_count": 5,
     "metadata": {},
     "output_type": "execute_result"
    }
   ],
   "source": [
    "os.getcwd()"
   ]
  },
  {
   "cell_type": "code",
   "execution_count": 26,
   "metadata": {},
   "outputs": [],
   "source": [
    "df = pd.read_csv(\"fin_df.csv\",index_col=None)"
   ]
  },
  {
   "cell_type": "code",
   "execution_count": 27,
   "metadata": {},
   "outputs": [],
   "source": [
    "df.reset_index(inplace=True)"
   ]
  },
  {
   "cell_type": "code",
   "execution_count": 33,
   "metadata": {},
   "outputs": [],
   "source": [
    "cat_list = [col for col in df.columns if col[0:3] =='cat']"
   ]
  },
  {
   "cell_type": "code",
   "execution_count": 40,
   "metadata": {},
   "outputs": [],
   "source": [
    "from sklearn.preprocessing import LabelEncoder\n",
    "encoder = LabelEncoder()"
   ]
  },
  {
   "cell_type": "code",
   "execution_count": 44,
   "metadata": {},
   "outputs": [],
   "source": [
    "df['product_id'] = encoder.fit_transform(df['product_id'])"
   ]
  },
  {
   "cell_type": "code",
   "execution_count": 57,
   "metadata": {},
   "outputs": [
    {
     "data": {
      "text/plain": [
       "cat_001    0\n",
       "cat_002    0\n",
       "cat_003    0\n",
       "cat_004    0\n",
       "cat_005    0\n",
       "cat_007    0\n",
       "cat_008    1\n",
       "cat_009    0\n",
       "cat_010    0\n",
       "cat_011    0\n",
       "cat_012    0\n",
       "cat_013    0\n",
       "cat_014    0\n",
       "cat_015    0\n",
       "cat_016    0\n",
       "cat_017    0\n",
       "cat_019    0\n",
       "cat_020    0\n",
       "cat_022    0\n",
       "cat_023    0\n",
       "cat_025    0\n",
       "cat_027    0\n",
       "cat_029    0\n",
       "cat_033    0\n",
       "cat_034    0\n",
       "Name: 0, dtype: object"
      ]
     },
     "execution_count": 57,
     "metadata": {},
     "output_type": "execute_result"
    }
   ],
   "source": [
    "df.iloc[0][cat_list]"
   ]
  },
  {
   "cell_type": "code",
   "execution_count": 54,
   "metadata": {},
   "outputs": [
    {
     "data": {
      "text/plain": [
       "'buy'"
      ]
     },
     "execution_count": 54,
     "metadata": {},
     "output_type": "execute_result"
    }
   ],
   "source": [
    "df.columns[39]"
   ]
  },
  {
   "cell_type": "code",
   "execution_count": 59,
   "metadata": {},
   "outputs": [],
   "source": [
    "import numpy as np"
   ]
  },
  {
   "cell_type": "code",
   "execution_count": 61,
   "metadata": {},
   "outputs": [],
   "source": [
    "DATASET = \"dataset.txt\"\n",
    "\n",
    "arms, rewards, contexts = [], [], []\n",
    "for i in range(len(df)):\n",
    "    arms.append(df.iloc[i]['product_id'])\n",
    "    rewards.append(df.iloc[i][39])\n",
    "    contexts.append(df.iloc[i][cat_list])\n",
    "    \n",
    "arms = np.array(arms, dtype=\"int32\")\n",
    "rewards = np.array(rewards, dtype=\"float64\")\n",
    "contexts = np.array(contexts, dtype=\"float64\")"
   ]
  },
  {
   "cell_type": "code",
   "execution_count": 79,
   "metadata": {},
   "outputs": [
    {
     "data": {
      "text/plain": [
       "array([32, 32, 31, 32,  3,  9,  7,  6,  2,  9,  4, 23, 13,  8, 34,  1, 13,\n",
       "        5,  4, 25,  3, 21, 14, 15, 24,  0, 12, 27, 21, 25, 22, 22, 18,  9,\n",
       "       16, 18,  0, 29,  0, 18, 17, 11, 22,  9,  9, 28, 20, 20,  9, 30, 33,\n",
       "       19, 10, 26])"
      ]
     },
     "execution_count": 79,
     "metadata": {},
     "output_type": "execute_result"
    }
   ],
   "source": [
    "arms"
   ]
  },
  {
   "cell_type": "code",
   "execution_count": 63,
   "metadata": {},
   "outputs": [
    {
     "data": {
      "text/plain": [
       "array([1., 1., 0., 1., 0., 1., 0., 0., 0., 1., 0., 0., 0., 0., 0., 0., 0.,\n",
       "       0., 0., 0., 0., 0., 0., 0., 0., 1., 0., 0., 0., 0., 0., 0., 0., 1.,\n",
       "       0., 0., 1., 0., 1., 0., 0., 0., 0., 1., 1., 0., 0., 0., 1., 0., 1.,\n",
       "       1., 1., 1.])"
      ]
     },
     "execution_count": 63,
     "metadata": {},
     "output_type": "execute_result"
    }
   ],
   "source": [
    "rewards"
   ]
  },
  {
   "cell_type": "code",
   "execution_count": 64,
   "metadata": {},
   "outputs": [
    {
     "data": {
      "text/plain": [
       "array([[0., 0., 0., ..., 0., 0., 0.],\n",
       "       [0., 0., 0., ..., 0., 0., 0.],\n",
       "       [0., 0., 0., ..., 0., 0., 0.],\n",
       "       ...,\n",
       "       [0., 0., 0., ..., 0., 0., 0.],\n",
       "       [0., 0., 0., ..., 0., 0., 0.],\n",
       "       [0., 0., 0., ..., 0., 0., 0.]])"
      ]
     },
     "execution_count": 64,
     "metadata": {},
     "output_type": "execute_result"
    }
   ],
   "source": [
    "contexts"
   ]
  },
  {
   "cell_type": "code",
   "execution_count": 67,
   "metadata": {},
   "outputs": [],
   "source": [
    "class MAB(ABC):\n",
    "    \"\"\"\n",
    "    Abstract class that represents a multi-armed bandit (MAB)\n",
    "    \"\"\"\n",
    "    \n",
    "    @abstractmethod\n",
    "    def play(self, tround, context):\n",
    "        \"\"\"\n",
    "        Play a round\n",
    "        \n",
    "        Arguments\n",
    "        =========\n",
    "        tround : int\n",
    "            positive integer identifying the round\n",
    "        \n",
    "        context : 1D float array, shape (self.ndims * self.narms), optional\n",
    "            context given to the arms\n",
    "        \n",
    "        Returns\n",
    "        =======\n",
    "        arm : int\n",
    "            the positive integer arm id for this round\n",
    "        \"\"\"\n",
    "    \n",
    "    @abstractmethod\n",
    "    def update(self, arm, reward, context):\n",
    "        \"\"\"\n",
    "        Updates the internal state of the MAB after a play\n",
    "        \n",
    "        Arguments\n",
    "        =========\n",
    "        arm : int\n",
    "            a positive integer arm id in {1, ..., self.narms}\n",
    "        \n",
    "        reward : float\n",
    "            reward received from arm\n",
    "        \n",
    "        context : 1D float array, shape (self.ndims * self.narms), optional\n",
    "            context given to arms\n",
    "        \"\"\""
   ]
  },
  {
   "cell_type": "code",
   "execution_count": 68,
   "metadata": {},
   "outputs": [],
   "source": [
    "def offlineEvaluate(mab, arms, rewards, contexts, nrounds=None):\n",
    "    \"\"\"\n",
    "    Offline evaluation of a multi-armed bandit\n",
    "    \n",
    "    Arguments\n",
    "    =========\n",
    "    mab : instance of MAB\n",
    "    \n",
    "    arms : 1D int array, shape (nevents,) \n",
    "        integer arm id for each event\n",
    "    \n",
    "    rewards : 1D float array, shape (nevents,)\n",
    "        reward received for each event\n",
    "    \n",
    "    contexts : 2D float array, shape (nevents, mab.narms*nfeatures)\n",
    "        contexts presented to the arms (stacked horizontally) \n",
    "        for each event.\n",
    "        \n",
    "    nrounds : int, optional\n",
    "        number of matching events to evaluate `mab` on.\n",
    "    \n",
    "    Returns\n",
    "    =======\n",
    "    out : 1D float array\n",
    "        rewards for the matching events\n",
    "    \"\"\"\n",
    "    \n",
    "    # basic input checks to ensure everything works after assertions are passed\n",
    "    assert isinstance(mab,MAB), 'MAB instance required'\n",
    "    assert type(arms) is np.ndarray, 'arms should be numpy array'\n",
    "    assert type(rewards) is np.ndarray, 'rewards should be numpy array'\n",
    "    assert type(contexts) is np.ndarray, 'contexts should be numpy array'\n",
    "    if nrounds is not None:\n",
    "        assert type(nrounds) is int, 'input type int required for nrounds'\n",
    "        assert nrounds > 0, 'nrounds should be greater than 0'\n",
    "    assert 'int' in str(arms.dtype), 'arms should be int numpy array'\n",
    "    assert 'float' in str(rewards.dtype), 'rewards should be float numpy array'\n",
    "    assert 'float' in str(contexts.dtype), 'contexts should be float numpy array'\n",
    "    assert arms.ndim == 1, 'arms should be 1D numpy array (nevents,) '\n",
    "    assert rewards.ndim == 1, 'rewards should be 1D numpy array (nevents,)'\n",
    "    assert contexts.ndim == 2, 'contexts should be 2D numpy array (nevents, mab.narms*nfeatures)'\n",
    "\n",
    "    # initially empty history\n",
    "    history = []\n",
    "    \n",
    "    # initially empty payoff\n",
    "    out = []\n",
    "    \n",
    "    # get total number of events\n",
    "    T = arms.shape[0]\n",
    "    \n",
    "    # ensuring there are events to evaluate\n",
    "    assert T > 0, \"There are no events for offline evaluation\"\n",
    "    \n",
    "    # initilize control parameters\n",
    "    events_parsed = 0\n",
    "    all_events_parsed = False\n",
    "    \n",
    "    # sequentially parse stream of events\n",
    "    for t in range(0,T):\n",
    "        \n",
    "        # repeat until matching arm is found\n",
    "        while(True):\n",
    "            \n",
    "            # if all events are parsed - stop processing\n",
    "            if events_parsed == T:\n",
    "                all_events_parsed = True\n",
    "                break\n",
    "            \n",
    "            # Get next event    \n",
    "            # get selected arm\n",
    "            a = arms[events_parsed]\n",
    "            # get observed payoff for the arm\n",
    "            r_a = rewards[events_parsed]\n",
    "            # get observed context for the arm\n",
    "            context = contexts[events_parsed,:]\n",
    "            \n",
    "            # keeping track of parsed events\n",
    "            events_parsed += 1\n",
    "     \n",
    "            # set required round on the basis of history recorded\n",
    "            tround = len(history)+1\n",
    "            # play arm for tround\n",
    "            arm = mab.play(tround,context)\n",
    "            \n",
    "            # check if arm is matched or not\n",
    "            if arm == a:\n",
    "                # matching arm found - update played arm\n",
    "                mab.update(arm,r_a,context)\n",
    "                break \n",
    "        \n",
    "        # check if all events are parsed       \n",
    "        if all_events_parsed:\n",
    "            # stop processing\n",
    "            break\n",
    "            \n",
    "        # record event tuple in history for each matched round\n",
    "        event = (tround,a,r_a,context)\n",
    "        history.append(event)      \n",
    "        \n",
    "        # add observed payoff for the matched arm\n",
    "        out.append(r_a)\n",
    "        \n",
    "        # check if required rounds are reached, if provided\n",
    "        if nrounds is not None and len(history) == nrounds:\n",
    "            break\n",
    "    \n",
    "    # return per round rewards recorded\n",
    "    return out"
   ]
  },
  {
   "cell_type": "code",
   "execution_count": 69,
   "metadata": {},
   "outputs": [],
   "source": [
    "class LinThompson(MAB):\n",
    "    \"\"\"\n",
    "    Contextual Thompson sampled multi-armed bandit (LinThompson)\n",
    "\n",
    "    Arguments\n",
    "    =========\n",
    "    narms : int\n",
    "        number of arms\n",
    "\n",
    "    ndims : int\n",
    "        number of dimensions for each arm's context\n",
    "\n",
    "    v : float\n",
    "        positive real explore-exploit parameter\n",
    "    \"\"\"\n",
    "    \n",
    "    def __init__(self, narms, ndims, v):\n",
    "      \n",
    "        # basic input checks\n",
    "        assert type(narms) is int, 'input type int required for narms'\n",
    "        assert type(ndims) is int, 'input type int required for ndims'\n",
    "        assert type(v) is float, 'input type float required for v'\n",
    "        assert narms > 0, \"number of arms should be greater than 0\"\n",
    "        assert ndims > 0, \"ndims should be greater than 0\"\n",
    "        assert v > 0, \"v should be greater than 0\"\n",
    "        \n",
    "        # initilize MAB parameters\n",
    "        self.narms = narms\n",
    "        self.ndims = ndims\n",
    "        self.v = v\n",
    "        \n",
    "        # initilize MAB state\n",
    "        self.B = np.identity(ndims)        # ndims x ndims\n",
    "        self.mu_hat = np.zeros((ndims,1))  # ndims x 1\n",
    "        self.f = np.zeros((ndims,1))       # ndims x 1\n",
    "        \n",
    "    def play(self, tround, context):\n",
    "        # initilize play parameters\n",
    "        bounds = [0] * self.narms\n",
    "        \n",
    "        # generate samples from multivariate normal distribution \n",
    "        mean = np.transpose(self.mu_hat)[0]\n",
    "        covariance_matrix = ((self.v)**2)*np.linalg.inv(self.B)\n",
    "        # setting seed to reproduce results reliably\n",
    "        np.random.seed(50005) # [bug] seed sometimes unreliable for multivariate normal\n",
    "        samples = np.random.multivariate_normal(mean, covariance_matrix)\n",
    "        # (ndims x 1) samples\n",
    "        sample_mu_tilde = np.expand_dims(samples,axis=1)\n",
    "        \n",
    "        # perform operation for all arms\n",
    "        for arm in range(0,self.narms):\n",
    "            \n",
    "            # get context for the arm (ndims x 1)\n",
    "            arm_context = np.expand_dims(np.transpose(context[(arm*10):(arm*10)+10]),axis=1)\n",
    "            \n",
    "            # calculate value for the arm\n",
    "            bounds[arm] = np.dot(np.transpose(arm_context),sample_mu_tilde)\n",
    "            \n",
    "        # get value-maximising arm from generated bounds\n",
    "        maximum_arm_value = np.max(bounds)\n",
    "            \n",
    "        # handle tie-breaking using uniformly-at-random selection\n",
    "        # setting seed to reproduce results reliably\n",
    "        np.random.seed(50005)\n",
    "        arm_to_play = np.random.choice(np.where(bounds==maximum_arm_value)[0],1)[0]\n",
    "            \n",
    "        # returning an arm integer in {1,...,self.narms}\n",
    "        return arm_to_play+1\n",
    "    \n",
    "    def update(self, arm, reward, context):\n",
    "        # update played arm\n",
    "        \n",
    "        # verifying arm input\n",
    "        assert arm <= self.narms, \"arm is larger than property narms\"\n",
    "        \n",
    "        # Getting arm index\n",
    "        arm_idx = arm-1\n",
    "        \n",
    "        # get context for the played arm\n",
    "        arm_context = np.expand_dims(np.transpose(context[(arm_idx*10):(arm_idx*10)+10]),axis=1)\n",
    "        \n",
    "        # update state of the played arm\n",
    "        self.B = self.B + np.dot(arm_context,np.transpose(arm_context))\n",
    "        self.f = self.f + arm_context*reward\n",
    "        self.mu_hat = np.dot(inv(self.B),self.f)\n"
   ]
  },
  {
   "cell_type": "code",
   "execution_count": 91,
   "metadata": {},
   "outputs": [
    {
     "ename": "ValueError",
     "evalue": "shapes (1,10) and (50,1) not aligned: 10 (dim 1) != 50 (dim 0)",
     "output_type": "error",
     "traceback": [
      "\u001b[1;31m---------------------------------------------------------------------------\u001b[0m",
      "\u001b[1;31mValueError\u001b[0m                                Traceback (most recent call last)",
      "\u001b[1;32m<ipython-input-91-48b4af587501>\u001b[0m in \u001b[0;36m<module>\u001b[1;34m\u001b[0m\n\u001b[0;32m      1\u001b[0m \u001b[0mmab\u001b[0m \u001b[1;33m=\u001b[0m \u001b[0mLinThompson\u001b[0m\u001b[1;33m(\u001b[0m\u001b[1;36m35\u001b[0m\u001b[1;33m,\u001b[0m \u001b[1;36m50\u001b[0m \u001b[1;33m,\u001b[0m \u001b[1;36m1.0\u001b[0m\u001b[1;33m)\u001b[0m\u001b[1;33m\u001b[0m\u001b[1;33m\u001b[0m\u001b[0m\n\u001b[1;32m----> 2\u001b[1;33m \u001b[0mresults_LinThompson\u001b[0m \u001b[1;33m=\u001b[0m \u001b[0mofflineEvaluate\u001b[0m\u001b[1;33m(\u001b[0m\u001b[0mmab\u001b[0m\u001b[1;33m,\u001b[0m \u001b[0marms\u001b[0m\u001b[1;33m,\u001b[0m \u001b[0mrewards\u001b[0m\u001b[1;33m,\u001b[0m \u001b[0mcontexts\u001b[0m\u001b[1;33m,\u001b[0m \u001b[1;36m800\u001b[0m\u001b[1;33m)\u001b[0m\u001b[1;33m\u001b[0m\u001b[1;33m\u001b[0m\u001b[0m\n\u001b[0m\u001b[0;32m      3\u001b[0m \u001b[0mprint\u001b[0m\u001b[1;33m(\u001b[0m\u001b[1;34m'LinThompson average reward'\u001b[0m\u001b[1;33m,\u001b[0m \u001b[0mnp\u001b[0m\u001b[1;33m.\u001b[0m\u001b[0mmean\u001b[0m\u001b[1;33m(\u001b[0m\u001b[0mresults_LinThompson\u001b[0m\u001b[1;33m)\u001b[0m\u001b[1;33m)\u001b[0m\u001b[1;33m\u001b[0m\u001b[1;33m\u001b[0m\u001b[0m\n",
      "\u001b[1;32m<ipython-input-68-ee79f044b8e6>\u001b[0m in \u001b[0;36mofflineEvaluate\u001b[1;34m(mab, arms, rewards, contexts, nrounds)\u001b[0m\n\u001b[0;32m     82\u001b[0m             \u001b[0mtround\u001b[0m \u001b[1;33m=\u001b[0m \u001b[0mlen\u001b[0m\u001b[1;33m(\u001b[0m\u001b[0mhistory\u001b[0m\u001b[1;33m)\u001b[0m\u001b[1;33m+\u001b[0m\u001b[1;36m1\u001b[0m\u001b[1;33m\u001b[0m\u001b[1;33m\u001b[0m\u001b[0m\n\u001b[0;32m     83\u001b[0m             \u001b[1;31m# play arm for tround\u001b[0m\u001b[1;33m\u001b[0m\u001b[1;33m\u001b[0m\u001b[1;33m\u001b[0m\u001b[0m\n\u001b[1;32m---> 84\u001b[1;33m             \u001b[0marm\u001b[0m \u001b[1;33m=\u001b[0m \u001b[0mmab\u001b[0m\u001b[1;33m.\u001b[0m\u001b[0mplay\u001b[0m\u001b[1;33m(\u001b[0m\u001b[0mtround\u001b[0m\u001b[1;33m,\u001b[0m\u001b[0mcontext\u001b[0m\u001b[1;33m)\u001b[0m\u001b[1;33m\u001b[0m\u001b[1;33m\u001b[0m\u001b[0m\n\u001b[0m\u001b[0;32m     85\u001b[0m \u001b[1;33m\u001b[0m\u001b[0m\n\u001b[0;32m     86\u001b[0m             \u001b[1;31m# check if arm is matched or not\u001b[0m\u001b[1;33m\u001b[0m\u001b[1;33m\u001b[0m\u001b[1;33m\u001b[0m\u001b[0m\n",
      "\u001b[1;32m<ipython-input-69-97fc836cde28>\u001b[0m in \u001b[0;36mplay\u001b[1;34m(self, tround, context)\u001b[0m\n\u001b[0;32m     55\u001b[0m \u001b[1;33m\u001b[0m\u001b[0m\n\u001b[0;32m     56\u001b[0m             \u001b[1;31m# calculate value for the arm\u001b[0m\u001b[1;33m\u001b[0m\u001b[1;33m\u001b[0m\u001b[1;33m\u001b[0m\u001b[0m\n\u001b[1;32m---> 57\u001b[1;33m             \u001b[0mbounds\u001b[0m\u001b[1;33m[\u001b[0m\u001b[0marm\u001b[0m\u001b[1;33m]\u001b[0m \u001b[1;33m=\u001b[0m \u001b[0mnp\u001b[0m\u001b[1;33m.\u001b[0m\u001b[0mdot\u001b[0m\u001b[1;33m(\u001b[0m\u001b[0mnp\u001b[0m\u001b[1;33m.\u001b[0m\u001b[0mtranspose\u001b[0m\u001b[1;33m(\u001b[0m\u001b[0marm_context\u001b[0m\u001b[1;33m)\u001b[0m\u001b[1;33m,\u001b[0m\u001b[0msample_mu_tilde\u001b[0m\u001b[1;33m)\u001b[0m\u001b[1;33m\u001b[0m\u001b[1;33m\u001b[0m\u001b[0m\n\u001b[0m\u001b[0;32m     58\u001b[0m \u001b[1;33m\u001b[0m\u001b[0m\n\u001b[0;32m     59\u001b[0m         \u001b[1;31m# get value-maximising arm from generated bounds\u001b[0m\u001b[1;33m\u001b[0m\u001b[1;33m\u001b[0m\u001b[1;33m\u001b[0m\u001b[0m\n",
      "\u001b[1;32m<__array_function__ internals>\u001b[0m in \u001b[0;36mdot\u001b[1;34m(*args, **kwargs)\u001b[0m\n",
      "\u001b[1;31mValueError\u001b[0m: shapes (1,10) and (50,1) not aligned: 10 (dim 1) != 50 (dim 0)"
     ]
    }
   ],
   "source": [
    "mab = LinThompson(35, 50 , 1.0)\n",
    "results_LinThompson = offlineEvaluate(mab, arms, rewards, contexts, 800)\n",
    "print('LinThompson average reward', np.mean(results_LinThompson))"
   ]
  },
  {
   "cell_type": "code",
   "execution_count": 72,
   "metadata": {},
   "outputs": [
    {
     "data": {
      "text/plain": [
       "25"
      ]
     },
     "execution_count": 72,
     "metadata": {},
     "output_type": "execute_result"
    }
   ],
   "source": [
    "len(contexts[0])"
   ]
  },
  {
   "cell_type": "code",
   "execution_count": null,
   "metadata": {},
   "outputs": [],
   "source": []
  }
 ],
 "metadata": {
  "kernelspec": {
   "display_name": "Python 3",
   "language": "python",
   "name": "python3"
  },
  "language_info": {
   "codemirror_mode": {
    "name": "ipython",
    "version": 3
   },
   "file_extension": ".py",
   "mimetype": "text/x-python",
   "name": "python",
   "nbconvert_exporter": "python",
   "pygments_lexer": "ipython3",
   "version": "3.7.4"
  }
 },
 "nbformat": 4,
 "nbformat_minor": 2
}
