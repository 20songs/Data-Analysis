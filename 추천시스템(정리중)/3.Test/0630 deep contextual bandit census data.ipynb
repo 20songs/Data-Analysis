{
 "cells": [
  {
   "cell_type": "code",
   "execution_count": 1,
   "metadata": {},
   "outputs": [
    {
     "data": {
      "text/plain": [
       "'/home/yes24/capstone/추천알고리즘/preprocessed'"
      ]
     },
     "execution_count": 1,
     "metadata": {},
     "output_type": "execute_result"
    }
   ],
   "source": [
    "import os\n",
    "os.getcwd()"
   ]
  },
  {
   "cell_type": "code",
   "execution_count": 2,
   "metadata": {},
   "outputs": [],
   "source": [
    "os.chdir('/home/yes24/models/research/deep_contextual_bandits')"
   ]
  },
  {
   "cell_type": "code",
   "execution_count": 3,
   "metadata": {},
   "outputs": [],
   "source": [
    "from __future__ import absolute_import\n",
    "from __future__ import division\n",
    "from __future__ import print_function\n",
    "\n",
    "import numpy as np\n",
    "import pandas as pd\n",
    "import tensorflow as tf\n",
    "import time\n",
    "from absl import app\n",
    "from absl import flags\n",
    "import sys"
   ]
  },
  {
   "cell_type": "code",
   "execution_count": 4,
   "metadata": {},
   "outputs": [],
   "source": [
    "from bandits.core.contextual_bandit import run_contextual_bandit\n",
    "from bandits.algorithms.linear_full_posterior_sampling import LinearFullPosteriorSampling"
   ]
  },
  {
   "cell_type": "code",
   "execution_count": 5,
   "metadata": {},
   "outputs": [],
   "source": [
    "from bandits.data.data_sampler import sample_census_data\n",
    "from bandits.data.data_sampler import one_hot,safe_std,remove_underrepresented_classes,classification_to_bandit_problem"
   ]
  },
  {
   "cell_type": "code",
   "execution_count": 6,
   "metadata": {},
   "outputs": [],
   "source": [
    "def display_results(algos, opt_rewards, opt_actions, h_rewards, t_init, name):\n",
    "    \"\"\"Displays summary statistics of the performance of each algorithm.\"\"\"\n",
    "\n",
    "    print('---------------------------------------------------')\n",
    "    print('---------------------------------------------------')\n",
    "    print('{} bandit completed after {} seconds.'.format(\n",
    "        name, time.time() - t_init))\n",
    "    print('---------------------------------------------------')\n",
    "\n",
    "    performance_pairs = []\n",
    "    for j, a in enumerate(algos):\n",
    "        performance_pairs.append((a.name, np.sum(h_rewards[:, j])))\n",
    "    performance_pairs = sorted(performance_pairs,\n",
    "                             key=lambda elt: elt[1],\n",
    "                             reverse=True)\n",
    "    for i, (name, reward) in enumerate(performance_pairs):\n",
    "        print('{:3}) {:20}| \\t \\t total reward = {:10}.'.format(i, name, reward))\n",
    "\n",
    "    print('---------------------------------------------------')\n",
    "    print('Optimal total reward = {}.'.format(np.sum(opt_rewards)))\n",
    "    print('Frequency of optimal actions (action, frequency):')\n",
    "    print([[elt, list(opt_actions).count(elt)] for elt in set(opt_actions)])\n",
    "    print('---------------------------------------------------')\n",
    "    print('---------------------------------------------------')\n",
    "\n"
   ]
  },
  {
   "cell_type": "code",
   "execution_count": 7,
   "metadata": {},
   "outputs": [
    {
     "data": {
      "text/plain": [
       "['/home/yes24/anaconda3/lib/python3.7/site-packages/ipykernel_launcher.py']"
      ]
     },
     "execution_count": 7,
     "metadata": {},
     "output_type": "execute_result"
    }
   ],
   "source": [
    "base_route = os.getcwd()\n",
    "data_route = 'contextual_bandits/datasets'\n",
    "\n",
    "\n",
    "flags.DEFINE_string('logdir', '/tmp/bandits/', 'Base directory to save output')\n",
    "flags.DEFINE_string(\n",
    "    'census_data',\n",
    "    os.path.join(base_route, data_route, 'USCensus1990.data.txt'),\n",
    "    'Directory where Census data is stored.')\n",
    "flags.DEFINE_string('f', '', 'kernel')\n",
    "FLAGS = flags.FLAGS\n",
    "FLAGS.set_default('alsologtostderr', True)\n",
    "FLAGS(sys.argv)"
   ]
  },
  {
   "cell_type": "code",
   "execution_count": 8,
   "metadata": {},
   "outputs": [],
   "source": [
    "num_contexts=2000"
   ]
  },
  {
   "cell_type": "code",
   "execution_count": 9,
   "metadata": {},
   "outputs": [
    {
     "name": "stdout",
     "output_type": "stream",
     "text": [
      "WARNING:tensorflow:From /home/yes24/models/research/deep_contextual_bandits/bandits/data/data_sampler.py:270: The name tf.gfile.Open is deprecated. Please use tf.io.gfile.GFile instead.\n",
      "\n"
     ]
    }
   ],
   "source": [
    "file_name = FLAGS.census_data\n",
    "num_actions = 9\n",
    "num_contexts = min(150000, num_contexts)\n",
    "sampled_vals = sample_census_data(file_name, num_contexts,\n",
    "                                      shuffle_rows=True)\n",
    "contexts, rewards, (opt_rewards, opt_actions) = sampled_vals\n",
    "dataset = np.hstack((contexts, rewards))\n",
    "context_dim = contexts.shape[1]"
   ]
  },
  {
   "cell_type": "code",
   "execution_count": 15,
   "metadata": {},
   "outputs": [
    {
     "data": {
      "text/plain": [
       "67"
      ]
     },
     "execution_count": 15,
     "metadata": {},
     "output_type": "execute_result"
    }
   ],
   "source": [
    "context_dim"
   ]
  },
  {
   "cell_type": "code",
   "execution_count": 18,
   "metadata": {},
   "outputs": [
    {
     "data": {
      "text/plain": [
       "2458285"
      ]
     },
     "execution_count": 18,
     "metadata": {},
     "output_type": "execute_result"
    }
   ],
   "source": [
    "len(contexts)"
   ]
  },
  {
   "cell_type": "code",
   "execution_count": 12,
   "metadata": {},
   "outputs": [
    {
     "data": {
      "text/plain": [
       "76"
      ]
     },
     "execution_count": 12,
     "metadata": {},
     "output_type": "execute_result"
    }
   ],
   "source": [
    "len(dataset[0])"
   ]
  },
  {
   "cell_type": "code",
   "execution_count": 16,
   "metadata": {},
   "outputs": [
    {
     "data": {
      "text/plain": [
       "array([ 5.60586769e-01, -8.16347592e-01, -3.38562341e-01, -1.79964920e-01,\n",
       "       -2.98016868e-01,  2.13931918e+00,  9.11708112e-01,  6.72682954e-01,\n",
       "        6.32357200e-01,  1.21596164e+00, -1.37949966e-01, -9.75311200e-02,\n",
       "       -1.55379379e-01,  1.40039746e+00,  9.16240022e-01, -2.65393766e-01,\n",
       "        1.00767472e+00, -2.28285518e-01, -1.04611137e-01,  2.01306479e+00,\n",
       "       -4.02761499e-01, -1.85116882e-01, -2.66526942e-01, -2.08169478e-01,\n",
       "        1.62169262e+00, -1.44685093e-01, -1.23277291e+00, -6.16638705e-01,\n",
       "       -4.79199980e-01, -1.02765454e-01,  7.05498560e-02,  7.05668240e-01,\n",
       "        1.07348489e+00,  5.77057393e-01, -3.88827893e-02,  5.79902000e-01,\n",
       "       -2.89975491e-01,  3.97019742e-01, -1.70656214e-01,  1.17693809e+00,\n",
       "        9.77633623e-01, -6.69015411e-01, -1.04119228e-01, -5.42225044e-01,\n",
       "        3.49376720e+00, -5.06598665e-01, -5.57212397e-01,  7.65372651e-01,\n",
       "        4.39704639e-01, -5.86534614e-01,  3.85672897e-01, -3.24036280e-01,\n",
       "       -4.24500169e-01, -1.27570419e-01,  9.69909665e-01, -1.55546214e-01,\n",
       "       -1.61046190e-01, -6.06521551e-01,  1.78837009e+00, -1.87674375e-01,\n",
       "        1.36011337e+00, -1.04879705e-03, -1.27801035e-01, -1.99955532e-01,\n",
       "        6.25757889e-01, -3.89110565e-01, -3.44928044e-01,  0.00000000e+00,\n",
       "        0.00000000e+00,  0.00000000e+00,  1.00000000e+00,  0.00000000e+00,\n",
       "        0.00000000e+00,  0.00000000e+00,  0.00000000e+00,  0.00000000e+00])"
      ]
     },
     "execution_count": 16,
     "metadata": {},
     "output_type": "execute_result"
    }
   ],
   "source": [
    "dataset[0]"
   ]
  },
  {
   "cell_type": "code",
   "execution_count": 14,
   "metadata": {},
   "outputs": [
    {
     "data": {
      "text/plain": [
       "array([0., 0., 0., 1., 0., 0., 0., 0., 0.])"
      ]
     },
     "execution_count": 14,
     "metadata": {},
     "output_type": "execute_result"
    }
   ],
   "source": [
    "rewards[0]"
   ]
  },
  {
   "cell_type": "code",
   "execution_count": 7,
   "metadata": {},
   "outputs": [],
   "source": [
    "rewards_raw = pd.read_csv('/home/yes24/capstone/원진공유폴더/일요일에고생이많다/reward_10000000_0630.csv',nrows=100000)\n",
    "df = pd.read_csv('/home/yes24/capstone/원진공유폴더/일요일에고생이많다/context_10000000_0630.csv',nrows=100000)"
   ]
  },
  {
   "cell_type": "code",
   "execution_count": 8,
   "metadata": {},
   "outputs": [],
   "source": [
    "labels = rewards_raw['book_cluster'].astype('int8').values\n",
    "df = df.iloc[:,1:]"
   ]
  },
  {
   "cell_type": "code",
   "execution_count": 9,
   "metadata": {
    "scrolled": true
   },
   "outputs": [
    {
     "name": "stdout",
     "output_type": "stream",
     "text": [
      "Unique classes and their ratio of total: {0: 0.12004, 1: 0.21227, 2: 0.14777, 3: 0.34609, 4: 0.17383}\n"
     ]
    }
   ],
   "source": [
    "df, labels = remove_underrepresented_classes(df, labels)\n",
    "contexts = df.values"
   ]
  },
  {
   "cell_type": "code",
   "execution_count": 10,
   "metadata": {},
   "outputs": [],
   "source": [
    "sampled_vals = classification_to_bandit_problem(contexts, labels, num_actions)"
   ]
  },
  {
   "cell_type": "code",
   "execution_count": 11,
   "metadata": {},
   "outputs": [],
   "source": [
    "contexts, rewards, (opt_rewards, opt_actions) = sampled_vals"
   ]
  },
  {
   "cell_type": "code",
   "execution_count": 12,
   "metadata": {},
   "outputs": [],
   "source": [
    "dataset = np.hstack((contexts, rewards))\n",
    "context_dim = contexts.shape[1]"
   ]
  },
  {
   "cell_type": "code",
   "execution_count": 20,
   "metadata": {},
   "outputs": [
    {
     "name": "stdout",
     "output_type": "stream",
     "text": [
      "WARNING:tensorflow:\n",
      "The TensorFlow contrib module will not be included in TensorFlow 2.0.\n",
      "For more information, please see:\n",
      "  * https://github.com/tensorflow/community/blob/master/rfcs/20180907-contrib-sunset.md\n",
      "  * https://github.com/tensorflow/addons\n",
      "  * https://github.com/tensorflow/io (for I/O related ops)\n",
      "If you depend on functionality not listed there, please file an issue.\n",
      "\n"
     ]
    }
   ],
   "source": [
    "hparams = tf.contrib.training.HParams(num_actions=num_actions)\n",
    "hparams_linear = tf.contrib.training.HParams(num_actions=num_actions,\n",
    "                                               context_dim=context_dim,\n",
    "                                               a0=6,\n",
    "                                               b0=6,\n",
    "                                               lambda_prior=0.25,\n",
    "                                               initial_pulls=1)"
   ]
  },
  {
   "cell_type": "code",
   "execution_count": 21,
   "metadata": {},
   "outputs": [],
   "source": [
    "algos = [LinearFullPosteriorSampling('LinFullPost', hparams_linear)]"
   ]
  },
  {
   "cell_type": "code",
   "execution_count": 24,
   "metadata": {},
   "outputs": [
    {
     "data": {
      "text/plain": [
       "[array([0., 0., 0., 0., 0., 0., 0., 0., 0., 0., 0., 0., 0., 0., 0., 0., 0.,\n",
       "        0., 0., 0., 0., 0., 0., 0., 0., 0., 0., 0., 0., 0., 0., 0., 0., 0.,\n",
       "        0., 0., 0., 0., 0., 0., 0., 0., 0., 0., 0., 0., 0., 0., 0., 0., 0.,\n",
       "        0., 0., 0., 0., 0., 0., 0., 0., 0., 0., 0., 0., 0., 0., 0., 0., 0.]),\n",
       " array([0., 0., 0., 0., 0., 0., 0., 0., 0., 0., 0., 0., 0., 0., 0., 0., 0.,\n",
       "        0., 0., 0., 0., 0., 0., 0., 0., 0., 0., 0., 0., 0., 0., 0., 0., 0.,\n",
       "        0., 0., 0., 0., 0., 0., 0., 0., 0., 0., 0., 0., 0., 0., 0., 0., 0.,\n",
       "        0., 0., 0., 0., 0., 0., 0., 0., 0., 0., 0., 0., 0., 0., 0., 0., 0.]),\n",
       " array([0., 0., 0., 0., 0., 0., 0., 0., 0., 0., 0., 0., 0., 0., 0., 0., 0.,\n",
       "        0., 0., 0., 0., 0., 0., 0., 0., 0., 0., 0., 0., 0., 0., 0., 0., 0.,\n",
       "        0., 0., 0., 0., 0., 0., 0., 0., 0., 0., 0., 0., 0., 0., 0., 0., 0.,\n",
       "        0., 0., 0., 0., 0., 0., 0., 0., 0., 0., 0., 0., 0., 0., 0., 0., 0.]),\n",
       " array([0., 0., 0., 0., 0., 0., 0., 0., 0., 0., 0., 0., 0., 0., 0., 0., 0.,\n",
       "        0., 0., 0., 0., 0., 0., 0., 0., 0., 0., 0., 0., 0., 0., 0., 0., 0.,\n",
       "        0., 0., 0., 0., 0., 0., 0., 0., 0., 0., 0., 0., 0., 0., 0., 0., 0.,\n",
       "        0., 0., 0., 0., 0., 0., 0., 0., 0., 0., 0., 0., 0., 0., 0., 0., 0.]),\n",
       " array([0., 0., 0., 0., 0., 0., 0., 0., 0., 0., 0., 0., 0., 0., 0., 0., 0.,\n",
       "        0., 0., 0., 0., 0., 0., 0., 0., 0., 0., 0., 0., 0., 0., 0., 0., 0.,\n",
       "        0., 0., 0., 0., 0., 0., 0., 0., 0., 0., 0., 0., 0., 0., 0., 0., 0.,\n",
       "        0., 0., 0., 0., 0., 0., 0., 0., 0., 0., 0., 0., 0., 0., 0., 0., 0.]),\n",
       " array([0., 0., 0., 0., 0., 0., 0., 0., 0., 0., 0., 0., 0., 0., 0., 0., 0.,\n",
       "        0., 0., 0., 0., 0., 0., 0., 0., 0., 0., 0., 0., 0., 0., 0., 0., 0.,\n",
       "        0., 0., 0., 0., 0., 0., 0., 0., 0., 0., 0., 0., 0., 0., 0., 0., 0.,\n",
       "        0., 0., 0., 0., 0., 0., 0., 0., 0., 0., 0., 0., 0., 0., 0., 0., 0.]),\n",
       " array([0., 0., 0., 0., 0., 0., 0., 0., 0., 0., 0., 0., 0., 0., 0., 0., 0.,\n",
       "        0., 0., 0., 0., 0., 0., 0., 0., 0., 0., 0., 0., 0., 0., 0., 0., 0.,\n",
       "        0., 0., 0., 0., 0., 0., 0., 0., 0., 0., 0., 0., 0., 0., 0., 0., 0.,\n",
       "        0., 0., 0., 0., 0., 0., 0., 0., 0., 0., 0., 0., 0., 0., 0., 0., 0.]),\n",
       " array([0., 0., 0., 0., 0., 0., 0., 0., 0., 0., 0., 0., 0., 0., 0., 0., 0.,\n",
       "        0., 0., 0., 0., 0., 0., 0., 0., 0., 0., 0., 0., 0., 0., 0., 0., 0.,\n",
       "        0., 0., 0., 0., 0., 0., 0., 0., 0., 0., 0., 0., 0., 0., 0., 0., 0.,\n",
       "        0., 0., 0., 0., 0., 0., 0., 0., 0., 0., 0., 0., 0., 0., 0., 0., 0.]),\n",
       " array([0., 0., 0., 0., 0., 0., 0., 0., 0., 0., 0., 0., 0., 0., 0., 0., 0.,\n",
       "        0., 0., 0., 0., 0., 0., 0., 0., 0., 0., 0., 0., 0., 0., 0., 0., 0.,\n",
       "        0., 0., 0., 0., 0., 0., 0., 0., 0., 0., 0., 0., 0., 0., 0., 0., 0.,\n",
       "        0., 0., 0., 0., 0., 0., 0., 0., 0., 0., 0., 0., 0., 0., 0., 0., 0.])]"
      ]
     },
     "execution_count": 24,
     "metadata": {},
     "output_type": "execute_result"
    }
   ],
   "source": [
    "algos[0].mu"
   ]
  },
  {
   "cell_type": "code",
   "execution_count": 15,
   "metadata": {
    "scrolled": true
   },
   "outputs": [],
   "source": [
    "t_init = time.time()\n",
    "results = run_contextual_bandit(context_dim, num_actions, dataset, algos)\n",
    "_, h_rewards,h_betas = results"
   ]
  },
  {
   "cell_type": "code",
   "execution_count": 45,
   "metadata": {},
   "outputs": [],
   "source": [
    "beta_df = pd.DataFrame(np.array(h_betas[-1])[0],columns=column_list)"
   ]
  },
  {
   "cell_type": "code",
   "execution_count": 46,
   "metadata": {},
   "outputs": [],
   "source": [
    "beta_df.to_csv('beta_df_0630.csv',index=False)"
   ]
  },
  {
   "cell_type": "code",
   "execution_count": 40,
   "metadata": {},
   "outputs": [],
   "source": [
    "column_list = ['constant','cat1.0',\n",
    " 'cat2.0', 'cat3.0', 'cat4.0', 'cat5.0', 'cat7.0', 'cat8.0', 'cat9.0', 'cat10.0', 'cat11.0', 'cat12.0', 'cat13.0', 'cat14.0', 'cat15.0',\n",
    " 'cat16.0', 'cat17.0', 'cat19.0', 'cat20.0', 'cat22.0', 'cat23.0', 'cat25.0', 'cat27.0', 'cat29.0', 'cat33.0', 'cat34.0', 'pub0.0',\n",
    " 'pub1.0', 'pub2.0', 'pub3.0', 'pub4.0', 'pri0.0', 'pri1.0', 'pri2.0', 'pri3.0', 'index.1', 'gender_0.0', 'gender_1.0', 'g_age_0.0', 'g_age_1.0',\n",
    " 'g_age_2.0', 'g_age_3.0', 'g_age_4.0', 'g_age_5.0', 'g_age_6.0', 'most_pref_1.0', 'most_pref_2.0', 'most_pref_3.0', 'most_pref_4.0',\n",
    " 'most_pref_5.0', 'most_pref_7.0', 'most_pref_8.0', 'most_pref_9.0', 'most_pref_10.0', 'most_pref_11.0', 'most_pref_12.0', 'most_pref_13.0', 'most_pref_14.0',\n",
    " 'most_pref_15.0', 'most_pref_16.0', 'most_pref_17.0', 'most_pref_19.0', 'most_pref_20.0', 'most_pref_22.0', 'most_pref_23.0', 'most_pref_25.0',\n",
    " 'most_pref_27.0', 'most_pref_29.0', 'most_pref_33.0', 'most_pref_34.0', 'new_pref_0', 'new_pref_1', 'address_is_0', 'address_is_1']"
   ]
  },
  {
   "cell_type": "code",
   "execution_count": 44,
   "metadata": {},
   "outputs": [
    {
     "name": "stdout",
     "output_type": "stream",
     "text": [
      "---------------------------------------------------\n",
      "---------------------------------------------------\n",
      "yes24 bandit completed after 9291.318922519684 seconds.\n",
      "---------------------------------------------------\n",
      "  0) LinFullPost         | \t \t total reward =    98027.0.\n",
      "---------------------------------------------------\n",
      "Optimal total reward = 100000.0.\n",
      "Frequency of optimal actions (action, frequency):\n",
      "[[0, 12004], [1, 21227], [2, 14777], [3, 34609], [4, 17383]]\n",
      "---------------------------------------------------\n",
      "---------------------------------------------------\n"
     ]
    }
   ],
   "source": [
    "display_results(algos, opt_rewards, opt_actions, h_rewards, t_init, 'yes24')"
   ]
  },
  {
   "cell_type": "code",
   "execution_count": 47,
   "metadata": {},
   "outputs": [
    {
     "data": {
      "text/plain": [
       "99995"
      ]
     },
     "execution_count": 47,
     "metadata": {},
     "output_type": "execute_result"
    }
   ],
   "source": [
    "len(h_betas)"
   ]
  },
  {
   "cell_type": "code",
   "execution_count": 49,
   "metadata": {},
   "outputs": [
    {
     "data": {
      "text/plain": [
       "array([-0.14844216, -0.12543411,  2.97054671, -0.13740394, -0.21399855,\n",
       "       -0.13698782, -0.14223637, -0.17772788, -0.14466874, -0.16221809,\n",
       "       -0.05977222, -0.26137904, -0.24122575, -0.13322745, -0.16052188,\n",
       "       -0.20353871, -0.19041715, -0.16058742, -0.21890968, -0.18310553,\n",
       "       -0.07564761, -0.37457024, -0.28854689, -0.32935604, -0.19667349,\n",
       "        1.94378174, -0.3655931 , -0.35041134, -0.54196679, -0.71202339,\n",
       "       -0.41423575, -0.64042088,  1.24896025, -0.45585349, -1.73203349,\n",
       "       -1.33826653,  1.33826653,  0.        ,  0.        , -0.01265012,\n",
       "       -0.65571376,  0.96130795, -0.4622082 , -0.05849502, -0.1600953 ,\n",
       "       -0.12390369,  2.50359143, -0.14599603, -0.21621229, -0.14603175,\n",
       "       -0.15240492, -0.12514592, -0.14816045, -0.15804661, -0.03914517,\n",
       "       -0.27674629, -0.2196861 , -0.11829245, -0.14340283, -0.1748027 ,\n",
       "       -0.16383419, -0.11907229, -0.18158326, -0.15435153, -0.03703889,\n",
       "       -0.45173546, -0.3026283 , -0.34351925, -0.11915865,  0.39219267,\n",
       "       -0.39219267,  1.73570737, -1.73570737,  0.        ,  0.        ,\n",
       "        0.        ,  1.        ,  0.        ])"
      ]
     },
     "execution_count": 49,
     "metadata": {},
     "output_type": "execute_result"
    }
   ],
   "source": [
    "dataset[0]"
   ]
  },
  {
   "cell_type": "code",
   "execution_count": 17,
   "metadata": {},
   "outputs": [
    {
     "data": {
      "text/plain": [
       "(2458285, 76)"
      ]
     },
     "execution_count": 17,
     "metadata": {},
     "output_type": "execute_result"
    }
   ],
   "source": [
    "dataset.shape"
   ]
  },
  {
   "cell_type": "code",
   "execution_count": 19,
   "metadata": {},
   "outputs": [
    {
     "data": {
      "text/plain": [
       "'/home/yes24/models/research/deep_contextual_bandits'"
      ]
     },
     "execution_count": 19,
     "metadata": {},
     "output_type": "execute_result"
    }
   ],
   "source": [
    "os.getcwd()"
   ]
  },
  {
   "cell_type": "code",
   "execution_count": null,
   "metadata": {},
   "outputs": [],
   "source": []
  }
 ],
 "metadata": {
  "kernelspec": {
   "display_name": "Python 3",
   "language": "python",
   "name": "python3"
  },
  "language_info": {
   "codemirror_mode": {
    "name": "ipython",
    "version": 3
   },
   "file_extension": ".py",
   "mimetype": "text/x-python",
   "name": "python",
   "nbconvert_exporter": "python",
   "pygments_lexer": "ipython3",
   "version": "3.7.6"
  }
 },
 "nbformat": 4,
 "nbformat_minor": 4
}
