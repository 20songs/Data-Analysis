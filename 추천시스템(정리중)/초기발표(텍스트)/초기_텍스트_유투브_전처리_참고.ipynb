{
 "cells": [
  {
   "cell_type": "code",
   "execution_count": 0,
   "metadata": {
    "colab": {
     "base_uri": "https://localhost:8080/",
     "height": 126
    },
    "colab_type": "code",
    "id": "ELLHm4VAmEjh",
    "outputId": "40c70fca-f078-482e-ab5a-5105ff747519"
   },
   "outputs": [
    {
     "name": "stdout",
     "output_type": "stream",
     "text": [
      "Go to this URL in a browser: https://accounts.google.com/o/oauth2/auth?client_id=947318989803-6bn6qk8qdgf4n4g3pfee6491hc0brc4i.apps.googleusercontent.com&redirect_uri=urn%3aietf%3awg%3aoauth%3a2.0%3aoob&response_type=code&scope=email%20https%3a%2f%2fwww.googleapis.com%2fauth%2fdocs.test%20https%3a%2f%2fwww.googleapis.com%2fauth%2fdrive%20https%3a%2f%2fwww.googleapis.com%2fauth%2fdrive.photos.readonly%20https%3a%2f%2fwww.googleapis.com%2fauth%2fpeopleapi.readonly\n",
      "\n",
      "Enter your authorization code:\n",
      "··········\n",
      "Mounted at /content/drive\n"
     ]
    }
   ],
   "source": [
    "from google.colab import drive\n",
    "drive.mount('/content/drive')"
   ]
  },
  {
   "cell_type": "code",
   "execution_count": 0,
   "metadata": {
    "colab": {
     "base_uri": "https://localhost:8080/",
     "height": 70
    },
    "colab_type": "code",
    "id": "FkvvjaBKpfJa",
    "outputId": "401d0db7-85c3-4266-cdea-7a22eb0ab4cd"
   },
   "outputs": [
    {
     "name": "stdout",
     "output_type": "stream",
     "text": [
      "ls: cannot access 'content': No such file or directory\n",
      "drive:\n",
      "'My Drive'  'Shared drives'\n"
     ]
    }
   ],
   "source": [
    "!ls content drive"
   ]
  },
  {
   "cell_type": "code",
   "execution_count": 0,
   "metadata": {
    "colab": {
     "base_uri": "https://localhost:8080/",
     "height": 52
    },
    "colab_type": "code",
    "id": "5Sm2HbEIpln4",
    "outputId": "94a79a97-122c-46f5-d5db-63d34b51a9a6"
   },
   "outputs": [
    {
     "name": "stderr",
     "output_type": "stream",
     "text": [
      "/usr/local/lib/python3.6/dist-packages/statsmodels/tools/_testing.py:19: FutureWarning: pandas.util.testing is deprecated. Use the functions in the public API at pandas.testing instead.\n",
      "  import pandas.util.testing as tm\n"
     ]
    }
   ],
   "source": [
    "import pandas as pd\n",
    "import numpy as np\n",
    "import matplotlib.pyplot as plt\n",
    "import seaborn as sns"
   ]
  },
  {
   "cell_type": "code",
   "execution_count": 0,
   "metadata": {
    "colab": {
     "base_uri": "https://localhost:8080/",
     "height": 232
    },
    "colab_type": "code",
    "id": "BcxXBhtaorg_",
    "outputId": "8d4a5fa8-b002-4511-903a-23a7b9038fa2"
   },
   "outputs": [
    {
     "name": "stdout",
     "output_type": "stream",
     "text": [
      "Collecting glove_python\n",
      "\u001b[?25l  Downloading https://files.pythonhosted.org/packages/3e/79/7e7e548dd9dcb741935d031117f4bed133276c2a047aadad42f1552d1771/glove_python-0.1.0.tar.gz (263kB)\n",
      "\r",
      "\u001b[K     |█▎                              | 10kB 20.7MB/s eta 0:00:01\r",
      "\u001b[K     |██▌                             | 20kB 7.0MB/s eta 0:00:01\r",
      "\u001b[K     |███▊                            | 30kB 8.1MB/s eta 0:00:01\r",
      "\u001b[K     |█████                           | 40kB 9.0MB/s eta 0:00:01\r",
      "\u001b[K     |██████▎                         | 51kB 7.2MB/s eta 0:00:01\r",
      "\u001b[K     |███████▌                        | 61kB 8.0MB/s eta 0:00:01\r",
      "\u001b[K     |████████▊                       | 71kB 8.4MB/s eta 0:00:01\r",
      "\u001b[K     |██████████                      | 81kB 9.4MB/s eta 0:00:01\r",
      "\u001b[K     |███████████▏                    | 92kB 9.6MB/s eta 0:00:01\r",
      "\u001b[K     |████████████▌                   | 102kB 9.9MB/s eta 0:00:01\r",
      "\u001b[K     |█████████████▊                  | 112kB 9.9MB/s eta 0:00:01\r",
      "\u001b[K     |███████████████                 | 122kB 9.9MB/s eta 0:00:01\r",
      "\u001b[K     |████████████████▏               | 133kB 9.9MB/s eta 0:00:01\r",
      "\u001b[K     |█████████████████▍              | 143kB 9.9MB/s eta 0:00:01\r",
      "\u001b[K     |██████████████████▊             | 153kB 9.9MB/s eta 0:00:01\r",
      "\u001b[K     |████████████████████            | 163kB 9.9MB/s eta 0:00:01\r",
      "\u001b[K     |█████████████████████▏          | 174kB 9.9MB/s eta 0:00:01\r",
      "\u001b[K     |██████████████████████▍         | 184kB 9.9MB/s eta 0:00:01\r",
      "\u001b[K     |███████████████████████▋        | 194kB 9.9MB/s eta 0:00:01\r",
      "\u001b[K     |█████████████████████████       | 204kB 9.9MB/s eta 0:00:01\r",
      "\u001b[K     |██████████████████████████▏     | 215kB 9.9MB/s eta 0:00:01\r",
      "\u001b[K     |███████████████████████████▍    | 225kB 9.9MB/s eta 0:00:01\r",
      "\u001b[K     |████████████████████████████▋   | 235kB 9.9MB/s eta 0:00:01\r",
      "\u001b[K     |█████████████████████████████▉  | 245kB 9.9MB/s eta 0:00:01\r",
      "\u001b[K     |███████████████████████████████▏| 256kB 9.9MB/s eta 0:00:01\r",
      "\u001b[K     |████████████████████████████████| 266kB 9.9MB/s \n",
      "\u001b[?25hRequirement already satisfied: numpy in /usr/local/lib/python3.6/dist-packages (from glove_python) (1.18.2)\n",
      "Requirement already satisfied: scipy in /usr/local/lib/python3.6/dist-packages (from glove_python) (1.4.1)\n",
      "Building wheels for collected packages: glove-python\n",
      "  Building wheel for glove-python (setup.py) ... \u001b[?25l\u001b[?25hdone\n",
      "  Created wheel for glove-python: filename=glove_python-0.1.0-cp36-cp36m-linux_x86_64.whl size=702592 sha256=bedafa1ca32717eb2392f1109bc8d06011c5192a98e676fd4cff21c8d90581fb\n",
      "  Stored in directory: /root/.cache/pip/wheels/88/4b/6d/10c0d2ad32c9d9d68beec9694a6f0b6e83ab1662a90a089a4b\n",
      "Successfully built glove-python\n",
      "Installing collected packages: glove-python\n",
      "Successfully installed glove-python-0.1.0\n"
     ]
    }
   ],
   "source": [
    "!pip install glove_python"
   ]
  },
  {
   "cell_type": "markdown",
   "metadata": {
    "colab_type": "text",
    "id": "9u0PJQQsJfYt"
   },
   "source": [
    "### 데이터 불러오기"
   ]
  },
  {
   "cell_type": "code",
   "execution_count": 0,
   "metadata": {
    "colab": {
     "base_uri": "https://localhost:8080/",
     "height": 1000
    },
    "colab_type": "code",
    "id": "d6KK8GxDpnTr",
    "outputId": "12ec7a11-0f77-4def-9ae1-dd41737a4383"
   },
   "outputs": [
    {
     "data": {
      "text/html": [
       "<div>\n",
       "<style scoped>\n",
       "    .dataframe tbody tr th:only-of-type {\n",
       "        vertical-align: middle;\n",
       "    }\n",
       "\n",
       "    .dataframe tbody tr th {\n",
       "        vertical-align: top;\n",
       "    }\n",
       "\n",
       "    .dataframe thead th {\n",
       "        text-align: right;\n",
       "    }\n",
       "</style>\n",
       "<table border=\"1\" class=\"dataframe\">\n",
       "  <thead>\n",
       "    <tr style=\"text-align: right;\">\n",
       "      <th></th>\n",
       "      <th>Unnamed: 0</th>\n",
       "      <th>Unnamed: 0.1</th>\n",
       "      <th>channel_name</th>\n",
       "      <th>subscribers</th>\n",
       "      <th>video_name</th>\n",
       "      <th>days_after_upload</th>\n",
       "      <th>video_duration</th>\n",
       "      <th>hits</th>\n",
       "      <th>likes_num</th>\n",
       "      <th>dislikes_num</th>\n",
       "      <th>category_id</th>\n",
       "      <th>thumbnail</th>\n",
       "    </tr>\n",
       "  </thead>\n",
       "  <tbody>\n",
       "    <tr>\n",
       "      <th>0</th>\n",
       "      <td>0</td>\n",
       "      <td>0</td>\n",
       "      <td>복덩이</td>\n",
       "      <td>104000</td>\n",
       "      <td>너무나맛있는 '알타리묵은지찜과' \"앞치마에그림\" Altari old paper st...</td>\n",
       "      <td>10</td>\n",
       "      <td>311</td>\n",
       "      <td>1126</td>\n",
       "      <td>40</td>\n",
       "      <td>1</td>\n",
       "      <td>0</td>\n",
       "      <td>https://i.ytimg.com/vi/al52wJgMGyI/hqdefault.j...</td>\n",
       "    </tr>\n",
       "    <tr>\n",
       "      <th>1</th>\n",
       "      <td>1</td>\n",
       "      <td>1</td>\n",
       "      <td>복덩이</td>\n",
       "      <td>104000</td>\n",
       "      <td>헌옷으로만든 [앞치마]와 '민들레' 겉절이 'Apron' made with old ...</td>\n",
       "      <td>11</td>\n",
       "      <td>416</td>\n",
       "      <td>1067</td>\n",
       "      <td>85</td>\n",
       "      <td>3</td>\n",
       "      <td>0</td>\n",
       "      <td>https://i.ytimg.com/vi/-xx7shznKec/hqdefault.j...</td>\n",
       "    </tr>\n",
       "    <tr>\n",
       "      <th>2</th>\n",
       "      <td>2</td>\n",
       "      <td>2</td>\n",
       "      <td>복덩이</td>\n",
       "      <td>104000</td>\n",
       "      <td>탈모와다이어트에 탁월한고급진 '느타리버섯볶음' 과 프로방스 창문그리기 Stir-fr...</td>\n",
       "      <td>12</td>\n",
       "      <td>265</td>\n",
       "      <td>860</td>\n",
       "      <td>64</td>\n",
       "      <td>0</td>\n",
       "      <td>0</td>\n",
       "      <td>https://i.ytimg.com/vi/m7KC7oEKKuo/hqdefault.j...</td>\n",
       "    </tr>\n",
       "    <tr>\n",
       "      <th>3</th>\n",
       "      <td>3</td>\n",
       "      <td>3</td>\n",
       "      <td>복덩이</td>\n",
       "      <td>104000</td>\n",
       "      <td>감기 면연력 간기능보호에 탁월한 '도라지튀김' '민들레튀김' '라벤다그리기' Fri...</td>\n",
       "      <td>13</td>\n",
       "      <td>419</td>\n",
       "      <td>1116</td>\n",
       "      <td>76</td>\n",
       "      <td>1</td>\n",
       "      <td>0</td>\n",
       "      <td>https://i.ytimg.com/vi/FYeuMGEgNWA/hqdefault.j...</td>\n",
       "    </tr>\n",
       "    <tr>\n",
       "      <th>4</th>\n",
       "      <td>4</td>\n",
       "      <td>4</td>\n",
       "      <td>복덩이</td>\n",
       "      <td>104000</td>\n",
       "      <td>진달래화전 부침 복덩이표 바삭바삭한  쫀득쫀득비법공개</td>\n",
       "      <td>14</td>\n",
       "      <td>287</td>\n",
       "      <td>622</td>\n",
       "      <td>47</td>\n",
       "      <td>2</td>\n",
       "      <td>0</td>\n",
       "      <td>https://i.ytimg.com/vi/UjLKW2fjkyA/hqdefault.j...</td>\n",
       "    </tr>\n",
       "    <tr>\n",
       "      <th>...</th>\n",
       "      <td>...</td>\n",
       "      <td>...</td>\n",
       "      <td>...</td>\n",
       "      <td>...</td>\n",
       "      <td>...</td>\n",
       "      <td>...</td>\n",
       "      <td>...</td>\n",
       "      <td>...</td>\n",
       "      <td>...</td>\n",
       "      <td>...</td>\n",
       "      <td>...</td>\n",
       "      <td>...</td>\n",
       "    </tr>\n",
       "    <tr>\n",
       "      <th>13680</th>\n",
       "      <td>31680</td>\n",
       "      <td>31680</td>\n",
       "      <td>키다리형</td>\n",
       "      <td>44000</td>\n",
       "      <td>[VLOG] 체지방 한자릿수 유지식단::뭐든지 과하면 독이다  :: 추억의 VLOG</td>\n",
       "      <td>424</td>\n",
       "      <td>601</td>\n",
       "      <td>47391</td>\n",
       "      <td>554</td>\n",
       "      <td>18</td>\n",
       "      <td>6</td>\n",
       "      <td>https://i.ytimg.com/vi/gPEWgwBoT6I/hqdefault.j...</td>\n",
       "    </tr>\n",
       "    <tr>\n",
       "      <th>13681</th>\n",
       "      <td>31681</td>\n",
       "      <td>31681</td>\n",
       "      <td>키다리형</td>\n",
       "      <td>44000</td>\n",
       "      <td>[키용소 2화] 그들의 입맛을 사로잡은 식단 대공개 (맛있게 다이어트하자)</td>\n",
       "      <td>426</td>\n",
       "      <td>1146</td>\n",
       "      <td>52216</td>\n",
       "      <td>959</td>\n",
       "      <td>18</td>\n",
       "      <td>6</td>\n",
       "      <td>https://i.ytimg.com/vi/p7Ssy5gB_5A/hqdefault.j...</td>\n",
       "    </tr>\n",
       "    <tr>\n",
       "      <th>13682</th>\n",
       "      <td>31682</td>\n",
       "      <td>31682</td>\n",
       "      <td>키다리형</td>\n",
       "      <td>44000</td>\n",
       "      <td>[실속2분팁] 덤벨로우 tip (넓고 두꺼운 등을 위하여)</td>\n",
       "      <td>427</td>\n",
       "      <td>142</td>\n",
       "      <td>118107</td>\n",
       "      <td>1300</td>\n",
       "      <td>29</td>\n",
       "      <td>6</td>\n",
       "      <td>https://i.ytimg.com/vi/PI7UN15-5K0/hqdefault.j...</td>\n",
       "    </tr>\n",
       "    <tr>\n",
       "      <th>13683</th>\n",
       "      <td>31683</td>\n",
       "      <td>31683</td>\n",
       "      <td>키다리형</td>\n",
       "      <td>44000</td>\n",
       "      <td>[키용소 1화] 살빼는방법을 모르겠어요 :: 위험한 계약</td>\n",
       "      <td>429</td>\n",
       "      <td>1282</td>\n",
       "      <td>78212</td>\n",
       "      <td>1600</td>\n",
       "      <td>42</td>\n",
       "      <td>6</td>\n",
       "      <td>https://i.ytimg.com/vi/iI4-fi64bss/hqdefault.j...</td>\n",
       "    </tr>\n",
       "    <tr>\n",
       "      <th>13684</th>\n",
       "      <td>31684</td>\n",
       "      <td>31684</td>\n",
       "      <td>키다리형</td>\n",
       "      <td>44000</td>\n",
       "      <td>[VLOG] 다이어트를 위한 식단과 운동 :: 키용소1기 친구들과 함께한 하루</td>\n",
       "      <td>432</td>\n",
       "      <td>454</td>\n",
       "      <td>55995</td>\n",
       "      <td>860</td>\n",
       "      <td>24</td>\n",
       "      <td>6</td>\n",
       "      <td>https://i.ytimg.com/vi/cgp-OT0CEKc/hqdefault.j...</td>\n",
       "    </tr>\n",
       "  </tbody>\n",
       "</table>\n",
       "<p>13685 rows × 12 columns</p>\n",
       "</div>"
      ],
      "text/plain": [
       "       Unnamed: 0  ...                                          thumbnail\n",
       "0               0  ...  https://i.ytimg.com/vi/al52wJgMGyI/hqdefault.j...\n",
       "1               1  ...  https://i.ytimg.com/vi/-xx7shznKec/hqdefault.j...\n",
       "2               2  ...  https://i.ytimg.com/vi/m7KC7oEKKuo/hqdefault.j...\n",
       "3               3  ...  https://i.ytimg.com/vi/FYeuMGEgNWA/hqdefault.j...\n",
       "4               4  ...  https://i.ytimg.com/vi/UjLKW2fjkyA/hqdefault.j...\n",
       "...           ...  ...                                                ...\n",
       "13680       31680  ...  https://i.ytimg.com/vi/gPEWgwBoT6I/hqdefault.j...\n",
       "13681       31681  ...  https://i.ytimg.com/vi/p7Ssy5gB_5A/hqdefault.j...\n",
       "13682       31682  ...  https://i.ytimg.com/vi/PI7UN15-5K0/hqdefault.j...\n",
       "13683       31683  ...  https://i.ytimg.com/vi/iI4-fi64bss/hqdefault.j...\n",
       "13684       31684  ...  https://i.ytimg.com/vi/cgp-OT0CEKc/hqdefault.j...\n",
       "\n",
       "[13685 rows x 12 columns]"
      ]
     },
     "execution_count": 5,
     "metadata": {
      "tags": []
     },
     "output_type": "execute_result"
    }
   ],
   "source": [
    "youtube_data = pd.read_csv(\"/content/drive/My Drive/Colab Notebooks/small_total_train_set.csv\")\n",
    "youtube_data"
   ]
  },
  {
   "cell_type": "code",
   "execution_count": 0,
   "metadata": {
    "colab": {},
    "colab_type": "code",
    "id": "bU9iP1OVqECT"
   },
   "outputs": [],
   "source": [
    "# data['subscribers'].value_counts()"
   ]
  },
  {
   "cell_type": "code",
   "execution_count": 0,
   "metadata": {
    "colab": {},
    "colab_type": "code",
    "id": "NbwBDUYDqMGp"
   },
   "outputs": [],
   "source": [
    "# data[data['subscribers'] >= 200000000]"
   ]
  },
  {
   "cell_type": "code",
   "execution_count": 0,
   "metadata": {
    "colab": {},
    "colab_type": "code",
    "id": "I4qF3M_VqMYY"
   },
   "outputs": [],
   "source": [
    "youtube_data = youtube_data[['video_name','category_id']]"
   ]
  },
  {
   "cell_type": "code",
   "execution_count": 0,
   "metadata": {
    "colab": {
     "base_uri": "https://localhost:8080/",
     "height": 34
    },
    "colab_type": "code",
    "id": "f076z38iqNoB",
    "outputId": "cbc1014a-808a-4f91-a2cd-a27007417ffd"
   },
   "outputs": [
    {
     "name": "stdout",
     "output_type": "stream",
     "text": [
      "False\n"
     ]
    }
   ],
   "source": [
    "print(youtube_data.isnull().values.any())"
   ]
  },
  {
   "cell_type": "code",
   "execution_count": 0,
   "metadata": {
    "colab": {
     "base_uri": "https://localhost:8080/",
     "height": 160
    },
    "colab_type": "code",
    "id": "Ht2WBPagKQiR",
    "outputId": "fd683c20-bc5e-479c-f4dd-2993e1a87dcb"
   },
   "outputs": [
    {
     "data": {
      "text/plain": [
       "5    3582\n",
       "0    2040\n",
       "6    2028\n",
       "2    1897\n",
       "4    1871\n",
       "1    1777\n",
       "3     490\n",
       "Name: category_id, dtype: int64"
      ]
     },
     "execution_count": 11,
     "metadata": {
      "tags": []
     },
     "output_type": "execute_result"
    }
   ],
   "source": [
    "youtube_data['category_id'].value_counts()"
   ]
  },
  {
   "cell_type": "markdown",
   "metadata": {
    "colab_type": "text",
    "id": "tc3qWSw3JiUi"
   },
   "source": [
    "### 텍스트 전처리"
   ]
  },
  {
   "cell_type": "code",
   "execution_count": 0,
   "metadata": {
    "colab": {},
    "colab_type": "code",
    "id": "yugBrCrQqQIa"
   },
   "outputs": [],
   "source": [
    "!pip install soynlp"
   ]
  },
  {
   "cell_type": "markdown",
   "metadata": {
    "colab_type": "text",
    "id": "3TsoLvc-mXFV"
   },
   "source": [
    "#### 정규화"
   ]
  },
  {
   "cell_type": "code",
   "execution_count": 0,
   "metadata": {
    "colab": {},
    "colab_type": "code",
    "id": "yL_RKk21qZhu"
   },
   "outputs": [],
   "source": [
    "from soynlp.normalizer import *"
   ]
  },
  {
   "cell_type": "code",
   "execution_count": 0,
   "metadata": {
    "colab": {},
    "colab_type": "code",
    "id": "7e_gQ7fQqcGi"
   },
   "outputs": [],
   "source": [
    "for i in youtube_data.index:\n",
    "  youtube_data['video_name'][i] = emoticon_normalize(youtube_data['video_name'][i],num_repeats=0)\n",
    "  youtube_data['video_name'][i] = repeat_normalize(youtube_data['video_name'][i],num_repeats=0)\n",
    "  youtube_data['video_name'][i] = only_hangle(youtube_data['video_name'][i])"
   ]
  },
  {
   "cell_type": "code",
   "execution_count": 0,
   "metadata": {
    "colab": {},
    "colab_type": "code",
    "id": "zGHt54KNqfyx"
   },
   "outputs": [],
   "source": [
    "youtube_data"
   ]
  },
  {
   "cell_type": "code",
   "execution_count": 0,
   "metadata": {
    "colab": {},
    "colab_type": "code",
    "id": "qexrhdQ9mPSO"
   },
   "outputs": [],
   "source": [
    "titles = list(youtube_data.video_name)\n",
    "id_num = list(youtube_data.category_id)"
   ]
  },
  {
   "cell_type": "markdown",
   "metadata": {
    "colab_type": "text",
    "id": "hWu6j1lImS1Z"
   },
   "source": [
    "#### Stopwords"
   ]
  },
  {
   "cell_type": "code",
   "execution_count": 0,
   "metadata": {
    "colab": {},
    "colab_type": "code",
    "id": "5e88G57SqSGE"
   },
   "outputs": [],
   "source": [
    "s_file_name = open('/content/drive/My Drive/Colab Notebooks/ko/stopwords.txt','r',encoding='utf-8')"
   ]
  },
  {
   "cell_type": "code",
   "execution_count": 0,
   "metadata": {
    "colab": {},
    "colab_type": "code",
    "id": "9CkD1hsgqVnr"
   },
   "outputs": [],
   "source": [
    "stop_words = []\n",
    "for line in s_file_name.readlines():\n",
    "  stop_words.append(line.rstrip())\n",
    "s_file_name.close()"
   ]
  },
  {
   "cell_type": "code",
   "execution_count": 0,
   "metadata": {
    "colab": {},
    "colab_type": "code",
    "id": "5tkN9x3ZqWuw"
   },
   "outputs": [],
   "source": [
    "print(len(stop_words))"
   ]
  },
  {
   "cell_type": "markdown",
   "metadata": {
    "colab_type": "text",
    "id": "SWfUzVgGJmPJ"
   },
   "source": [
    "#### Tokenize"
   ]
  },
  {
   "cell_type": "code",
   "execution_count": 0,
   "metadata": {
    "colab": {},
    "colab_type": "code",
    "id": "b76IQ0-a4M7k"
   },
   "outputs": [],
   "source": [
    "from soynlp.word import WordExtractor\n",
    "\n",
    "word_extractor = WordExtractor()\n",
    "word_extractor.train(titles)\n",
    "word_score = word_extractor.extract()"
   ]
  },
  {
   "cell_type": "code",
   "execution_count": 0,
   "metadata": {
    "colab": {},
    "colab_type": "code",
    "id": "-VSCrlg24M4L"
   },
   "outputs": [],
   "source": [
    "from soynlp.tokenizer import MaxScoreTokenizer\n",
    "word_scores = {word:score.cohesion_forward for word, score in word_score.items()}\n",
    "word_tokenizer = MaxScoreTokenizer(scores=word_scores)\n",
    "\n",
    "word_token = []\n",
    "for sentence in titles:\n",
    "    temp_X = word_tokenizer.tokenize(sentence, flatten=True) # 토큰화\n",
    "    temp_X = [word for word in temp_X if not word in stop_words] # 불용어 제거\n",
    "    word_token.append(temp_X)"
   ]
  },
  {
   "cell_type": "code",
   "execution_count": 0,
   "metadata": {
    "colab": {},
    "colab_type": "code",
    "id": "om3l0naREcVr"
   },
   "outputs": [],
   "source": [
    "print(len(titles))\n",
    "print(len(word_token))"
   ]
  },
  {
   "cell_type": "code",
   "execution_count": 0,
   "metadata": {
    "colab": {},
    "colab_type": "code",
    "id": "KlLjEFwYJIRO"
   },
   "outputs": [],
   "source": [
    "word_token[:3]"
   ]
  },
  {
   "cell_type": "code",
   "execution_count": 0,
   "metadata": {
    "colab": {},
    "colab_type": "code",
    "id": "50J_n2v3nSoi"
   },
   "outputs": [],
   "source": [
    "for i in range(len(word_token)):\n",
    "  try:\n",
    "    if len(word_token[i]) == 0:\n",
    "      del titles[i]\n",
    "      del word_token[i]\n",
    "      del id_num[i]\n",
    "  except IndexError:\n",
    "    pass"
   ]
  },
  {
   "cell_type": "code",
   "execution_count": 0,
   "metadata": {
    "colab": {},
    "colab_type": "code",
    "id": "6-FttT3Sms3p"
   },
   "outputs": [],
   "source": [
    "nan_list = []\n",
    "for i in range(len(word_token)):\n",
    "  if len(word_token[i]) == 0:\n",
    "      nan_list.append(i)"
   ]
  },
  {
   "cell_type": "code",
   "execution_count": 0,
   "metadata": {
    "colab": {},
    "colab_type": "code",
    "id": "hHZxjt7_nLd7"
   },
   "outputs": [],
   "source": [
    "nan_list"
   ]
  },
  {
   "cell_type": "code",
   "execution_count": 0,
   "metadata": {
    "colab": {},
    "colab_type": "code",
    "id": "l7aQ3MKJm1ku"
   },
   "outputs": [],
   "source": [
    "from tensorflow.keras.preprocessing.text import Tokenizer\n",
    "from tensorflow.keras.utils import to_categorical\n",
    "from tensorflow.keras.preprocessing.sequence import pad_sequences"
   ]
  },
  {
   "cell_type": "code",
   "execution_count": 0,
   "metadata": {
    "colab": {},
    "colab_type": "code",
    "id": "BI-wvlb3m1k0"
   },
   "outputs": [],
   "source": [
    "word_vocab = Tokenizer()\n",
    "word_vocab.fit_on_texts(word_token)"
   ]
  },
  {
   "cell_type": "code",
   "execution_count": 0,
   "metadata": {
    "colab": {},
    "colab_type": "code",
    "id": "sU0ZqFtum1k3"
   },
   "outputs": [],
   "source": [
    "print(len(word_vocab.word_index))\n",
    "print(word_vocab.word_index)"
   ]
  },
  {
   "cell_type": "code",
   "execution_count": 0,
   "metadata": {
    "colab": {},
    "colab_type": "code",
    "id": "-2oyL8sdm1k8"
   },
   "outputs": [],
   "source": [
    "threshold = 3\n",
    "total_cnt = len(word_vocab.word_index) # 단어의 수\n",
    "rare_cnt = 0 # 등장 빈도수가 threshold보다 작은 단어의 개수를 카운트\n",
    "total_freq = 0 # 훈련 데이터의 전체 단어 빈도수 총 합\n",
    "rare_freq = 0 # 등장 빈도수가 threshold보다 작은 단어의 등장 빈도수의 총 합\n",
    "\n",
    "# 단어와 빈도수의 쌍(pair)을 key와 value로 받는다.\n",
    "for key, value in word_vocab.word_counts.items():\n",
    "    total_freq = total_freq + value\n",
    "\n",
    "    # 단어의 등장 빈도수가 threshold보다 작으면\n",
    "    if(value < threshold):\n",
    "        rare_cnt = rare_cnt + 1\n",
    "        rare_freq = rare_freq + value\n",
    "\n",
    "print('단어 집합(vocabulary)의 크기 :',total_cnt)\n",
    "print('등장 빈도가 %s번 이하인 희귀 단어의 수: %s'%(threshold - 1, rare_cnt))\n",
    "print(\"단어 집합에서 희귀 단어의 비율:\", (rare_cnt / total_cnt)*100)\n",
    "print(\"전체 등장 빈도에서 희귀 단어 등장 빈도 비율:\", (rare_freq / total_freq)*100)"
   ]
  },
  {
   "cell_type": "code",
   "execution_count": 0,
   "metadata": {
    "colab": {},
    "colab_type": "code",
    "id": "2UsyZm02m1k_"
   },
   "outputs": [],
   "source": [
    "vocab_size = total_cnt - rare_cnt # 전체 단어 개수 중 빈도수 2이하인 단어 개수는 제거. 0번 패딩 토큰을 고려하여 +1\n",
    "print('단어 집합의 크기 :',vocab_size)"
   ]
  },
  {
   "cell_type": "code",
   "execution_count": 0,
   "metadata": {
    "colab": {},
    "colab_type": "code",
    "id": "6u2Oi93pm1lC"
   },
   "outputs": [],
   "source": [
    "words_frequency = [w for w,c in word_vocab.word_counts.items() if c < 3]\n",
    "# 빈도수가 3미만인 단어를 w라고 저장\n",
    "for w in words_frequency:\n",
    "    del word_vocab.word_index[w]\n",
    "    del word_vocab.word_counts[w]"
   ]
  },
  {
   "cell_type": "code",
   "execution_count": 0,
   "metadata": {
    "colab": {},
    "colab_type": "code",
    "id": "Gt98ip2-m1lE"
   },
   "outputs": [],
   "source": [
    "vocab_list = list(word_vocab.word_index.keys())"
   ]
  },
  {
   "cell_type": "code",
   "execution_count": 0,
   "metadata": {
    "colab": {},
    "colab_type": "code",
    "id": "MvMM1zidm1lG"
   },
   "outputs": [],
   "source": [
    "print(len(vocab_list))"
   ]
  },
  {
   "cell_type": "code",
   "execution_count": 0,
   "metadata": {
    "colab": {},
    "colab_type": "code",
    "id": "bzCeKzs5ms0r"
   },
   "outputs": [],
   "source": [
    "final_token = []\n",
    "for sentence in titles:\n",
    "    temp_X = word_tokenizer.tokenize(sentence, flatten=True) # 토큰화\n",
    "    temp_X = [word for word in temp_X if not word in stop_words] # 불용어 제거\n",
    "    temp_X = [word for word in temp_X if word in vocab_list]\n",
    "    final_token.append(temp_X)"
   ]
  },
  {
   "cell_type": "code",
   "execution_count": 0,
   "metadata": {
    "colab": {},
    "colab_type": "code",
    "id": "hus_eUmVpezL"
   },
   "outputs": [],
   "source": [
    "len(final_token)"
   ]
  },
  {
   "cell_type": "code",
   "execution_count": 0,
   "metadata": {
    "colab": {},
    "colab_type": "code",
    "id": "cPPeQl1dmsz_"
   },
   "outputs": [],
   "source": [
    "for i in range(len(final_token)):\n",
    "  try:\n",
    "    if len(final_token[i]) == 0:\n",
    "      del titles[i]\n",
    "      del final_token[i]\n",
    "      del id_num[i]\n",
    "  except IndexError:\n",
    "    pass"
   ]
  },
  {
   "cell_type": "code",
   "execution_count": 0,
   "metadata": {
    "colab": {},
    "colab_type": "code",
    "id": "VVBfD5Q7mswv"
   },
   "outputs": [],
   "source": [
    "nan_list = []\n",
    "for i in range(len(final_token)):\n",
    "  if len(final_token[i]) == 0:\n",
    "      nan_list.append(i)"
   ]
  },
  {
   "cell_type": "code",
   "execution_count": 0,
   "metadata": {
    "colab": {},
    "colab_type": "code",
    "id": "h-WHNg7cmsvY"
   },
   "outputs": [],
   "source": [
    "nan_list"
   ]
  },
  {
   "cell_type": "markdown",
   "metadata": {
    "colab_type": "text",
    "id": "HPDz9Y4utM0l"
   },
   "source": [
    "#### 임베딩"
   ]
  },
  {
   "cell_type": "code",
   "execution_count": 0,
   "metadata": {
    "colab": {},
    "colab_type": "code",
    "id": "nLWqdOYOmss3"
   },
   "outputs": [],
   "source": [
    "from gensim.models import Word2Vec\n",
    "w2v = Word2Vec(sentences = final_token, size = 100, window = 4, min_count = 1, workers = 4,sample=1e-3, iter=5, sg = 1)"
   ]
  },
  {
   "cell_type": "code",
   "execution_count": 0,
   "metadata": {
    "colab": {},
    "colab_type": "code",
    "id": "0cZa4tHcmsrR"
   },
   "outputs": [],
   "source": [
    "from gensim.models import FastText\n",
    "fxt = FastText(sentences = final_token, size = 100, window = 4, min_count = 1, workers = 4,sample=1e-3, iter=5, sg = 1)"
   ]
  },
  {
   "cell_type": "code",
   "execution_count": 0,
   "metadata": {
    "colab": {},
    "colab_type": "code",
    "id": "rgdVQamho-xF"
   },
   "outputs": [],
   "source": [
    "glv_sequences = word_vocab.texts_to_sequences(final_token)\n",
    "glv_text = word_vocab.sequences_to_texts(glv_sequences)"
   ]
  },
  {
   "cell_type": "code",
   "execution_count": 0,
   "metadata": {
    "colab": {},
    "colab_type": "code",
    "id": "myefZdSxmslb"
   },
   "outputs": [],
   "source": [
    "glove_token = []\n",
    "for i in range(len(glv_text)):\n",
    "  glove_token.append(glv_text[i].split())"
   ]
  },
  {
   "cell_type": "code",
   "execution_count": 0,
   "metadata": {
    "colab": {},
    "colab_type": "code",
    "id": "Mp4Jga-DmskN"
   },
   "outputs": [],
   "source": [
    "from glove import Corpus, Glove\n",
    "\n",
    "corpus = Corpus() \n",
    "corpus.fit(glove_token, window=4)\n",
    "# 훈련 데이터로부터 GloVe에서 사용할 동시 등장 행렬 생성\n",
    "\n",
    "glv = Glove(no_components=100, learning_rate=0.05)\n",
    "glv.fit(corpus.matrix, epochs=30, no_threads=3, verbose=False)\n",
    "glv.add_dictionary(corpus.dictionary)"
   ]
  },
  {
   "cell_type": "code",
   "execution_count": 0,
   "metadata": {
    "colab": {},
    "colab_type": "code",
    "id": "xkmEUUcwJIPr"
   },
   "outputs": [],
   "source": [
    "print(w2v.wv.vectors.shape)\n",
    "print(fxt.wv.vectors.shape)\n",
    "print(glv.word_vectors.shape)"
   ]
  },
  {
   "cell_type": "code",
   "execution_count": 0,
   "metadata": {
    "colab": {},
    "colab_type": "code",
    "id": "hFS2NuD_qA5C"
   },
   "outputs": [],
   "source": [
    "len(glv.dictionary.keys()) == len(w2v.wv.index2word)"
   ]
  },
  {
   "cell_type": "markdown",
   "metadata": {
    "colab_type": "text",
    "id": "MKM0_5BvtPyo"
   },
   "source": [
    "### 문장의 단어 벡터 평균값으로 특성 구하기"
   ]
  },
  {
   "cell_type": "code",
   "execution_count": 0,
   "metadata": {
    "colab": {},
    "colab_type": "code",
    "id": "Ubsund0mGXUO"
   },
   "outputs": [],
   "source": [
    "def get_features(words, model, num_features):\n",
    "    # 출력 벡터 초기화\n",
    "    feature_vector = np.zeros((num_features), dtype=np.float32)\n",
    "    \n",
    "    num_words = 0\n",
    "    # 어휘 사전 준비\n",
    "    index2word_set = set(model.wv.index2word)\n",
    "    \n",
    "    for w in words:\n",
    "        if w in index2word_set:\n",
    "            num_words = 1\n",
    "            # 사전에 해당하는 단어에 대해 단어 벡터를 더함\n",
    "            feature_vector = np.add(feature_vector, model[w])\n",
    "            \n",
    "    # 문장의 단어 수만큼 나누어 단어 벡터의 평균값을 문장 벡터로 함\n",
    "    feature_vector = np.divide(feature_vector, num_words)\n",
    "    return feature_vector"
   ]
  },
  {
   "cell_type": "code",
   "execution_count": 0,
   "metadata": {
    "colab": {},
    "colab_type": "code",
    "id": "_Lv09r7pGXSK"
   },
   "outputs": [],
   "source": [
    "def get_dataset(reviews, model, num_features):\n",
    "    dataset = list()\n",
    "    \n",
    "    for s in reviews:\n",
    "        dataset.append(get_features(s, model, num_features))\n",
    "        \n",
    "    reviewFeatureVecs = np.stack(dataset)\n",
    "    return reviewFeatureVecs"
   ]
  },
  {
   "cell_type": "code",
   "execution_count": 0,
   "metadata": {
    "colab": {},
    "colab_type": "code",
    "id": "aYXwAVOoGXQ5"
   },
   "outputs": [],
   "source": [
    "data_w2v = get_dataset(final_token,w2v,100)"
   ]
  },
  {
   "cell_type": "code",
   "execution_count": 0,
   "metadata": {
    "colab": {},
    "colab_type": "code",
    "id": "5oO6WJX-IxxW"
   },
   "outputs": [],
   "source": [
    "data_fxt = get_dataset(final_token,fxt,100)"
   ]
  },
  {
   "cell_type": "markdown",
   "metadata": {
    "colab_type": "text",
    "id": "Lj6_jYG2EJxD"
   },
   "source": [
    "#### 테스트"
   ]
  },
  {
   "cell_type": "code",
   "execution_count": 0,
   "metadata": {
    "colab": {},
    "colab_type": "code",
    "id": "65uzCCAdH21h"
   },
   "outputs": [],
   "source": [
    "from sklearn.model_selection import train_test_split\n",
    "\n",
    "X = data_w2v\n",
    "y = np.array(id_num)\n",
    "\n",
    "RANDOM_SEED = 42\n",
    "TEST_SPLIT = 0.2\n",
    "\n",
    "X_train, X_test, y_train, y_test = train_test_split(X, y, test_size=TEST_SPLIT, \n",
    "                                                    random_state=RANDOM_SEED)"
   ]
  },
  {
   "cell_type": "code",
   "execution_count": 0,
   "metadata": {
    "colab": {},
    "colab_type": "code",
    "id": "1sYmRVtSH-pC"
   },
   "outputs": [],
   "source": [
    "from sklearn.linear_model import LogisticRegression\n",
    "\n",
    "lgs = LogisticRegression(class_weight='balanced')\n",
    "lgs.fit(X_train, y_train)"
   ]
  },
  {
   "cell_type": "code",
   "execution_count": 0,
   "metadata": {
    "colab": {},
    "colab_type": "code",
    "id": "IgSD5tIhr2Nu"
   },
   "outputs": [],
   "source": [
    "predicted = lgs.predict(X_test)\n",
    "\n",
    "print(\"Accuracy: %f\" % lgs.score(X_test, y_test))  #checking the accuracy"
   ]
  },
  {
   "cell_type": "code",
   "execution_count": 0,
   "metadata": {
    "colab": {},
    "colab_type": "code",
    "id": "Tljm1AdssMmX"
   },
   "outputs": [],
   "source": [
    "from sklearn.svm import SVC\n",
    "from sklearn.metrics import accuracy_score\n",
    "\n",
    "clf = SVC(kernel='linear', C=1.0)\n",
    "clf.fit(X_train,y_train)"
   ]
  },
  {
   "cell_type": "code",
   "execution_count": 0,
   "metadata": {
    "colab": {},
    "colab_type": "code",
    "id": "MZQu-OcnsMk5"
   },
   "outputs": [],
   "source": [
    "y_pred = clf.predict(X_test)"
   ]
  },
  {
   "cell_type": "code",
   "execution_count": 0,
   "metadata": {
    "colab": {},
    "colab_type": "code",
    "id": "2C5BV08YsMjX"
   },
   "outputs": [],
   "source": [
    "accuracy_score(y_test,y_pred)"
   ]
  },
  {
   "cell_type": "code",
   "execution_count": 0,
   "metadata": {
    "colab": {},
    "colab_type": "code",
    "id": "oJr_1XVXsMgw"
   },
   "outputs": [],
   "source": []
  },
  {
   "cell_type": "markdown",
   "metadata": {
    "colab_type": "text",
    "id": "0YCIBGpytCm1"
   },
   "source": [
    "### 내적으로 특성 구하기"
   ]
  },
  {
   "cell_type": "markdown",
   "metadata": {
    "colab_type": "text",
    "id": "lKXmM5H4bT5N"
   },
   "source": [
    "##### DTM만들기"
   ]
  },
  {
   "cell_type": "code",
   "execution_count": 0,
   "metadata": {
    "colab": {},
    "colab_type": "code",
    "id": "-5H5gyzPtbZ-"
   },
   "outputs": [],
   "source": [
    "from sklearn.feature_extraction.text import CountVectorizer"
   ]
  },
  {
   "cell_type": "code",
   "execution_count": 0,
   "metadata": {
    "colab": {},
    "colab_type": "code",
    "id": "4PXmOYnDtbPz"
   },
   "outputs": [],
   "source": [
    "cv = CountVectorizer(tokenizer=word_tokenizer,stop_words=stop_words,vocabulary=vocab_list)"
   ]
  },
  {
   "cell_type": "code",
   "execution_count": 0,
   "metadata": {
    "colab": {},
    "colab_type": "code",
    "id": "mnpKYesmtbIj"
   },
   "outputs": [],
   "source": [
    "tdm = cv.fit_transform(titles).toarray()"
   ]
  },
  {
   "cell_type": "code",
   "execution_count": 0,
   "metadata": {
    "colab": {},
    "colab_type": "code",
    "id": "0oBaqRzbop2k"
   },
   "outputs": [],
   "source": [
    "print(len(cv.get_feature_names()))"
   ]
  },
  {
   "cell_type": "code",
   "execution_count": 0,
   "metadata": {
    "colab": {},
    "colab_type": "code",
    "id": "bc8J5pakt3ds"
   },
   "outputs": [],
   "source": [
    "print(tdm.shape)"
   ]
  },
  {
   "cell_type": "code",
   "execution_count": 0,
   "metadata": {
    "colab": {},
    "colab_type": "code",
    "id": "KoJ6WIgZ83et"
   },
   "outputs": [],
   "source": [
    "tdm"
   ]
  },
  {
   "cell_type": "markdown",
   "metadata": {
    "colab_type": "text",
    "id": "BDI5TU5ibXno"
   },
   "source": [
    "##### 가중치 행렬 구하기"
   ]
  },
  {
   "cell_type": "code",
   "execution_count": 0,
   "metadata": {
    "colab": {},
    "colab_type": "code",
    "id": "qRuaFPXjt3ad"
   },
   "outputs": [],
   "source": [
    "import numpy as np\n",
    "from sklearn.metrics.pairwise import euclidean_distances\n",
    "\n",
    "distance_matrix = euclidean_distances(w2v.wv.vectors, w2v.wv.vectors)\n",
    "wght_w2v = np.exp(-(distance_matrix ** 2) / (2 * np.var(distance_matrix)))"
   ]
  },
  {
   "cell_type": "code",
   "execution_count": 0,
   "metadata": {
    "colab": {},
    "colab_type": "code",
    "id": "u4Vn3eClbw4i"
   },
   "outputs": [],
   "source": [
    "distance_matrix = euclidean_distances(fxt.wv.vectors,fxt.wv.vectors)\n",
    "wght_fxt = np.exp(-(distance_matrix ** 2) / (2 * np.var(distance_matrix)))"
   ]
  },
  {
   "cell_type": "code",
   "execution_count": 0,
   "metadata": {
    "colab": {},
    "colab_type": "code",
    "id": "IVuom9kOcJqG"
   },
   "outputs": [],
   "source": [
    "distance_matrix = euclidean_distances(glv.word_vectors, glv.word_vectors)\n",
    "wght_glv = np.exp(-(distance_matrix ** 2) / (2 * np.var(distance_matrix)))"
   ]
  },
  {
   "cell_type": "code",
   "execution_count": 0,
   "metadata": {
    "colab": {},
    "colab_type": "code",
    "id": "eLhpPPPDwwfB"
   },
   "outputs": [],
   "source": [
    "print(wght_w2v.shape)\n",
    "print(wght_fxt.shape)\n",
    "print(wght_glv.shape)"
   ]
  },
  {
   "cell_type": "markdown",
   "metadata": {
    "colab_type": "text",
    "id": "6pKFProlbaPF"
   },
   "source": [
    "##### 내적"
   ]
  },
  {
   "cell_type": "code",
   "execution_count": 0,
   "metadata": {
    "colab": {},
    "colab_type": "code",
    "id": "XgC9mZ4Njp8V"
   },
   "outputs": [],
   "source": [
    "feat_w2v = np.dot(tdm,wght_w2v)"
   ]
  },
  {
   "cell_type": "code",
   "execution_count": 0,
   "metadata": {
    "colab": {},
    "colab_type": "code",
    "id": "86jy80q1j58n"
   },
   "outputs": [],
   "source": [
    "feat_fxt = np.dot(tdm,wght_fxt)"
   ]
  },
  {
   "cell_type": "code",
   "execution_count": 0,
   "metadata": {
    "colab": {},
    "colab_type": "code",
    "id": "oiP9pey-j56v"
   },
   "outputs": [],
   "source": [
    "feat_glv = np.dot(tdm,wght_glv)"
   ]
  },
  {
   "cell_type": "code",
   "execution_count": 0,
   "metadata": {
    "colab": {},
    "colab_type": "code",
    "id": "Qp4jyCjDvzko"
   },
   "outputs": [],
   "source": [
    "print(feat_w2v.shape)\n",
    "print(feat_fxt.shape)\n",
    "print(feat_glv.shape)"
   ]
  },
  {
   "cell_type": "code",
   "execution_count": 0,
   "metadata": {
    "colab": {},
    "colab_type": "code",
    "id": "2YA9zPmaT7q3"
   },
   "outputs": [],
   "source": [
    "def slower_dot (A, B):\n",
    "    \"\"\"Low-memory implementation of dot product\"\"\"\n",
    "    #Assuming A and B are of the right type and size\n",
    "    R = np.empty([A.shape[0], B.shape[1]])\n",
    "    for i in range(A.shape[0]):\n",
    "        for j in range(B.shape[1]):\n",
    "            R[i,j] = np.dot(A[i,:], B[:,j])\n",
    "    return R"
   ]
  },
  {
   "cell_type": "code",
   "execution_count": 0,
   "metadata": {
    "colab": {},
    "colab_type": "code",
    "id": "MRyEFUN6auUl"
   },
   "outputs": [],
   "source": [
    "#R[0,1] = np.array(np.dot(tdm_32[1,:],weight_matrix_w2v[:,1]))"
   ]
  },
  {
   "cell_type": "code",
   "execution_count": 0,
   "metadata": {
    "colab": {},
    "colab_type": "code",
    "id": "REtfMDFwn5t-"
   },
   "outputs": [],
   "source": [
    "#dotproduct_test = slower_dot(tdm_test_32,test_wght_w2v)"
   ]
  },
  {
   "cell_type": "code",
   "execution_count": 0,
   "metadata": {
    "colab": {},
    "colab_type": "code",
    "id": "bgGqNFVNsZbk"
   },
   "outputs": [],
   "source": [
    "#dotproduct_test.shape"
   ]
  },
  {
   "cell_type": "code",
   "execution_count": 0,
   "metadata": {
    "colab": {},
    "colab_type": "code",
    "id": "um4uxQECvolj"
   },
   "outputs": [],
   "source": [
    "dot_w2v = np.dot(tdm,w2v.wv.vectors)"
   ]
  },
  {
   "cell_type": "code",
   "execution_count": 0,
   "metadata": {
    "colab": {},
    "colab_type": "code",
    "id": "z17VqDeXvohY"
   },
   "outputs": [],
   "source": [
    "dot_fxt = np.dot(tdm,fxt.wv.vectors)"
   ]
  },
  {
   "cell_type": "code",
   "execution_count": 0,
   "metadata": {
    "colab": {},
    "colab_type": "code",
    "id": "bF3DkiQ2vodL"
   },
   "outputs": [],
   "source": [
    "dot_glv = np.dot(tdm,glv.word_vectors)"
   ]
  },
  {
   "cell_type": "code",
   "execution_count": 0,
   "metadata": {
    "colab": {},
    "colab_type": "code",
    "id": "EXA6n6NQv9dz"
   },
   "outputs": [],
   "source": [
    "print(dot_w2v.shape)\n",
    "print(dot_fxt.shape)\n",
    "print(dot_glv.shape)"
   ]
  },
  {
   "cell_type": "code",
   "execution_count": 0,
   "metadata": {
    "colab": {},
    "colab_type": "code",
    "id": "E_aSm30xy4tF"
   },
   "outputs": [],
   "source": [
    "for i in range(len(dot_w2v)):\n",
    "  dot_w2v[i] = dot_w2v[i]/len(dot_w2v[i])"
   ]
  },
  {
   "cell_type": "code",
   "execution_count": 0,
   "metadata": {
    "colab": {},
    "colab_type": "code",
    "id": "dX3iLCy6zvg6"
   },
   "outputs": [],
   "source": [
    "dot_w2v.shape"
   ]
  },
  {
   "cell_type": "markdown",
   "metadata": {
    "colab_type": "text",
    "id": "7W8_YZAducF2"
   },
   "source": [
    "##### 테스트"
   ]
  },
  {
   "cell_type": "code",
   "execution_count": 0,
   "metadata": {
    "colab": {},
    "colab_type": "code",
    "id": "DHTtLUyouwwY"
   },
   "outputs": [],
   "source": [
    "from sklearn.model_selection import train_test_split\n",
    "\n",
    "X = feat_w2v\n",
    "y = np.array(id_num)\n",
    "\n",
    "RANDOM_SEED = 42\n",
    "TEST_SPLIT = 0.2\n",
    "\n",
    "X_train, X_test, y_train, y_test = train_test_split(X, y, test_size=TEST_SPLIT, \n",
    "                                                    random_state=RANDOM_SEED)"
   ]
  },
  {
   "cell_type": "code",
   "execution_count": 0,
   "metadata": {
    "colab": {},
    "colab_type": "code",
    "id": "aPHz1mbWo3UX"
   },
   "outputs": [],
   "source": [
    "from sklearn.feature_extraction.text import CountVectorizer\n",
    "from sklearn.feature_extraction.text import TfidfTransformer\n",
    "from sklearn.naive_bayes import MultinomialNB # 다항분포 나이브 베이즈 모델\n",
    "from sklearn.metrics import accuracy_score #정확도 계산"
   ]
  },
  {
   "cell_type": "code",
   "execution_count": 0,
   "metadata": {
    "colab": {},
    "colab_type": "code",
    "id": "jDURH9gEmcCC"
   },
   "outputs": [],
   "source": [
    "mod = MultinomialNB()\n",
    "mod.fit(X_train,y_train)"
   ]
  },
  {
   "cell_type": "code",
   "execution_count": 0,
   "metadata": {
    "colab": {},
    "colab_type": "code",
    "id": "jgL2t5ZV9sVN"
   },
   "outputs": [],
   "source": [
    "predicted = mod.predict(X_test) #테스트 데이터에 대한 예측"
   ]
  },
  {
   "cell_type": "code",
   "execution_count": 0,
   "metadata": {
    "colab": {},
    "colab_type": "code",
    "id": "3iAld1VvmiX4"
   },
   "outputs": [],
   "source": [
    "print(\"정확도:\", accuracy_score(y_test, predicted)) #예측값과 실제값 비교"
   ]
  },
  {
   "cell_type": "code",
   "execution_count": 0,
   "metadata": {
    "colab": {},
    "colab_type": "code",
    "id": "2Wh0WIMLwQow"
   },
   "outputs": [],
   "source": [
    "from sklearn.model_selection import train_test_split\n",
    "\n",
    "X = dot_w2v\n",
    "y = np.array(id_num)\n",
    "\n",
    "RANDOM_SEED = 42\n",
    "TEST_SPLIT = 0.2\n",
    "\n",
    "X_train, X_test, y_train, y_test = train_test_split(X, y, test_size=TEST_SPLIT, \n",
    "                                                    random_state=RANDOM_SEED)"
   ]
  },
  {
   "cell_type": "code",
   "execution_count": 0,
   "metadata": {
    "colab": {},
    "colab_type": "code",
    "id": "za-uCQSXwQ2R"
   },
   "outputs": [],
   "source": [
    "from sklearn.linear_model import LogisticRegression\n",
    "\n",
    "lgs = LogisticRegression(class_weight='balanced')\n",
    "lgs.fit(X_train, y_train)"
   ]
  },
  {
   "cell_type": "code",
   "execution_count": 0,
   "metadata": {
    "colab": {},
    "colab_type": "code",
    "id": "AnqCVcolwQ2U"
   },
   "outputs": [],
   "source": [
    "predicted = lgs.predict(X_test)\n",
    "\n",
    "print(\"Accuracy: %f\" % lgs.score(X_test, y_test))  #checking the accuracy"
   ]
  },
  {
   "cell_type": "code",
   "execution_count": 0,
   "metadata": {
    "colab": {},
    "colab_type": "code",
    "id": "qTbKjRuuwQ2V"
   },
   "outputs": [],
   "source": [
    "from sklearn.svm import SVC\n",
    "from sklearn.metrics import accuracy_score\n",
    "\n",
    "clf = SVC(kernel='linear', C=1.0)\n",
    "clf.fit(X_train,y_train)"
   ]
  },
  {
   "cell_type": "code",
   "execution_count": 0,
   "metadata": {
    "colab": {},
    "colab_type": "code",
    "id": "AwXMzzp6wQ2X"
   },
   "outputs": [],
   "source": [
    "y_pred = clf.predict(X_test)"
   ]
  },
  {
   "cell_type": "code",
   "execution_count": 0,
   "metadata": {
    "colab": {},
    "colab_type": "code",
    "id": "Bsid7GlVwQ2Y"
   },
   "outputs": [],
   "source": [
    "accuracy_score(y_test,y_pred)"
   ]
  },
  {
   "cell_type": "markdown",
   "metadata": {
    "colab_type": "text",
    "id": "p0BjvMlKmyqq"
   },
   "source": [
    "### 단어 임베딩 레이어로 활용하기"
   ]
  },
  {
   "cell_type": "markdown",
   "metadata": {
    "colab_type": "text",
    "id": "1JOLSismJxFD"
   },
   "source": [
    "#### padding"
   ]
  },
  {
   "cell_type": "code",
   "execution_count": 0,
   "metadata": {
    "colab": {},
    "colab_type": "code",
    "id": "2b2WifFP07FS"
   },
   "outputs": [],
   "source": [
    "from sklearn.model_selection import train_test_split\n",
    "\n",
    "X = titles\n",
    "y = np.array(id_num)\n",
    "\n",
    "RANDOM_SEED = 42\n",
    "TEST_SPLIT = 0.2\n",
    "\n",
    "X_train, X_test, y_train, y_test = train_test_split(X, y, test_size=TEST_SPLIT, \n",
    "                                                    random_state=RANDOM_SEED)"
   ]
  },
  {
   "cell_type": "code",
   "execution_count": 0,
   "metadata": {
    "colab": {},
    "colab_type": "code",
    "id": "dGZs4EhS_7yg"
   },
   "outputs": [],
   "source": [
    "lstm_tok = Tokenizer(vocab_size) \n",
    "lstm_tok.fit_on_texts(word_token)\n",
    "X_train = lstm_tok.texts_to_sequences(X_train)\n",
    "X_test = lstm_tok.texts_to_sequences(X_test)"
   ]
  },
  {
   "cell_type": "code",
   "execution_count": 0,
   "metadata": {
    "colab": {
     "base_uri": "https://localhost:8080/",
     "height": 88
    },
    "colab_type": "code",
    "id": "3gBNGvGN8fZR",
    "outputId": "26e461dc-c018-4d87-e4b9-4c656bdcdc7e"
   },
   "outputs": [
    {
     "name": "stdout",
     "output_type": "stream",
     "text": [
      "10868\n",
      "10868\n",
      "2718\n",
      "2718\n"
     ]
    }
   ],
   "source": [
    "print(len(X_train))\n",
    "print(len(y_train))\n",
    "print(len(X_test))\n",
    "print(len(y_test))"
   ]
  },
  {
   "cell_type": "code",
   "execution_count": 0,
   "metadata": {
    "colab": {},
    "colab_type": "code",
    "id": "DPUg_vkzBX-h"
   },
   "outputs": [],
   "source": [
    "#drop_train = [index for index, sentence in enumerate(X_train) if len(sentence) < 1]\n",
    "#drop_test = [index for index, sentence in enumerate(X_test) if len(sentence) < 1]"
   ]
  },
  {
   "cell_type": "code",
   "execution_count": 0,
   "metadata": {
    "colab": {},
    "colab_type": "code",
    "id": "M4Mm_cJUBX83"
   },
   "outputs": [],
   "source": [
    "# 빈 샘플들을 제거\n",
    "#X_train = np.delete(X_train, drop_train, axis=0)\n",
    "#y_train = np.delete(y_train, drop_train, axis=0)\n"
   ]
  },
  {
   "cell_type": "code",
   "execution_count": 0,
   "metadata": {
    "colab": {},
    "colab_type": "code",
    "id": "lw6sn3VpCAFL"
   },
   "outputs": [],
   "source": [
    "# 빈 샘플들을 제거\n",
    "#X_test = np.delete(X_test, drop_test, axis=0)\n",
    "#y_test = np.delete(y_test, drop_test, axis=0)"
   ]
  },
  {
   "cell_type": "code",
   "execution_count": 0,
   "metadata": {
    "colab": {
     "base_uri": "https://localhost:8080/",
     "height": 34
    },
    "colab_type": "code",
    "id": "1r_M_l1PCABT",
    "outputId": "8b8ab6af-997c-4675-c710-5cda0ce6d6c1"
   },
   "outputs": [
    {
     "name": "stdout",
     "output_type": "stream",
     "text": [
      "제목의 최대 길이 : 16\n"
     ]
    }
   ],
   "source": [
    "print('제목의 최대 길이 :',max(len(l) for l in X_train))"
   ]
  },
  {
   "cell_type": "code",
   "execution_count": 0,
   "metadata": {
    "colab": {},
    "colab_type": "code",
    "id": "2pvF41RJCR2t"
   },
   "outputs": [],
   "source": [
    "X_train = pad_sequences(X_train, maxlen = 16)\n",
    "X_test = pad_sequences(X_test, maxlen = 16)"
   ]
  },
  {
   "cell_type": "code",
   "execution_count": 0,
   "metadata": {
    "colab": {},
    "colab_type": "code",
    "id": "1n0yWZsIFph-"
   },
   "outputs": [],
   "source": [
    "y_train = to_categorical(y_train) # 훈련용 레이블  원-핫 인코딩\n",
    "y_test = to_categorical(y_test) # 테스트용 레이블 원-핫 인코딩"
   ]
  },
  {
   "cell_type": "code",
   "execution_count": 0,
   "metadata": {
    "colab": {
     "base_uri": "https://localhost:8080/",
     "height": 142
    },
    "colab_type": "code",
    "id": "xPmjjbkdSjlb",
    "outputId": "4c15a814-6696-41c8-f24f-fda3bb4e5716"
   },
   "outputs": [
    {
     "data": {
      "text/plain": [
       "array([[   0,    0,    0, ...,  680,   43,  109],\n",
       "       [   0,    0,    0, ...,    0,    0,    8],\n",
       "       [   0,    0,    0, ...,  495, 4223,   26],\n",
       "       ...,\n",
       "       [   0,    0,    0, ...,    0,    0, 1308],\n",
       "       [   0,    0,    0, ..., 1456,  964, 2664],\n",
       "       [   0,    0,    0, ...,  480, 1673,    1]], dtype=int32)"
      ]
     },
     "execution_count": 290,
     "metadata": {
      "tags": []
     },
     "output_type": "execute_result"
    }
   ],
   "source": [
    "X_train"
   ]
  },
  {
   "cell_type": "code",
   "execution_count": 0,
   "metadata": {
    "colab": {
     "base_uri": "https://localhost:8080/",
     "height": 142
    },
    "colab_type": "code",
    "id": "negJ8GbiSgy5",
    "outputId": "e70053a2-e8b6-48f1-be01-1c254203d564"
   },
   "outputs": [
    {
     "data": {
      "text/plain": [
       "array([[0., 1., 0., ..., 0., 0., 0.],\n",
       "       [1., 0., 0., ..., 0., 0., 0.],\n",
       "       [1., 0., 0., ..., 0., 0., 0.],\n",
       "       ...,\n",
       "       [0., 0., 1., ..., 0., 0., 0.],\n",
       "       [1., 0., 0., ..., 0., 0., 0.],\n",
       "       [0., 0., 0., ..., 1., 0., 0.]], dtype=float32)"
      ]
     },
     "execution_count": 291,
     "metadata": {
      "tags": []
     },
     "output_type": "execute_result"
    }
   ],
   "source": [
    "y_train"
   ]
  },
  {
   "cell_type": "markdown",
   "metadata": {
    "colab_type": "text",
    "id": "fsjFW17foZ3d"
   },
   "source": [
    "#### LSTM"
   ]
  },
  {
   "cell_type": "code",
   "execution_count": 0,
   "metadata": {
    "colab": {},
    "colab_type": "code",
    "id": "bpAPG_dQm19F"
   },
   "outputs": [],
   "source": [
    "from tensorflow.keras.models import Sequential\n",
    "from tensorflow.keras.layers import Dense, LSTM, Embedding\n",
    "from tensorflow.keras.utils import to_categorical\n",
    "from tensorflow.keras.callbacks import EarlyStopping, ModelCheckpoint\n",
    "from tensorflow.keras.models import load_model"
   ]
  },
  {
   "cell_type": "code",
   "execution_count": 0,
   "metadata": {
    "colab": {},
    "colab_type": "code",
    "id": "qyYYEg5vm17s"
   },
   "outputs": [],
   "source": [
    "model_mw = Sequential()\n",
    "model_mw.add(Embedding(vocab_size, 30))\n",
    "model_mw.add(LSTM(30))\n",
    "model_mw.add(Dense(7, activation='softmax'))"
   ]
  },
  {
   "cell_type": "code",
   "execution_count": 0,
   "metadata": {
    "colab": {},
    "colab_type": "code",
    "id": "xwkyceLFm13B"
   },
   "outputs": [],
   "source": [
    "es = EarlyStopping(monitor='val_loss', mode='min', verbose=1, patience=4)\n",
    "mc = ModelCheckpoint('best_model.h5', monitor='val_acc', mode='max', verbose=1, save_best_only=True)"
   ]
  },
  {
   "cell_type": "code",
   "execution_count": 0,
   "metadata": {
    "colab": {},
    "colab_type": "code",
    "id": "dM3HFhgdm1zu"
   },
   "outputs": [],
   "source": [
    "model_mw.compile(optimizer='rmsprop', loss='categorical_crossentropy', metrics=['acc'])"
   ]
  },
  {
   "cell_type": "code",
   "execution_count": 0,
   "metadata": {
    "colab": {
     "base_uri": "https://localhost:8080/",
     "height": 1000
    },
    "colab_type": "code",
    "id": "FYMRrrESm1yb",
    "outputId": "5440a7ed-bb14-4cff-eddc-3e3998e7e71f"
   },
   "outputs": [
    {
     "name": "stdout",
     "output_type": "stream",
     "text": [
      "Epoch 1/15\n",
      "143/145 [============================>.] - ETA: 0s - loss: 1.7308 - acc: 0.3178\n",
      "Epoch 00001: val_acc improved from -inf to 0.44112, saving model to best_model.h5\n",
      "145/145 [==============================] - 2s 14ms/step - loss: 1.7301 - acc: 0.3187 - val_loss: 1.5240 - val_acc: 0.4411\n",
      "Epoch 2/15\n",
      "144/145 [============================>.] - ETA: 0s - loss: 1.3222 - acc: 0.5318\n",
      "Epoch 00002: val_acc improved from 0.44112 to 0.62098, saving model to best_model.h5\n",
      "145/145 [==============================] - 2s 11ms/step - loss: 1.3210 - acc: 0.5328 - val_loss: 1.1790 - val_acc: 0.6210\n",
      "Epoch 3/15\n",
      "145/145 [==============================] - ETA: 0s - loss: 1.0126 - acc: 0.6848\n",
      "Epoch 00003: val_acc improved from 0.62098 to 0.67847, saving model to best_model.h5\n",
      "145/145 [==============================] - 2s 11ms/step - loss: 1.0126 - acc: 0.6848 - val_loss: 0.9648 - val_acc: 0.6785\n",
      "Epoch 4/15\n",
      "144/145 [============================>.] - ETA: 0s - loss: 0.7860 - acc: 0.7541\n",
      "Epoch 00004: val_acc improved from 0.67847 to 0.71711, saving model to best_model.h5\n",
      "145/145 [==============================] - 2s 11ms/step - loss: 0.7857 - acc: 0.7542 - val_loss: 0.8285 - val_acc: 0.7171\n",
      "Epoch 5/15\n",
      "144/145 [============================>.] - ETA: 0s - loss: 0.6432 - acc: 0.7928\n",
      "Epoch 00005: val_acc improved from 0.71711 to 0.74701, saving model to best_model.h5\n",
      "145/145 [==============================] - 2s 11ms/step - loss: 0.6429 - acc: 0.7928 - val_loss: 0.7302 - val_acc: 0.7470\n",
      "Epoch 6/15\n",
      "141/145 [============================>.] - ETA: 0s - loss: 0.5555 - acc: 0.8141\n",
      "Epoch 00006: val_acc improved from 0.74701 to 0.76127, saving model to best_model.h5\n",
      "145/145 [==============================] - 2s 11ms/step - loss: 0.5539 - acc: 0.8146 - val_loss: 0.7048 - val_acc: 0.7613\n",
      "Epoch 7/15\n",
      "144/145 [============================>.] - ETA: 0s - loss: 0.4897 - acc: 0.8427\n",
      "Epoch 00007: val_acc improved from 0.76127 to 0.78105, saving model to best_model.h5\n",
      "145/145 [==============================] - 2s 11ms/step - loss: 0.4895 - acc: 0.8427 - val_loss: 0.6682 - val_acc: 0.7810\n",
      "Epoch 8/15\n",
      "145/145 [==============================] - ETA: 0s - loss: 0.4461 - acc: 0.8521\n",
      "Epoch 00008: val_acc did not improve from 0.78105\n",
      "145/145 [==============================] - 2s 11ms/step - loss: 0.4461 - acc: 0.8521 - val_loss: 0.6693 - val_acc: 0.7751\n",
      "Epoch 9/15\n",
      "142/145 [============================>.] - ETA: 0s - loss: 0.4109 - acc: 0.8630\n",
      "Epoch 00009: val_acc did not improve from 0.78105\n",
      "145/145 [==============================] - 2s 11ms/step - loss: 0.4097 - acc: 0.8640 - val_loss: 0.6807 - val_acc: 0.7774\n",
      "Epoch 10/15\n",
      "145/145 [==============================] - ETA: 0s - loss: 0.3842 - acc: 0.8697\n",
      "Epoch 00010: val_acc improved from 0.78105 to 0.78933, saving model to best_model.h5\n",
      "145/145 [==============================] - 2s 11ms/step - loss: 0.3842 - acc: 0.8697 - val_loss: 0.6479 - val_acc: 0.7893\n",
      "Epoch 11/15\n",
      "141/145 [============================>.] - ETA: 0s - loss: 0.3653 - acc: 0.8771\n",
      "Epoch 00011: val_acc did not improve from 0.78933\n",
      "145/145 [==============================] - 2s 11ms/step - loss: 0.3652 - acc: 0.8774 - val_loss: 0.6508 - val_acc: 0.7879\n",
      "Epoch 12/15\n",
      "142/145 [============================>.] - ETA: 0s - loss: 0.3499 - acc: 0.8816\n",
      "Epoch 00012: val_acc improved from 0.78933 to 0.79761, saving model to best_model.h5\n",
      "145/145 [==============================] - 2s 11ms/step - loss: 0.3489 - acc: 0.8814 - val_loss: 0.6648 - val_acc: 0.7976\n",
      "Epoch 13/15\n",
      "144/145 [============================>.] - ETA: 0s - loss: 0.3334 - acc: 0.8840\n",
      "Epoch 00013: val_acc did not improve from 0.79761\n",
      "145/145 [==============================] - 2s 11ms/step - loss: 0.3329 - acc: 0.8842 - val_loss: 0.6811 - val_acc: 0.7893\n",
      "Epoch 14/15\n",
      "141/145 [============================>.] - ETA: 0s - loss: 0.3233 - acc: 0.8888\n",
      "Epoch 00014: val_acc did not improve from 0.79761\n",
      "145/145 [==============================] - 2s 11ms/step - loss: 0.3224 - acc: 0.8892 - val_loss: 0.6949 - val_acc: 0.7884\n",
      "Epoch 00014: early stopping\n"
     ]
    }
   ],
   "source": [
    "history_mw = model_mw.fit(X_train, y_train, epochs=15, callbacks=[es, mc], batch_size=60, validation_split=0.2)"
   ]
  },
  {
   "cell_type": "code",
   "execution_count": 0,
   "metadata": {
    "colab": {
     "base_uri": "https://localhost:8080/",
     "height": 70
    },
    "colab_type": "code",
    "id": "Io45P_fJoMsw",
    "outputId": "7e1c948a-1162-44ba-94f2-8fee8f2fcfa1"
   },
   "outputs": [
    {
     "name": "stdout",
     "output_type": "stream",
     "text": [
      "85/85 [==============================] - 0s 3ms/step - loss: 0.6681 - acc: 0.7837\n",
      "\n",
      " 테스트 정확도: 0.7837\n"
     ]
    }
   ],
   "source": [
    "loaded_model = load_model('best_model.h5')\n",
    "print(\"\\n 테스트 정확도: %.4f\" % (loaded_model.evaluate(X_test, y_test)[1]))"
   ]
  },
  {
   "cell_type": "code",
   "execution_count": 0,
   "metadata": {
    "colab": {
     "base_uri": "https://localhost:8080/",
     "height": 295
    },
    "colab_type": "code",
    "id": "NWBDJqvloMq3",
    "outputId": "4cb5c365-6d8b-4538-f610-3d7a351b4a43"
   },
   "outputs": [
    {
     "data": {
      "image/png": "[encoded data removed]",
      "text/plain": [
       "<Figure size 432x288 with 1 Axes>"
      ]
     },
     "metadata": {
      "needs_background": "light",
      "tags": []
     },
     "output_type": "display_data"
    }
   ],
   "source": [
    "epochs = range(1, len(history_mw.history['acc']) + 1)\n",
    "plt.plot(epochs, history_mw.history['loss'])\n",
    "plt.plot(epochs, history_mw.history['val_loss'])\n",
    "plt.title('model loss')\n",
    "plt.ylabel('loss')\n",
    "plt.xlabel('epoch')\n",
    "plt.legend(['train', 'val'], loc='upper left')\n",
    "plt.show()"
   ]
  },
  {
   "cell_type": "code",
   "execution_count": 0,
   "metadata": {
    "colab": {},
    "colab_type": "code",
    "id": "EraIjfuH-0AM"
   },
   "outputs": [],
   "source": []
  },
  {
   "cell_type": "code",
   "execution_count": 0,
   "metadata": {
    "colab": {},
    "colab_type": "code",
    "id": "vNjaFKP_-z-S"
   },
   "outputs": [],
   "source": []
  },
  {
   "cell_type": "code",
   "execution_count": 0,
   "metadata": {
    "colab": {},
    "colab_type": "code",
    "id": "R4jkhWEr90-i"
   },
   "outputs": [],
   "source": [
    "glv_word = list(glv.dictionary.keys())"
   ]
  },
  {
   "cell_type": "code",
   "execution_count": 0,
   "metadata": {
    "colab": {
     "base_uri": "https://localhost:8080/",
     "height": 34
    },
    "colab_type": "code",
    "id": "INxFVQhe9Yt8",
    "outputId": "b89f283c-d36d-4f8f-f6ba-e3a9efe76a38"
   },
   "outputs": [
    {
     "data": {
      "text/plain": [
       "'너무'"
      ]
     },
     "execution_count": 271,
     "metadata": {
      "tags": []
     },
     "output_type": "execute_result"
    }
   ],
   "source": [
    "glv_word[0]"
   ]
  },
  {
   "cell_type": "code",
   "execution_count": 0,
   "metadata": {
    "colab": {
     "base_uri": "https://localhost:8080/",
     "height": 376
    },
    "colab_type": "code",
    "id": "5McRGPOt9eoe",
    "outputId": "6ee1aebc-a80c-4f72-fe51-5c92163dd318"
   },
   "outputs": [
    {
     "data": {
      "text/plain": [
       "array([-0.00295822, -0.02126132,  0.00195257,  0.02797044, -0.00412266,\n",
       "       -0.00783026, -0.01306685, -0.02123635,  0.02649702,  0.03491552,\n",
       "       -0.0172662 ,  0.01456639, -0.03357163, -0.02732099,  0.02396705,\n",
       "       -0.00124373,  0.01383804,  0.00105802, -0.03935583, -0.01471795,\n",
       "        0.03296948,  0.02876232,  0.05032196,  0.01112716, -0.03786947,\n",
       "        0.03787678,  0.01042273, -0.00102044,  0.01886321,  0.01441982,\n",
       "       -0.0275732 ,  0.02576511,  0.00762652,  0.01484478, -0.01141577,\n",
       "        0.04320553,  0.01352679, -0.03456509, -0.01146146,  0.01134498,\n",
       "        0.01671483, -0.01136908, -0.0353498 , -0.01991002,  0.02268381,\n",
       "        0.04247952,  0.02222515,  0.02768546,  0.01809215, -0.02363227,\n",
       "       -0.0338142 ,  0.0029322 ,  0.03784269, -0.00456   , -0.02264334,\n",
       "       -0.02494194, -0.02954115, -0.01254952, -0.01587731, -0.00301173,\n",
       "       -0.03205265,  0.01620253,  0.01224273,  0.00084087,  0.04195974,\n",
       "       -0.00660936, -0.02020211,  0.01273052,  0.02775607, -0.01695409,\n",
       "        0.01847594, -0.01197525, -0.00311891,  0.00813158, -0.01945099,\n",
       "       -0.02692958, -0.02440132, -0.01001649,  0.04365507,  0.00077088,\n",
       "        0.02260049, -0.01282142,  0.01957187, -0.0016275 , -0.00611893,\n",
       "       -0.00586704, -0.02175832,  0.00832718, -0.00244791,  0.01042817,\n",
       "       -0.00901335,  0.02321956,  0.00194126,  0.02332644,  0.0505638 ,\n",
       "       -0.00745046,  0.01876508, -0.00038373, -0.01159902, -0.02025179])"
      ]
     },
     "execution_count": 272,
     "metadata": {
      "tags": []
     },
     "output_type": "execute_result"
    }
   ],
   "source": [
    "glv_array[0]"
   ]
  },
  {
   "cell_type": "code",
   "execution_count": 0,
   "metadata": {
    "colab": {},
    "colab_type": "code",
    "id": "YrD9GWgB74yJ"
   },
   "outputs": [],
   "source": [
    "glv_array = glv.word_vectors"
   ]
  },
  {
   "cell_type": "code",
   "execution_count": 0,
   "metadata": {
    "colab": {},
    "colab_type": "code",
    "id": "b5q5sKno9GTq"
   },
   "outputs": [],
   "source": [
    "embedding_dict = dict()\n",
    "for i in range(len(glv_word)):\n",
    "  embedding_dict[glv_word[i]] = glv_array[i]"
   ]
  },
  {
   "cell_type": "code",
   "execution_count": 0,
   "metadata": {
    "colab": {
     "base_uri": "https://localhost:8080/",
     "height": 34
    },
    "colab_type": "code",
    "id": "DbRp7Rhm7rwz",
    "outputId": "ccd51b52-818c-4f41-e59f-499c45e61583"
   },
   "outputs": [
    {
     "data": {
      "text/plain": [
       "6047"
      ]
     },
     "execution_count": 275,
     "metadata": {
      "tags": []
     },
     "output_type": "execute_result"
    }
   ],
   "source": [
    "len(embedding_dict)"
   ]
  },
  {
   "cell_type": "code",
   "execution_count": 0,
   "metadata": {
    "colab": {
     "base_uri": "https://localhost:8080/",
     "height": 34
    },
    "colab_type": "code",
    "id": "UlyLz2ov99ZG",
    "outputId": "2e26a8a2-1c90-4b69-a330-7186753c7332"
   },
   "outputs": [
    {
     "data": {
      "text/plain": [
       "6047"
      ]
     },
     "execution_count": 277,
     "metadata": {
      "tags": []
     },
     "output_type": "execute_result"
    }
   ],
   "source": [
    "vocab_size"
   ]
  },
  {
   "cell_type": "code",
   "execution_count": 0,
   "metadata": {
    "colab": {
     "base_uri": "https://localhost:8080/",
     "height": 34
    },
    "colab_type": "code",
    "id": "CsjQoSuZ7rvn",
    "outputId": "5a6d7e03-f7b3-4947-c4ed-d101a6772027"
   },
   "outputs": [
    {
     "data": {
      "text/plain": [
       "(6047, 100)"
      ]
     },
     "execution_count": 279,
     "metadata": {
      "tags": []
     },
     "output_type": "execute_result"
    }
   ],
   "source": [
    "embedding_matrix = np.zeros((vocab_size,100))\n",
    "np.shape(embedding_matrix)"
   ]
  },
  {
   "cell_type": "code",
   "execution_count": 0,
   "metadata": {
    "colab": {
     "base_uri": "https://localhost:8080/",
     "height": 54
    },
    "colab_type": "code",
    "id": "zMtD8uFy7rud",
    "outputId": "bf3be3c7-07f8-49ba-a34f-4874baaa1ec2"
   },
   "outputs": [
    {
     "data": {
      "text/plain": [
       "dict_items([('고양이', 1), ('맛있', 2), ('은', 3), ('미국', 4), ('문재인', 5), ('한국', 6), ('만들기', 7), ('레시피', 8), ('오버워치', 9), ('다', 10), ('증시', 11), ('중국', 12), ('국민', 13), ('축구', 14), ('게임', 15), ('도', 16), ('북한', 17), ('대', 18), ('고', 19), ('만', 20), ('야구', 21), ('부', 22), ('이유', 23), ('방법', 24), ('트럼프', 25), ('법', 26), ('코로나', 27), ('조국', 28), ('ㅣ부동산읽어주는남자', 29), ('황교안', 30), ('없는', 31), ('들어', 32), ('세계', 33), ('경제', 34), ('운동', 35), ('투자', 36), ('강아지', 37), ('정권', 38), ('선수', 39), ('볶음', 40), ('있는', 41), ('대표', 42), ('글로벌', 43), ('만드는', 44), ('공개', 45), ('정치', 46), ('김정은', 47), ('할', 48), ('프로', 49), ('면', 50), ('하면', 51), ('요리', 52), ('총선', 53), ('ㅣ', 54), ('반응', 55), ('만드는법', 56), ('영상', 57), ('아기', 58), ('좋은', 59), ('진짜', 60), ('대한민국', 61), ('시장', 62), ('영화', 63), ('해', 64), ('기자들의', 65), ('위기', 66), ('스톡체크', 67), ('청와대', 68), ('일본', 69), ('분석', 70), ('주식경제', 71), ('보고', 72), ('보는', 73), ('하이라이트', 74), ('화', 75), ('주식', 76), ('너무', 77), ('쉽고', 78), ('인', 79), ('정부', 80), ('경기', 81), ('주의', 82), ('황금', 83), ('가장', 84), ('되는', 85), ('꿀팁', 86), ('해야', 87), ('한다', 88), ('서울', 89), ('고슴도치', 90), ('대한', 91), ('총정리', 92), ('자유', 93), ('라인', 94), ('문정권', 95), ('대통령', 96), ('강슆', 97), ('편', 98), ('없이', 99), ('해외주식', 100), ('김병지', 101), ('개', 102), ('첫', 103), ('광화문', 104), ('시작', 105), ('봤습니', 106), ('메이', 107), ('먹는', 108), ('이슈', 109), ('무엇인가', 110), ('전략', 111), ('탄핵', 112), ('위한', 113), ('미', 114), ('할까', 115), ('종목', 116), ('방송', 117), ('국가', 118), ('집사', 119), ('일반인', 120), ('최고', 121), ('도전', 122), ('할배', 123), ('이렇게', 124), ('충격', 125), ('분', 126), ('붕괴', 127), ('월가브리핑', 128), ('길', 129), ('위해', 130), ('파이터', 131), ('무침', 132), ('이야기', 133), ('뭐이슈', 134), ('조국게이트', 135), ('위', 136), ('한상춘의', 137), ('김정은정권', 138), ('싸움', 139), ('기업', 140), ('검찰', 141), ('공포', 142), ('이종우의', 143), ('처음', 144), ('먹방', 145), ('학생', 146), ('진짜전략', 147), ('슈퍼', 148), ('비법', 149), ('맛', 150), ('파티', 151), ('부동산', 152), ('다이어트', 153), ('본', 154), ('당', 155), ('했다', 156), ('전쟁', 157), ('생기는', 158), ('강', 159), ('필요', 160), ('친구', 161), ('민주당', 162), ('상대', 163), ('레전드', 164), ('들의', 165), ('후', 166), ('상승', 167), ('없다', 168), ('늬우스', 169), ('농구', 170), ('엄마', 171), ('차', 172), ('직접', 173), ('보았습니다', 174), ('집회', 175), ('유시민', 176), ('날', 177), ('내가', 178), ('세', 179), ('격투기', 180), ('라이', 181), ('출퇴근', 182), ('핵', 183), ('케이', 184), ('미중', 185), ('역사', 186), ('군사', 187), ('끓이', 188), ('이벤트', 189), ('나라', 190), ('청년', 191), ('만든', 192), ('같은', 193), ('라면', 194), ('의원', 195), ('분세상읽기', 196), ('들이', 197), ('변호사', 198), ('있을까', 199), ('간식', 200), ('하게', 201), ('스트', 202), ('히어로', 203), ('성공', 204), ('심판', 205), ('보다', 206), ('드디어', 207), ('선언', 208), ('누가', 209), ('것인가', 210), ('전광훈', 211), ('오후', 212), ('정말', 213), ('긴급', 214), ('이슈진단', 215), ('퇴진', 216), ('건강', 217), ('담그는법', 218), ('찾아', 219), ('된다', 220), ('남자', 221), ('지금세계는', 222), ('경찰', 223), ('장', 224), ('쉽게', 225), ('초간단', 226), ('알아', 227), ('달러', 228), ('이슈픽', 229), ('기자회견', 230), ('공격', 231), ('경고', 232), ('국가대표', 233), ('최고의', 234), ('않고', 235), ('모음', 236), ('최대', 237), ('이란', 238), ('교수', 239), ('인가', 240), ('선거', 241), ('치즈', 242), ('리뷰', 243), ('랑', 244), ('이후', 245), ('동네', 246), ('제재', 247), ('훈련', 248), ('인터뷰', 249), ('뉴욕', 250), ('구속', 251), ('박원순', 252), ('봐야하는', 253), ('즈', 254), ('투표', 255), ('손흥민', 256), ('선물', 257), ('발표', 258), ('마지막', 259), ('못', 260), ('실력', 261), ('반찬', 262), ('전망', 263), ('현장', 264), ('미래', 265), ('베트남', 266), ('이슈분석', 267), ('대응', 268), ('대결', 269), ('괴롭히', 270), ('김문수', 271), ('내는', 272), ('감자', 273), ('두부', 274), ('쉬운', 275), ('식', 276), ('공', 277), ('역대급', 278), ('메이코패스', 279), ('자유우파', 280), ('준비', 281), ('더욱', 282), ('집에서', 283), ('절대', 284), ('밥', 285), ('새로운', 286), ('간단하고', 287), ('교육', 288), ('외국인', 289), ('월드컵', 290), ('구독자', 291), ('김치', 292), ('장아찌', 293), ('간', 294), ('까', 295), ('전국', 296), ('성공투자', 297), ('이유는', 298), ('했습니다', 299), ('챔피언', 300), ('이용원대표', 301), ('민심포차', 302), ('제일', 303), ('간단', 304), ('치킨', 305), ('이게', 306), ('무료경매', 307), ('출근전', 308), ('행동', 309), ('무편집본', 310), ('크림', 311), ('밖에', 312), ('온다', 313), ('금리', 314), ('인간', 315), ('외교', 316), ('슛팅', 317), ('초', 318), ('것이', 319), ('억', 320), ('승리', 321), ('미사일', 322), ('연설', 323), ('우파', 324), ('공수처법', 325), ('고구마', 326), ('돼지', 327), ('지지', 328), ('상황', 329), ('가능성', 330), ('시즌', 331), ('투수', 332), ('우한폐렴', 333), ('몰락', 334), ('아웃', 335), ('똥괭이네', 336), ('루틴', 337), ('않는', 338), ('모든', 339), ('에어프라이어', 340), ('완전', 341), ('바이오', 342), ('사자', 343), ('얼굴', 344), ('출신', 345), ('실패', 346), ('탄', 347), ('여자', 348), ('파이', 349), ('돌아', 350), ('선', 351), ('등장', 352), ('팀', 353), ('윤석열', 354), ('효과', 355), ('이제', 356), ('눈물', 357), ('사람들', 358), ('세력', 359), ('사회인', 360), ('진', 361), ('늙은', 362), ('손', 363), ('하기', 364), ('가능', 365), ('최초', 366), ('했던', 367), ('될까', 368), ('금융', 369), ('국회', 370), ('출근길', 371), ('되었', 372), ('개인기', 373), ('하루', 374), ('적인', 375), ('스타', 376), ('라이브', 377), ('천재', 378), ('기자', 379), ('작전', 380), ('어깨', 381), ('수사', 382), ('음식', 383), ('마리', 384), ('오늘', 385), ('국제', 386), ('실쩐', 387), ('토론방', 388), ('확대', 389), ('흔들', 390), ('한테', 391), ('배치', 392), ('이다', 393), ('부제', 394), ('박정희', 395), ('간결한', 396), ('지구특꽁대', 397), ('제거', 398), ('마스크', 399), ('말이', 400), ('주는', 401), ('깔끔', 402), ('세상에서', 403), ('맛이', 404), ('합의', 405), ('브런치', 406), ('될', 407), ('해외', 408), ('정책', 409), ('행진', 410), ('신종', 411), ('즐겜유저', 412), ('버리는', 413), ('지옥의', 414), ('드리블', 415), ('매콤', 416), ('콩나물', 417), ('기적이', 418), ('이거', 419), ('해서', 420), ('세상', 421), ('강력', 422), ('특집', 423), ('추가', 424), ('돈', 425), ('스토리', 426), ('확산', 427), ('기대', 428), ('러시아', 429), ('은행', 430), ('배그', 431), ('귀여운', 432), ('만난', 433), ('학생들', 434), ('차명진', 435), ('계란', 436), ('안보', 437), ('멸치', 438), ('깻잎', 439), ('많이', 440), ('비밀', 441), ('싶은', 442), ('난', 443), ('계속', 444), ('했을', 445), ('사이', 446), ('하라', 447), ('본격', 448), ('민주', 449), ('당한', 450), ('최강', 451), ('병원', 452), ('시바견', 453), ('지식다방', 454), ('오이', 455), ('양념', 456), ('소고기', 457), ('혁명', 458), ('고추장', 459), ('머리', 460), ('해결', 461), ('감동', 462), ('판', 463), ('집에', 464), ('바닥', 465), ('반도체', 466), ('우려', 467), ('갈등', 468), ('애국', 469), ('자는', 470), ('청년들', 471), ('고발', 472), ('한반도', 473), ('네이마르', 474), ('소개', 475), ('된장', 476), ('거리', 477), ('많은', 478), ('먹어', 479), ('줄', 480), ('모습', 481), ('건', 482), ('개발', 483), ('실적', 484), ('분노', 485), ('왔다', 486), ('통합', 487), ('돌직구', 488), ('초딩', 489), ('밝혀', 490), ('햄스터', 491), ('전교조', 492), ('선거법', 493), ('좌파독재', 494), ('살려', 495), ('양파', 496), ('제대로', 497), ('국', 498), ('받은', 499), ('데이', 500), ('갑자기', 501), ('폭락', 502), ('언론', 503), ('논란', 504), ('시진핑', 505), ('연준', 506), ('결정', 507), ('되어', 508), ('위도우', 509), ('해보았습니다', 510), ('자유대한민국', 511), ('대농여지도', 512), ('아삭아삭', 513), ('안되는', 514), ('시원한', 515), ('기술', 516), ('문', 517), ('드립니다', 518), ('식단', 519), ('책임', 520), ('한눈에', 521), ('아니다', 522), ('스탁', 523), ('실제', 524), ('블랙', 525), ('폐렴', 526), ('협상', 527), ('펀치', 528), ('레슨', 529), ('옵치', 530), ('리그', 531), ('도발', 532), ('문화제', 533), ('박근혜', 534), ('추미애', 535), ('북핵', 536), ('인생', 537), ('영양', 538), ('샐러드', 539), ('요즘', 540), ('찜', 541), ('간장', 542), ('감사', 543), ('회복', 544), ('의사', 545), ('피자', 546), ('주목', 547), ('반', 548), ('만남', 549), ('오늘의식단', 550), ('가는', 551), ('나오는', 552), ('삼성', 553), ('폭발', 554), ('결과', 555), ('폐기', 556), ('뉴스', 557), ('저항', 558), ('경쟁전', 559), ('뒤집', 560), ('미래통합당', 561), ('사퇴', 562), ('형사고발', 563), ('목사', 564), ('공수처', 565), ('국대', 566), ('고상한', 567), ('풋살', 568), ('송종국', 569), ('겉절이', 570), ('도움', 571), ('힐링', 572), ('현실', 573), ('눈', 574), ('간단하', 575), ('팬', 576), ('파스타', 577), ('편의점', 578), ('광장', 579), ('던', 580), ('만원', 581), ('저는', 582), ('하락', 583), ('국내', 584), ('단독', 585), ('전격', 586), ('홍콩', 587), ('예측', 588), ('즐겜', 589), ('풀영상', 590), ('홍준표', 591), ('조로남불', 592), ('황금비율', 593), ('고기', 594), ('듬뿍', 595), ('구이', 596), ('활용', 597), ('마늘', 598), ('새해', 599), ('작은', 600), ('히', 601), ('떡볶이', 602), ('거', 603), ('촬영', 604), ('받았', 605), ('삼성전자', 606), ('매수', 607), ('성장', 608), ('발언', 609), ('해보', 610), ('우한', 611), ('직격탄', 612), ('반대', 613), ('패스', 614), ('트레이', 615), ('촉구', 616), ('나온', 617), ('승부', 618), ('미친', 619), ('토론', 620), ('아이언맨', 621), ('어벤져스', 622), ('실험', 623), ('새끼', 624), ('노묘', 625), ('국회의원', 626), ('먹으면', 627), ('마', 628), ('넣고', 629), ('순간', 630), ('표', 631), ('급', 632), ('볼', 633), ('받는', 634), ('환율', 635), ('피해', 636), ('말라', 637), ('통일', 638), ('현재', 639), ('산업', 640), ('되나', 641), ('평가', 642), ('경쟁', 643), ('시점', 644), ('터', 645), ('달라', 646), ('카드', 647), ('사람이', 648), ('동생', 649), ('호소', 650), ('헌법', 651), ('마블', 652), ('복싱', 653), ('튀김', 654), ('담그는', 655), ('설날', 656), ('조림', 657), ('겨울', 658), ('시원하고', 659), ('이렇게하면', 660), ('잡아', 661), ('포기', 662), ('프', 663), ('여름', 664), ('단계', 665), ('쫄깃', 666), ('처럼', 667), ('오늘의', 668), ('떨어', 669), ('올해', 670), ('갔다', 671), ('대구', 672), ('신', 673), ('때의', 674), ('아파트', 675), ('확인', 676), ('큰', 677), ('기념', 678), ('남', 679), ('돌파', 680), ('주가', 681), ('연기', 682), ('못한', 683), ('통과', 684), ('위험', 685), ('비판', 686), ('내부', 687), ('아니라', 688), ('이승만', 689), ('특검', 690), ('쿠데타', 691), ('슛', 692), ('버섯', 693), ('변화', 694), ('입맛', 695), ('고소한', 696), ('환상의', 697), ('이건', 698), ('설', 699), ('밥도둑', 700), ('않은', 701), ('들을', 702), ('장면', 703), ('불러', 704), ('해도', 705), ('강한', 706), ('받아', 707), ('개인', 708), ('알고', 709), ('무역', 710), ('부양책', 711), ('마감시황', 712), ('권', 713), ('확진자', 714), ('유망주', 715), ('법원', 716), ('사건', 717), ('지소미아', 718), ('놀이', 719), ('소름', 720), ('무술', 721), ('말하는', 722), ('곰탱여우', 723), ('김정', 724), ('좌파', 725), ('체제', 726), ('게이트', 727), ('탄압', 728), ('남북', 729), ('골', 730), ('그리', 731), ('배추', 732), ('마음', 733), ('하세요', 734), ('생일', 735), ('여성', 736), ('주인', 737), ('버리', 738), ('식당', 739), ('세요', 740), ('특별', 741), ('쿠키', 742), ('빵', 743), ('봐야', 744), ('없어', 745), ('감', 746), ('상', 747), ('기생충', 748), ('달라고', 749), ('일상', 750), ('듣는', 751), ('사태', 752), ('회의', 753), ('후보', 754), ('사상', 755), ('민심', 756), ('압승', 757), ('버그', 758), ('난리', 759), ('몰래', 760), ('평화', 761), ('권력', 762), ('왔어요', 763), ('대깨문', 764), ('문아웃', 765), ('자유통일당', 766), ('실전', 767), ('청소', 768), ('밑반찬', 769), ('냄새', 770), ('갈비', 771), ('양념장', 772), ('는법', 773), ('응원', 774), ('크리스마스', 775), ('포인트', 776), ('먹고', 777), ('토마토', 778), ('버린', 779), ('보기', 780), ('나도', 781), ('모든것', 782), ('역시', 783), ('강력한', 784), ('연말', 785), ('싫어', 786), ('잘못', 787), ('종합', 788), ('이진우의', 789), ('지수', 790), ('의미', 791), ('금지', 792), ('비상', 793), ('영국', 794), ('한일', 795), ('운명', 796), ('인정', 797), ('대회', 798), ('왔습니다', 799), ('겐지', 800), ('노래', 801), ('질문', 802), ('보았다', 803), ('최후', 804), ('거짓말', 805), ('챌린', 806), ('좋아하는', 807), ('다묘가정', 808), ('냐', 809), ('유승민', 810), ('방문', 811), ('핵사이다', 812), ('무회전', 813), ('실속', 814), ('분팁', 815), ('도라지', 816), ('김밥', 817), ('카레', 818), ('무', 819), ('삼겹살', 820), ('비', 821), ('과정', 822), ('딸기', 823), ('살아', 824), ('백종원', 825), ('조선', 826), ('오는', 827), ('초코', 828), ('며', 829), ('학교', 830), ('맞는', 831), ('알려주는', 832), ('물건', 833), ('관련', 834), ('코스피', 835), ('버스', 836), ('집중', 837), ('불안', 838), ('내년', 839), ('않는다', 840), ('돌아온', 841), ('이미', 842), ('타격', 843), ('판사', 844), ('직구시대', 845), ('하겠다', 846), ('맞짱', 847), ('워치', 848), ('돋는', 849), ('분열', 850), ('보여주는', 851), ('예고편', 852), ('검사', 853), ('비례', 854), ('문희상', 855), ('군부', 856), ('토트넘', 857), ('접수', 858), ('나물', 859), ('보관', 860), ('버터', 861), ('하겠습니다', 862), ('해주는', 863), ('배가', 864), ('빠져', 865), ('추석', 866), ('덮밥', 867), ('폭탄', 868), ('끝', 869), ('용', 870), ('초대', 871), ('가이드', 872), ('간다', 873), ('것은', 874), ('부자가', 875), ('되면', 876), ('관심', 877), ('급등', 878), ('포트폴리오', 879), ('예상', 880), ('재', 881), ('구조', 882), ('들은', 883), ('우승', 884), ('승', 885), ('살인', 886), ('능력', 887), ('무서운', 888), ('테스트', 889), ('방해', 890), ('웃긴영상', 891), ('냐미', 892), ('곰', 893), ('김종인', 894), ('나경원', 895), ('이낙연', 896), ('현역', 897), ('수호', 898), ('복서', 899), ('주짓수', 900), ('명절', 901), ('비린내', 902), ('새우', 903), ('참치', 904), ('함', 905), ('그대로', 906), ('독립', 907), ('개월', 908), ('밤', 909), ('갑니다', 910), ('추천', 911), ('단', 912), ('있으면', 913), ('다양한', 914), ('엔', 915), ('갤럭시', 916), ('차이', 917), ('아닌', 918), ('그만', 919), ('요구', 920), ('당하', 921), ('무조건', 922), ('뭐', 923), ('팩트', 924), ('대책', 925), ('하지', 926), ('모르는', 927), ('드리', 928), ('명이', 929), ('전기차', 930), ('업종', 931), ('쇼크', 932), ('테슬라', 933), ('법안', 934), ('시킨', 935), ('통해', 936), ('플레이', 937), ('질', 938), ('움직', 939), ('산', 940), ('탈출', 941), ('도대체', 942), ('했습니', 943), ('포켓몬', 944), ('한조', 945), ('부산', 946), ('호날두', 947), ('격투', 948), ('신이내린', 949), ('영상모음', 950), ('목욕', 951), ('감독', 952), ('토크', 953), ('철수', 954), ('민노총', 955), ('박근혜대통령', 956), ('정경심', 957), ('평양', 958), ('변화구', 959), ('취미반', 960), ('만명', 961), ('잡는', 962), ('잡채', 963), ('맛을', 964), ('시금치', 965), ('당첨자', 966), ('오징어', 967), ('지는', 968), ('시원하게', 969), ('가슴', 970), ('물', 971), ('해주세요', 972), ('소', 973), ('아이들', 974), ('끝까지', 975), ('시원', 976), ('크로', 977), ('단식', 978), ('떠나', 979), ('올라', 980), ('대만', 981), ('대박', 982), ('집값', 983), ('먼저', 984), ('행사', 985), ('갈', 986), ('내용', 987), ('대비', 988), ('비하인드', 989), ('영향', 990), ('베트남투자가이드', 991), ('유가', 992), ('아직', 993), ('대선', 994), ('바이', 995), ('조원', 996), ('지속', 997), ('전망은', 998), ('상원', 999), ('진실', 1000), ('문정', 1001), ('관세', 1002), ('가다', 1003), ('관계', 1004), ('범죄', 1005), ('총', 1006), ('울산', 1007), ('팀원', 1008), ('놓고', 1009), ('하다가', 1010), ('배틀그라운드', 1011), ('걸', 1012), ('불법', 1013), ('싸우', 1014), ('솔직', 1015), ('캡틴', 1016), ('던져', 1017), ('더민당', 1018), ('통합당', 1019), ('정권의', 1020), ('봉쇄', 1021), ('의혹', 1022), ('인헌고', 1023), ('것을', 1024), ('든든', 1025), ('변신', 1026), ('자꾸', 1027), ('고등어', 1028), ('사과', 1029), ('철', 1030), ('저녁', 1031), ('오늘은', 1032), ('을까', 1033), ('스테이크', 1034), ('빠진', 1035), ('달걀', 1036), ('님의', 1037), ('든', 1038), ('태풍', 1039), ('한번', 1040), ('어디까지', 1041), ('부자', 1042), ('거래', 1043), ('걸린', 1044), ('선택', 1045), ('센터', 1046), ('과거', 1047), ('펀드', 1048), ('시대', 1049), ('이상로의', 1050), ('계', 1051), ('있나', 1052), ('진단', 1053), ('관련주', 1054), ('김우식의', 1055), ('하자', 1056), ('급락', 1057), ('음모', 1058), ('리는', 1059), ('력', 1060), ('직구', 1061), ('두고', 1062), ('회장', 1063), ('비교', 1064), ('현대', 1065), ('정', 1066), ('배운', 1067), ('여러분들', 1068), ('강의', 1069), ('좀비', 1070), ('있습니다', 1071), ('들과', 1072), ('일어나', 1073), ('스파이더맨', 1074), ('받고', 1075), ('배틀', 1076), ('갖고', 1077), ('메시지', 1078), ('지다', 1079), ('쁘니', 1080), ('노루', 1081), ('세월호', 1082), ('규탄', 1083), ('한미동맹', 1084), ('보이콧', 1085), ('미리봅시다', 1086), ('킥', 1087), ('컨테스트', 1088), ('팔씨름', 1089), ('이강인', 1090), ('메시', 1091), ('아름다운', 1092), ('깍두기', 1093), ('형', 1094), ('풍부한', 1095), ('로얄팁', 1096), ('넣으면', 1097), ('맛깔스', 1098), ('새콤', 1099), ('달콤', 1100), ('부드럽고', 1101), ('깜짝', 1102), ('화장실', 1103), ('행복', 1104), ('밥상', 1105), ('보관법', 1106), ('아삭하고', 1107), ('걱정', 1108), ('새', 1109), ('핵심', 1110), ('채소', 1111), ('베스트', 1112), ('시험시간', 1113), ('리스', 1114), ('도중', 1115), ('카', 1116), ('매일', 1117), ('계획', 1118), ('가능할까', 1119), ('관', 1120), ('회사', 1121), ('사기', 1122), ('사연', 1123), ('무역전쟁', 1124), ('악재', 1125), ('다우', 1126), ('년만에', 1127), ('반등', 1128), ('돌발', 1129), ('조일교의', 1130), ('매도', 1131), ('번째', 1132), ('차단', 1133), ('랠리', 1134), ('폭로', 1135), ('압박', 1136), ('추진', 1137), ('주인공', 1138), ('군', 1139), ('눈치', 1140), ('둠피', 1141), ('마스터', 1142), ('경쟁전에서', 1143), ('못하는', 1144), ('대해', 1145), ('일기', 1146), ('아저씨', 1147), ('젊은', 1148), ('선생님', 1149), ('시절', 1150), ('고딩', 1151), ('장난감', 1152), ('할배어르신', 1153), ('취재', 1154), ('철야농성', 1155), ('태극기', 1156), ('손석희', 1157), ('박스타', 1158), ('여고생', 1159), ('브라질', 1160), ('글러브', 1161), ('아시안', 1162), ('묵은지', 1163), ('당근', 1164), ('안전', 1165), ('잘하는', 1166), ('노하우', 1167), ('황태', 1168), ('떡국', 1169), ('꿈을', 1170), ('꽈리고추', 1171), ('순', 1172), ('일어', 1173), ('진정한', 1174), ('불고기', 1175), ('파', 1176), ('낙지', 1177), ('참여', 1178), ('된답니다', 1179), ('매운', 1180), ('감칠맛', 1181), ('과일', 1182), ('홈', 1183), ('샌드위치', 1184), ('에는', 1185), ('길거리', 1186), ('팡팡', 1187), ('어울리는', 1188), ('잡을', 1189), ('라고', 1190), ('김', 1191), ('끝판왕', 1192), ('클럽', 1193), ('란', 1194), ('현', 1195), ('싶다', 1196), ('받으', 1197), ('배우기', 1198), ('결과는', 1199), ('테마', 1200), ('탐방', 1201), ('치료제', 1202), ('론', 1203), ('휴일', 1204), ('검토', 1205), ('역대', 1206), ('금리인하', 1207), ('힘', 1208), ('인하', 1209), ('바이러스', 1210), ('말하다', 1211), ('입국', 1212), ('성', 1213), ('로우', 1214), ('정리', 1215), ('꼼수', 1216), ('박세진의', 1217), ('공식', 1218), ('참가', 1219), ('애니', 1220), ('다이', 1221), ('서열정리', 1222), ('보여준', 1223), ('재미', 1224), ('적을', 1225), ('엄청난', 1226), ('목소리', 1227), ('꾹꾹', 1228), ('미어캣', 1229), ('니들', 1230), ('결의', 1231), ('단식투쟁', 1232), ('향한', 1233), ('광주', 1234), ('몰아보기', 1235), ('중고날아', 1236), ('복근', 1237), ('택견', 1238), ('도장깨기', 1239), ('프리킥', 1240), ('달래', 1241), ('엄청', 1242), ('양배추', 1243), ('탕', 1244), ('예방', 1245), ('가득', 1246), ('콜라', 1247), ('났어요', 1248), ('초보', 1249), ('젤리', 1250), ('관리', 1251), ('먹을', 1252), ('꿀잼', 1253), ('앞에', 1254), ('재료', 1255), ('디저트', 1256), ('아픈', 1257), ('매력', 1258), ('버', 1259), ('타이', 1260), ('봄', 1261), ('코스', 1262), ('진다', 1263), ('척', 1264), ('프레', 1265), ('박스', 1266), ('보면', 1267), ('왕', 1268), ('빼앗', 1269), ('거부', 1270), ('되기', 1271), ('읽어주는', 1272), ('겠습니다', 1273), ('수익률', 1274), ('목표', 1275), ('빨리', 1276), ('정부의', 1277), ('변수', 1278), ('이승조의', 1279), ('헬스케어', 1280), ('항공', 1281), ('컴퓨터', 1282), ('속도', 1283), ('변동성', 1284), ('막을', 1285), ('명의', 1286), ('원인', 1287), ('자영업자', 1288), ('트레이더스', 1289), ('면전', 1290), ('부르면', 1291), ('초등', 1292), ('삭제', 1293), ('참교육', 1294), ('일이', 1295), ('패', 1296), ('엔딩', 1297), ('싸우는', 1298), ('최강의', 1299), ('숨겨진', 1300), ('고수', 1301), ('일반', 1302), ('말을', 1303), ('막는', 1304), ('벤투', 1305), ('고백', 1306), ('꼬리', 1307), ('완', 1308), ('러', 1309), ('들에게', 1310), ('인피니티', 1311), ('앙', 1312), ('소닉이', 1313), ('뿌리', 1314), ('산책', 1315), ('합사', 1316), ('때리', 1317), ('캣휠', 1318), ('종로', 1319), ('기자들', 1320), ('여론', 1321), ('북정은', 1322), ('이종배대표', 1323), ('포위', 1324), ('공천', 1325), ('중앙지검', 1326), ('안철수', 1327), ('교과서', 1328), ('박정희대통령', 1329), ('촛불', 1330), ('진중권', 1331), ('현장취재', 1332), ('교회', 1333), ('보수', 1334), ('회담', 1335), ('패권전쟁', 1336), ('세컨더리', 1337), ('만다', 1338), ('싶어', 1339), ('쌈장', 1340), ('완성', 1341), ('소스', 1342), ('장조림', 1343), ('어묵', 1344), ('칼칼하', 1345), ('호박', 1346), ('미나리', 1347), ('싱싱', 1348), ('짜장', 1349), ('시작하', 1350), ('완화', 1351), ('이기는', 1352), ('그냥', 1353), ('청', 1354), ('통', 1355), ('애플', 1356), ('먹기', 1357), ('빠지', 1358), ('넣은', 1359), ('리얼', 1360), ('힘들', 1361), ('스타일', 1362), ('핫도그', 1363), ('입니', 1364), ('킹', 1365), ('뒤', 1366), ('별', 1367), ('사용', 1368), ('어린이', 1369), ('페이', 1370), ('라는', 1371), ('할로윈', 1372), ('터지', 1373), ('광고', 1374), ('약', 1375), ('알아보', 1376), ('맞아', 1377), ('돈을', 1378), ('집을', 1379), ('돈이', 1380), ('피', 1381), ('영향은', 1382), ('배당', 1383), ('해설', 1384), ('만에', 1385), ('학부모', 1386), ('백신', 1387), ('활동', 1388), ('장기', 1389), ('최성민의', 1390), ('읽는', 1391), ('금융위기', 1392), ('심각', 1393), ('수출', 1394), ('심리', 1395), ('불', 1396), ('통화', 1397), ('독일', 1398), ('선택은', 1399), ('맞서', 1400), ('겠다', 1401), ('예고', 1402), ('승부수', 1403), ('파국', 1404), ('서열', 1405), ('약한', 1406), ('됐다', 1407), ('실제로', 1408), ('헬스', 1409), ('칭찬', 1410), ('맥크리', 1411), ('체험', 1412), ('가서', 1413), ('시청자', 1414), ('던지는', 1415), ('다가', 1416), ('인성질', 1417), ('폭풍', 1418), ('정크랫', 1419), ('오랜만에', 1420), ('눈이', 1421), ('공지', 1422), ('괴물', 1423), ('신이', 1424), ('께', 1425), ('선바의', 1426), ('댄스', 1427), ('걸고', 1428), ('몸', 1429), ('스타듀밸리', 1430), ('인의', 1431), ('않으면', 1432), ('떡밥', 1433), ('낯선', 1434), ('주인을', 1435), ('용감한', 1436), ('유신이', 1437), ('표정', 1438), ('이해찬', 1439), ('정의', 1440), ('이재명', 1441), ('기독교', 1442), ('김대중', 1443), ('모사드', 1444), ('일차', 1445), ('특수부', 1446), ('주한미군', 1447), ('공을', 1448), ('정치학고전특강', 1449), ('문재', 1450), ('데일리', 1451), ('무에타이', 1452), ('투구폼', 1453), ('감아차기', 1454), ('키용소', 1455), ('고급진', 1456), ('바삭바삭', 1457), ('확', 1458), ('쪽파', 1459), ('입', 1460), ('어머니', 1461), ('냉이', 1462), ('교체', 1463), ('떡', 1464), ('고추', 1465), ('단호박', 1466), ('마늘쫑', 1467), ('껍질', 1468), ('애호박', 1469), ('간편하게', 1470), ('열무', 1471), ('근육', 1472), ('유지', 1473), ('스피드', 1474), ('똑', 1475), ('넣는', 1476), ('완벽한', 1477), ('느껴', 1478), ('브라', 1479), ('메뉴', 1480), ('이걸', 1481), ('끌어', 1482), ('추억의', 1483), ('마라', 1484), ('마무리', 1485), ('연', 1486), ('베이', 1487), ('주세요', 1488), ('불닭', 1489), ('살리', 1490), ('추억', 1491), ('소환', 1492), ('찾기', 1493), ('힘든', 1494), ('낸', 1495), ('기회', 1496), ('쇼', 1497), ('채', 1498), ('모두가', 1499), ('와서', 1500), ('가능한', 1501), ('괜찮', 1502), ('속에', 1503), ('군대', 1504), ('근데', 1505), ('쇼핑', 1506), ('버려', 1507), ('강남', 1508), ('배우', 1509), ('마세요', 1510), ('결혼', 1511), ('업', 1512), ('않을', 1513), ('사유', 1514), ('리포트', 1515), ('넘어', 1516), ('최악의', 1517), ('테크', 1518), ('나스닥', 1519), ('곳', 1520), ('않았다', 1521), ('막아', 1522), ('마켓', 1523), ('규모', 1524), ('유럽', 1525), ('극복', 1526), ('와이', 1527), ('오나', 1528), ('코리아', 1529), ('션', 1530), ('연속', 1531), ('지구', 1532), ('조사', 1533), ('일까', 1534), ('존', 1535), ('앞둔', 1536), ('보복', 1537), ('하여', 1538), ('수급', 1539), ('행정', 1540), ('보자', 1541), ('탄생', 1542), ('클라', 1543), ('전설의', 1544), ('물어', 1545), ('자존심', 1546), ('시메트라', 1547), ('데려', 1548), ('메르시', 1549), ('가면', 1550), ('나타났다', 1551), ('보여주', 1552), ('슬픈', 1553), ('넘치는', 1554), ('열심히', 1555), ('목숨', 1556), ('정신', 1557), ('벌어', 1558), ('슈트', 1559), ('만져', 1560), ('궁디', 1561), ('앉아', 1562), ('시민들', 1563), ('몰아', 1564), ('들께', 1565), ('석방', 1566), ('지도자', 1567), ('공산당', 1568), ('출전', 1569), ('대북', 1570), ('의회', 1571), ('이천수', 1572), ('투수가', 1573), ('궤적', 1574), ('덤벨', 1575), ('놀라운', 1576), ('상큼한', 1577), ('남은', 1578), ('느끼', 1579), ('환상', 1580), ('얼큰한', 1581), ('애기', 1582), ('얼큰', 1583), ('피부', 1584), ('생각나는', 1585), ('있어요', 1586), ('혁신', 1587), ('향긋한', 1588), ('특별한', 1589), ('오이지', 1590), ('일만에', 1591), ('국물', 1592), ('매콤한', 1593), ('감자조림', 1594), ('아삭', 1595), ('나게', 1596), ('아삭한', 1597), ('오이무침', 1598), ('나의', 1599), ('커피', 1600), ('담는법', 1601), ('시래기', 1602), ('꼬막', 1603), ('분만에', 1604), ('스프', 1605), ('빠른', 1606), ('잘하', 1607), ('홈런', 1608), ('이라고', 1609), ('사랑', 1610), ('만개', 1611), ('프리', 1612), ('날씨', 1613), ('컵', 1614), ('이번엔', 1615), ('아직도', 1616), ('패닉', 1617), ('현금', 1618), ('책', 1619), ('건설', 1620), ('천만원', 1621), ('주인이', 1622), ('망', 1623), ('죄송합니다', 1624), ('찾는', 1625), ('호', 1626), ('분기', 1627), ('시나리오', 1628), ('긴', 1629), ('적극', 1630), ('일자리', 1631), ('팬데믹', 1632), ('쏟아', 1633), ('함정', 1634), ('소프트', 1635), ('긴장', 1636), ('외면', 1637), ('승자는', 1638), ('이용', 1639), ('올림픽', 1640), ('엘리', 1641), ('대장', 1642), ('드러', 1643), ('죽이', 1644), ('파기', 1645), ('스스로', 1646), ('사망', 1647), ('울고', 1648), ('신의', 1649), ('패권', 1650), ('장관', 1651), ('볼턴', 1652), ('알고보니', 1653), ('실수', 1654), ('타고', 1655), ('미군', 1656), ('는데', 1657), ('했어', 1658), ('민족', 1659), ('타자', 1660), ('목적', 1661), ('대사', 1662), ('쓰는', 1663), ('했더니', 1664), ('실력은', 1665), ('솜브라', 1666), ('디바', 1667), ('쓰레기', 1668), ('니가', 1669), ('김재', 1670), ('잘해', 1671), ('숨막히는', 1672), ('아는', 1673), ('정체', 1674), ('형제', 1675), ('커', 1676), ('죽음', 1677), ('쩌는', 1678), ('놀아주', 1679), ('명장면', 1680), ('역전재판', 1681), ('치는', 1682), ('썰', 1683), ('뛰어', 1684), ('독재', 1685), ('데드풀', 1686), ('마블의', 1687), ('엔드', 1688), ('간식을', 1689), ('달려', 1690), ('댓글', 1691), ('송아지', 1692), ('자들', 1693), ('공익폭로', 1694), ('임종석', 1695), ('해병대', 1696), ('거짓', 1697), ('부정선거', 1698), ('위반', 1699), ('부장', 1700), ('선동', 1701), ('시민', 1702), ('막기', 1703), ('인권', 1704), ('전지사', 1705), ('백승재변호사', 1706), ('동', 1707), ('찬성', 1708), ('기독자유통일당', 1709), ('탑골정치', 1710), ('표쏭', 1711), ('박형준', 1712), ('태권도', 1713), ('킥복싱', 1714), ('난타전', 1715), ('이승우', 1716), ('사포', 1717), ('기본기', 1718), ('부침', 1719), ('막', 1720), ('일어나는', 1721), ('두부조림', 1722), ('살리는', 1723), ('면역력', 1724), ('닭', 1725), ('손질', 1726), ('무치는', 1727), ('넣어', 1728), ('바삭', 1729), ('맥주', 1730), ('찹쌀', 1731), ('팁', 1732), ('제철', 1733), ('팽이버섯', 1734), ('단백질', 1735), ('동치미', 1736), ('설명', 1737), ('여행', 1738), ('평생', 1739), ('전기밥솥', 1740), ('전에', 1741), ('필수', 1742), ('매실', 1743), ('부탁해', 1744), ('담아', 1745), ('쌀쌀', 1746), ('생', 1747), ('집밥', 1748), ('홍합', 1749), ('코리안', 1750), ('돈까스', 1751), ('항상', 1752), ('않았', 1753), ('커리', 1754), ('즐기는', 1755), ('드루와', 1756), ('수제', 1757), ('오면', 1758), ('아메리', 1759), ('캐릭터', 1760), ('사이드', 1761), ('고민', 1762), ('밤에', 1763), ('끝나', 1764), ('부동산대책', 1765), ('수도권', 1766), ('예비', 1767), ('쓰면', 1768), ('나쁜', 1769), ('넘는', 1770), ('확정', 1771), ('무시하', 1772), ('포함', 1773), ('취미', 1774), ('올까', 1775), ('일어난', 1776), ('길로', 1777), ('유동원의', 1778), ('치료', 1779), ('런투유', 1780), ('처리', 1781), ('의료', 1782), ('수준', 1783), ('아베', 1784), ('등에', 1785), ('이대로', 1786), ('장세', 1787), ('온라인', 1788), ('유망', 1789), ('인터넷', 1790), ('모멘텀', 1791), ('멈추', 1792), ('놀란', 1793), ('관광', 1794), ('정석', 1795), ('믿을', 1796), ('개입', 1797), ('사이버', 1798), ('주기', 1799), ('초토화', 1800), ('급증', 1801), ('버리고', 1802), ('코', 1803), ('에어', 1804), ('화웨이', 1805), ('올', 1806), ('승인', 1807), ('라운드', 1808), ('절규', 1809), ('중단', 1810), ('준', 1811), ('맞고', 1812), ('인사', 1813), ('중심', 1814), ('알아보자', 1815), ('이어', 1816), ('알려주', 1817), ('망하', 1818), ('뜨거운', 1819), ('석유', 1820), ('안내', 1821), ('마구', 1822), ('가능하다', 1823), ('보여', 1824), ('채널', 1825), ('캐리', 1826), ('갓겜', 1827), ('피지컬', 1828), ('에임핵', 1829), ('패배', 1830), ('루시우', 1831), ('장인', 1832), ('영웅', 1833), ('농락', 1834), ('박', 1835), ('나를', 1836), ('실화', 1837), ('되다', 1838), ('뽀뽀', 1839), ('꺼내', 1840), ('고등', 1841), ('인싸', 1842), ('결승전', 1843), ('몰랐', 1844), ('그렇게', 1845), ('악마', 1846), ('후기', 1847), ('이길', 1848), ('최종', 1849), ('때려', 1850), ('박살', 1851), ('키우', 1852), ('피츄', 1853), ('잠자는', 1854), ('고니대장', 1855), ('애교', 1856), ('허리', 1857), ('용기', 1858), ('세력들', 1859), ('진정성', 1860), ('대진연', 1861), ('좌종', 1862), ('항복', 1863), ('김태훈', 1864), ('명단', 1865), ('가짜', 1866), ('이언주의원', 1867), ('협박', 1868), ('이인영', 1869), ('징후', 1870), ('반미', 1871), ('농성', 1872), ('부정', 1873), ('부상', 1874), ('무너지는', 1875), ('시킨다', 1876), ('법치', 1877), ('반일', 1878), ('호남', 1879), ('퇴장', 1880), ('중간선거', 1881), ('닝', 1882), ('극진', 1883), ('너클볼', 1884), ('측정', 1885), ('맨유', 1886), ('황희찬', 1887), ('형컴', 1888), ('강좌', 1889), ('황의조', 1890), ('쫀득쫀득', 1891), ('숨은', 1892), ('상큼하고', 1893), ('입맛을', 1894), ('무말랭이', 1895), ('무생채', 1896), ('봄동', 1897), ('들깨', 1898), ('김치찌개', 1899), ('않아요', 1900), ('찌개', 1901), ('속이', 1902), ('톡', 1903), ('제육', 1904), ('절이', 1905), ('김장김치', 1906), ('품격', 1907), ('행복한', 1908), ('아주', 1909), ('갈치', 1910), ('되고', 1911), ('콩국', 1912), ('고소하고', 1913), ('견과류', 1914), ('두릅', 1915), ('축하', 1916), ('운', 1917), ('잔', 1918), ('도토리묵', 1919), ('대표가', 1920), ('바나나', 1921), ('육수', 1922), ('태국', 1923), ('무르지', 1924), ('진한', 1925), ('있어', 1926), ('않게', 1927), ('단짠', 1928), ('칩', 1929), ('음', 1930), ('소시지', 1931), ('출시', 1932), ('만든다', 1933), ('젝트', 1934), ('달달한', 1935), ('궁금', 1936), ('친', 1937), ('비싼', 1938), ('제주도', 1939), ('마음을', 1940), ('대신', 1941), ('해양수산부', 1942), ('수산물', 1943), ('방어', 1944), ('위에', 1945), ('인데', 1946), ('가족', 1947), ('것이다', 1948), ('환호', 1949), ('안돼', 1950), ('뿐', 1951), ('금', 1952), ('초보자', 1953), ('해야할', 1954), ('자동차', 1955), ('년간', 1956), ('원칙', 1957), ('주의사항', 1958), ('자가', 1959), ('인공지능', 1960), ('편집', 1961), ('모임', 1962), ('다니는', 1963), ('증언', 1964), ('동학개미', 1965), ('강화', 1966), ('나선', 1967), ('박창윤의', 1968), ('유동성', 1969), ('지표', 1970), ('트렌드로', 1971), ('금융시장', 1972), ('외국', 1973), ('제로', 1974), ('잃은', 1975), ('위험한', 1976), ('전략은', 1977), ('높은', 1978), ('섹터', 1979), ('특징', 1980), ('번방', 1981), ('히든', 1982), ('카카오', 1983), ('사전', 1984), ('했나', 1985), ('현실화', 1986), ('역', 1987), ('플립', 1988), ('무섭다', 1989), ('확진', 1990), ('두산', 1991), ('우는', 1992), ('위협', 1993), ('하이', 1994), ('지역', 1995), ('무역합의', 1996), ('충돌', 1997), ('산타', 1998), ('힘을', 1999), ('실시간', 2000), ('이제는', 2001), ('조기', 2002), ('취한', 2003), ('네이', 2004), ('카메라', 2005), ('망한다', 2006), ('정수기', 2007), ('옆에', 2008), ('되었습니다', 2009), ('했는데', 2010), ('해보았', 2011), ('린', 2012), ('해봤', 2013), ('라인하르트', 2014), ('랭커', 2015), ('몰카', 2016), ('다들', 2017), ('귀여', 2018), ('존재', 2019), ('쥬니', 2020), ('그의', 2021), ('조현우', 2022), ('나라가', 2023), ('빠대에서', 2024), ('각오', 2025), ('이상한', 2026), ('스킬', 2027), ('싸이코', 2028), ('벚꽃', 2029), ('욕하', 2030), ('나라를', 2031), ('왕이', 2032), ('쯔꾸르', 2033), ('아님', 2034), ('지옥', 2035), ('에겐', 2036), ('골방', 2037), ('토르', 2038), ('츄르', 2039), ('새벽', 2040), ('발톱', 2041), ('밀웜', 2042), ('층', 2043), ('유시', 2044), ('쫄보', 2045), ('장난', 2046), ('어린', 2047), ('경찰들', 2048), ('보니', 2049), ('부들부들', 2050), ('클라스', 2051), ('공화당', 2052), ('폭격', 2053), ('탈원전', 2054), ('프레임', 2055), ('심상정', 2056), ('개헌', 2057), ('친문', 2058), ('입국금지', 2059), ('이언주', 2060), ('심재철', 2061), ('시국선언', 2062), ('자유민주주의', 2063), ('처벌', 2064), ('카운트다운', 2065), ('탈북', 2066), ('검사들', 2067), ('완료', 2068), ('구속영장', 2069), ('이스라엘', 2070), ('고영주', 2071), ('삭발', 2072), ('연방제', 2073), ('조선일보', 2074), ('김경재', 2075), ('노동당', 2076), ('전원책', 2077), ('대구편', 2078), ('했는', 2079), ('독트린', 2080), ('유엔사', 2081), ('에이스', 2082), ('김승현', 2083), ('승률', 2084), ('헤비급', 2085), ('출전한', 2086), ('맨시티', 2087), ('부드러운', 2088), ('법과', 2089), ('행복을', 2090), ('감동의', 2091), ('달콤한', 2092), ('등갈비', 2093), ('끝내', 2094), ('팔아', 2095), ('쏘는', 2096), ('국수', 2097), ('할수있는', 2098), ('옛날', 2099), ('편하', 2100), ('순두부', 2101), ('깊은', 2102), ('빼고', 2103), ('주년', 2104), ('커플', 2105), ('뚝딱', 2106), ('옥수수', 2107), ('충전', 2108), ('희망', 2109), ('느낌', 2110), ('뒤에', 2111), ('런', 2112), ('맛집', 2113), ('풋고추', 2114), ('화장', 2115), ('꿈', 2116), ('까는', 2117), ('상큼', 2118), ('짭쪼', 2119), ('없을', 2120), ('하나로', 2121), ('밥과', 2122), ('찢어', 2123), ('베이컨', 2124), ('할머니', 2125), ('햄버거', 2126), ('칼로리', 2127), ('닭가슴살', 2128), ('영혼을', 2129), ('슈', 2130), ('하나만', 2131), ('배우는', 2132), ('식빵', 2133), ('미음', 2134), ('재료로', 2135), ('중요한', 2136), ('천국', 2137), ('싶었던', 2138), ('실기', 2139), ('이탈리아', 2140), ('믿고', 2141), ('프랑스', 2142), ('격하게', 2143), ('담은', 2144), ('핸드', 2145), ('미리', 2146), ('꽃', 2147), ('스페셜', 2148), ('망가', 2149), ('어디에', 2150), ('귀신', 2151), ('제발', 2152), ('멘붕', 2153), ('있었다', 2154), ('받을', 2155), ('예쁜', 2156), ('규제', 2157), ('값', 2158), ('들고', 2159), ('갭투자', 2160), ('상한제', 2161), ('몰리는', 2162), ('올랐', 2163), ('방안', 2164), ('취소', 2165), ('은퇴', 2166), ('해석', 2167), ('개월만에', 2168), ('시황', 2169), ('재정', 2170), ('우원명의', 2171), ('실', 2172), ('최악', 2173), ('기준', 2174), ('조정', 2175), ('러브', 2176), ('소상공인', 2177), ('기대감', 2178), ('천하', 2179), ('지원', 2180), ('계속되는', 2181), ('양적완화', 2182), ('시도', 2183), ('용사', 2184), ('혼란', 2185), ('크로스', 2186), ('었다', 2187), ('사업', 2188), ('발동', 2189), ('다우지수', 2190), ('있을', 2191), ('생긴', 2192), ('기업가정신을말하다', 2193), ('폰', 2194), ('개선', 2195), ('행', 2196), ('아시아', 2197), ('후폭풍', 2198), ('배당주', 2199), ('아이디어', 2200), ('모바일', 2201), ('차이나', 2202), ('민', 2203), ('달리는', 2204), ('무서워', 2205), ('쫓아', 2206), ('보이는', 2207), ('오늘부터', 2208), ('통한', 2209), ('평균', 2210), ('하원', 2211), ('살아남', 2212), ('생존', 2213), ('치명적', 2214), ('법정', 2215), ('날아', 2216), ('열린', 2217), ('국방장관', 2218), ('박항서', 2219), ('택배', 2220), ('시위', 2221), ('병', 2222), ('미래를', 2223), ('설치', 2224), ('조치', 2225), ('매우', 2226), ('주장', 2227), ('하노이', 2228), ('랭킹', 2229), ('웃긴', 2230), ('재밌는', 2231), ('만났습니', 2232), ('해명', 2233), ('신기한', 2234), ('병맛', 2235), ('저도', 2236), ('기다리', 2237), ('시켜', 2238), ('지면', 2239), ('못해', 2240), ('저격수', 2241), ('나타난', 2242), ('인이', 2243), ('월드', 2244), ('압도적', 2245), ('끼리', 2246), ('로드호그', 2247), ('진심', 2248), ('메이코', 2249), ('헤드', 2250), ('데뷔', 2251), ('괴롭', 2252), ('송', 2253), ('지구를', 2254), ('생방송', 2255), ('선생', 2256), ('범인', 2257), ('려는', 2258), ('진실을', 2259), ('하며', 2260), ('귀를', 2261), ('이름을', 2262), ('파괴', 2263), ('청소년', 2264), ('직전', 2265), ('싸워', 2266), ('깨워', 2267), ('잠', 2268), ('사료', 2269), ('명령', 2270), ('탐구생활', 2271), ('봉남', 2272), ('고양', 2273), ('실화냐', 2274), ('버려진', 2275), ('전직', 2276), ('울음소리', 2277), ('뭉치', 2278), ('언', 2279), ('수의대생이', 2280), ('살벌한', 2281), ('이수진', 2282), ('좌측', 2283), ('울분', 2284), ('천안함', 2285), ('한선교', 2286), ('신고', 2287), ('장달영변호사', 2288), ('공작선거', 2289), ('몸통', 2290), ('공산', 2291), ('논평', 2292), ('바다', 2293), ('창당', 2294), ('법적', 2295), ('시킬', 2296), ('유권자', 2297), ('자들에', 2298), ('날치기', 2299), ('고교', 2300), ('연대', 2301), ('해리스', 2302), ('친중', 2303), ('던지', 2304), ('왜곡', 2305), ('좌익', 2306), ('제명', 2307), ('특종', 2308), ('워싱턴', 2309), ('신천지', 2310), ('중계', 2311), ('전체주의', 2312), ('신년사', 2313), ('봅시다', 2314), ('휘청거리는', 2315), ('미북정상회담', 2316), ('정상회담', 2317), ('드래프트', 2318), ('득점', 2319), ('중딩', 2320), ('박명환', 2321), ('최강자', 2322), ('상금', 2323), ('발차기', 2324), ('선발', 2325), ('감독님', 2326), ('리프팅', 2327), ('리버풀', 2328), ('골키퍼', 2329), ('김형범', 2330), ('김민구', 2331), ('걸리', 2332), ('양파장아찌', 2333), ('높이', 2334), ('궁합', 2335), ('강정', 2336), ('검은', 2337), ('꼬들꼬들', 2338), ('소문난', 2339), ('된장찌개', 2340), ('국물맛이', 2341), ('물김치', 2342), ('새송이', 2343), ('잔치', 2344), ('스팸', 2345), ('일품', 2346), ('에너지', 2347), ('할수', 2348), ('칼칼', 2349), ('편지', 2350), ('수의', 2351), ('생애', 2352), ('브이로그', 2353), ('월의', 2354), ('기적', 2355), ('릴레이', 2356), ('캘리그라피', 2357), ('계절', 2358), ('스트레스', 2359), ('파김치', 2360), ('죄인', 2361), ('맛나게', 2362), ('걸어', 2363), ('촉진', 2364), ('정확한', 2365), ('비율로', 2366), ('한번에', 2367), ('삶는법', 2368), ('비빔밥', 2369), ('튀기는', 2370), ('비빔국수', 2371), ('없고', 2372), ('챙기', 2373), ('살려서', 2374), ('김동현', 2375), ('토', 2376), ('굴', 2377), ('올리는', 2378), ('극한', 2379), ('리틀', 2380), ('달달', 2381), ('스파', 2382), ('올리', 2383), ('교실', 2384), ('창의', 2385), ('봄이', 2386), ('뭘', 2387), ('먹어야', 2388), ('소스로', 2389), ('초기', 2390), ('자세', 2391), ('이름', 2392), ('한식자격증', 2393), ('먹어보', 2394), ('져', 2395), ('아침', 2396), ('꿀조합', 2397), ('뒹굴', 2398), ('어디서', 2399), ('볼까', 2400), ('녀석', 2401), ('땐', 2402), ('지켜', 2403), ('이면', 2404), ('먹으', 2405), ('ㅜ', 2406), ('회원', 2407), ('삼시세끼', 2408), ('넌', 2409), ('보았', 2410), ('몰려', 2411), ('헤어', 2412), ('달', 2413), ('붕어', 2414), ('현대차', 2415), ('풍선', 2416), ('조언', 2417), ('최근', 2418), ('판단', 2419), ('정부가', 2420), ('진실은', 2421), ('분양', 2422), ('변', 2423), ('처', 2424), ('대출', 2425), ('라도', 2426), ('한다고', 2427), ('나면', 2428), ('보인다', 2429), ('부모님', 2430), ('진출', 2431), ('직장인', 2432), ('투입', 2433), ('월가', 2434), ('잡기', 2435), ('전망과', 2436), ('악화', 2437), ('실물', 2438), ('강영현의', 2439), ('뒤흔든', 2440), ('대는', 2441), ('신형', 2442), ('코스닥', 2443), ('활약', 2444), ('증가', 2445), ('맞으면', 2446), ('착수', 2447), ('플랫폼', 2448), ('흐름', 2449), ('자금', 2450), ('디스', 2451), ('체결', 2452), ('양', 2453), ('전략적', 2454), ('상품', 2455), ('주요', 2456), ('졌다', 2457), ('부진', 2458), ('업계', 2459), ('민생', 2460), ('차전지', 2461), ('고공', 2462), ('어디로', 2463), ('장비', 2464), ('동결', 2465), ('원한다', 2466), ('지배', 2467), ('나타나', 2468), ('인들의', 2469), ('물결', 2470), ('모건', 2471), ('발생', 2472), ('학원', 2473), ('스크린', 2474), ('세기', 2475), ('가진', 2476), ('인사이', 2477), ('꿈꾸', 2478), ('커지는', 2479), ('빠졌', 2480), ('건물', 2481), ('이동', 2482), ('자화자찬', 2483), ('응징', 2484), ('밀어', 2485), ('홍', 2486), ('가나', 2487), ('냉전', 2488), ('울어', 2489), ('유저가', 2490), ('사드', 2491), ('홍보', 2492), ('신캐', 2493), ('워크샵', 2494), ('습니', 2495), ('부끄럽', 2496), ('어그로', 2497), ('치열한', 2498), ('해체', 2499), ('연예인', 2500), ('죽어', 2501), ('죽는', 2502), ('토르비욘', 2503), ('컨셉', 2504), ('홍대', 2505), ('쓰고', 2506), ('악플', 2507), ('귀엽', 2508), ('유일한', 2509), ('서로', 2510), ('풍원이', 2511), ('나눔', 2512), ('싫다', 2513), ('액션', 2514), ('갓', 2515), ('다녀', 2516), ('지킨다', 2517), ('웃음', 2518), ('상태', 2519), ('열', 2520), ('두근두근', 2521), ('최신', 2522), ('길에서', 2523), ('퀴즈', 2524), ('가고', 2525), ('노는', 2526), ('작품', 2527), ('도전하는', 2528), ('놈들', 2529), ('고딩들', 2530), ('깨우는', 2531), ('걸렸다', 2532), ('고등학교', 2533), ('특수', 2534), ('되었는가', 2535), ('목욕시키', 2536), ('미스터', 2537), ('마사지', 2538), ('그루밍', 2539), ('놀아', 2540), ('모래', 2541), ('라방', 2542), ('맞을', 2543), ('이백이', 2544), ('쓰다듬', 2545), ('필살', 2546), ('레슬링', 2547), ('꼬물', 2548), ('강하다', 2549), ('항의', 2550), ('몸무게', 2551), ('노루의', 2552), ('연습', 2553), ('지키는', 2554), ('곰이탱이여우', 2555), ('무능', 2556), ('버닝썬', 2557), ('이고', 2558), ('한일전', 2559), ('임명', 2560), ('난리났다', 2561), ('정의당', 2562), ('기본', 2563), ('태영호', 2564), ('박주현', 2565), ('났다', 2566), ('김진태의원', 2567), ('단체', 2568), ('유승민과', 2569), ('닮은', 2570), ('이승만대통령', 2571), ('공소장', 2572), ('손학규', 2573), ('김경수', 2574), ('참석', 2575), ('인들', 2576), ('무기한', 2577), ('합시다', 2578), ('기생충들', 2579), ('이겼다', 2580), ('한미', 2581), ('철야', 2582), ('결전의', 2583), ('철저', 2584), ('후배', 2585), ('정당', 2586), ('때린다', 2587), ('국정원', 2588), ('역사교과서', 2589), ('선대위원장', 2590), ('인천', 2591), ('건국', 2592), ('중거리', 2593), ('뽑아야', 2594), ('핵과', 2595), ('핵무기', 2596), ('무너진다', 2597), ('중거리미사일', 2598), ('더비', 2599), ('아마추어', 2600), ('박살내', 2601), ('생방', 2602), ('고수들', 2603), ('결승', 2604), ('보여드림', 2605), ('톰톰', 2606), ('강속구', 2607), ('스피드킹', 2608), ('투구', 2609), ('통증', 2610), ('슈팅', 2611), ('ㅣ김병지', 2612), ('셋째주', 2613), ('프리스타일', 2614), ('전권', 2615), ('근손실', 2616), ('앞치마', 2617), ('민들레', 2618), ('느타리', 2619), ('창문', 2620), ('끓여', 2621), ('아들', 2622), ('멋진', 2623), ('직', 2624), ('새우젓', 2625), ('살살녹', 2626), ('인절미', 2627), ('확실한', 2628), ('조합', 2629), ('훌륭', 2630), ('풍부', 2631), ('중년의', 2632), ('풀리', 2633), ('맛깔나', 2634), ('키우는', 2635), ('노화방지', 2636), ('살아있는', 2637), ('봄날', 2638), ('기름', 2639), ('진미채', 2640), ('귀한', 2641), ('읽어', 2642), ('근사', 2643), ('마늘장아찌', 2644), ('숙주', 2645), ('이렇게하', 2646), ('었어요', 2647), ('냉국', 2648), ('맛과', 2649), ('따뜻', 2650), ('촉촉하', 2651), ('없어요', 2652), ('빠르게', 2653), ('오이소박이', 2654), ('미세먼지', 2655), ('손님', 2656), ('기분', 2657), ('아삭하게', 2658), ('국물이', 2659), ('거뜬', 2660), ('쓴맛', 2661), ('빼는', 2662), ('아삭함', 2663), ('느껴보세요', 2664), ('대파', 2665), ('구수하고', 2666), ('충분', 2667), ('따뜻한', 2668), ('손이가', 2669), ('폭팔', 2670), ('한끼', 2671), ('었습니다', 2672), ('손이', 2673), ('고소하게', 2674), ('후원', 2675), ('있게', 2676), ('연어', 2677), ('버거', 2678), ('인기', 2679), ('대전', 2680), ('도시락', 2681), ('제자', 2682), ('한식자격증실기', 2683), ('나만의', 2684), ('키워', 2685), ('먹은', 2686), ('착각', 2687), ('풀', 2688), ('또다', 2689), ('보너스', 2690), ('서는', 2691), ('이번주', 2692), ('귀', 2693), ('챙겨', 2694), ('시리즈', 2695), ('물러', 2696), ('끝날', 2697), ('않아', 2698), ('빠지면', 2699), ('건조기', 2700), ('명절에', 2701), ('브', 2702), ('인은', 2703), ('이달의', 2704), ('목', 2705), ('말고', 2706), ('뭐든', 2707), ('뚝배기', 2708), ('숙', 2709), ('미안해', 2710), ('복숭아', 2711), ('찍어', 2712), ('일주일', 2713), ('저를', 2714), ('레알', 2715), ('따로', 2716), ('수는', 2717), ('지방', 2718), ('낙찰', 2719), ('상가', 2720), ('운명은', 2721), ('지하철', 2722), ('중요', 2723), ('때가', 2724), ('공무원', 2725), ('찍었', 2726), ('결정한다', 2727), ('질까', 2728), ('재밌', 2729), ('는가', 2730), ('밍', 2731), ('불가피', 2732), ('힘내라', 2733), ('확보', 2734), ('수혜주', 2735), ('마감', 2736), ('향방은', 2737), ('이희권의', 2738), ('사냥', 2739), ('상한가', 2740), ('셀트리온', 2741), ('이기택의', 2742), ('강철', 2743), ('진정', 2744), ('재난지원금', 2745), ('매입', 2746), ('터널', 2747), ('역전', 2748), ('휴지', 2749), ('성장률', 2750), ('에선', 2751), ('벗어', 2752), ('심화', 2753), ('서비스', 2754), ('증거', 2755), ('잡는다', 2756), ('폭등', 2757), ('만큼', 2758), ('통화스와프', 2759), ('사라진', 2760), ('외환', 2761), ('나올까', 2762), ('지지선', 2763), ('빅', 2764), ('비상사태', 2765), ('선포', 2766), ('곳이', 2767), ('제한', 2768), ('주간', 2769), ('발작', 2770), ('동시', 2771), ('공략', 2772), ('공장', 2773), ('정직한', 2774), ('해법은', 2775), ('반전', 2776), ('절반', 2777), ('가격', 2778), ('선정', 2779), ('매출', 2780), ('심', 2781), ('워크', 2782), ('친해', 2783), ('노', 2784), ('벌써', 2785), ('당선', 2786), ('나만', 2787), ('점검', 2788), ('키보드', 2789), ('진화', 2790), ('갈까', 2791), ('드래', 2792), ('롯데', 2793), ('기록', 2794), ('억달러', 2795), ('시그널', 2796), ('리스크', 2797), ('극', 2798), ('옵션', 2799), ('순위', 2800), ('이는', 2801), ('재선', 2802), ('위험하다', 2803), ('키워드', 2804), ('없었다', 2805), ('빠진다', 2806), ('임박', 2807), ('퇴출', 2808), ('길에', 2809), ('년생', 2810), ('천만', 2811), ('얻어', 2812), ('심각한', 2813), ('년의', 2814), ('루미', 2815), ('골든', 2816), ('죽을', 2817), ('속여', 2818), ('힐러', 2819), ('개꿀잼', 2820), ('딜러', 2821), ('최초로', 2822), ('정신나간', 2823), ('시뮬레이', 2824), ('만명을', 2825), ('카트라이더', 2826), ('회전', 2827), ('윈스턴', 2828), ('써봤습니', 2829), ('인정한', 2830), ('뭐가', 2831), ('걸까', 2832), ('물어보', 2833), ('답답', 2834), ('합니', 2835), ('별점', 2836), ('누군가', 2837), ('위험성', 2838), ('재미있는', 2839), ('털어', 2840), ('전설', 2841), ('실력이', 2842), ('팀이', 2843), ('암살', 2844), ('헬기', 2845), ('점프', 2846), ('나이', 2847), ('낚시', 2848), ('인가요', 2849), ('한판', 2850), ('가즈아', 2851), ('취하', 2852), ('맞추기', 2853), ('기지', 2854), ('감동주의', 2855), ('석', 2856), ('중요성', 2857), ('드라마', 2858), ('답변', 2859), ('패러디', 2860), ('고통', 2861), ('환영', 2862), ('만나', 2863), ('자기가', 2864), ('철학', 2865), ('사람에게', 2866), ('재판', 2867), ('손가락을', 2868), ('목숨을', 2869), ('깨부', 2870), ('같아', 2871), ('밥을', 2872), ('하러', 2873), ('어벤저스', 2874), ('하루종일', 2875), ('짜증', 2876), ('씹어먹', 2877), ('환장', 2878), ('스트레인지', 2879), ('박살내는', 2880), ('태어나', 2881), ('최소', 2882), ('클래스', 2883), ('백', 2884), ('남긴', 2885), ('거대', 2886), ('할아버지', 2887), ('타노스', 2888), ('과의', 2889), ('타는', 2890), ('죽은', 2891), ('생각하는', 2892), ('흑곰', 2893), ('칭얼', 2894), ('놀러', 2895), ('코코', 2896), ('점돌', 2897), ('사이에', 2898), ('쪼꼬미', 2899), ('발톱깎기', 2900), ('협찬', 2901), ('잠든', 2902), ('난다', 2903), ('하악질', 2904), ('겁', 2905), ('질투', 2906), ('시키는', 2907), ('수의학과', 2908), ('강아', 2909), ('보더콜리', 2910), ('근황', 2911), ('일요일', 2912), ('김기수', 2913), ('비판하', 2914), ('여사', 2915), ('김태우수사관', 2916), ('소굴', 2917), ('명연설', 2918), ('고발한', 2919), ('화이팅', 2920), ('땜에', 2921), ('조희연', 2922), ('수사하라', 2923), ('이만희', 2924), ('수준이', 2925), ('창', 2926), ('김진태', 2927), ('일침', 2928), ('낙선', 2929), ('엉망', 2930), ('법무부', 2931), ('공정', 2932), ('생중계', 2933), ('영입', 2934), ('초긴장', 2935), ('기소', 2936), ('홍보물', 2937), ('국사', 2938), ('세력에', 2939), ('드루킹', 2940), ('일가', 2941), ('이명박', 2942), ('옥중', 2943), ('물러나', 2944), ('사즉생', 2945), ('막아내', 2946), ('체포', 2947), ('조작', 2948), ('치명타', 2949), ('강제북송', 2950), ('전라도', 2951), ('투쟁', 2952), ('평택', 2953), ('나이키', 2954), ('신혜식', 2955), ('명재권', 2956), ('지지율', 2957), ('균열', 2958), ('사퇴하라', 2959), ('주사파', 2960), ('벼랑', 2961), ('김형오', 2962), ('숙청', 2963), ('과학', 2964), ('삼일절', 2965), ('김일성', 2966), ('파워', 2967), ('굵은', 2968), ('어디인가', 2969), ('핵미사일', 2970), ('유엔', 2971), ('표쏭앳홈', 2972), ('앳홈', 2973), ('정강정책연설', 2974), ('불평등', 2975), ('내몰리는', 2976), ('무너질', 2977), ('방안은', 2978), ('선제공격', 2979), ('세상읽기', 2980), ('민족공조', 2981), ('보장', 2982), ('높다', 2983), ('폼', 2984), ('올스타', 2985), ('대표팀', 2986), ('코리안싸이코', 2987), ('스피드건', 2988), ('양준혁', 2989), ('초딩들', 2990), ('초딩격파', 2991), ('무리뉴', 2992), ('런던', 2993), ('혼축', 2994), ('체지방', 2995), ('알타리', 2996), ('몸에', 2997), ('자랑스러운', 2998), ('살고', 2999), ('삶', 3000), ('부추', 3001), ('부추전', 3002), ('정원', 3003), ('셀프', 3004), ('인테리어', 3005), ('손맛', 3006), ('치매예방', 3007), ('쉽게만드는', 3008), ('꿀마늘', 3009), ('술안주', 3010), ('새송이버섯', 3011), ('식감', 3012), ('구수한', 3013), ('탱글탱글', 3014), ('무나물', 3015), ('황태채', 3016), ('만두', 3017), ('짜는', 3018), ('전골', 3019), ('없어도', 3020), ('사는', 3021), ('갓김치', 3022), ('손질부터', 3023), ('담백하', 3024), ('감기예방', 3025), ('죽', 3026), ('굽는', 3027), ('부드럽게', 3028), ('러운', 3029), ('빈혈', 3030), ('옷', 3031), ('유트브', 3032), ('오디', 3033), ('미역', 3034), ('절이지', 3035), ('닦는', 3036), ('추첨', 3037), ('키운', 3038), ('절', 3039), ('하늘', 3040), ('표고버섯', 3041), ('개의', 3042), ('눈에', 3043), ('깨끗', 3044), ('오랫동안', 3045), ('고사리', 3046), ('김치찜', 3047), ('볶아', 3048), ('부추김치', 3049), ('쌉싸름', 3050), ('향긋하', 3051), ('골뱅이', 3052), ('아작아작', 3053), ('하니', 3054), ('한방에', 3055), ('냉동', 3056), ('생선', 3057), ('평범한', 3058), ('한달', 3059), ('기계', 3060), ('오래', 3061), ('잡은', 3062), ('완벽', 3063), ('뜨끈', 3064), ('상큼하', 3065), ('촉촉', 3066), ('담백', 3067), ('골목', 3068), ('콘', 3069), ('롤', 3070), ('바지락', 3071), ('살리고', 3072), ('업그레이드', 3073), ('고소', 3074), ('입에', 3075), ('먹었던', 3076), ('직업', 3077), ('사운드', 3078), ('몸을', 3079), ('가성비', 3080), ('갑', 3081), ('대왕', 3082), ('첫번째', 3083), ('내기', 3084), ('푹', 3085), ('뭐하', 3086), ('어려운', 3087), ('흑', 3088), ('루스', 3089), ('잼', 3090), ('불타는', 3091), ('맞은', 3092), ('단호', 3093), ('만나다', 3094), ('공부', 3095), ('수능', 3096), ('중동', 3097), ('바', 3098), ('뱀', 3099), ('저격', 3100), ('암', 3101), ('넘어가', 3102), ('늘어', 3103), ('인줄', 3104), ('이것만', 3105), ('있지', 3106), ('불가', 3107), ('힘이', 3108), ('이해', 3109), ('되지', 3110), ('경기침체', 3111), ('전세', 3112), ('무료', 3113), ('아닌가', 3114), ('벌', 3115), ('짧은', 3116), ('분양가', 3117), ('빌려', 3118), ('중개사', 3119), ('폭', 3120), ('해결책은', 3121), ('세금', 3122), ('집이', 3123), ('망친', 3124), ('경매와', 3125), ('멀리', 3126), ('멘탈', 3127), ('상식', 3128), ('세상에', 3129), ('천', 3130), ('출근', 3131), ('수익', 3132), ('강세', 3133), ('대지수', 3134), ('비트', 3135), ('수혜', 3136), ('풀어', 3137), ('침체', 3138), ('소부장', 3139), ('사수', 3140), ('따른', 3141), ('고용', 3142), ('상향', 3143), ('안되면', 3144), ('불구', 3145), ('항공업', 3146), ('역습', 3147), ('실패한', 3148), ('제조업', 3149), ('않으', 3150), ('스웨덴', 3151), ('이라', 3152), ('아시아나', 3153), ('범', 3154), ('터졌다', 3155), ('초읽기', 3156), ('주도', 3157), ('인프라', 3158), ('갇혔', 3159), ('연장', 3160), ('막힌', 3161), ('진단키트', 3162), ('끝나지', 3163), ('제약', 3164), ('부양', 3165), ('아프다', 3166), ('데드', 3167), ('캣', 3168), ('찍고', 3169), ('의견', 3170), ('부채', 3171), ('돌입', 3172), ('하루만에', 3173), ('호텔', 3174), ('최창윤의', 3175), ('안전자산', 3176), ('백악관', 3177), ('국경', 3178), ('무너지', 3179), ('치닫는', 3180), ('나오면', 3181), ('먼', 3182), ('수도', 3183), ('가능한가', 3184), ('매치', 3185), ('퍼펙트', 3186), ('혁신성장코리아', 3187), ('신호탄', 3188), ('조짐', 3189), ('복수', 3190), ('파월', 3191), ('게릴라', 3192), ('쓰나미', 3193), ('설정', 3194), ('집어', 3195), ('주도주', 3196), ('동반', 3197), ('위안화', 3198), ('웃는', 3199), ('일파만파', 3200), ('배터리', 3201), ('장사', 3202), ('아카데미', 3203), ('신영목의', 3204), ('쓴', 3205), ('탈', 3206), ('많아', 3207), ('반격', 3208), ('거침', 3209), ('브렉시트', 3210), ('속마음', 3211), ('냈다', 3212), ('좌우', 3213), ('로봇', 3214), ('품', 3215), ('개혁', 3216), ('서명', 3217), ('본다', 3218), ('핫', 3219), ('사고', 3220), ('일등공신', 3221), ('제외', 3222), ('청문회', 3223), ('극과', 3224), ('학', 3225), ('휩쓸', 3226), ('맨', 3227), ('보호', 3228), ('비난', 3229), ('주민', 3230), ('전문가', 3231), ('지시', 3232), ('전원', 3233), ('제기', 3234), ('려', 3235), ('판정', 3236), ('사실상', 3237), ('디즈니', 3238), ('뺀', 3239), ('철폐', 3240), ('소식', 3241), ('술', 3242), ('싫은', 3243), ('한번만', 3244), ('심리전', 3245), ('친한동생', 3246), ('걸렸', 3247), ('마우스', 3248), ('무려', 3249), ('아프리카', 3250), ('운영자', 3251), ('들도', 3252), ('인성', 3253), ('봐주세요', 3254), ('피시방을', 3255), ('감옥에', 3256), ('감옥', 3257), ('개발자', 3258), ('몰랐던', 3259), ('납치', 3260), ('데스매', 3261), ('에임', 3262), ('멸망', 3263), ('열받', 3264), ('녹화', 3265), ('피해자', 3266), ('전리품', 3267), ('모드', 3268), ('그마', 3269), ('미쳤다', 3270), ('모이라', 3271), ('이야', 3272), ('유저들', 3273), ('새로', 3274), ('팀보에서', 3275), ('브리기테', 3276), ('고인물', 3277), ('빠대', 3278), ('스포츠', 3279), ('무시', 3280), ('포기한', 3281), ('발견', 3282), ('태어나서', 3283), ('로운', 3284), ('자고', 3285), ('오토', 3286), ('휴먼', 3287), ('알려드립니다', 3288), ('개빡친', 3289), ('군인', 3290), ('닥터', 3291), ('복수를', 3292), ('스트리머', 3293), ('홍개', 3294), ('저의', 3295), ('찾았', 3296), ('브리핑', 3297), ('너의', 3298), ('메세지', 3299), ('의문의', 3300), ('쟁탈전', 3301), ('평화로운', 3302), ('숲', 3303), ('절망', 3304), ('방금', 3305), ('무한', 3306), ('이겨내', 3307), ('그거', 3308), ('데스', 3309), ('자장면', 3310), ('비교해', 3311), ('들이랑', 3312), ('참기', 3313), ('어르신들', 3314), ('지옥에서', 3315), ('손을', 3316), ('온갖', 3317), ('전화', 3318), ('꼰대', 3319), ('보내는', 3320), ('아빠가', 3321), ('물을', 3322), ('끊임없이', 3323), ('연봉', 3324), ('도와주', 3325), ('박살내기', 3326), ('들아', 3327), ('주먹', 3328), ('포', 3329), ('목숨걸고', 3330), ('날이', 3331), ('에만', 3332), ('화가', 3333), ('공격하', 3334), ('기쁨이', 3335), ('호랑이', 3336), ('물고기', 3337), ('소년', 3338), ('정면', 3339), ('막지', 3340), ('여전사', 3341), ('떡밥과', 3342), ('팬서', 3343), ('양아치', 3344), ('망치', 3345), ('까꿍', 3346), ('적응', 3347), ('다리를', 3348), ('사진', 3349), ('화난', 3350), ('출동', 3351), ('버젼', 3352), ('유일', 3353), ('엉덩이', 3354), ('리얼사운드', 3355), ('러비', 3356), ('분홍방', 3357), ('도리', 3358), ('소이', 3359), ('뿌꾸', 3360), ('뚜렷', 3361), ('심쿵', 3362), ('쓰러', 3363), ('남매', 3364), ('듣고', 3365), ('신경', 3366), ('서다', 3367), ('다리', 3368), ('등을', 3369), ('하던', 3370), ('붙어', 3371), ('루미의', 3372), ('뽑아', 3373), ('믿기', 3374), ('무는', 3375), ('미로의', 3376), ('목을', 3377), ('강의시간에', 3378), ('숨어있', 3379), ('침대', 3380), ('깜놀', 3381), ('국회의', 3382), ('울컥', 3383), ('급당황', 3384), ('청야전술', 3385), ('보수의', 3386), ('반찬가게', 3387), ('돌발인터뷰', 3388), ('대구경북', 3389), ('낸다', 3390), ('꼼짝', 3391), ('김병', 3392), ('민경욱', 3393), ('만났다', 3394), ('무슨일이', 3395), ('위원장', 3396), ('막말', 3397), ('박능후', 3398), ('깨어나라', 3399), ('이병태', 3400), ('부끄러운', 3401), ('사회주의', 3402), ('여론조작', 3403), ('지오영', 3404), ('노란리본', 3405), ('박대통령', 3406), ('박대출의원', 3407), ('굴복', 3408), ('종로경찰서', 3409), ('봉사', 3410), ('권한', 3411), ('무너뜨리', 3412), ('다짐', 3413), ('탈당', 3414), ('아스팔트', 3415), ('화랑', 3416), ('출마', 3417), ('죄', 3418), ('우파분열', 3419), ('석동현', 3420), ('한미동맹강화', 3421), ('어르신', 3422), ('여론조사', 3423), ('직권남용', 3424), ('대체', 3425), ('지켜내', 3426), ('농단', 3427), ('원내대표', 3428), ('저지', 3429), ('진상규명', 3430), ('국정조사', 3431), ('워터게이트', 3432), ('나섰다', 3433), ('인시위', 3434), ('유은혜', 3435), ('공익제보', 3436), ('종교', 3437), ('형들', 3438), ('탈북자', 3439), ('부를', 3440), ('제보', 3441), ('우리공화당', 3442), ('정보', 3443), ('충청', 3444), ('방역', 3445), ('연합', 3446), ('장기표', 3447), ('비자금', 3448), ('휴식', 3449), ('공항', 3450), ('기타리스트', 3451), ('안형수', 3452), ('트리오', 3453), ('비례대표', 3454), ('쓰', 3455), ('싹다봅시다', 3456), ('연승', 3457), ('분할', 3458), ('현실화되', 3459), ('자유민주주의체제', 3460), ('장기화', 3461), ('배워야', 3462), ('극비', 3463), ('홉스', 3464), ('통과시키다', 3465), ('감축', 3466), ('구분짓는', 3467), ('덩크', 3468), ('농', 3469), ('정확도', 3470), ('점슛', 3471), ('슛을', 3472), ('보디빌더', 3473), ('케빈박', 3474), ('용병', 3475), ('커브', 3476), ('인기순', 3477), ('하체', 3478), ('피파', 3479), ('포병지', 3480), ('챔스', 3481), ('어시', 3482), ('감스트', 3483), ('뱀드리블', 3484), ('교정', 3485), ('팔뚝', 3486), ('삼두', 3487), ('감기', 3488), ('머위', 3489), ('이겨', 3490), ('넣었더니', 3491), ('봄향기', 3492), ('가득한', 3493), ('생활', 3494), ('전원생활', 3495), ('남녀노소', 3496), ('단백', 3497), ('초보자도', 3498), ('담그', 3499), ('칼슘', 3500), ('안주', 3501), ('튼튼', 3502), ('종료', 3503), ('조리법', 3504), ('변경', 3505), ('코다리', 3506), ('부각', 3507), ('삶의', 3508), ('만점', 3509), ('궁', 3510), ('오징어채', 3511), ('바삭하고', 3512), ('나박김치', 3513), ('해지는', 3514), ('광복절', 3515), ('부르는', 3516), ('미니', 3517), ('얼큰하고', 3518), ('건새우', 3519), ('오리', 3520), ('비오는날', 3521), ('만능', 3522), ('짜지않', 3523), ('긍정', 3524), ('먹을수', 3525), ('간편하', 3526), ('김치전', 3527), ('동태전', 3528), ('나에게', 3529), ('돈주', 3530), ('체중', 3531), ('해소', 3532), ('황', 3533), ('식감이', 3534), ('쏙쏙', 3535), ('알려드', 3536), ('전통', 3537), ('노력', 3538), ('쌀', 3539), ('함과', 3540), ('자르는', 3541), ('지나도', 3542), ('아작하게', 3543), ('자르기', 3544), ('봄나물', 3545), ('늘리', 3546), ('떡국떡', 3547), ('나지', 3548), ('찰떡', 3549), ('시간이', 3550), ('고소함', 3551), ('살린', 3552), ('새콤한', 3553), ('포트', 3554), ('단짠의', 3555), ('냉장고', 3556), ('극찬', 3557), ('풍미를', 3558), ('미트볼', 3559), ('맛보장', 3560), ('브로콜리', 3561), ('넣어보', 3562), ('고구마줄기', 3563), ('싱', 3564), ('옵니다', 3565), ('네요', 3566), ('꼬마', 3567), ('주말에', 3568), ('사랑이', 3569), ('담긴', 3570), ('꽉찬', 3571), ('다는', 3572), ('구요', 3573), ('고든램지', 3574), ('아이들이', 3575), ('팟', 3576), ('목살', 3577), ('별다', 3578), ('놀라', 3579), ('은근', 3580), ('극복하', 3581), ('막창', 3582), ('곱창', 3583), ('월요일', 3584), ('길들이', 3585), ('낳은', 3586), ('중에', 3587), ('와의', 3588), ('이색', 3589), ('맞이', 3590), ('냉장고에', 3591), ('짜고', 3592), ('대처', 3593), ('오븐', 3594), ('싶을', 3595), ('지난', 3596), ('당면', 3597), ('흔한', 3598), ('어제', 3599), ('토요일', 3600), ('동남아', 3601), ('화끈한', 3602), ('목에', 3603), ('제작', 3604), ('놉', 3605), ('풋고추공모전', 3606), ('만개의', 3607), ('안심하', 3608), ('고생', 3609), ('때론', 3610), ('암시', 3611), ('수가', 3612), ('내고', 3613), ('화려한', 3614), ('방에', 3615), ('현직', 3616), ('사면', 3617), ('살펴보', 3618), ('덕분에', 3619), ('부활', 3620), ('있나요', 3621), ('일을', 3622), ('사야', 3623), ('주택', 3624), ('명도', 3625), ('정복', 3626), ('등기부', 3627), ('등본', 3628), ('까요', 3629), ('이해하', 3630), ('아파트에', 3631), ('살까', 3632), ('직장', 3633), ('사례', 3634), ('자의', 3635), ('살지', 3636), ('다주택자', 3637), ('과거와', 3638), ('인생을', 3639), ('매각', 3640), ('절차', 3641), ('경매', 3642), ('운영', 3643), ('당하지', 3644), ('재테크', 3645), ('늪에', 3646), ('공급', 3647), ('말씀', 3648), ('생기', 3649), ('느낀', 3650), ('오른', 3651), ('인상', 3652), ('무소의', 3653), ('뿔처럼', 3654), ('뜬다', 3655), ('찾을', 3656), ('샌더스', 3657), ('대형', 3658), ('경선', 3659), ('히든마켓', 3660), ('아침에', 3661), ('주시', 3662), ('향해', 3663), ('감산', 3664), ('빛', 3665), ('잔인한', 3666), ('실업', 3667), ('대란', 3668), ('하이닉스', 3669), ('해라', 3670), ('국제유가', 3671), ('외', 3672), ('사태로', 3673), ('논쟁', 3674), ('하버드', 3675), ('각국', 3676), ('금값', 3677), ('이번에도', 3678), ('일제히', 3679), ('다우존스', 3680), ('집단', 3681), ('가속화', 3682), ('시사', 3683), ('놓은', 3684), ('세대', 3685), ('곳곳', 3686), ('가치', 3687), ('신라젠', 3688), ('뜨는', 3689), ('공매도', 3690), ('씨젠', 3691), ('저점', 3692), ('확실하', 3693), ('년만', 3694), ('무효', 3695), ('집착', 3696), ('상반기', 3697), ('하창봉의', 3698), ('장에', 3699), ('서킷', 3700), ('날개', 3701), ('해법', 3702), ('불확실성', 3703), ('하네', 3704), ('롤러', 3705), ('오지', 3706), ('총체적', 3707), ('도입', 3708), ('휘청', 3709), ('노선', 3710), ('대응전략은', 3711), ('시작인가', 3712), ('재개', 3713), ('제안', 3714), ('판데믹', 3715), ('보이지', 3716), ('힘내', 3717), ('기업가정신을', 3718), ('어렵다', 3719), ('도쿄', 3720), ('시작이다', 3721), ('태양광', 3722), ('배신', 3723), ('진입', 3724), ('뚫렸다', 3725), ('나비', 3726), ('깃발', 3727), ('솔', 3728), ('대응은', 3729), ('라임사태', 3730), ('익스', 3731), ('때마다', 3732), ('만나고', 3733), ('축', 3734), ('핫한', 3735), ('증권가', 3736), ('골드', 3737), ('불똥', 3738), ('전문', 3739), ('제품', 3740), ('때는', 3741), ('연일', 3742), ('시점에서', 3743), ('전염병', 3744), ('중소기업', 3745), ('기회를', 3746), ('파장', 3747), ('떴다', 3748), ('분야', 3749), ('스마트폰', 3750), ('폴더', 3751), ('선고', 3752), ('빠르', 3753), ('출격', 3754), ('총출동', 3755), ('노조', 3756), ('망한', 3757), ('끝났다', 3758), ('아람코', 3759), ('정세균', 3760), ('발목', 3761), ('촉발', 3762), ('추락', 3763), ('내년에도', 3764), ('블', 3765), ('든지', 3766), ('분쟁', 3767), ('총리', 3768), ('자들을', 3769), ('떳다', 3770), ('사랑한', 3771), ('선방', 3772), ('갇힌', 3773), ('커진', 3774), ('주고', 3775), ('줘', 3776), ('도발에', 3777), ('앞두고', 3778), ('육성', 3779), ('휴대폰', 3780), ('파는', 3781), ('구멍', 3782), ('싸운다', 3783), ('지나가는', 3784), ('나가', 3785), ('잡았다', 3786), ('희생', 3787), ('해임', 3788), ('점령', 3789), ('소비자', 3790), ('자신감', 3791), ('명을', 3792), ('숨바꼭', 3793), ('다고', 3794), ('있습니', 3795), ('되었습니', 3796), ('되어버', 3797), ('이사', 3798), ('킬', 3799), ('보여드리', 3800), ('유즈', 3801), ('싸', 3802), ('귀신이', 3803), ('벌어지는', 3804), ('빠른대전', 3805), ('탱커', 3806), ('배그하', 3807), ('초만에', 3808), ('마피아', 3809), ('맨날', 3810), ('바스티온', 3811), ('개구리', 3812), ('인성질을', 3813), ('숨겨', 3814), ('아닙니다', 3815), ('버프', 3816), ('들만', 3817), ('기적의', 3818), ('충', 3819), ('소리지르', 3820), ('놀라게', 3821), ('솔저', 3822), ('마인크래프트', 3823), ('비비기', 3824), ('몸이', 3825), ('젠야타', 3826), ('한조로', 3827), ('레킹볼', 3828), ('게이머', 3829), ('흥미', 3830), ('배우면', 3831), ('세기말', 3832), ('가족을', 3833), ('찍은', 3834), ('압살', 3835), ('덤비', 3836), ('즐거운', 3837), ('않겠습니다', 3838), ('샷', 3839), ('짱', 3840), ('정체는', 3841), ('안산', 3842), ('죽여', 3843), ('꾼', 3844), ('쓸데없', 3845), ('풀버전', 3846), ('스트리', 3847), ('유명', 3848), ('짓', 3849), ('동물의', 3850), ('외계인', 3851), ('손가락', 3852), ('변호', 3853), ('마크', 3854), ('안보이', 3855), ('잔혹', 3856), ('플래시', 3857), ('악령', 3858), ('빙의', 3859), ('그램', 3860), ('건데', 3861), ('버릴', 3862), ('신부', 3863), ('칸', 3864), ('냈습니다', 3865), ('인생이', 3866), ('핵전쟁', 3867), ('거울을', 3868), ('보며', 3869), ('핵인싸', 3870), ('자신의', 3871), ('생겼어요', 3872), ('사랑스러', 3873), ('약속', 3874), ('님이', 3875), ('안에', 3876), ('벌칙', 3877), ('손에', 3878), ('대치', 3879), ('레츠고', 3880), ('악당', 3881), ('비밀이', 3882), ('섯다', 3883), ('고수가', 3884), ('괴생', 3885), ('나와', 3886), ('짐', 3887), ('마음이', 3888), ('던진', 3889), ('폭풍전야', 3890), ('알프스', 3891), ('열어', 3892), ('보낸', 3893), ('어른들', 3894), ('미로', 3895), ('초속', 3896), ('대방출', 3897), ('악마가', 3898), ('움', 3899), ('인간들', 3900), ('토르의', 3901), ('남산의', 3902), ('마동석', 3903), ('실수로', 3904), ('전신', 3905), ('프롬', 3906), ('둘째', 3907), ('헐크', 3908), ('출연', 3909), ('아쿠아맨', 3910), ('아버지', 3911), ('홈커밍', 3912), ('어떨까', 3913), ('털', 3914), ('캣타워', 3915), ('스킨십', 3916), ('대첩', 3917), ('번외', 3918), ('꾸릉이', 3919), ('궁둥짝', 3920), ('트로트', 3921), ('중인', 3922), ('무료나눔', 3923), ('심쿵주의', 3924), ('억지로', 3925), ('앰버', 3926), ('선덕이', 3927), ('바리', 3928), ('피하수액', 3929), ('소이는', 3930), ('뱃살', 3931), ('스케일링', 3932), ('대장정', 3933), ('옹', 3934), ('울면서', 3935), ('시바', 3936), ('있었어요', 3937), ('새벽에', 3938), ('숨어', 3939), ('야이', 3940), ('어부바', 3941), ('직후', 3942), ('입수', 3943), ('자랑', 3944), ('줬어요', 3945), ('주사', 3946), ('몸매', 3947), ('폭주', 3948), ('골골송', 3949), ('응원합니다', 3950), ('뜻밖', 3951), ('뽀시래기', 3952), ('클레', 3953), ('쟁이', 3954), ('선덕이와', 3955), ('꼬물이', 3956), ('누워', 3957), ('꿀잠', 3958), ('착용', 3959), ('말대꾸', 3960), ('시키기', 3961), ('캣닢', 3962), ('안아', 3963), ('어미로', 3964), ('인식', 3965), ('기억할까', 3966), ('애원하는', 3967), ('루미와', 3968), ('무릎에', 3969), ('아무리', 3970), ('애교부리는', 3971), ('만세', 3972), ('뭐라하는지', 3973), ('울며', 3974), ('왔을', 3975), ('타고난', 3976), ('태어난지', 3977), ('목욕하는', 3978), ('깜놀한', 3979), ('중성화', 3980), ('되어야', 3981), ('대화', 3982), ('당황한', 3983), ('팬미팅', 3984), ('편집자', 3985), ('라이브스트리밍', 3986), ('짜파구리', 3987), ('전진하', 3988), ('가자', 3989), ('날린', 3990), ('창원', 3991), ('방치', 3992), ('바른', 3993), ('달리', 3994), ('망국', 3995), ('살린다', 3996), ('좌종들', 3997), ('부들', 3998), ('김태우', 3999), ('반일선동', 4000), ('응답하', 4001), ('김병헌소장', 4002), ('전투력', 4003), ('발사', 4004), ('소득주도성장', 4005), ('레임덕', 4006), ('박결', 4007), ('대반격', 4008), ('떨고있', 4009), ('퍼포먼스', 4010), ('신원식장군', 4011), ('살인죄', 4012), ('울산부정선거', 4013), ('시민의', 4014), ('차고', 4015), ('압수수색', 4016), ('동원', 4017), ('기립박수', 4018), ('법리', 4019), ('한다는', 4020), ('오상종', 4021), ('인재영입', 4022), ('의사들', 4023), ('외침', 4024), ('꼬투리', 4025), ('올바른', 4026), ('김무성', 4027), ('기득권', 4028), ('포착', 4029), ('위원', 4030), ('중대', 4031), ('속보', 4032), ('승리했다', 4033), ('근본', 4034), ('방을', 4035), ('지켜낸', 4036), ('석동현변호사', 4037), ('당이', 4038), ('전락한', 4039), ('상정', 4040), ('당명', 4041), ('민낯', 4042), ('바둑이', 4043), ('대사관', 4044), ('양심', 4045), ('폐지', 4046), ('그날', 4047), ('이라는', 4048), ('명령이다', 4049), ('노동자', 4050), ('인호', 4051), ('망가뜨', 4052), ('아이들을', 4053), ('여성의', 4054), ('성창경', 4055), ('연동형비례', 4056), ('가라', 4057), ('김기춘', 4058), ('입장', 4059), ('전술', 4060), ('송영', 4061), ('딥스', 4062), ('쌩쇼', 4063), ('항쟁', 4064), ('이길까', 4065), ('다음은', 4066), ('끝장내', 4067), ('포기하', 4068), ('정확하게', 4069), ('명예', 4070), ('함박도', 4071), ('경찰대치', 4072), ('육영수', 4073), ('밀려', 4074), ('총장', 4075), ('둘러싼', 4076), ('참여연대', 4077), ('존경', 4078), ('강제', 4079), ('특검실시', 4080), ('존볼턴', 4081), ('싹', 4082), ('숨기', 4083), ('후보자', 4084), ('손혜원', 4085), ('출두', 4086), ('애국텐트', 4087), ('높아', 4088), ('실체', 4089), ('백승', 4090), ('경고하', 4091), ('이적', 4092), ('신원식', 4093), ('앨범', 4094), ('판세', 4095), ('이영훈', 4096), ('박형준의', 4097), ('규정', 4098), ('친박신당', 4099), ('억지', 4100), ('조갑제의', 4101), ('자유통일', 4102), ('오고', 4103), ('탓', 4104), ('부른', 4105), ('닉슨', 4106), ('폐쇄', 4107), ('김명수', 4108), ('주권', 4109), ('현상', 4110), ('신당', 4111), ('최후통첩', 4112), ('쓸어버리', 4113), ('항공모함', 4114), ('루스벨트', 4115), ('당의', 4116), ('대학살', 4117), ('정치합시', 4118), ('공약탈탈', 4119), ('광주편', 4120), ('심장', 4121), ('아나운서', 4122), ('대만해협', 4123), ('마키아벨리', 4124), ('구체적', 4125), ('북', 4126), ('강화해', 4127), ('김평일', 4128), ('패권국가', 4129), ('도발하', 4130), ('강제징용', 4131), ('차이점은', 4132), ('용인', 4133), ('전체주의체제', 4134), ('끝은', 4135), ('종족적', 4136), ('민족주의', 4137), ('답방', 4138), ('우드워드', 4139), ('조주빈', 4140), ('오리온스', 4141), ('올스타전', 4142), ('묵직', 4143), ('킥복', 4144), ('갱스터', 4145), ('니킥', 4146), ('스트리트', 4147), ('닉', 4148), ('공수', 4149), ('사범', 4150), ('쓰러트', 4151), ('평가받는', 4152), ('진시준', 4153), ('위의', 4154), ('대회에', 4155), ('팀의', 4156), ('슬라이더', 4157), ('샵', 4158), ('런치어택', 4159), ('형컴이간다', 4160), ('우즈벡', 4161), ('라보나', 4162), ('전용', 4163), ('쿠티뉴', 4164), ('첫째주', 4165), ('넷째주', 4166), ('골반', 4167), ('라운드숄더', 4168), ('꼭하는', 4169), ('데드리프트', 4170), ('중량', 4171), ('헬창', 4172), ('체지방률', 4173), ('승모근', 4174), ('운이', 4175), ('나물무침', 4176), ('달성', 4177), ('연근전', 4178), ('삶는', 4179), ('두건', 4180), ('의손맛', 4181), ('필터', 4182), ('개운하고', 4183), ('불지', 4184), ('실패하', 4185), ('자세하게', 4186), ('동태탕', 4187), ('사로', 4188), ('미용', 4189), ('석박지', 4190), ('줘요', 4191), ('님들', 4192), ('른', 4193), ('쫀득', 4194), ('동그랑땡', 4195), ('풍경', 4196), ('수박', 4197), ('삶과', 4198), ('이루는', 4199), ('콩자반', 4200), ('냉', 4201), ('전복', 4202), ('조화', 4203), ('소스의', 4204), ('독', 4205), ('풋', 4206), ('양송이', 4207), ('연근조림', 4208), ('말랭이', 4209), ('속을', 4210), ('강추', 4211), ('있고', 4212), ('센스', 4213), ('노트', 4214), ('뼈', 4215), ('이용한', 4216), ('배어', 4217), ('누린내', 4218), ('쏙', 4219), ('톡톡', 4220), ('년이', 4221), ('하얀', 4222), ('담는', 4223), ('본연의', 4224), ('향', 4225), ('말리는', 4226), ('바삭하', 4227), ('덜', 4228), ('햇', 4229), ('함을', 4230), ('이쁘게', 4231), ('링', 4232), ('도넛', 4233), ('여러', 4234), ('미역국', 4235), ('진하게', 4236), ('에요', 4237), ('육포', 4238), ('제거하', 4239), ('마요', 4240), ('어떠신가요', 4241), ('오래가는', 4242), ('감칠', 4243), ('한식', 4244), ('김치가', 4245), ('구수하', 4246), ('수미네', 4247), ('풍미', 4248), ('달고', 4249), ('구운', 4250), ('포레', 4251), ('그라탕', 4252), ('지단', 4253), ('게티', 4254), ('제주', 4255), ('뚝', 4256), ('스튜', 4257), ('미소', 4258), ('위로', 4259), ('육즙', 4260), ('이든', 4261), ('강릉', 4262), ('스토', 4263), ('플레', 4264), ('명란', 4265), ('경악', 4266), ('라떼', 4267), ('자신있', 4268), ('진리', 4269), ('없지', 4270), ('즐기', 4271), ('한입', 4272), ('골라', 4273), ('옷을', 4274), ('행운님', 4275), ('꺼', 4276), ('쟈', 4277), ('졌던', 4278), ('조개', 4279), ('오일', 4280), ('조심', 4281), ('연휴', 4282), ('병아리콩', 4283), ('유산', 4284), ('서도', 4285), ('귀염뽀짝', 4286), ('끄떡', 4287), ('것만', 4288), ('멋', 4289), ('리코타', 4290), ('뜨끈한', 4291), ('팝콘', 4292), ('국산', 4293), ('안되', 4294), ('호불호', 4295), ('빼빼로', 4296), ('듯한', 4297), ('사랑을', 4298), ('겠어요', 4299), ('해진', 4300), ('해피', 4301), ('함부로', 4302), ('가을', 4303), ('버전', 4304), ('봉', 4305), ('없으면', 4306), ('내일', 4307), ('지나가', 4308), ('솜사탕', 4309), ('넘나', 4310), ('끝났', 4311), ('콩', 4312), ('계의', 4313), ('마다', 4314), ('핫하다는', 4315), ('만이', 4316), ('뽑은', 4317), ('원유', 4318), ('체크', 4319), ('인한', 4320), ('지나', 4321), ('경매는', 4322), ('려고', 4323), ('그들의', 4324), ('민간', 4325), ('기사', 4326), ('연봉이', 4327), ('뺏긴', 4328), ('돌려', 4329), ('보유세', 4330), ('모으는', 4331), ('중인데', 4332), ('재테', 4333), ('써의', 4334), ('길이', 4335), ('지켜야', 4336), ('려면', 4337), ('미치는', 4338), ('지식', 4339), ('국정', 4340), ('재미있', 4341), ('자본', 4342), ('신규', 4343), ('시기', 4344), ('트렌드', 4345), ('가세요', 4346), ('생태계', 4347), ('묻고', 4348), ('사우디', 4349), ('치열', 4350), ('넷플릭스', 4351), ('주목할', 4352), ('입성', 4353), ('손실', 4354), ('폴', 4355), ('구간', 4356), ('특공대', 4357), ('뭉칫돈', 4358), ('한은', 4359), ('총력', 4360), ('심층', 4361), ('생생', 4362), ('연금', 4363), ('고용지표', 4364), ('반란', 4365), ('제동', 4366), ('향방', 4367), ('이탈', 4368), ('장중', 4369), ('선도', 4370), ('도피', 4371), ('대응전략', 4372), ('연결', 4373), ('이용하', 4374), ('전면', 4375), ('도미노', 4376), ('촉각', 4377), ('잡았', 4378), ('스톰', 4379), ('짓는', 4380), ('리지', 4381), ('타', 4382), ('관전', 4383), ('무너', 4384), ('성명서', 4385), ('호주', 4386), ('없나', 4387), ('호황', 4388), ('시스템', 4389), ('포비아', 4390), ('커지', 4391), ('수소', 4392), ('위안', 4393), ('직원', 4394), ('자체', 4395), ('공방', 4396), ('주가는', 4397), ('오른다', 4398), ('도장', 4399), ('노동', 4400), ('주총', 4401), ('노사', 4402), ('률', 4403), ('가게', 4404), ('속았다', 4405), ('라임', 4406), ('아시나요', 4407), ('자산', 4408), ('개최', 4409), ('점유율', 4410), ('화학', 4411), ('지고', 4412), ('허용', 4413), ('연출', 4414), ('에이', 4415), ('중소', 4416), ('이재용', 4417), ('진행', 4418), ('남았다', 4419), ('고조', 4420), ('섰다', 4421), ('결단', 4422), ('섬', 4423), ('껀터', 4424), ('딩', 4425), ('대형주', 4426), ('소비주', 4427), ('비둘기', 4428), ('감염', 4429), ('곤', 4430), ('모인', 4431), ('시선', 4432), ('철거', 4433), ('년전', 4434), ('불매', 4435), ('나선다', 4436), ('유입', 4437), ('여당', 4438), ('너도', 4439), ('격화', 4440), ('지도', 4441), ('메가톤급', 4442), ('흑인', 4443), ('대세', 4444), ('낮은', 4445), ('수입', 4446), ('분리', 4447), ('배달', 4448), ('반발', 4449), ('앱', 4450), ('분들은', 4451), ('간의', 4452), ('김학', 4453), ('예산', 4454), ('레이저', 4455), ('맞추', 4456), ('사라졌다', 4457), ('내면', 4458), ('주역', 4459), ('달인', 4460), ('몰린', 4461), ('약을', 4462), ('사모', 4463), ('승자', 4464), ('타임', 4465), ('리버', 4466), ('복귀', 4467), ('진검', 4468), ('공감', 4469), ('미쳤', 4470), ('해킹', 4471), ('상위', 4472), ('한계를', 4473), ('욕먹', 4474), ('안녕', 4475), ('억을', 4476), ('없음', 4477), ('드는', 4478), ('리포', 4479), ('놀랄', 4480), ('진지하게', 4481), ('왔습니', 4482), ('역겨운', 4483), ('윷', 4484), ('싼', 4485), ('저한테', 4486), ('공포게', 4487), ('가져', 4488), ('진지', 4489), ('쥐', 4490), ('착한', 4491), ('유출', 4492), ('대답', 4493), ('서버', 4494), ('살면서', 4495), ('이길수', 4496), ('더니', 4497), ('플', 4498), ('분들을', 4499), ('속으', 4500), ('아십니까', 4501), ('트레', 4502), ('위엄', 4503), ('욕', 4504), ('크된', 4505), ('핑크', 4506), ('간지', 4507), ('섬멸전', 4508), ('내전', 4509), ('불쌍한', 4510), ('모험', 4511), ('슬', 4512), ('널', 4513), ('필승', 4514), ('아나', 4515), ('개봉', 4516), ('잡고', 4517), ('미션', 4518), ('결투', 4519), ('니까', 4520), ('전혀', 4521), ('이냐', 4522), ('참을', 4523), ('삐', 4524), ('바보', 4525), ('듣기', 4526), ('눈을', 4527), ('부숴', 4528), ('왕국', 4529), ('정시', 4530), ('더이상', 4531), ('슈의', 4532), ('실사판', 4533), ('요청', 4534), ('뿌링클', 4535), ('말할', 4536), ('다운', 4537), ('데요', 4538), ('길을', 4539), ('보다가', 4540), ('보겠습니다', 4541), ('시는', 4542), ('예술', 4543), ('대학', 4544), ('학부', 4545), ('주면', 4546), ('형사', 4547), ('터는', 4548), ('더러운', 4549), ('보도', 4550), ('뻔', 4551), ('대회를', 4552), ('판의', 4553), ('폭행', 4554), ('특급', 4555), ('비결', 4556), ('디테일들', 4557), ('없었던', 4558), ('비운의', 4559), ('이해할', 4560), ('시골', 4561), ('자들의', 4562), ('백수', 4563), ('보면서', 4564), ('오브', 4565), ('부장들', 4566), ('지리는', 4567), ('기생', 4568), ('입고', 4569), ('인형', 4570), ('없을까', 4571), ('단점', 4572), ('기술을', 4573), ('라그나로크', 4574), ('넘친다', 4575), ('보내', 4576), ('발을', 4577), ('아침부터', 4578), ('품에', 4579), ('받아보', 4580), ('지기', 4581), ('신박한', 4582), ('은밀한', 4583), ('냥', 4584), ('해주기', 4585), ('수업', 4586), ('소중한', 4587), ('고개', 4588), ('금기어', 4589), ('요미', 4590), ('울', 4591), ('뭔가', 4592), ('정신없', 4593), ('생겼다', 4594), ('입양', 4595), ('황당', 4596), ('스케일', 4597), ('해줬어요', 4598), ('조공', 4599), ('발톱깎', 4600), ('얘', 4601), ('깨우', 4602), ('복', 4603), ('다녀온', 4604), ('물고', 4605), ('누나', 4606), ('볼륨은', 4607), ('소감', 4608), ('오픈', 4609), ('더미', 4610), ('홀린', 4611), ('가만', 4612), ('만졌을', 4613), ('격한', 4614), ('마중', 4615), ('이긴', 4616), ('정도는', 4617), ('왔더니', 4618), ('돼', 4619), ('자다', 4620), ('태어난', 4621), ('정도면', 4622), ('살벌', 4623), ('말한다', 4624), ('위력', 4625), ('꼴', 4626), ('밀착', 4627), ('무능한', 4628), ('일당백', 4629), ('피아', 4630), ('인신', 4631), ('해냈다', 4632), ('거지', 4633), ('온양', 4634), ('수원', 4635), ('치고', 4636), ('인파', 4637), ('마녀사냥', 4638), ('제안에', 4639), ('압도', 4640), ('친서', 4641), ('팩폭', 4642), ('발전', 4643), ('수정', 4644), ('천안', 4645), ('재인', 4646), ('미필적', 4647), ('혐의', 4648), ('깨어', 4649), ('부글부글', 4650), ('급습', 4651), ('실체를', 4652), ('격정토로', 4653), ('공약', 4654), ('이준석', 4655), ('공지영', 4656), ('사령부', 4657), ('실컷', 4658), ('그가', 4659), ('한변', 4660), ('김진홍', 4661), ('공작', 4662), ('역할', 4663), ('눈보라', 4664), ('전역', 4665), ('지도부', 4666), ('위원회', 4667), ('키다', 4668), ('흔드는', 4669), ('현수막', 4670), ('정신과', 4671), ('죄가', 4672), ('의석', 4673), ('백원우', 4674), ('무너진', 4675), ('맞선', 4676), ('남재인', 4677), ('호통', 4678), ('직무유기', 4679), ('나와라', 4680), ('무기', 4681), ('리고', 4682), ('자리', 4683), ('일째', 4684), ('강행', 4685), ('고위', 4686), ('웃고', 4687), ('정체성', 4688), ('부모', 4689), ('땅', 4690), ('국방', 4691), ('반역', 4692), ('소통', 4693), ('중도', 4694), ('봤다', 4695), ('박상학', 4696), ('사퇴하', 4697), ('비리', 4698), ('정책에', 4699), ('교', 4700), ('부인', 4701), ('여권', 4702), ('어쩌다', 4703), ('버렸다', 4704), ('이념', 4705), ('소송', 4706), ('오세훈', 4707), ('고민정', 4708), ('였다', 4709), ('공동체', 4710), ('패트리엇', 4711), ('물었다', 4712), ('지킬', 4713), ('판에', 4714), ('하라고', 4715), ('남의', 4716), ('낼', 4717), ('임을', 4718), ('빈', 4719), ('집권', 4720), ('소련', 4721), ('사의', 4722), ('비핵화', 4723), ('사기극', 4724), ('주적', 4725), ('신상', 4726), ('일간', 4727), ('마이클', 4728), ('울린', 4729), ('공화국', 4730), ('단결', 4731), ('기각', 4732), ('대전편', 4733), ('은하바', 4734), ('줌', 4735), ('온더', 4736), ('현지', 4737), ('공직선거', 4738), ('탈탈', 4739), ('미리보', 4740), ('식량', 4741), ('질서', 4742), ('전진', 4743), ('불붙는', 4744), ('안고', 4745), ('추방', 4746), ('개념', 4747), ('개별', 4748), ('리수용', 4749), ('남한', 4750), ('나토', 4751), ('보내다', 4752), ('카타르', 4753), ('린다', 4754), ('사임', 4755), ('종전', 4756), ('박사', 4757), ('과천', 4758), ('수비', 4759), ('국대가', 4760), ('유소년', 4761), ('스트레', 4762), ('읽', 4763), ('무자비한', 4764), ('붙었다', 4765), ('박민수', 4766), ('오리온', 4767), ('여대생', 4768), ('이성현', 4769), ('신인', 4770), ('모조리', 4771), ('끝에', 4772), ('미녀', 4773), ('패고', 4774), ('우승자', 4775), ('패자부활전', 4776), ('체대', 4777), ('피칭을', 4778), ('공이', 4779), ('안정환', 4780), ('수비수', 4781), ('이수근', 4782), ('이기면', 4783), ('왼발', 4784), ('포그바', 4785), ('소림', 4786), ('우희용', 4787), ('탄력', 4788), ('일자', 4789), ('레터럴레이즈', 4790), ('컬', 4791), ('헌옷', 4792), ('분만', 4793), ('배로', 4794), ('이쁜', 4795), ('닭도리탕', 4796), ('지짐', 4797), ('식어도', 4798), ('비율', 4799), ('한생활', 4800), ('얼갈이김치', 4801), ('식물', 4802), ('맛탕', 4803), ('자세한', 4804), ('청국장', 4805), ('기초', 4806), ('오곡밥', 4807), ('약식', 4808), ('무전', 4809), ('기초부터', 4810), ('먹고싶', 4811), ('을때', 4812), ('야할', 4813), ('톳나물무침', 4814), ('표고', 4815), ('마약', 4816), ('실채', 4817), ('일부터', 4818), ('동태찌개', 4819), ('개운한', 4820), ('보쌈', 4821), ('생강차', 4822), ('해장', 4823), ('지혜', 4824), ('혈액순환', 4825), ('닭백숙', 4826), ('폐', 4827), ('부침개', 4828), ('더덕구이', 4829), ('의보약', 4830), ('두뇌', 4831), ('미니멀', 4832), ('말리기', 4833), ('마요네즈', 4834), ('럽고', 4835), ('찜무침', 4836), ('물이', 4837), ('쥬스', 4838), ('무우', 4839), ('간편', 4840), ('레몬', 4841), ('텃밭', 4842), ('마법의', 4843), ('밥도', 4844), ('말아', 4845), ('메추리알', 4846), ('약이', 4847), ('봐요', 4848), ('볶는', 4849), ('파래무침', 4850), ('식혜', 4851), ('이룬', 4852), ('호두', 4853), ('탱탱한', 4854), ('주먹밥', 4855), ('날치', 4856), ('건조', 4857), ('김장', 4858), ('소화', 4859), ('재수', 4860), ('밥에', 4861), ('시나요', 4862), ('오뎅', 4863), ('드세요', 4864), ('삶지', 4865), ('무국', 4866), ('부서', 4867), ('수육', 4868), ('제철무로', 4869), ('옛방식', 4870), ('년도', 4871), ('꼬치', 4872), ('예쁘게', 4873), ('삼계탕', 4874), ('간이', 4875), ('깐', 4876), ('당기는', 4877), ('기름때', 4878), ('취나물무침', 4879), ('곰팡이', 4880), ('우엉조림', 4881), ('없애', 4882), ('아삭하', 4883), ('향이', 4884), ('파인', 4885), ('어렵지', 4886), ('수제비', 4887), ('잃어버린', 4888), ('전자레인지로', 4889), ('한층', 4890), ('적절한', 4891), ('할때는', 4892), ('경주', 4893), ('유명한', 4894), ('할땐', 4895), ('스틱', 4896), ('탕수육', 4897), ('꿀맛', 4898), ('율', 4899), ('상추', 4900), ('마성의', 4901), ('봄을', 4902), ('비벼', 4903), ('솔솔', 4904), ('육개장', 4905), ('싱그럽고', 4906), ('부대', 4907), ('넘', 4908), ('칠리', 4909), ('콘카르네', 4910), ('윤', 4911), ('닭강정', 4912), ('리조또', 4913), ('아줌마', 4914), ('초콜릿', 4915), ('노오븐', 4916), ('미트', 4917), ('통째로', 4918), ('카페', 4919), ('감성', 4920), ('만레', 4921), ('묵진한', 4922), ('와플', 4923), ('차리는', 4924), ('오믈렛', 4925), ('이름은', 4926), ('잔뜩', 4927), ('물씬', 4928), ('간헐적', 4929), ('대로', 4930), ('게장', 4931), ('좋을까', 4932), ('손질하', 4933), ('아침을', 4934), ('초밥', 4935), ('인분', 4936), ('바질', 4937), ('발라', 4938), ('한꺼번에', 4939), ('놀면', 4940), ('명동', 4941), ('끊을', 4942), ('야식', 4943), ('입은', 4944), ('로제', 4945), ('기네스', 4946), ('부족한', 4947), ('내려', 4948), ('식의', 4949), ('날엔', 4950), ('머핀', 4951), ('어른', 4952), ('선물해', 4953), ('꿀', 4954), ('우유의', 4955), ('한우', 4956), ('껏', 4957), ('내리는', 4958), ('늘', 4959), ('스페인', 4960), ('볼때', 4961), ('찐', 4962), ('뽐', 4963), ('모닝빵', 4964), ('과는', 4965), ('비빔면', 4966), ('동글동글', 4967), ('크리스', 4968), ('기력', 4969), ('원조', 4970), ('종', 4971), ('서운해', 4972), ('김밥은', 4973), ('캠핑', 4974), ('채식', 4975), ('하늘의', 4976), ('못할', 4977), ('캔', 4978), ('콜', 4979), ('입을', 4980), ('뱃속', 4981), ('셔야', 4982), ('알았는데', 4983), ('떠', 4984), ('ㅅ', 4985), ('즐', 4986), ('휴가', 4987), ('고민을', 4988), ('식사', 4989), ('성이', 4990), ('빵에', 4991), ('차린', 4992), ('다르다', 4993), ('바뀐', 4994), ('이라도', 4995), ('스케치', 4996), ('유리하다', 4997), ('지친', 4998), ('빚', 4999), ('떼일까요', 5000), ('사기친', 5001), ('징역', 5002), ('수법', 5003), ('다니면서', 5004), ('받기', 5005), ('공급대책이', 5006), ('경매로', 5007), ('현주소', 5008), ('신혼부부에게', 5009), ('빌라', 5010), ('값을', 5011), ('억이', 5012), ('무시해서', 5013), ('힘듭니다', 5014), ('동탄', 5015), ('경매의', 5016), ('값이', 5017), ('궁중족발', 5018), ('건과', 5019), ('권리금', 5020), ('어차피', 5021), ('있지만', 5022), ('탈출하', 5023), ('차이점', 5024), ('월세', 5025), ('로버트', 5026), ('하죠', 5027), ('로또일까', 5028), ('자녀', 5029), ('돈에', 5030), ('매각불허사유', 5031), ('순서와', 5032), ('공부의', 5033), ('한계와', 5034), ('검색법', 5035), ('경락잔금', 5036), ('입찰실습과', 5037), ('입찰시', 5038), ('공매', 5039), ('진행절차', 5040), ('경매용어', 5041), ('자본운용의', 5042), ('공매의', 5043), ('기획', 5044), ('토이', 5045), ('스북', 5046), ('면서', 5047), ('시대의', 5048), ('고른', 5049), ('판매', 5050), ('사라', 5051), ('왕따', 5052), ('이후의', 5053), ('언택트', 5054), ('호재', 5055), ('맞대결', 5056), ('천억원', 5057), ('주도할', 5058), ('사망자', 5059), ('가보지', 5060), ('이르다', 5061), ('애들', 5062), ('증권사', 5063), ('오락가락', 5064), ('향후', 5065), ('바꾼다', 5066), ('의한수', 5067), ('천명', 5068), ('때보다', 5069), ('뿔났다', 5070), ('연다', 5071), ('신뢰', 5072), ('수요', 5073), ('화폐개혁', 5074), ('차에', 5075), ('비명', 5076), ('공동', 5077), ('선전', 5078), ('요동치는', 5079), ('도래', 5080), ('도박', 5081), ('행보', 5082), ('고래', 5083), ('나야', 5084), ('쪽박', 5085), ('개학', 5086), ('요인', 5087), ('양도세', 5088), ('좁은', 5089), ('말자', 5090), ('세기의', 5091), ('조원태', 5092), ('소식에', 5093), ('한수', 5094), ('엠', 5095), ('바꾼', 5096), ('경험', 5097), ('급한', 5098), ('쓸', 5099), ('마이크', 5100), ('간판', 5101), ('걸음', 5102), ('중앙', 5103), ('약발', 5104), ('등극', 5105), ('도약', 5106), ('유행', 5107), ('주목하', 5108), ('부결', 5109), ('이어갈', 5110), ('백약이', 5111), ('스와프', 5112), ('조건은', 5113), ('이래도', 5114), ('속수무책', 5115), ('미터', 5116), ('잡히면', 5117), ('추경', 5118), ('리세션', 5119), ('신용', 5120), ('대비하', 5121), ('맡기면', 5122), ('가운데', 5123), ('시한', 5124), ('금도', 5125), ('하반기', 5126), ('판이', 5127), ('업황', 5128), ('전이', 5129), ('이익', 5130), ('급반등', 5131), ('메르', 5132), ('불편한', 5133), ('안정', 5134), ('강타', 5135), ('구축', 5136), ('보유', 5137), ('전환', 5138), ('대량', 5139), ('후유증', 5140), ('미칠', 5141), ('사면초가', 5142), ('상용화', 5143), ('가속', 5144), ('살렸다', 5145), ('기억', 5146), ('짜리', 5147), ('분수령', 5148), ('하늘길', 5149), ('전성시대', 5150), ('경북', 5151), ('화요일', 5152), ('울트라', 5153), ('약진', 5154), ('분통', 5155), ('안해', 5156), ('기관', 5157), ('판도', 5158), ('다면', 5159), ('전파', 5160), ('유통', 5161), ('강국', 5162), ('뚫었다', 5163), ('이틀', 5164), ('소비', 5165), ('방향', 5166), ('구미', 5167), ('캄보디아', 5168), ('파동', 5169), ('가져올', 5170), ('생산', 5171), ('기로에', 5172), ('계약', 5173), ('잡겠다', 5174), ('육박', 5175), ('뱅크', 5176), ('비결은', 5177), ('강자', 5178), ('시대가', 5179), ('상상', 5180), ('스완', 5181), ('대세는', 5182), ('순환매', 5183), ('낀', 5184), ('고비', 5185), ('통신', 5186), ('째', 5187), ('선호', 5188), ('인다', 5189), ('자막', 5190), ('되자', 5191), ('언팩', 5192), ('찬', 5193), ('관왕', 5194), ('에코', 5195), ('리츠', 5196), ('제한적', 5197), ('엑소더스', 5198), ('찬스', 5199), ('거침없', 5200), ('보지', 5201), ('불참', 5202), ('떼', 5203), ('컨퍼런스', 5204), ('오를', 5205), ('제이티', 5206), ('인구', 5207), ('엄습', 5208), ('굴기', 5209), ('인구가', 5210), ('노린다', 5211), ('차별', 5212), ('선제', 5213), ('천여명', 5214), ('단기', 5215), ('쪽이', 5216), ('대해부', 5217), ('부동', 5218), ('동작', 5219), ('개막', 5220), ('모범', 5221), ('영우디에스피', 5222), ('경영', 5223), ('년째', 5224), ('블폰', 5225), ('드라', 5226), ('구매', 5227), ('이번에', 5228), ('전락', 5229), ('조작국', 5230), ('지정', 5231), ('철회', 5232), ('해제', 5233), ('터치', 5234), ('방위비', 5235), ('총통', 5236), ('남편', 5237), ('넘은', 5238), ('중동발', 5239), ('무력', 5240), ('미군기지', 5241), ('솔레이마니', 5242), ('이란의', 5243), ('이에', 5244), ('콘서트', 5245), ('고려대', 5246), ('하늘을', 5247), ('좋다', 5248), ('총파업', 5249), ('마이', 5250), ('출발', 5251), ('맞이해', 5252), ('이들', 5253), ('쉬지', 5254), ('도로', 5255), ('집니다', 5256), ('압타', 5257), ('수난', 5258), ('적용', 5259), ('대응하', 5260), ('여전', 5261), ('년은', 5262), ('차기', 5263), ('어서와', 5264), ('한쪽', 5265), ('중소형주', 5266), ('정조준', 5267), ('상장사', 5268), ('한중일', 5269), ('마오', 5270), ('제시', 5271), ('당국', 5272), ('너가', 5273), ('모델', 5274), ('고정', 5275), ('개정', 5276), ('당할', 5277), ('래', 5278), ('레이', 5279), ('기류', 5280), ('급변', 5281), ('기존', 5282), ('너도나도', 5283), ('와야', 5284), ('광군제', 5285), ('최광훈의', 5286), ('국내외', 5287), ('대중', 5288), ('북미', 5289), ('나올', 5290), ('서프', 5291), ('고전', 5292), ('원전', 5293), ('소비재', 5294), ('실검', 5295), ('영어', 5296), ('양동', 5297), ('봇물', 5298), ('숨', 5299), ('김계관', 5300), ('차전', 5301), ('고작', 5302), ('조만간', 5303), ('고장', 5304), ('대기', 5305), ('안다', 5306), ('자주', 5307), ('기폭제', 5308), ('엉터리', 5309), ('많다', 5310), ('자영업', 5311), ('늄', 5312), ('허영', 5313), ('획득', 5314), ('브금', 5315), ('유저', 5316), ('만나기', 5317), ('봐주', 5318), ('시길', 5319), ('서버가', 5320), ('하도록', 5321), ('님한테', 5322), ('급하게', 5323), ('넘게', 5324), ('연애', 5325), ('거야', 5326), ('근', 5327), ('랜덤', 5328), ('수상한', 5329), ('할때마다', 5330), ('미쳐버린', 5331), ('테섭', 5332), ('소신', 5333), ('겠네', 5334), ('짝퉁', 5335), ('었던', 5336), ('원짜리', 5337), ('법을', 5338), ('이상만', 5339), ('그랜드', 5340), ('신규영웅', 5341), ('아군', 5342), ('해버렸습니다', 5343), ('킬할때마다', 5344), ('빌', 5345), ('직진만', 5346), ('서막', 5347), ('주지', 5348), ('티비', 5349), ('오락실', 5350), ('도록', 5351), ('개사기', 5352), ('줬더니', 5353), ('시비', 5354), ('로만', 5355), ('맵', 5356), ('유튜', 5357), ('부탁', 5358), ('관종이', 5359), ('극혐', 5360), ('년에', 5361), ('싸인', 5362), ('기부', 5363), ('걸까요', 5364), ('강제로', 5365), ('만나면', 5366), ('인을', 5367), ('너프', 5368), ('자폭', 5369), ('마시고', 5370), ('술먹', 5371), ('코로', 5372), ('으면', 5373), ('읽기', 5374), ('밥먹', 5375), ('소니쇼님', 5376), ('알려', 5377), ('나타났', 5378), ('분동안', 5379), ('난장판', 5380), ('죽지', 5381), ('우승하', 5382), ('남을', 5383), ('확실', 5384), ('멍청한', 5385), ('사나이', 5386), ('친한', 5387), ('님과', 5388), ('괴담', 5389), ('해냈습니다', 5390), ('인척', 5391), ('합방', 5392), ('누군', 5393), ('컨텐츠', 5394), ('도착', 5395), ('자살', 5396), ('해줬습니다', 5397), ('구하기', 5398), ('자를', 5399), ('연주', 5400), ('백만', 5401), ('이정도면', 5402), ('뭔지', 5403), ('우당탕탕', 5404), ('감히', 5405), ('나한테', 5406), ('눈쟁이', 5407), ('파라', 5408), ('템', 5409), ('살기', 5410), ('몸부림', 5411), ('샌드', 5412), ('우연히', 5413), ('신나게', 5414), ('얘네', 5415), ('가기', 5416), ('알까기', 5417), ('이긴다', 5418), ('절정', 5419), ('받습니다', 5420), ('아재', 5421), ('김민수', 5422), ('나옴', 5423), ('이상과', 5424), ('일러', 5425), ('음악을', 5426), ('곳에', 5427), ('분들', 5428), ('거에요', 5429), ('지키고', 5430), ('봐도', 5431), ('숨겼다', 5432), ('모독', 5433), ('이상하게', 5434), ('음악', 5435), ('이상형', 5436), ('나기', 5437), ('이를', 5438), ('필독', 5439), ('사랑하', 5440), ('굴려서', 5441), ('그땐', 5442), ('등산', 5443), ('사장님', 5444), ('부셔', 5445), ('본인', 5446), ('됩니다', 5447), ('모여서', 5448), ('바람을', 5449), ('이사를', 5450), ('게요', 5451), ('정보를', 5452), ('알게', 5453), ('사랑에', 5454), ('느껴보', 5455), ('강사', 5456), ('갔더니', 5457), ('싶었', 5458), ('스튜디오', 5459), ('별로', 5460), ('자꾸만', 5461), ('춤을', 5462), ('거절', 5463), ('졌어요', 5464), ('도둑', 5465), ('핀', 5466), ('잠을', 5467), ('시범', 5468), ('퍼즐', 5469), ('러스티레이크', 5470), ('패러', 5471), ('독스', 5472), ('마주친', 5473), ('쿡드', 5474), ('기차', 5475), ('인류', 5476), ('한번의', 5477), ('제우스', 5478), ('실사', 5479), ('적이', 5480), ('나이트', 5481), ('우즈', 5482), ('돌', 5483), ('그는', 5484), ('디트로이트', 5485), ('비컴', 5486), ('쓸모', 5487), ('그걸', 5488), ('오다', 5489), ('라며', 5490), ('그게', 5491), ('아들을', 5492), ('맞춰', 5493), ('만나러', 5494), ('있었던', 5495), ('결말에', 5496), ('벌어지', 5497), ('명작', 5498), ('였던', 5499), ('것도', 5500), ('장인이', 5501), ('원작', 5502), ('세의', 5503), ('노인', 5504), ('전말', 5505), ('이었을까', 5506), ('사건의', 5507), ('관람', 5508), ('남녀', 5509), ('증명', 5510), ('마하의', 5511), ('만을', 5512), ('실존', 5513), ('고딩이', 5514), ('병기', 5515), ('외계', 5516), ('기절시키는', 5517), ('빠를까', 5518), ('이스터에그', 5519), ('아들로', 5520), ('영춘권', 5521), ('들이여', 5522), ('인정하', 5523), ('그린', 5524), ('동양', 5525), ('베놈', 5526), ('인과', 5527), ('앤트맨과', 5528), ('와스프', 5529), ('특이한', 5530), ('오류', 5531), ('연쇄', 5532), ('티저', 5533), ('쳐', 5534), ('먹다가', 5535), ('아리가', 5536), ('놀려', 5537), ('인형이', 5538), ('컷', 5539), ('리거', 5540), ('빗질을', 5541), ('뉴질랜드', 5542), ('사자가', 5543), ('설득', 5544), ('아플까', 5545), ('공중', 5546), ('계단', 5547), ('버릇', 5548), ('키울', 5549), ('만지기', 5550), ('야바위', 5551), ('줘야', 5552), ('심에', 5553), ('외출', 5554), ('만져보', 5555), ('문이', 5556), ('보여드', 5557), ('까칠한', 5558), ('애가', 5559), ('코골이', 5560), ('거실', 5561), ('한거', 5562), ('출간', 5563), ('롭다', 5564), ('구역의', 5565), ('놀다가', 5566), ('짝사랑', 5567), ('애옹쓰', 5568), ('너네', 5569), ('무릎', 5570), ('모래갈이', 5571), ('새롭게', 5572), ('수리', 5573), ('들끼리', 5574), ('보기만', 5575), ('간만에', 5576), ('미우팟', 5577), ('악동', 5578), ('고니', 5579), ('특명', 5580), ('몬', 5581), ('젠틀맨', 5582), ('수다', 5583), ('검진', 5584), ('금발', 5585), ('다묘', 5586), ('터가', 5587), ('순식간에', 5588), ('지킴이', 5589), ('숟가락', 5590), ('안절부절', 5591), ('도리군', 5592), ('냠냠', 5593), ('크다', 5594), ('네블', 5595), ('발가락', 5596), ('멍', 5597), ('택시', 5598), ('까불다가', 5599), ('기다려', 5600), ('힐', 5601), ('정도로', 5602), ('세게', 5603), ('아파', 5604), ('았다', 5605), ('아침마다', 5606), ('자러가면', 5607), ('어미를', 5608), ('둘러', 5609), ('자게', 5610), ('털이', 5611), ('가만두지', 5612), ('정신을', 5613), ('일로와', 5614), ('야생', 5615), ('마중을', 5616), ('맹수', 5617), ('어쩔', 5618), ('몰라', 5619), ('감시', 5620), ('어려서부터', 5621), ('신난', 5622), ('자다가도', 5623), ('기르면', 5624), ('개가', 5625), ('어미', 5626), ('채로', 5627), ('피를', 5628), ('침범', 5629), ('깡패', 5630), ('오세요', 5631), ('조용히', 5632), ('하신', 5633), ('싸고', 5634), ('님께', 5635), ('삼남매의', 5636), ('배워', 5637), ('장작', 5638), ('혼', 5639), ('나눠', 5640), ('연구소', 5641), ('울음', 5642), ('수술', 5643), ('안오는', 5644), ('집앞', 5645), ('마비', 5646), ('도저히', 5647), ('막판', 5648), ('비난선동을', 5649), ('바꿨다', 5650), ('이들의', 5651), ('해낸다', 5652), ('위협에', 5653), ('했었다', 5654), ('정미경', 5655), ('회유', 5656), ('합류', 5657), ('서나', 5658), ('히다', 5659), ('단언', 5660), ('몰이', 5661), ('당당히', 5662), ('종북', 5663), ('주변', 5664), ('숙의', 5665), ('썩은', 5666), ('줄께', 5667), ('임자', 5668), ('열정', 5669), ('애국청년', 5670), ('방빼', 5671), ('끝장', 5672), ('명분', 5673), ('난동', 5674), ('어지다', 5675), ('오만과', 5676), ('재앙', 5677), ('민변', 5678), ('감찰담당관', 5679), ('내라', 5680), ('추적', 5681), ('개헌에', 5682), ('부끄러', 5683), ('시계', 5684), ('뒷', 5685), ('원순', 5686), ('밑에', 5687), ('만행', 5688), ('신호', 5689), ('당을', 5690), ('씹어', 5691), ('한방먹인', 5692), ('케미', 5693), ('망신', 5694), ('협회', 5695), ('강경화', 5696), ('이동욱', 5697), ('박대출', 5698), ('완패', 5699), ('겁박', 5700), ('조동근', 5701), ('이용원', 5702), ('뚫고', 5703), ('드나', 5704), ('문똘마니', 5705), ('꼴을', 5706), ('축사', 5707), ('공정한', 5708), ('출범식', 5709), ('꼴랑', 5710), ('리더쉽', 5711), ('자격', 5712), ('불출마', 5713), ('백의종군', 5714), ('임미리', 5715), ('오만방자한', 5716), ('고함', 5717), ('이성윤', 5718), ('구성', 5719), ('결심', 5720), ('제출', 5721), ('갈기갈기', 5722), ('하태경', 5723), ('도와', 5724), ('열렸다', 5725), ('전달', 5726), ('동구', 5727), ('정태옥', 5728), ('재발견', 5729), ('소동', 5730), ('뻥', 5731), ('맞설', 5732), ('당황', 5733), ('정동영', 5734), ('박영선', 5735), ('겠다는', 5736), ('김부겸', 5737), ('자로', 5738), ('전희경', 5739), ('빌미', 5740), ('적폐', 5741), ('외친', 5742), ('험지', 5743), ('현충원', 5744), ('자들이', 5745), ('면담', 5746), ('악법', 5747), ('출입', 5748), ('판을', 5749), ('쌩', 5750), ('사건에', 5751), ('주광덕', 5752), ('로비', 5753), ('소추', 5754), ('문다혜', 5755), ('사무총장', 5756), ('허현준', 5757), ('당부', 5758), ('열리다', 5759), ('실장', 5760), ('측면', 5761), ('텐트', 5762), ('귀순자', 5763), ('않겠다', 5764), ('처절한', 5765), ('변명', 5766), ('위장', 5767), ('흘리는', 5768), ('출동한', 5769), ('이지경', 5770), ('진보연합', 5771), ('엄벌에', 5772), ('재탈환', 5773), ('참다', 5774), ('급격', 5775), ('교장', 5776), ('앞을', 5777), ('탈환', 5778), ('정수', 5779), ('국제정', 5780), ('차례', 5781), ('폭우', 5782), ('정구사', 5783), ('패기', 5784), ('뭔', 5785), ('총사퇴', 5786), ('어이할꼬', 5787), ('우습게', 5788), ('임기', 5789), ('이경재', 5790), ('청구', 5791), ('판결', 5792), ('중앙지', 5793), ('옆', 5794), ('물타기', 5795), ('결말은', 5796), ('예언', 5797), ('남기고', 5798), ('분의', 5799), ('정경두', 5800), ('뺏지', 5801), ('굵고', 5802), ('수복', 5803), ('헐', 5804), ('푼', 5805), ('김제동', 5806), ('인들이', 5807), ('파업', 5808), ('고려대학', 5809), ('내자', 5810), ('플랜', 5811), ('백승재', 5812), ('동조', 5813), ('길가던', 5814), ('신도들', 5815), ('쇠말뚝', 5816), ('무능에', 5817), ('민중당', 5818), ('이여', 5819), ('시켜야', 5820), ('의협', 5821), ('엄중', 5822), ('나가자', 5823), ('기반', 5824), ('부에', 5825), ('행위', 5826), ('등이', 5827), ('미북', 5828), ('고통을', 5829), ('테스', 5830), ('어민', 5831), ('급사', 5832), ('싶습니다', 5833), ('격전지', 5834), ('함성', 5835), ('인권침해', 5836), ('밀수', 5837), ('싸울', 5838), ('작명', 5839), ('호수', 5840), ('이은재', 5841), ('왕의', 5842), ('장을', 5843), ('추적한', 5844), ('산다', 5845), ('통계', 5846), ('야당', 5847), ('대구는', 5848), ('도운', 5849), ('한번도', 5850), ('정규재', 5851), ('사설', 5852), ('파탄난', 5853), ('월남', 5854), ('나설', 5855), ('위선', 5856), ('가입', 5857), ('정세', 5858), ('안상수', 5859), ('선출', 5860), ('쑥대밭', 5861), ('선명', 5862), ('공산화', 5863), ('시대를', 5864), ('악력', 5865), ('살찐', 5866), ('김동길', 5867), ('살해', 5868), ('경복고', 5869), ('안해도', 5870), ('호르무즈', 5871), ('본토', 5872), ('지침', 5873), ('조지', 5874), ('영장', 5875), ('있어야', 5876), ('구독', 5877), ('지어', 5878), ('정당은', 5879), ('임쌤', 5880), ('임정환쌤', 5881), ('용어', 5882), ('한치', 5883), ('텐션', 5884), ('알랴줌', 5885), ('크으', 5886), ('급속히', 5887), ('인에게', 5888), ('직면한', 5889), ('드론', 5890), ('조성길', 5891), ('활짝', 5892), ('때로는', 5893), ('방공식별구역', 5894), ('선동하', 5895), ('걷', 5896), ('레이건', 5897), ('망언', 5898), ('커다란', 5899), ('구나', 5900), ('개헌안', 5901), ('크게', 5902), ('숫자', 5903), ('발전에', 5904), ('네트', 5905), ('소형', 5906), ('시험', 5907), ('경협', 5908), ('알거지', 5909), ('나서다', 5910), ('김경희', 5911), ('소련과', 5912), ('버틸', 5913), ('정확', 5914), ('왕도적', 5915), ('리용호', 5916), ('군산복합체', 5917), ('돈줄', 5918), ('대북정책', 5919), ('유사시', 5920), ('미치광이', 5921), ('것일까', 5922), ('국방부', 5923), ('급히', 5924), ('정통성', 5925), ('합참', 5926), ('혹', 5927), ('웜비어', 5928), ('정상', 5929), ('참수', 5930), ('동맹', 5931), ('무더기', 5932), ('원점', 5933), ('무극', 5934), ('일부', 5935), ('대의제', 5936), ('시리아', 5937), ('국지전', 5938), ('제시하다', 5939), ('뒤흔', 5940), ('매티스', 5941), ('해부한다', 5942), ('아베의', 5943), ('감정', 5944), ('파탄', 5945), ('자위대', 5946), ('제출하다', 5947), ('해상', 5948), ('인도', 5949), ('파키스탄', 5950), ('체인지', 5951), ('안쪽', 5952), ('패도적', 5953), ('뒷얘기', 5954), ('자연상태와', 5955), ('전초전', 5956), ('강서갑', 5957), ('꺾겠다', 5958), ('장하성', 5959), ('시에나', 5960), ('개망신', 5961), ('시사폭격', 5962), ('김근식', 5963), ('포폴', 5964), ('칭', 5965), ('조던', 5966), ('스테판', 5967), ('김선형', 5968), ('루', 5969), ('아마', 5970), ('뛰면', 5971), ('모비스', 5972), ('안대', 5973), ('스승님을', 5974), ('우즈베키스탄', 5975), ('삼보', 5976), ('붙으면', 5977), ('맥', 5978), ('변칙적인', 5979), ('손준오', 5980), ('실신', 5981), ('머신', 5982), ('파운딩', 5983), ('옛법', 5984), ('황인무', 5985), ('십', 5986), ('야수', 5987), ('용품', 5988), ('호흡', 5989), ('나눠드림', 5990), ('고척돔', 5991), ('비선출', 5992), ('입단', 5993), ('어볼러', 5994), ('연습하', 5995), ('등판', 5996), ('배트를', 5997), ('모션', 5998), ('초등학', 5999), ('모십니다', 6000), ('박찬호', 6001), ('로또', 6002), ('인칭', 6003), ('년차', 6004), ('캐치볼', 6005), ('동작이', 6006), ('뛴', 6007), ('오퍼', 6008), ('올시즌', 6009), ('꽁지', 6010), ('김용대', 6011), ('꽁', 6012), ('롱킥', 6013), ('수아레즈', 6014), ('플랩', 6015), ('미친선방', 6016), ('페널티킥', 6017), ('김민재', 6018), ('바레인', 6019), ('가는길', 6020), ('ㅣ김', 6021), ('김문환', 6022), ('멕시코', 6023), ('해볼게요', 6024), ('황소', 6025), ('아카', 6026), ('레벨', 6027), ('지뉴가', 6028), ('감차', 6029), ('팬텀', 6030), ('트래핑', 6031), ('유지어터의', 6032), ('굽은등', 6033), ('빌더', 6034), ('모발이식', 6035), ('김성환', 6036), ('운지기', 6037), ('팔달', 6038), ('식스팩', 6039), ('홍지승', 6040), ('웨이트', 6041), ('무분할', 6042), ('타바타', 6043), ('유지를', 6044), ('힙업을', 6045), ('이두', 6046), ('후면', 6047), ('탁월한', 6048), ('군입대', 6049), ('독소', 6050), ('질때', 6051), ('부지런한삶', 6052), ('혈관', 6053), ('쑥버무리', 6054), ('확한', 6055), ('부추무침', 6056), ('당뇨에', 6057), ('팬에', 6058), ('짬뽕', 6059), ('초간', 6060), ('생강', 6061), ('분안에', 6062), ('기침', 6063), ('가래', 6064), ('풍요로움', 6065), ('청양고추', 6066), ('기가막힌', 6067), ('정월대보름', 6068), ('약밥', 6069), ('쪽', 6070), ('고집', 6071), ('찬밥', 6072), ('깨강정', 6073), ('골다공증', 6074), ('집보다', 6075), ('차돌박이', 6076), ('만두전골', 6077), ('맛을고집', 6078), ('럽게', 6079), ('도대', 6080), ('살림', 6081), ('단복덩이', 6082), ('동지팥죽', 6083), ('어리굴젓', 6084), ('골다공증에', 6085), ('겐', 6086), ('모듬전', 6087), ('뭇국', 6088), ('풍경과', 6089), ('고향의맛', 6090), ('방식', 6091), ('이쁜두건', 6092), ('겉은', 6093), ('고혈압', 6094), ('기관지에', 6095), ('생강청', 6096), ('고추부각', 6097), ('총각김치', 6098), ('원기', 6099), ('소화가', 6100), ('액젓', 6101), ('무우조림', 6102), ('콩조림', 6103), ('테라스', 6104), ('미니커튼', 6105), ('욕실', 6106), ('사랑과', 6107), ('글', 6108), ('찌게', 6109), ('안나고', 6110), ('해물', 6111), ('꼬지', 6112), ('부와', 6113), ('이룬정원', 6114), ('오리주물럭', 6115), ('김자반', 6116), ('돌자반', 6117), ('진하고', 6118), ('시면', 6119), ('국물맛', 6120), ('피로', 6121), ('전복죽', 6122), ('이고추', 6123), ('얼갈이', 6124), ('팩', 6125), ('삼삼하고', 6126), ('햄', 6127), ('대박집', 6128), ('산정호', 6129), ('꽁치', 6130), ('원추리나물', 6131), ('미용에', 6132), ('청경채', 6133), ('게맛살', 6134), ('아요', 6135), ('명품', 6136), ('쑤기', 6137), ('등뼈찜', 6138), ('보름나물', 6139), ('날라온', 6140), ('수정과', 6141), ('임연수', 6142), ('일의', 6143), ('굴전', 6144), ('감기에', 6145), ('위를', 6146), ('무우국', 6147), ('그림을', 6148), ('배려와', 6149), ('스카프', 6150), ('비타민', 6151), ('는도리뱅뱅이', 6152), ('리폼', 6153), ('가을분', 6154), ('헌', 6155), ('김치풀', 6156), ('마른', 6157), ('좋답니다', 6158), ('세탁', 6159), ('귤', 6160), ('석류', 6161), ('김무침', 6162), ('튀는', 6163), ('질기지', 6164), ('무청김치', 6165), ('짠지', 6166), ('오독오독', 6167), ('깊게', 6168), ('반년도', 6169), ('고들빼기김치', 6170), ('벌레', 6171), ('고추전', 6172), ('토란국', 6173), ('타지', 6174), ('실파', 6175), ('이랍니다', 6176), ('름', 6177), ('찰지고', 6178), ('어우러져', 6179), ('좋고', 6180), ('악취', 6181), ('찌든때', 6182), ('오래된', 6183), ('굿', 6184), ('없애는', 6185), ('알차게', 6186), ('가스렌지', 6187), ('변한', 6188), ('수건', 6189), ('하얗게', 6190), ('단무지', 6191), ('방풍나물', 6192), ('즐겨', 6193), ('고르는', 6194), ('들기름', 6195), ('유통기한', 6196), ('오렌지', 6197), ('볶을', 6198), ('편해요', 6199), ('신선함', 6200), ('모양', 6201), ('천연', 6202), ('칼국수와', 6203), ('더운', 6204), ('김장철', 6205), ('다진', 6206), ('갈변', 6207), ('마는법', 6208), ('튀긴', 6209), ('어니언링', 6210), ('고급', 6211), ('도너츠', 6212), ('피클', 6213), ('보글보글', 6214), ('전기', 6215), ('구수', 6216), ('붙지', 6217), ('해쉬', 6218), ('단맛을', 6219), ('국물을', 6220), ('달지', 6221), ('대패', 6222), ('찐빵', 6223), ('호떡', 6224), ('말린', 6225), ('오독', 6226), ('먹었습니다', 6227), ('비비면', 6228), ('노각', 6229), ('만족', 6230), ('까르보', 6231), ('냉채', 6232), ('심플', 6233), ('쌈', 6234), ('술술', 6235), ('쑥갓', 6236), ('달인의', 6237), ('달큰한', 6238), ('사과쥬스와', 6239), ('사과잼을', 6240), ('옛간', 6241), ('참기름', 6242), ('폭립', 6243), ('집나간', 6244), ('쫄면', 6245), ('줍니다', 6246), ('통닭', 6247), ('굴국', 6248), ('훈제오리', 6249), ('사과의', 6250), ('정화', 6251), ('오도독', 6252), ('휴게소', 6253), ('내다', 6254), ('튀기', 6255), ('롬하게', 6256), ('안은', 6257), ('헛', 6258), ('주방팁', 6259), ('포슬', 6260), ('순무침', 6261), ('굴파전', 6262), ('금수저', 6263), ('연근', 6264), ('심플하고', 6265), ('롬한', 6266), ('초무침', 6267), ('컵밥', 6268), ('효리네', 6269), ('민박', 6270), ('턱이', 6271), ('한상', 6272), ('혼밥', 6273), ('신메뉴', 6274), ('우병우', 6275), ('차돌', 6276), ('신혼부부', 6277), ('동파육', 6278), ('게살', 6279), ('고든', 6280), ('어마어마한', 6281), ('요거트', 6282), ('뽕잎', 6283), ('단팥', 6284), ('살아있', 6285), ('기운이', 6286), ('잡초', 6287), ('야채', 6288), ('겉바속촉', 6289), ('닭고기', 6290), ('주꾸미', 6291), ('이경규의', 6292), ('찜닭과', 6293), ('마카롱믹스로', 6294), ('이보다', 6295), ('왔나', 6296), ('티라미수', 6297), ('민트', 6298), ('농가', 6299), ('맛남의', 6300), ('맛에', 6301), ('저어', 6302), ('가볍게', 6303), ('모른다', 6304), ('균형잡힌', 6305), ('이탈리', 6306), ('만인의', 6307), ('안다면', 6308), ('취향조합', 6309), ('와장창', 6310), ('화이', 6311), ('레', 6312), ('쫀쫀한', 6313), ('머랭', 6314), ('리의', 6315), ('이을', 6316), ('크와', 6317), ('파트', 6318), ('브리', 6319), ('제와', 6320), ('어때요', 6321), ('초콜렛', 6322), ('내일은', 6323), ('생채', 6324), ('또는', 6325), ('카나페', 6326), ('강회', 6327), ('킬바사', 6328), ('은은한', 6329), ('비주얼', 6330), ('족발', 6331), ('킷캣', 6332), ('등심', 6333), ('기념일에', 6334), ('가끔', 6335), ('파운드', 6336), ('경양식', 6337), ('색', 6338), ('술이', 6339), ('실에', 6340), ('틈이', 6341), ('가기전에', 6342), ('장인의', 6343), ('손길이', 6344), ('렛', 6345), ('제누와즈', 6346), ('사과와', 6347), ('정석은', 6348), ('빵선생', 6349), ('떡선생', 6350), ('닭장', 6351), ('먹쟈', 6352), ('고향에', 6353), ('가벼운', 6354), ('슬라', 6355), ('워킹맘의', 6356), ('바게트로', 6357), ('에스', 6358), ('큐브', 6359), ('차조', 6360), ('복통', 6361), ('곶감', 6362), ('해시', 6363), ('한껏', 6364), ('중화', 6365), ('장식한', 6366), ('바다의', 6367), ('우유와', 6368), ('식탁', 6369), ('극심한', 6370), ('집순이', 6371), ('한식풍', 6372), ('다가오는', 6373), ('해피뉴이어', 6374), ('장수', 6375), ('나무', 6376), ('지에', 6377), ('허브', 6378), ('굽기', 6379), ('꾸미기', 6380), ('낼수', 6381), ('원팬', 6382), ('금요일', 6383), ('포슬포슬', 6384), ('안나', 6385), ('덤', 6386), ('감바스', 6387), ('콕콕', 6388), ('분식', 6389), ('알레르기', 6390), ('식을', 6391), ('채운', 6392), ('식품', 6393), ('장려상', 6394), ('우수상', 6395), ('기름진', 6396), ('김치의', 6397), ('월이', 6398), ('올린', 6399), ('초절임', 6400), ('밥이랑', 6401), ('끝판', 6402), ('딱이야', 6403), ('구워', 6404), ('뜨근한', 6405), ('춥다고', 6406), ('대충', 6407), ('추워지면', 6408), ('한잔', 6409), ('우유를', 6410), ('소금', 6411), ('먹자', 6412), ('덩어리', 6413), ('법이', 6414), ('미우새', 6415), ('좋더라', 6416), ('철이', 6417), ('크래미', 6418), ('중동의', 6419), ('바쁜', 6420), ('웰빙', 6421), ('묵말랭이', 6422), ('식상해', 6423), ('볼까요', 6424), ('좋지', 6425), ('맑아지는', 6426), ('걸로', 6427), ('취향', 6428), ('빠질수', 6429), ('저염식', 6430), ('이라니', 6431), ('메뉴는', 6432), ('들로', 6433), ('함은', 6434), ('홀릭', 6435), ('답게', 6436), ('쥽', 6437), ('다음주', 6438), ('캔을', 6439), ('참참참', 6440), ('뭉쳐', 6441), ('양상', 6442), ('잼은', 6443), ('좔좔', 6444), ('흐르는', 6445), ('솥밥', 6446), ('아침엔', 6447), ('쭉쭉', 6448), ('만한', 6449), ('가니', 6450), ('씩', 6451), ('풍성한', 6452), ('알로에', 6453), ('선선해진', 6454), ('맵찔이들의', 6455), ('옳다', 6456), ('삼각김밥', 6457), ('완결판', 6458), ('음료', 6459), ('르름한', 6460), ('킹의', 6461), ('세트', 6462), ('치면', 6463), ('들려', 6464), ('건져', 6465), ('합작', 6466), ('제맛', 6467), ('냉면', 6468), ('만날', 6469), ('문어', 6470), ('해봅니다', 6471), ('살게', 6472), ('와도', 6473), ('바보인', 6474), ('국토부', 6475), ('실현', 6476), ('글로', 6477), ('사연과', 6478), ('신안산선', 6479), ('착공', 6480), ('가치는', 6481), ('님도', 6482), ('유치권', 6483), ('편의', 6484), ('아내', 6485), ('어쩌죠', 6486), ('다는데', 6487), ('사지', 6488), ('마인드의', 6489), ('탄탄한', 6490), ('샀다가', 6491), ('준다', 6492), ('대출을', 6493), ('마련', 6494), ('믿지', 6495), ('변액보험', 6496), ('부은', 6497), ('활성화', 6498), ('세부', 6499), ('정책의', 6500), ('전세와', 6501), ('금리인', 6502), ('대의', 6503), ('주택담보대출', 6504), ('처는', 6505), ('돈은', 6506), ('자녀가', 6507), ('전해', 6508), ('분이', 6509), ('부도의', 6510), ('날은', 6511), ('신문', 6512), ('문서', 6513), ('조정시', 6514), ('줄었다', 6515), ('개설', 6516), ('사느냐', 6517), ('로다', 6518), ('배경은', 6519), ('빅컷', 6520), ('국면', 6521), ('케어', 6522), ('증안', 6523), ('쏜다', 6524), ('비대면', 6525), ('원격', 6526), ('도달', 6527), ('로직스', 6528), ('쏘아올린', 6529), ('고고씽', 6530), ('주가를', 6531), ('쏴라', 6532), ('시스', 6533), ('둔화', 6534), ('딜레마', 6535), ('천억', 6536), ('자사주', 6537), ('활발', 6538), ('갈림길', 6539), ('감소', 6540), ('실직', 6541), ('콘텐츠', 6542), ('건보료', 6543), ('중산층', 6544), ('소득', 6545), ('증권', 6546), ('안녕하십니까', 6547), ('공략주는', 6548), ('더블', 6549), ('가려면', 6550), ('줌비디오', 6551), ('론과', 6552), ('한가', 6553), ('들었다', 6554), ('분명', 6555), ('동상이몽', 6556), ('임상', 6557), ('부르지', 6558), ('인수', 6559), ('기회인가', 6560), ('펀더멘털', 6561), ('자금이', 6562), ('리콜', 6563), ('유예', 6564), ('합병', 6565), ('지급', 6566), ('상단', 6567), ('워런', 6568), ('두기', 6569), ('맹', 6570), ('불러온', 6571), ('다를까', 6572), ('두각', 6573), ('달았다', 6574), ('점은', 6575), ('김현빈의', 6576), ('반전의', 6577), ('슬랙', 6578), ('보잉', 6579), ('신호인가', 6580), ('절벽', 6581), ('아우성', 6582), ('장갑', 6583), ('무제한', 6584), ('내놓은', 6585), ('운용', 6586), ('황세운의', 6587), ('진원지', 6588), ('텔레그램', 6589), ('도산', 6590), ('시총', 6591), ('이례적', 6592), ('몰린다', 6593), ('열기', 6594), ('반등의', 6595), ('스톱', 6596), ('산유국', 6597), ('악순환', 6598), ('만의', 6599), ('진도', 6600), ('리아', 6601), ('급부상', 6602), ('급물살', 6603), ('전방위', 6604), ('불황의', 6605), ('개국', 6606), ('유가도', 6607), ('됐나', 6608), ('만선', 6609), ('서킷브레이커', 6610), ('셀링', 6611), ('급감', 6612), ('오니', 6613), ('주문', 6614), ('쇄도', 6615), ('므누신', 6616), ('이노', 6617), ('에치에프알', 6618), ('못막았다', 6619), ('늦었다', 6620), ('총재', 6621), ('단행', 6622), ('낮춰야', 6623), ('내성', 6624), ('외인', 6625), ('실종', 6626), ('난국', 6627), ('시행', 6628), ('년래', 6629), ('안간힘', 6630), ('부도', 6631), ('대만은', 6632), ('여력', 6633), ('기술주', 6634), ('하향', 6635), ('주범', 6636), ('안돼요', 6637), ('멈춰선', 6638), ('채용', 6639), ('투매', 6640), ('덮쳤다', 6641), ('아직은', 6642), ('고수익', 6643), ('추구', 6644), ('감세', 6645), ('과도', 6646), ('요동', 6647), ('출렁', 6648), ('셀', 6649), ('어닝', 6650), ('전력', 6651), ('하락이', 6652), ('출', 6653), ('구글', 6654), ('이전', 6655), ('텍', 6656), ('중순', 6657), ('고점', 6658), ('꽉', 6659), ('출구', 6660), ('주차', 6661), ('자녀를', 6662), ('인당', 6663), ('신념', 6664), ('완판', 6665), ('경영권', 6666), ('분쟁에', 6667), ('한진칼', 6668), ('의장', 6669), ('체감', 6670), ('더하다', 6671), ('노려라', 6672), ('공조', 6673), ('여파', 6674), ('접근', 6675), ('소외된', 6676), ('재택근무', 6677), ('도화선', 6678), ('조정의', 6679), ('엑시트', 6680), ('대유행', 6681), ('정유', 6682), ('일일', 6683), ('너나', 6684), ('첩첩산중', 6685), ('효율적인', 6686), ('추세', 6687), ('허가', 6688), ('워즈', 6689), ('팀에게', 6690), ('내구성', 6691), ('성과', 6692), ('빨간불', 6693), ('창궐', 6694), ('성적표', 6695), ('먹구름', 6696), ('록', 6697), ('처한', 6698), ('칵테일', 6699), ('악', 6700), ('폴드', 6701), ('우버', 6702), ('소재', 6703), ('지뢰밭', 6704), ('엔지니어링', 6705), ('살을', 6706), ('비중', 6707), ('퀄컴', 6708), ('부추기는', 6709), ('덮친', 6710), ('손정의', 6711), ('이끌고', 6712), ('전체', 6713), ('디지털', 6714), ('편입', 6715), ('패턴', 6716), ('들썩이는', 6717), ('모토로라', 6718), ('부작용', 6719), ('뒷북', 6720), ('신한', 6721), ('가입자', 6722), ('누르기', 6723), ('찍을까', 6724), ('이어질까', 6725), ('깨지나', 6726), ('박차', 6727), ('회수', 6728), ('난항', 6729), ('우와', 6730), ('성능', 6731), ('머니', 6732), ('자금난', 6733), ('가중', 6734), ('쓰다', 6735), ('결제', 6736), ('훨훨', 6737), ('비엠', 6738), ('설립', 6739), ('질병', 6740), ('파문', 6741), ('격돌', 6742), ('브랜드', 6743), ('최소화', 6744), ('진다고', 6745), ('버는', 6746), ('반복', 6747), ('화답', 6748), ('화재', 6749), ('박우신의', 6750), ('잡겠다고', 6751), ('한명도', 6752), ('아마존', 6753), ('면죄부', 6754), ('설까', 6755), ('호조', 6756), ('지연', 6757), ('오르나', 6758), ('힌트를', 6759), ('얻다', 6760), ('일만', 6761), ('신경전', 6762), ('보유주', 6763), ('부품', 6764), ('하려면', 6765), ('남매의', 6766), ('턴어', 6767), ('개장', 6768), ('특보', 6769), ('전염', 6770), ('웃을', 6771), ('비트코인', 6772), ('세대가', 6773), ('가던', 6774), ('말만', 6775), ('작년', 6776), ('지나친', 6777), ('유리', 6778), ('반영', 6779), ('부진한', 6780), ('청신호', 6781), ('신차', 6782), ('변동', 6783), ('바텍', 6784), ('력은', 6785), ('증인', 6786), ('세뱃돈', 6787), ('백서', 6788), ('가봤다', 6789), ('어쩌나', 6790), ('붐', 6791), ('곳은', 6792), ('하필', 6793), ('쏠린', 6794), ('다보스포럼', 6795), ('정곡', 6796), ('찔렀다', 6797), ('훈풍', 6798), ('부족', 6799), ('체', 6800), ('베팅', 6801), ('비싸', 6802), ('발끈', 6803), ('공간을', 6804), ('빛을', 6805), ('열일할', 6806), ('신고가', 6807), ('줄기세포', 6808), ('연구', 6809), ('재편', 6810), ('청탁', 6811), ('감정원', 6812), ('국유', 6813), ('내야', 6814), ('쾌청', 6815), ('맑음', 6816), ('투명', 6817), ('태양', 6818), ('전지', 6819), ('문턱', 6820), ('하드', 6821), ('중기', 6822), ('피한', 6823), ('대이란', 6824), ('이것에', 6825), ('기억하시나요', 6826), ('부가', 6827), ('다가온', 6828), ('체리', 6829), ('한채', 6830), ('먹힐까', 6831), ('러셀', 6832), ('기록해', 6833), ('악몽', 6834), ('화두', 6835), ('재진입', 6836), ('이라크', 6837), ('앞서는', 6838), ('정산', 6839), ('선점', 6840), ('과장', 6841), ('내정', 6842), ('달린다', 6843), ('올인', 6844), ('하드웨어', 6845), ('대내외', 6846), ('경신', 6847), ('이지', 6848), ('비싸도', 6849), ('만지작', 6850), ('한해', 6851), ('불균형', 6852), ('항소', 6853), ('만삭스', 6854), ('수렁', 6855), ('존슨', 6856), ('수정안', 6857), ('근거', 6858), ('성탄절', 6859), ('답은', 6860), ('딜리', 6861), ('틀렸어', 6862), ('토종', 6863), ('갖는', 6864), ('속속', 6865), ('이상훈', 6866), ('수급진단', 6867), ('징조', 6868), ('한숨', 6869), ('원에', 6870), ('담고', 6871), ('수출통제', 6872), ('지각', 6873), ('종지부', 6874), ('에스퍼', 6875), ('배상', 6876), ('타결', 6877), ('유럽연합', 6878), ('매직', 6879), ('수준인데', 6880), ('불꽃', 6881), ('바뀐다', 6882), ('상장', 6883), ('말인가', 6884), ('소추안', 6885), ('부과', 6886), ('로켓맨', 6887), ('대대적', 6888), ('증거인멸', 6889), ('유죄', 6890), ('포지션', 6891), ('낙관론', 6892), ('태도', 6893), ('주가와', 6894), ('날카로운', 6895), ('김대현', 6896), ('소장', 6897), ('셰일', 6898), ('운송', 6899), ('작성', 6900), ('맘', 6901), ('편히', 6902), ('지켜보', 6903), ('그때는', 6904), ('받나', 6905), ('좌지우지', 6906), ('놈', 6907), ('리더', 6908), ('귀환', 6909), ('차별화', 6910), ('공세', 6911), ('피하', 6912), ('치매', 6913), ('ㅇㅇ', 6914), ('스몰딜', 6915), ('인권법', 6916), ('점이', 6917), ('오를까', 6918), ('적자', 6919), ('강조한', 6920), ('낙하산', 6921), ('철강', 6922), ('벽', 6923), ('마트', 6924), ('인민', 6925), ('아세안', 6926), ('이끄는', 6927), ('연내', 6928), ('신흥국', 6929), ('헨리', 6930), ('나갈', 6931), ('이어진다', 6932), ('뉴', 6933), ('유력', 6934), ('보석', 6935), ('궁지에', 6936), ('일국양제', 6937), ('무장', 6938), ('일촉즉발', 6939), ('외무성', 6940), ('버즈', 6941), ('과제', 6942), ('싹쓸이', 6943), ('랜딩', 6944), ('발송', 6945), ('취', 6946), ('패자', 6947), ('어떡', 6948), ('수면', 6949), ('말로만', 6950), ('갖춘', 6951), ('공룡', 6952), ('저작권', 6953), ('돈맥경화', 6954), ('더블로', 6955), ('족쇄', 6956), ('빅뱅', 6957), ('뒷통수', 6958), ('표현', 6959), ('외톨이', 6960), ('동의', 6961), ('마라톤', 6962), ('대안', 6963), ('불명예', 6964), ('놓치면', 6965), ('개동', 6966), ('유령이', 6967), ('최저', 6968), ('공략법', 6969), ('모어', 6970), ('맥스', 6971), ('채권', 6972), ('의심', 6973), ('분한테', 6974), ('연락이', 6975), ('한마디만', 6976), ('미쳤습니', 6977), ('충성', 6978), ('명한테', 6979), ('사라져야', 6980), ('돌진', 6981), ('랜섬웨어에', 6982), ('깰수', 6983), ('신캐가', 6984), ('영웅의', 6985), ('몇몇', 6986), ('스터', 6987), ('바뀝니다', 6988), ('셀럽', 6989), ('시의', 6990), ('올립니다', 6991), ('줬습니', 6992), ('조회수', 6993), ('패치', 6994), ('더가', 6995), ('미쳤네', 6996), ('피시방', 6997), ('아트', 6998), ('방도', 6999), ('사기일까', 7000), ('자라는', 7001), ('마법을', 7002), ('닭다리', 7003), ('두개', 7004), ('닌텐도', 7005), ('전설로만', 7006), ('듣던', 7007), ('코인', 7008), ('워요', 7009), ('콜오브듀티', 7010), ('보단', 7011), ('리퍼가', 7012), ('팟지', 7013), ('들으면', 7014), ('모드를', 7015), ('망했', 7016), ('모드가', 7017), ('만봐도', 7018), ('아냐고', 7019), ('자리야', 7020), ('손보다', 7021), ('개를', 7022), ('겼습니다', 7023), ('없었습니다', 7024), ('서든어택', 7025), ('트위치', 7026), ('닉네임이', 7027), ('시그마는', 7028), ('노란딱지', 7029), ('팬심', 7030), ('님이랑', 7031), ('시야가', 7032), ('참고', 7033), ('파쿠르', 7034), ('느려지면', 7035), ('장르가', 7036), ('유즈맵', 7037), ('인들은', 7038), ('점수', 7039), ('우주로', 7040), ('신스킨', 7041), ('얻기', 7042), ('확률', 7043), ('치트키', 7044), ('죽으면', 7045), ('신개념', 7046), ('못깨는', 7047), ('중간에', 7048), ('하겠습니', 7049), ('세대의', 7050), ('바티', 7051), ('불리는', 7052), ('브론즈', 7053), ('ㅋ대', 7054), ('해명하', 7055), ('빌런', 7056), ('ㅋ게', 7057), ('놓는', 7058), ('신맵', 7059), ('파리', 7060), ('국가대', 7061), ('항전', 7062), ('라인하르', 7063), ('화나서', 7064), ('맵을', 7065), ('리퍼', 7066), ('상자', 7067), ('공간', 7068), ('캠키고', 7069), ('유저의', 7070), ('애쉬', 7071), ('레이싱휠로', 7072), ('합쳐서', 7073), ('핵의심', 7074), ('하다하다', 7075), ('알면', 7076), ('어쩔수', 7077), ('왔던', 7078), ('같습니다', 7079), ('시비거는', 7080), ('갑니', 7081), ('똑같', 7082), ('미치게', 7083), ('만명기념', 7084), ('레인저', 7085), ('부산맵', 7086), ('고마워', 7087), ('참았습니다', 7088), ('수만', 7089), ('묵념', 7090), ('해킹하', 7091), ('천명을', 7092), ('수십', 7093), ('었습니', 7094), ('있으니', 7095), ('안됩니다', 7096), ('재원', 7097), ('겠', 7098), ('등의', 7099), ('미친놈', 7100), ('그건', 7101), ('흔히', 7102), ('게이머를', 7103), ('무라', 7104), ('혔더니', 7105), ('욕을', 7106), ('픽', 7107), ('의날', 7108), ('개그', 7109), ('곤지암', 7110), ('스포', 7111), ('버니맨', 7112), ('팀에', 7113), ('검', 7114), ('화나면', 7115), ('구경하고', 7116), ('길래', 7117), ('단편', 7118), ('미쳐날뛰는', 7119), ('사나', 7120), ('다닌', 7121), ('볼스카야', 7122), ('거점', 7123), ('스킨', 7124), ('차예선', 7125), ('풍순이', 7126), ('애견카페', 7127), ('갔습니다', 7128), ('아마도', 7129), ('사과를', 7130), ('조장', 7131), ('재원그릴스', 7132), ('사막', 7133), ('제외시켜', 7134), ('한놈만', 7135), ('음주워치', 7136), ('메이코패', 7137), ('짜릿한', 7138), ('채팅', 7139), ('초심', 7140), ('생긴다면', 7141), ('아나로', 7142), ('감정표현', 7143), ('포탑', 7144), ('끄는', 7145), ('치를', 7146), ('우주방어술', 7147), ('슬픔', 7148), ('이태준님', 7149), ('파라는', 7150), ('호스팅', 7151), ('떠납니다', 7152), ('페북', 7153), ('러너웨이', 7154), ('탱고', 7155), ('춤', 7156), ('큰그림', 7157), ('그자체', 7158), ('갈고리', 7159), ('이가', 7160), ('이스', 7161), ('아들이', 7162), ('아무나', 7163), ('빠', 7164), ('너희들이', 7165), ('똑똑', 7166), ('재웃', 7167), ('시끄러움', 7168), ('지능적', 7169), ('지상', 7170), ('전투', 7171), ('진영', 7172), ('만원빵', 7173), ('아도', 7174), ('힌다', 7175), ('캠페인', 7176), ('온몸', 7177), ('팬분들이', 7178), ('주신', 7179), ('훈훈', 7180), ('왕자님', 7181), ('안좋다고', 7182), ('무얼', 7183), ('상쾌', 7184), ('괜히', 7185), ('남아', 7186), ('까기', 7187), ('하랬더니', 7188), ('파트너', 7189), ('나우유씨미', 7190), ('몽몽애', 7191), ('나타', 7192), ('논개하르트', 7193), ('포즈', 7194), ('성연이', 7195), ('유쾌한', 7196), ('들한테', 7197), ('꽃보다', 7198), ('최', 7199), ('오신걸', 7200), ('미안하다', 7201), ('생긴일', 7202), ('인싸가', 7203), ('굳이', 7204), ('기묘한', 7205), ('어드벤쳐', 7206), ('이즈', 7207), ('질을', 7208), ('랩', 7209), ('의자', 7210), ('아닐까', 7211), ('가리지', 7212), ('력이', 7213), ('인류의', 7214), ('겜', 7215), ('마을', 7216), ('구할', 7217), ('외길', 7218), ('동화', 7219), ('정상적', 7220), ('에게서', 7221), ('모험을', 7222), ('좋을', 7223), ('뭐에요', 7224), ('버튼을', 7225), ('고민상담', 7226), ('무를', 7227), ('방에게', 7228), ('진화를', 7229), ('어린시절', 7230), ('못된', 7231), ('롤을', 7232), ('없습니다', 7233), ('술을', 7234), ('보시면', 7235), ('랴', 7236), ('원장', 7237), ('돌을', 7238), ('개와', 7239), ('만원이', 7240), ('화나게', 7241), ('주방장', 7242), ('딱봐도', 7243), ('지를', 7244), ('해봅시다', 7245), ('때부터', 7246), ('미용실', 7247), ('돌이', 7248), ('와우', 7249), ('클래', 7250), ('모아', 7251), ('마시지', 7252), ('졌습니다', 7253), ('탑', 7254), ('산책하', 7255), ('어색한', 7256), ('뭐라', 7257), ('졸업', 7258), ('사실은', 7259), ('잃지', 7260), ('하기로', 7261), ('걸려서', 7262), ('폐허가', 7263), ('답이', 7264), ('깨요', 7265), ('깰', 7266), ('괴상한', 7267), ('방귀', 7268), ('못사는', 7269), ('들끓는', 7270), ('붙잡고', 7271), ('성대결', 7272), ('참지', 7273), ('왔는데', 7274), ('얽힌', 7275), ('하자고', 7276), ('심심한', 7277), ('버튼', 7278), ('누르시겠습니까', 7279), ('여피', 7280), ('라스푸틴', 7281), ('배속', 7282), ('늦게', 7283), ('사태가', 7284), ('미치셨습니까', 7285), ('재롱', 7286), ('맞습니다', 7287), ('때다', 7288), ('농사를', 7289), ('잊을', 7290), ('네가', 7291), ('나가고', 7292), ('마는', 7293), ('알고보', 7294), ('학년', 7295), ('지키지', 7296), ('흠믐므', 7297), ('얼초로', 7298), ('버가', 7299), ('슈에게', 7300), ('영어를', 7301), ('보드카', 7302), ('많습니다', 7303), ('목이', 7304), ('아파서', 7305), ('과식', 7306), ('알파고를', 7307), ('외치다', 7308), ('레지던트', 7309), ('이블', 7310), ('심즈', 7311), ('회차', 7312), ('먹읍시다', 7313), ('생겼습니다', 7314), ('서로의', 7315), ('얼음', 7316), ('써서', 7317), ('냉혹한', 7318), ('고통은', 7319), ('해운대', 7320), ('만원짜리', 7321), ('등신', 7322), ('에필로그', 7323), ('룸', 7324), ('십시오', 7325), ('스펙', 7326), ('뇌에', 7327), ('아바타', 7328), ('발디', 7329), ('찾은', 7330), ('갈아', 7331), ('이기심', 7332), ('솜', 7333), ('큐', 7334), ('믿습니다', 7335), ('페퍼로니', 7336), ('하마', 7337), ('있네', 7338), ('이에요', 7339), ('치다', 7340), ('무비', 7341), ('훈수송', 7342), ('부르기', 7343), ('웁니다', 7344), ('죽소', 7345), ('테니스', 7346), ('삶을', 7347), ('비켜', 7348), ('발로', 7349), ('하품', 7350), ('화제', 7351), ('입이', 7352), ('기회만', 7353), ('말까', 7354), ('캠프', 7355), ('나와서', 7356), ('이리', 7357), ('지르면', 7358), ('모아서', 7359), ('잘라', 7360), ('상담', 7361), ('후엠', 7362), ('도로시', 7363), ('굶고', 7364), ('동굴', 7365), ('세레나데', 7366), ('하우스', 7367), ('플리퍼', 7368), ('님은', 7369), ('랩을', 7370), ('아무것도', 7371), ('일에', 7372), ('외로운', 7373), ('타강사', 7374), ('하려고', 7375), ('나나', 7376), ('둘이서', 7377), ('스푸키', 7378), ('스케어', 7379), ('맨션', 7380), ('물어봤', 7381), ('중고로운', 7382), ('사랑해', 7383), ('스포티걸과', 7384), ('가야', 7385), ('에리의', 7386), ('어려움', 7387), ('그림', 7388), ('곤볼', 7389), ('코미디언', 7390), ('일들', 7391), ('조커', 7392), ('페미니즘', 7393), ('아무', 7394), ('아름다', 7395), ('집의', 7396), ('작', 7397), ('이미지를', 7398), ('심을', 7399), ('딸을', 7400), ('스러운', 7401), ('션의', 7402), ('신과', 7403), ('요약', 7404), ('픽사의', 7405), ('소방관이', 7406), ('중고', 7407), ('실화에', 7408), ('앞서', 7409), ('나간', 7410), ('대변', 7411), ('한자리에', 7412), ('이상의', 7413), ('킹스맨', 7414), ('고향', 7415), ('형태', 7416), ('소년이', 7417), ('극의', 7418), ('케빈', 7419), ('걷는', 7420), ('픽사', 7421), ('덕후들은', 7422), ('마을에', 7423), ('결말', 7424), ('외치는', 7425), ('추격자', 7426), ('곡성', 7427), ('조제', 7428), ('다크나이트', 7429), ('토니', 7430), ('크가', 7431), ('적은', 7432), ('사용한', 7433), ('영생', 7434), ('부모를', 7435), ('해버린', 7436), ('위는', 7437), ('예정', 7438), ('유전자', 7439), ('지출', 7440), ('죽기', 7441), ('생체', 7442), ('발견된', 7443), ('호구', 7444), ('영혼', 7445), ('영원히', 7446), ('쫓겨난', 7447), ('증의', 7448), ('포스터', 7449), ('갔는데', 7450), ('보기전', 7451), ('오른손을', 7452), ('랩퍼', 7453), ('고대', 7454), ('본능을', 7455), ('분을', 7456), ('억짜리', 7457), ('윌리엄스', 7458), ('피규어', 7459), ('폭군', 7460), ('신비한', 7461), ('성인', 7462), ('트랜스포머', 7463), ('저주가', 7464), ('워의', 7465), ('싶으십니까', 7466), ('하다면', 7467), ('미드', 7468), ('장착한', 7469), ('만남에', 7470), ('돌연변이', 7471), ('자란', 7472), ('억의', 7473), ('써', 7474), ('지키려는', 7475), ('뇌를', 7476), ('부숴졌다', 7477), ('애를', 7478), ('전투용', 7479), ('삐에로', 7480), ('가디언즈', 7481), ('막장', 7482), ('저스티스', 7483), ('시빌워', 7484), ('메리', 7485), ('삼대장', 7486), ('엑스맨', 7487), ('베낀', 7488), ('칼', 7489), ('목욕시', 7490), ('안한다', 7491), ('네팔', 7492), ('기념해', 7493), ('졸려', 7494), ('버릇을', 7495), ('아리명화', 7496), ('보안관', 7497), ('한발', 7498), ('콜로세움', 7499), ('가방을', 7500), ('자리를', 7501), ('패를', 7502), ('가까이서', 7503), ('안겨', 7504), ('사냥감을', 7505), ('방지하기', 7506), ('리믹스', 7507), ('집안', 7508), ('쳇바퀴', 7509), ('물리면', 7510), ('퇴사', 7511), ('특이점이', 7512), ('먹이기', 7513), ('초호화', 7514), ('스킨쉽', 7515), ('분양샵을', 7516), ('장점과', 7517), ('뷔페', 7518), ('파멸의', 7519), ('건너온', 7520), ('수컷', 7521), ('모자', 7522), ('가만히', 7523), ('누워서', 7524), ('숲속의', 7525), ('깎기', 7526), ('퇴근', 7527), ('냥냥', 7528), ('스크래쳐', 7529), ('삼총사', 7530), ('대장이', 7531), ('사냥꾼', 7532), ('먹였더니', 7533), ('어리둥절', 7534), ('도리야', 7535), ('턱시도', 7536), ('호섭이', 7537), ('놀고', 7538), ('눈빛의', 7539), ('사료를', 7540), ('너덜너덜한', 7541), ('거실에', 7542), ('뀨', 7543), ('수액', 7544), ('기승전', 7545), ('약욕', 7546), ('설거지', 7547), ('수다떨기', 7548), ('평소', 7549), ('물에', 7550), ('살살', 7551), ('화해를', 7552), ('군기', 7553), ('어서', 7554), ('책을', 7555), ('한번씩', 7556), ('후에', 7557), ('지켜라', 7558), ('뒤끝쟁이', 7559), ('삐짐', 7560), ('마구마구', 7561), ('껴안고', 7562), ('따스한', 7563), ('범묘는', 7564), ('티격태격', 7565), ('한대', 7566), ('릿', 7567), ('습식파우치', 7568), ('경련이', 7569), ('무선', 7570), ('무편집', 7571), ('관찰일지', 7572), ('놀기', 7573), ('기는', 7574), ('있어서', 7575), ('는건', 7576), ('떠났습니다', 7577), ('작다', 7578), ('두번', 7579), ('다신', 7580), ('두지', 7581), ('특식', 7582), ('손님이', 7583), ('구해준', 7584), ('썸넬은', 7585), ('악개', 7586), ('삼이', 7587), ('털을', 7588), ('용감', 7589), ('짖는', 7590), ('소녀팬', 7591), ('차려주기', 7592), ('려다', 7593), ('이애오', 7594), ('투닥투닥', 7595), ('뺏어', 7596), ('튕겨서', 7597), ('피땀', 7598), ('기를', 7599), ('운다', 7600), ('외로움', 7601), ('봄여사', 7602), ('어릴때나', 7603), ('이나', 7604), ('제트', 7605), ('삘', 7606), ('우다다', 7607), ('아는척을', 7608), ('졸귀탱', 7609), ('소이의', 7610), ('되버린', 7611), ('무념무상', 7612), ('않습니다', 7613), ('환묘를', 7614), ('나비의', 7615), ('회고록', 7616), ('과자', 7617), ('천식', 7618), ('앵무새', 7619), ('냥글냥글', 7620), ('권법', 7621), ('새가', 7622), ('되라', 7623), ('찍기', 7624), ('비애', 7625), ('도수리', 7626), ('발라당', 7627), ('ㅡ', 7628), ('먹이는', 7629), ('남겨주세요', 7630), ('고군분투', 7631), ('후새', 7632), ('개적이', 7633), ('어진', 7634), ('행시', 7635), ('버렸어요', 7636), ('개미', 7637), ('얘는', 7638), ('커뮤니티를', 7639), ('안열어주니까', 7640), ('드르렁', 7641), ('발정이', 7642), ('어르', 7643), ('디포리', 7644), ('줘봤어요', 7645), ('무적', 7646), ('피는', 7647), ('ㄱㅏ끔', 7648), ('원룸', 7649), ('나왔던', 7650), ('졸', 7651), ('즐거', 7652), ('체조', 7653), ('혹사', 7654), ('막내', 7655), ('튀어', 7656), ('유기묘', 7657), ('올려', 7658), ('병든', 7659), ('안락사', 7660), ('처참한', 7661), ('떠돌던', 7662), ('담겨', 7663), ('매달린', 7664), ('발꾸락', 7665), ('안마', 7666), ('필', 7667), ('무지', 7668), ('도리가', 7669), ('감금', 7670), ('쓸어', 7671), ('침', 7672), ('졸귀', 7673), ('구경', 7674), ('관찰', 7675), ('나갈래', 7676), ('빙ㅋ', 7677), ('걷게', 7678), ('인형을', 7679), ('갖다', 7680), ('주워온', 7681), ('주운', 7682), ('옴', 7683), ('물통', 7684), ('막았을', 7685), ('잠자', 7686), ('자기도', 7687), ('말려야', 7688), ('부리는', 7689), ('하품할', 7690), ('통금', 7691), ('어기면', 7692), ('다친', 7693), ('사고로', 7694), ('술에', 7695), ('불이', 7696), ('뗄', 7697), ('흘리며', 7698), ('깨', 7699), ('안았을', 7700), ('내도', 7701), ('부수고', 7702), ('눕는', 7703), ('꼬집었을', 7704), ('외박하고', 7705), ('숏', 7706), ('어미에게', 7707), ('펫샵', 7708), ('취해', 7709), ('코를', 7710), ('바깥', 7711), ('리트', 7712), ('지독한', 7713), ('하염', 7714), ('해주네요', 7715), ('줄까', 7716), ('만지라고', 7717), ('버림', 7718), ('안기는', 7719), ('나서', 7720), ('하악질하', 7721), ('잠드는', 7722), ('심하게', 7723), ('깨면', 7724), ('기절한', 7725), ('살던', 7726), ('자면', 7727), ('물면', 7728), ('랍스터', 7729), ('배부른', 7730), ('턱걸이', 7731), ('영역을', 7732), ('사냥할', 7733), ('맹수가', 7734), ('진행할', 7735), ('졸릴', 7736), ('혀', 7737), ('미로에', 7738), ('잡힌', 7739), ('만질', 7740), ('가르치기', 7741), ('발이', 7742), ('와주세요', 7743), ('구분', 7744), ('되네', 7745), ('물렸어요', 7746), ('선배', 7747), ('취급', 7748), ('만났을', 7749), ('놀랐다', 7750), ('여쭤봤다', 7751), ('목줄', 7752), ('일령', 7753), ('아파요', 7754), ('갑수목장의', 7755), ('성질', 7756), ('온날', 7757), ('문을', 7758), ('하시바', 7759), ('털려버린', 7760), ('체력', 7761), ('바뀔', 7762), ('기사님', 7763), ('수술한', 7764), ('되게', 7765), ('살이', 7766), ('견과', 7767), ('놀랐어요', 7768), ('대게', 7769), ('뜨면', 7770), ('박관용', 7771), ('즉석', 7772), ('쫄리나', 7773), ('잡', 7774), ('이십대', 7775), ('김예령', 7776), ('구호', 7777), ('목숨걸', 7778), ('오만하고', 7779), ('비유한', 7780), ('단일화', 7781), ('동작을', 7782), ('맨발', 7783), ('짓밟힌', 7784), ('토착왜구', 7785), ('평정', 7786), ('딸', 7787), ('윤봉길', 7788), ('할거라', 7789), ('불의에', 7790), ('열광적', 7791), ('살릴래', 7792), ('인품', 7793), ('섬기는', 7794), ('격려', 7795), ('역쉬', 7796), ('일당', 7797), ('김상교', 7798), ('실세', 7799), ('오든지', 7800), ('말든지', 7801), ('발칵', 7802), ('박창훈', 7803), ('전도사', 7804), ('생가터', 7805), ('유가족', 7806), ('군의', 7807), ('위안부', 7808), ('얘기를', 7809), ('숙은', 7810), ('전우', 7811), ('반일감정', 7812), ('호크', 7813), ('탄도', 7814), ('한맺힌', 7815), ('오죽', 7816), ('위법행위', 7817), ('한을', 7818), ('분당', 7819), ('되시길', 7820), ('스탭진', 7821), ('기만', 7822), ('쐈다', 7823), ('대인배', 7824), ('날선', 7825), ('탈락', 7826), ('크고', 7827), ('얻었다', 7828), ('대책위원회', 7829), ('뒤늦게', 7830), ('단체들', 7831), ('발안권', 7832), ('개판', 7833), ('투사', 7834), ('뒷목', 7835), ('이재수장군의', 7836), ('고의', 7837), ('침묵', 7838), ('깨갱', 7839), ('카이', 7840), ('조목조목', 7841), ('개무시', 7842), ('고발하라', 7843), ('압수', 7844), ('짤', 7845), ('김근태', 7846), ('꽁무니', 7847), ('애써', 7848), ('못들은', 7849), ('의도', 7850), ('민낯과', 7851), ('바라는', 7852), ('했으나', 7853), ('집념의', 7854), ('완승', 7855), ('악의적', 7856), ('비하', 7857), ('쫄아서', 7858), ('문의', 7859), ('상인들', 7860), ('벼르고', 7861), ('있기를', 7862), ('원숭아', 7863), ('봤냐', 7864), ('봤냐고', 7865), ('공직', 7866), ('명예훼손', 7867), ('할래', 7868), ('배후는', 7869), ('저승사자', 7870), ('박창훈의', 7871), ('컷오프', 7872), ('보루', 7873), ('내외부', 7874), ('텅빈', 7875), ('나락', 7876), ('살겠다고', 7877), ('시청에', 7878), ('어버버', 7879), ('이런게', 7880), ('비선실세', 7881), ('그룹', 7882), ('득세', 7883), ('소상공', 7884), ('배포', 7885), ('나눠주는', 7886), ('박대출의', 7887), ('어용', 7888), ('임무', 7889), ('협', 7890), ('강규형', 7891), ('김준교', 7892), ('던졌다', 7893), ('과감한', 7894), ('좋다고', 7895), ('국무총리', 7896), ('서민의', 7897), ('강하게', 7898), ('헐레벌떡', 7899), ('조직적', 7900), ('자충수로', 7901), ('치나', 7902), ('아부지', 7903), ('비책', 7904), ('수줍은', 7905), ('포옹', 7906), ('연수원', 7907), ('사제', 7908), ('무시한', 7909), ('기어이', 7910), ('의지', 7911), ('한강의', 7912), ('유기준', 7913), ('기여', 7914), ('정갑윤', 7915), ('되겠다', 7916), ('심경', 7917), ('화답한', 7918), ('인에', 7919), ('시한부', 7920), ('수당', 7921), ('이루겠다', 7922), ('상체', 7923), ('공안', 7924), ('오일팔', 7925), ('말도', 7926), ('프란체스카', 7927), ('입문', 7928), ('없냐', 7929), ('하야하라', 7930), ('초강수', 7931), ('실토', 7932), ('두렵다는', 7933), ('무력화', 7934), ('김용식', 7935), ('당협위원장', 7936), ('버럭', 7937), ('합당', 7938), ('희롱', 7939), ('아쉽다', 7940), ('뿔난', 7941), ('대노', 7942), ('묘수가', 7943), ('학규', 7944), ('놓쳤다', 7945), ('통제', 7946), ('정체불명', 7947), ('김명연', 7948), ('절박한', 7949), ('폭정', 7950), ('당과', 7951), ('선봉에', 7952), ('임하라', 7953), ('행적', 7954), ('하다고', 7955), ('진보', 7956), ('흔든', 7957), ('하명', 7958), ('개로', 7959), ('대연합', 7960), ('기원', 7961), ('반납', 7962), ('갱수야', 7963), ('바둑아', 7964), ('가야지', 7965), ('경인', 7966), ('굴욕', 7967), ('최공재', 7968), ('유학', 7969), ('이중성', 7970), ('한바탕', 7971), ('반성', 7972), ('제자들도', 7973), ('패키지로', 7974), ('대단한', 7975), ('출사표', 7976), ('세우자', 7977), ('현명한', 7978), ('소주성', 7979), ('실측', 7980), ('제압', 7981), ('왜이래', 7982), ('묵묵히', 7983), ('거역', 7984), ('삼각대', 7985), ('상징', 7986), ('도심', 7987), ('놈이', 7988), ('관행', 7989), ('이언주의', 7990), ('총질', 7991), ('부친', 7992), ('효자동', 7993), ('인들과', 7994), ('겪고', 7995), ('굳은', 7996), ('한복판', 7997), ('염원', 7998), ('자업자득', 7999), ('횡포', 8000), ('참배', 8001), ('폭삭', 8002), ('팬들', 8003), ('조또몰라', 8004), ('뭐니', 8005), ('한줌도', 8006), ('뽑겠다', 8007), ('좌편향', 8008), ('심정', 8009), ('주는가', 8010), ('송인권', 8011), ('연동형', 8012), ('위헌', 8013), ('공관', 8014), ('막무가내', 8015), ('나가겠다', 8016), ('께서', 8017), ('수립중', 8018), ('할지', 8019), ('곽상도', 8020), ('배후', 8021), ('유재수', 8022), ('인들을', 8023), ('문준용', 8024), ('파헤친다', 8025), ('룰', 8026), ('없네', 8027), ('두려워', 8028), ('야합', 8029), ('부역자들을', 8030), ('대에', 8031), ('관의', 8032), ('이어질', 8033), ('조명', 8034), ('사무실', 8035), ('들에', 8036), ('법무', 8037), ('실태', 8038), ('전철', 8039), ('별동대', 8040), ('사과하라', 8041), ('인연', 8042), ('보호하라', 8043), ('가려', 8044), ('청아대', 8045), ('여유', 8046), ('돌리고', 8047), ('주최', 8048), ('단결된', 8049), ('박형철', 8050), ('불렀다', 8051), ('가만있지', 8052), ('뱅크런', 8053), ('펑펑', 8054), ('투철한', 8055), ('열악한', 8056), ('부착', 8057), ('침몰', 8058), ('버티는', 8059), ('쎈언니', 8060), ('오토웜비어', 8061), ('초청', 8062), ('테이트', 8063), ('떼법이', 8064), ('후에도', 8065), ('문씨', 8066), ('표현의', 8067), ('어마무시', 8068), ('반미종북', 8069), ('방빼라', 8070), ('있었나', 8071), ('승패는', 8072), ('찬탈', 8073), ('처하라', 8074), ('종말', 8075), ('공익', 8076), ('인권도', 8077), ('동참', 8078), ('자발적', 8079), ('내어', 8080), ('윤총경', 8081), ('좌시하지', 8082), ('성역', 8083), ('녹취파일', 8084), ('밖', 8085), ('화랑군', 8086), ('야유', 8087), ('자수', 8088), ('정의의', 8089), ('알바그다디', 8090), ('정신적', 8091), ('음해', 8092), ('경수', 8093), ('재명', 8094), ('도망', 8095), ('혼쭐', 8096), ('막겠다', 8097), ('멀쩡한', 8098), ('사령관을', 8099), ('이계성', 8100), ('신도', 8101), ('배째라', 8102), ('최순실', 8103), ('붙이는', 8104), ('묘소', 8105), ('멀지', 8106), ('터미', 8107), ('호가', 8108), ('통과시키', 8109), ('참된', 8110), ('정씨', 8111), ('조씨', 8112), ('놓인', 8113), ('일가의', 8114), ('격렬', 8115), ('난민', 8116), ('트트랙', 8117), ('곡', 8118), ('피켓', 8119), ('비호', 8120), ('박멸', 8121), ('몸상태', 8122), ('받지', 8123), ('부부', 8124), ('조권', 8125), ('허수아비', 8126), ('적반하장', 8127), ('강연재', 8128), ('야지', 8129), ('전사', 8130), ('일전', 8131), ('자신들의', 8132), ('홀', 8133), ('셋팅', 8134), ('첩', 8135), ('선배의', 8136), ('외압', 8137), ('지은', 8138), ('리기', 8139), ('기록될', 8140), ('일갈', 8141), ('구인', 8142), ('코앞', 8143), ('추정', 8144), ('해본', 8145), ('이적죄', 8146), ('외압에', 8147), ('내란죄', 8148), ('내놓았다', 8149), ('어마무시한', 8150), ('꽃밭', 8151), ('들로부터', 8152), ('채명성', 8153), ('동양대', 8154), ('미대사관', 8155), ('입구', 8156), ('학사비리', 8157), ('셋트', 8158), ('할것임', 8159), ('고삐', 8160), ('가를', 8161), ('자중지란', 8162), ('청사', 8163), ('출범', 8164), ('불과', 8165), ('지형', 8166), ('고교연합', 8167), ('노조원들의', 8168), ('장례식', 8169), ('반미시위', 8170), ('쏘겠다', 8171), ('나발이고', 8172), ('딸의', 8173), ('축출', 8174), ('소대가리가', 8175), ('상실', 8176), ('국정파탄', 8177), ('김두관', 8178), ('소속', 8179), ('염', 8180), ('태영', 8181), ('까발려줄께', 8182), ('즉각', 8183), ('간담', 8184), ('선전포고', 8185), ('갈것임', 8186), ('전대협', 8187), ('전대협이', 8188), ('건가', 8189), ('아사', 8190), ('박선영이사장', 8191), ('시키자', 8192), ('겁도', 8193), ('정준길', 8194), ('사연은', 8195), ('일때랑', 8196), ('포럼', 8197), ('김은구', 8198), ('후퇴', 8199), ('법의', 8200), ('합쳐', 8201), ('성향', 8202), ('동문', 8203), ('팟캐', 8204), ('사례에', 8205), ('보강', 8206), ('그들이', 8207), ('친일파인가', 8208), ('알기', 8209), ('하시는', 8210), ('선동에', 8211), ('고발인', 8212), ('아예', 8213), ('단체로', 8214), ('성평등', 8215), ('최선을', 8216), ('이롭게', 8217), ('거시기', 8218), ('새마을', 8219), ('고맙습니다', 8220), ('손자', 8221), ('우뚝', 8222), ('제의', 8223), ('출정식', 8224), ('자녀들을', 8225), ('이상민', 8226), ('대책은', 8227), ('인지', 8228), ('전시', 8229), ('김작가', 8230), ('배만', 8231), ('최연혜', 8232), ('차기환', 8233), ('제창', 8234), ('억은', 8235), ('박주신', 8236), ('이희범', 8237), ('코너', 8238), ('한쪽은', 8239), ('와타나베미카', 8240), ('힘차게', 8241), ('뻔한', 8242), ('자진', 8243), ('이들이', 8244), ('땀', 8245), ('최선', 8246), ('김상조', 8247), ('노란띠', 8248), ('하길', 8249), ('판문점', 8250), ('오상용', 8251), ('감들', 8252), ('기본에', 8253), ('마침내', 8254), ('지킨', 8255), ('아들은', 8256), ('반박한다', 8257), ('이애란', 8258), ('불허', 8259), ('이동호', 8260), ('부활절', 8261), ('영구적', 8262), ('사법농단', 8263), ('김대호', 8264), ('이후는', 8265), ('딴', 8266), ('정책은', 8267), ('국익', 8268), ('동족', 8269), ('천사', 8270), ('이념의', 8271), ('진압', 8272), ('관훈', 8273), ('세운', 8274), ('져야', 8275), ('국군', 8276), ('별세', 8277), ('싸늘한', 8278), ('김승규', 8279), ('표를', 8280), ('대처할', 8281), ('명물', 8282), ('구호로', 8283), ('예배', 8284), ('극명한', 8285), ('문화일보', 8286), ('수를', 8287), ('임석진', 8288), ('대남', 8289), ('받게', 8290), ('일엔', 8291), ('유엔의', 8292), ('마디', 8293), ('폭침', 8294), ('간첩', 8295), ('장의', 8296), ('진땀', 8297), ('반공', 8298), ('곤란', 8299), ('석탄', 8300), ('월급', 8301), ('부의', 8302), ('해군', 8303), ('윤청자', 8304), ('김세연', 8305), ('인물', 8306), ('견제론', 8307), ('총괄', 8308), ('지휘한다', 8309), ('유영하', 8310), ('떨리는', 8311), ('여공', 8312), ('애잔한', 8313), ('김석기', 8314), ('안했나', 8315), ('권고', 8316), ('따랐을', 8317), ('치사한', 8318), ('간다는', 8319), ('기독', 8320), ('월간조선', 8321), ('나눈', 8322), ('진술', 8323), ('좋았던', 8324), ('수표가', 8325), ('가짜가', 8326), ('실재', 8327), ('공천파동', 8328), ('수습', 8329), ('센', 8330), ('주었나', 8331), ('명중', 8332), ('명은', 8333), ('투사로', 8334), ('사망률', 8335), ('신사', 8336), ('주제에', 8337), ('주장에', 8338), ('동포', 8339), ('구출', 8340), ('논리', 8341), ('무례한', 8342), ('공천은', 8343), ('김홍걸', 8344), ('전과자', 8345), ('요원', 8346), ('손절', 8347), ('내립니다', 8348), ('마르', 8349), ('주도의', 8350), ('등공신', 8351), ('구경하기', 8352), ('교양강좌', 8353), ('써야', 8354), ('바다로', 8355), ('달렸다', 8356), ('간부', 8357), ('히틀러에게', 8358), ('내상', 8359), ('투척', 8360), ('격분한', 8361), ('조원진', 8362), ('엇갈린', 8363), ('저자', 8364), ('방역이', 8365), ('의한', 8366), ('적화', 8367), ('심하보', 8368), ('밤새', 8369), ('이동원', 8370), ('지운', 8371), ('반역의', 8372), ('청원', 8373), ('수단', 8374), ('벌금', 8375), ('인단', 8376), ('천지교', 8377), ('단죄', 8378), ('필리핀', 8379), ('청구된', 8380), ('대변인', 8381), ('아래서', 8382), ('놔', 8383), ('아부', 8384), ('더럽게', 8385), ('손발', 8386), ('묶어', 8387), ('서면', 8388), ('청구는', 8389), ('고립된', 8390), ('성주', 8391), ('눈은', 8392), ('쓰지', 8393), ('끌고', 8394), ('물자', 8395), ('이변', 8396), ('소문이', 8397), ('건다', 8398), ('가슴을', 8399), ('참전', 8400), ('에티오피아', 8401), ('총알보다', 8402), ('파견', 8403), ('공작에', 8404), ('등은', 8405), ('파괴자', 8406), ('맞다', 8407), ('싸운', 8408), ('속는', 8409), ('데도', 8410), ('후안무치', 8411), ('어머', 8412), ('헌신', 8413), ('보내고', 8414), ('동아일보', 8415), ('끌려가는', 8416), ('고아들', 8417), ('자인가', 8418), ('시키고', 8419), ('놓치고', 8420), ('동참할', 8421), ('새누리당', 8422), ('중도실용', 8423), ('안형환', 8424), ('보나', 8425), ('시녀가', 8426), ('미드웨이', 8427), ('선을', 8428), ('주에', 8429), ('닮아가는', 8430), ('안둔다', 8431), ('바꾸는', 8432), ('열중', 8433), ('예약', 8434), ('지경', 8435), ('비겁한', 8436), ('소대가리', 8437), ('총장은', 8438), ('결코', 8439), ('푸른', 8440), ('시청률', 8441), ('순복음', 8442), ('기로', 8443), ('구애', 8444), ('장군', 8445), ('마주', 8446), ('김웅', 8447), ('신년', 8448), ('장소', 8449), ('협의', 8450), ('북송', 8451), ('부산고', 8452), ('격문', 8453), ('전단지', 8454), ('고문', 8455), ('개혁은', 8456), ('총장의', 8457), ('설교', 8458), ('난데', 8459), ('우크', 8460), ('해협을', 8461), ('격추', 8462), ('이란은', 8463), ('당시', 8464), ('김씨', 8465), ('베를린', 8466), ('다행히', 8467), ('시민이', 8468), ('오냐', 8469), ('명백한', 8470), ('바그다드', 8471), ('이니', 8472), ('조직', 8473), ('리더십', 8474), ('카를로스', 8475), ('장이', 8476), ('수첩', 8477), ('중시', 8478), ('실리를', 8479), ('동문들', 8480), ('파문한다', 8481), ('타도', 8482), ('루마니아', 8483), ('개신교의', 8484), ('열성', 8485), ('빛이', 8486), ('중지', 8487), ('압력', 8488), ('부인이', 8489), ('한현민이', 8490), ('굳히기냐', 8491), ('기냐', 8492), ('개표', 8493), ('번의', 8494), ('사로잡', 8495), ('바꿀', 8496), ('웃으면서', 8497), ('멕이는', 8498), ('다큐', 8499), ('빠더너스', 8500), ('정당의', 8501), ('초월한', 8502), ('다부진', 8503), ('대들의', 8504), ('미래통합', 8505), ('들으면서', 8506), ('연세대', 8507), ('하리', 8508), ('동아리', 8509), ('이화여대', 8510), ('부산편', 8511), ('수성', 8512), ('광안리', 8513), ('정준희', 8514), ('질본', 8515), ('강타한', 8516), ('벌이는', 8517), ('스승', 8518), ('로고송', 8519), ('금남로', 8520), ('배신감', 8521), ('묘수는', 8522), ('위성정당', 8523), ('커밍쑨', 8524), ('앳된', 8525), ('어진다', 8526), ('주진형', 8527), ('희귀', 8528), ('슬기로운', 8529), ('인턴생활', 8530), ('인턴', 8531), ('내다봅시다', 8532), ('소문', 8533), ('개봉박두', 8534), ('비행', 8535), ('함장', 8536), ('그레이', 8537), ('이글', 8538), ('최첨단', 8539), ('대만과', 8540), ('이태리', 8541), ('망명', 8542), ('사전에', 8543), ('맥아더', 8544), ('일인가', 8545), ('청주', 8546), ('대문', 8547), ('태세', 8548), ('핵탄두', 8549), ('군비', 8550), ('쿠오모', 8551), ('주지사', 8552), ('고난의', 8553), ('행군', 8554), ('오산', 8555), ('신체', 8556), ('떠난', 8557), ('소련처럼', 8558), ('대결로', 8559), ('몰고', 8560), ('클', 8561), ('분담금', 8562), ('제공', 8563), ('조치는', 8564), ('작가', 8565), ('발생지', 8566), ('국무성', 8567), ('뽑으면', 8568), ('교훈은', 8569), ('국무부', 8570), ('장성', 8571), ('내놓을까', 8572), ('협력', 8573), ('안막고', 8574), ('조치들', 8575), ('내세운', 8576), ('점점', 8577), ('장성택', 8578), ('군주론', 8579), ('고립', 8580), ('한중', 8581), ('공동체론', 8582), ('정보기관', 8583), ('상태에', 8584), ('생명공동체론', 8585), ('정보위원회', 8586), ('잠수함', 8587), ('지역에', 8588), ('들까', 8589), ('전모', 8590), ('갔나', 8591), ('중인가', 8592), ('비행기들과', 8593), ('총집결', 8594), ('서양의', 8595), ('수용', 8596), ('코피', 8597), ('독자적', 8598), ('재산', 8599), ('정국', 8600), ('백두혈통', 8601), ('보댕의', 8602), ('개념은', 8603), ('왔는가', 8604), ('금강산', 8605), ('법률적', 8606), ('공연', 8607), ('작년말', 8608), ('해협', 8609), ('민간인', 8610), ('잉원', 8611), ('파도', 8612), ('독자', 8613), ('사령관', 8614), ('고유', 8615), ('이란과', 8616), ('뒷산에', 8617), ('장막', 8618), ('억류', 8619), ('리에', 8620), ('송환', 8621), ('앨리슨', 8622), ('보좌관', 8623), ('공군', 8624), ('전방위적', 8625), ('루소의', 8626), ('계약론', 8627), ('베를린장벽처럼', 8628), ('전격적', 8629), ('비건', 8630), ('태', 8631), ('령관', 8632), ('로크의', 8633), ('미군기지와', 8634), ('어던', 8635), ('플라톤의', 8636), ('동굴의', 8637), ('우화', 8638), ('교포', 8639), ('구한말', 8640), ('대원군', 8641), ('고위층', 8642), ('이하', 8643), ('서양', 8644), ('카스라', 8645), ('태프트', 8646), ('밀약', 8647), ('내놓아야', 8648), ('둥펑', 8649), ('집단사고', 8650), ('제제', 8651), ('지키기', 8652), ('원자로', 8653), ('심상', 8654), ('대선정국', 8655), ('보훈처인가', 8656), ('무너뜨', 8657), ('불량', 8658), ('공사가', 8659), ('전복전', 8660), ('스캔들', 8661), ('부른다', 8662), ('령부', 8663), ('생사를', 8664), ('샌프란시스코조약', 8665), ('문사태', 8666), ('일으킬', 8667), ('핵공유', 8668), ('협정', 8669), ('앞당긴다', 8670), ('이기고', 8671), ('쫓겨날', 8672), ('훈장', 8673), ('유대인', 8674), ('재무성', 8675), ('간첩들과', 8676), ('한미연합', 8677), ('뽑는다', 8678), ('소련의', 8679), ('비화', 8680), ('첩자들', 8681), ('레짐', 8682), ('트루먼', 8683), ('부시', 8684), ('투키디', 8685), ('개입한다', 8686), ('지역은', 8687), ('핵전력협정', 8688), ('핵전력조약', 8689), ('리선권', 8690), ('내다볼', 8691), ('북방한계선', 8692), ('방북', 8693), ('익', 8694), ('학적', 8695), ('관점', 8696), ('질서의', 8697), ('직무정지', 8698), ('쓰리썸', 8699), ('한준호', 8700), ('장하원', 8701), ('강원', 8702), ('강용석', 8703), ('동반녀', 8704), ('되찾겠다', 8705), ('신약', 8706), ('의대', 8707), ('밝히는', 8708), ('김건모', 8709), ('조민도', 8710), ('키즈', 8711), ('조민', 8712), ('이의경', 8713), ('세금도둑', 8714), ('조선족', 8715), ('털렸다', 8716), ('알았나', 8717), ('구로', 8718), ('콜센터', 8719), ('자필', 8720), ('종식', 8721), ('양보', 8722), ('진서연', 8723), ('대담', 8724), ('조언을', 8725), ('감염은', 8726), ('파괴력', 8727), ('강연회', 8728), ('경축', 8729), ('동호회', 8730), ('슈터', 8731), ('최준용', 8732), ('떡블락', 8733), ('세레모니', 8734), ('꽂아', 8735), ('필라', 8736), ('최준용의', 8737), ('슈터는', 8738), ('가드', 8739), ('르브론', 8740), ('신장', 8741), ('코트에', 8742), ('여고', 8743), ('웨', 8744), ('신촌', 8745), ('예능', 8746), ('박나래', 8747), ('쓰리세컨즈', 8748), ('풀코', 8749), ('적중', 8750), ('보겸', 8751), ('외도', 8752), ('지염둥이', 8753), ('이동준', 8754), ('눈호강', 8755), ('털러간', 8756), ('이긴다고', 8757), ('투어', 8758), ('김주성', 8759), ('이승준', 8760), ('세팀', 8761), ('왜케', 8762), ('대리만족', 8763), ('웁', 8764), ('이분', 8765), ('김준성', 8766), ('끼고도', 8767), ('끼고', 8768), ('롱', 8769), ('인용', 8770), ('자전거를', 8771), ('슛에', 8772), ('어이없', 8773), ('론다', 8774), ('토너먼트', 8775), ('왠만한', 8776), ('재능', 8777), ('매미킴', 8778), ('거인', 8779), ('실바', 8780), ('이소룡을', 8781), ('체급', 8782), ('해변', 8783), ('박재범', 8784), ('오르테가', 8785), ('평정한', 8786), ('파워와', 8787), ('처참하게', 8788), ('팀매드', 8789), ('워리어', 8790), ('김승연', 8791), ('가라데', 8792), ('중년', 8793), ('캅의', 8794), ('이래서', 8795), ('커몬', 8796), ('사범의', 8797), ('무규칙', 8798), ('발리', 8799), ('미친개', 8800), ('지하', 8801), ('무패', 8802), ('시켜버', 8803), ('체육관', 8804), ('유도', 8805), ('신인전', 8806), ('럭비', 8807), ('계를', 8808), ('졸라', 8809), ('난폭한', 8810), ('건아', 8811), ('중세시대', 8812), ('트급', 8813), ('시국에', 8814), ('청춘', 8815), ('브루노', 8816), ('닉네임', 8817), ('대첩이', 8818), ('무모한', 8819), ('일방적인', 8820), ('레슬러', 8821), ('주트', 8822), ('연상', 8823), ('대련', 8824), ('이종', 8825), ('내내', 8826), ('김종길', 8827), ('효도르', 8828), ('그레이시', 8829), ('무술이', 8830), ('도끼질', 8831), ('매트릭스', 8832), ('막히는', 8833), ('뺨치는', 8834), ('조롱하고', 8835), ('반칙', 8836), ('러시', 8837), ('동양인', 8838), ('무술의', 8839), ('쿵푸', 8840), ('소녀의', 8841), ('요청한', 8842), ('황제', 8843), ('전성기', 8844), ('쓸어버', 8845), ('무술이라', 8846), ('내민', 8847), ('양신', 8848), ('상세하게', 8849), ('릴게요', 8850), ('중딩들', 8851), ('방출', 8852), ('제구', 8853), ('헬난이도', 8854), ('레전', 8855), ('키로', 8856), ('국대의', 8857), ('첨', 8858), ('마카오갈매기', 8859), ('가격을', 8860), ('고수를', 8861), ('쥐어줘', 8862), ('블리츠볼', 8863), ('이정도', 8864), ('존엄', 8865), ('삼진쇼', 8866), ('선글라스', 8867), ('연천미라클', 8868), ('윈스', 8869), ('반박', 8870), ('좌완', 8871), ('해본다', 8872), ('포수미트', 8873), ('연습장', 8874), ('포수', 8875), ('새총', 8876), ('본사', 8877), ('애칭', 8878), ('외야', 8879), ('트볼', 8880), ('서휘', 8881), ('극강의', 8882), ('보내주세요', 8883), ('체인지업', 8884), ('겐코볼', 8885), ('왔음', 8886), ('안된', 8887), ('털림', 8888), ('모임공지', 8889), ('삼진', 8890), ('공의', 8891), ('맞춰라', 8892), ('선발전', 8893), ('공에', 8894), ('하실', 8895), ('본듯한', 8896), ('시원하', 8897), ('넥슨', 8898), ('키커', 8899), ('뭉찬', 8900), ('극딜', 8901), ('실점', 8902), ('프치히', 8903), ('바람의슈터', 8904), ('진지한', 8905), ('첼시', 8906), ('전북', 8907), ('후반전', 8908), ('곽민선', 8909), ('쇼미더머니', 8910), ('김학범', 8911), ('렉트', 8912), ('유효', 8913), ('가방', 8914), ('번리전', 8915), ('원더골', 8916), ('이영표', 8917), ('아스날', 8918), ('발롱도르', 8919), ('유상철', 8920), ('직관', 8921), ('올림', 8922), ('저희가', 8923), ('다이어', 8924), ('골대', 8925), ('모집', 8926), ('소방관', 8927), ('팰', 8928), ('투르크메니스탄', 8929), ('국대랑', 8930), ('순삭', 8931), ('배ㅋ', 8932), ('더페', 8933), ('포카', 8934), ('화는', 8935), ('이광연', 8936), ('장점', 8937), ('평점', 8938), ('폭망', 8939), ('덕', 8940), ('소고', 8941), ('헤딩', 8942), ('길고', 8943), ('정순주', 8944), ('족구', 8945), ('조원희가', 8946), ('특급게', 8947), ('코치', 8948), ('전ㅣ', 8949), ('뮤직비디오', 8950), ('법ㅣ', 8951), ('민재', 8952), ('붙는다면', 8953), ('황인범', 8954), ('남태희', 8955), ('우루과이', 8956), ('의외로', 8957), ('많음', 8958), ('칠레', 8959), ('ㅣ설기현', 8960), ('력ㅣ', 8961), ('죽빵', 8962), ('사인볼', 8963), ('꽁터뷰', 8964), ('잉글랜드', 8965), ('호나우지뉴', 8966), ('뺨', 8967), ('실착', 8968), ('노력의', 8969), ('제라드', 8970), ('휠까', 8971), ('해봄요', 8972), ('슛은', 8973), ('싶냐', 8974), ('만렙', 8975), ('경ㄱㄱ', 8976), ('베컴', 8977), ('직캠', 8978), ('허벅지', 8979), ('발ㅋ', 8980), ('공ㅋ', 8981), ('궤', 8982), ('플릭', 8983), ('마르마르', 8984), ('니션', 8985), ('증정', 8986), ('사인', 8987), ('퍼', 8988), ('블랑코', 8989), ('응용', 8990), ('원터치', 8991), ('발재간', 8992), ('강구태', 8993), ('비대칭', 8994), ('전방경사', 8995), ('극강', 8996), ('송기석', 8997), ('거북목', 8998), ('쉬움', 8999), ('루마니안', 9000), ('벌크업', 9001), ('자극이', 9002), ('정리해', 9003), ('지피티', 9004), ('벤치', 9005), ('창조', 9006), ('조초', 9007), ('모티', 9008), ('대니조', 9009), ('주간의', 9010), ('주동안', 9011), ('안한지', 9012), ('도구', 9013), ('버티면', 9014), ('두꺼운', 9015), ('유산소', 9016), ('레그컬', 9017), ('마프', 9018), ('옆구리', 9019), ('자극', 9020), ('바벨', 9021), ('키트콤', 9022), ('맨몸', 9023), ('전신무분할', 9024), ('습관', 9025), ('응용동작', 9026), ('통증이', 9027), ('잘생겨진다', 9028), ('이두를', 9029), ('감량', 9030), ('갤러리', 9031), ('빡빡이', 9032), ('에그림', 9033), ('탈모와', 9034), ('방스', 9035), ('면연력', 9036), ('간기능보호에', 9037), ('라벤다', 9038), ('화전', 9039), ('복덩이표', 9040), ('나고', 9041), ('감량하고', 9042), ('각종염증과', 9043), ('노폐물과', 9044), ('집이이사가고', 9045), ('무기력함', 9046), ('그녀의삶', 9047), ('증강', 9048), ('쑥전', 9049), ('쑥부침개', 9050), ('봄맞이리폼', 9051), ('게해봐요', 9052), ('수국그림', 9053), ('손맛칼국수와', 9054), ('천연자양강장제', 9055), ('쑥', 9056), ('항암작용', 9057), ('간에', 9058), ('지칭개나물', 9059), ('헌장화의', 9060), ('명성산의풍경', 9061), ('넣으', 9062), ('무침은', 9063), ('과봄', 9064), ('김굽기', 9065), ('면연력을', 9066), ('높여주는', 9067), ('를봅니다', 9068), ('명란알', 9069), ('봄김치', 9070), ('골다공증과', 9071), ('증강에', 9072), ('무꿀청', 9073), ('회춘에', 9074), ('면후회해요', 9075), ('행운을부르는식물', 9076), ('미니달개비', 9077), ('심신안정', 9078), ('삽목과', 9079), ('번식요령', 9080), ('해물초무침', 9081), ('한맛의', 9082), ('익어도', 9083), ('는청국장', 9084), ('확사로', 9085), ('꼬지전', 9086), ('돌솥비빔밥', 9087), ('야해요', 9088), ('누룽지', 9089), ('간해독에', 9090), ('쥐포전', 9091), ('명란알찜', 9092), ('물미역초무침', 9093), ('부대찌개', 9094), ('는부대찌개', 9095), ('하지않게', 9096), ('떡이', 9097), ('떡만두전골', 9098), ('면후회', 9099), ('위장을', 9100), ('박날', 9101), ('조림닭', 9102), ('쌈이', 9103), ('기초부터차근차근', 9104), ('굴탕', 9105), ('파래는', 9106), ('무치세요', 9107), ('상극', 9108), ('로만든', 9109), ('유자청', 9110), ('고추부각조림', 9111), ('굴무침', 9112), ('굴씻는', 9113), ('중년이아름답게', 9114), ('갱년기없', 9115), ('짜임새', 9116), ('종갓집', 9117), ('익을수록', 9118), ('도없고', 9119), ('겐이', 9120), ('들기름을', 9121), ('돌산갓', 9122), ('신선한맛', 9123), ('진한고', 9124), ('생강조청', 9125), ('기관지', 9126), ('기침혈액순환에', 9127), ('주는자연의맛', 9128), ('어묵김치', 9129), ('롱원피스', 9130), ('고멋스런옷', 9131), ('개손바느질로', 9132), ('토란전', 9133), ('토란부침개', 9134), ('속은', 9135), ('북어', 9136), ('탈모', 9137), ('종가집', 9138), ('습도', 9139), ('가습기', 9140), ('무조청', 9141), ('조청', 9142), ('가을무로', 9143), ('기부터', 9144), ('게하고', 9145), ('차로도', 9146), ('마실수', 9147), ('고추청', 9148), ('업시키는', 9149), ('맛내기', 9150), ('자색', 9151), ('락스에묻은옷얼룩지우', 9152), ('부지런한생활', 9153), ('면연력에', 9154), ('탄력에', 9155), ('고추절임', 9156), ('꽃잎', 9157), ('삶이힘드신가요', 9158), ('야채죽', 9159), ('해도새죽같고', 9160), ('소분해서', 9161), ('탄력있고', 9162), ('마꿀팩', 9163), ('더덕', 9164), ('탈모변비에', 9165), ('게찌는', 9166), ('전자렌지로찌는', 9167), ('쑤는', 9168), ('개운한맛', 9169), ('우체통', 9170), ('플라스틱', 9171), ('바구니로', 9172), ('모듬찌게', 9173), ('명품김치', 9174), ('안나게식어도', 9175), ('염분', 9176), ('땅꽁조림', 9177), ('더덕무침', 9178), ('쌍무지개와', 9179), ('과행운', 9180), ('풀넣지', 9181), ('깨잎전', 9182), ('자연의', 9183), ('인사산정호', 9184), ('민물', 9185), ('무우찌게', 9186), ('해독에', 9187), ('녹두죽', 9188), ('소확행', 9189), ('사업운이', 9190), ('청사과그림', 9191), ('룩', 9192), ('흰죽쑤기', 9193), ('어머님을', 9194), ('흰죽', 9195), ('안중근', 9196), ('아시낭독', 9197), ('야할책은', 9198), ('선착순', 9199), ('불리지', 9200), ('실내인테리어', 9201), ('만원의', 9202), ('수염', 9203), ('나무계단페인트', 9204), ('칠하기', 9205), ('테라스꾸미기', 9206), ('만만세', 9207), ('화분정리와', 9208), ('정원의', 9209), ('곰팡이찌든때', 9210), ('반짝반짝', 9211), ('의정리', 9212), ('내장지방분해', 9213), ('구이무침', 9214), ('프란', 9215), ('이뇨작용', 9216), ('의글', 9217), ('고기야채', 9218), ('와그림', 9219), ('소화기관', 9220), ('염증에', 9221), ('비우는', 9222), ('스카프와', 9223), ('옷에그린연꽃그림', 9224), ('인견천', 9225), ('사과무침', 9226), ('책속의한줄', 9227), ('조리는', 9228), ('오디농원과', 9229), ('글한줄', 9230), ('시크릿', 9231), ('을내것', 9232), ('만든위', 9233), ('지혜를낭독하라', 9234), ('행운을부르는습관', 9235), ('삶은', 9236), ('은비벼서벗겨주세요', 9237), ('는곳', 9238), ('가끔이곳에가면', 9239), ('이되요', 9240), ('오디효소', 9241), ('오디청', 9242), ('오디쥬스', 9243), ('내탓이요', 9244), ('그림과', 9245), ('노각생채', 9246), ('에별미', 9247), ('몸속노폐물', 9248), ('꼴두기', 9249), ('이예요', 9250), ('향기를식탁가득', 9251), ('레몬청', 9252), ('에활력', 9253), ('발아', 9254), ('아욱국', 9255), ('전복기초', 9256), ('사랑의', 9257), ('옷에그림', 9258), ('의글쓰기', 9259), ('리넨', 9260), ('천연팩', 9261), ('고탱탱한', 9262), ('백옥', 9263), ('쇠고기', 9264), ('햄부침', 9265), ('의향기', 9266), ('깊이', 9267), ('맛깔', 9268), ('풍수인테리어', 9269), ('해바라기그림', 9270), ('거는위치', 9271), ('수확한', 9272), ('상추쌈', 9273), ('수확한쌈', 9274), ('봄풍경', 9275), ('을부른다', 9276), ('가르기', 9277), ('통조림찌게', 9278), ('위장에', 9279), ('망촛대나물', 9280), ('엑기스로', 9281), ('강화도', 9282), ('어묵떡', 9283), ('고기쌈', 9284), ('대용', 9285), ('원추리', 9286), ('엑기스', 9287), ('러워요', 9288), ('노화', 9289), ('춘곤증에', 9290), ('미역국조랭이떡', 9291), ('사계장미', 9292), ('분갈이와', 9293), ('헌화분리폼하기', 9294), ('을좋게', 9295), ('가꾼', 9296), ('한먹', 9297), ('다듬는것부터', 9298), ('운을좋게', 9299), ('국수에', 9300), ('뇌세포활성', 9301), ('정원꾸미기', 9302), ('들꽃자수', 9303), ('테이블보', 9304), ('봄단장', 9305), ('비율을', 9306), ('썰어서', 9307), ('보약김치를', 9308), ('적채', 9309), ('보약김치의', 9310), ('시골풍경', 9311), ('봄눈', 9312), ('이쁜두건과', 9313), ('조끼', 9314), ('상차리기', 9315), ('주년기념', 9316), ('낭독한', 9317), ('언니', 9318), ('꽁치무우조림', 9319), ('중금속배출에', 9320), ('꼬돌꼬돌', 9321), ('시력에', 9322), ('명태간', 9323), ('중탕', 9324), ('생강홍초', 9325), ('귀하신손님', 9326), ('서간도에들꽃피다', 9327), ('권완간출판기념', 9328), ('색나물', 9329), ('게맛살야채전', 9330), ('맛나고', 9331), ('개의소원', 9332), ('편소원을', 9333), ('소원', 9334), ('맛기찬누룽지탕', 9335), ('뇌혈관에', 9336), ('로얄', 9337), ('제리팁', 9338), ('전부침', 9339), ('부치는', 9340), ('상추해물', 9341), ('국과겉저리', 9342), ('굴국과', 9343), ('멋지고', 9344), ('언니를', 9345), ('전골과', 9346), ('조림과', 9347), ('게하기', 9348), ('대추', 9349), ('말랭이와', 9350), ('담구기', 9351), ('고기찌개', 9352), ('고구밥', 9353), ('짜왕', 9354), ('졸업을', 9355), ('첼린지', 9356), ('세분을', 9357), ('중년이', 9358), ('이룬집과', 9359), ('그림방', 9360), ('쉬는날', 9361), ('꿀생강청', 9362), ('고농축', 9363), ('고윤기', 9364), ('흑설탕에센스', 9365), ('과미네랄이', 9366), ('소화를돕고', 9367), ('두뇌발달과안구', 9368), ('증에', 9369), ('는자반', 9370), ('당뇨', 9371), ('비만과', 9372), ('당뇨를', 9373), ('꿀맛탕', 9374), ('우거지', 9375), ('고살수', 9376), ('의정성', 9377), ('광목', 9378), ('비타민과무기질이', 9379), ('색이변한', 9380), ('꿈이이루워지는보물지', 9381), ('비이쁘게', 9382), ('번식시키는', 9383), ('만성피로개선', 9384), ('인삼', 9385), ('이쁜모자', 9386), ('숙취해소', 9387), ('임산부에', 9388), ('국과', 9389), ('라볶기', 9390), ('첫눈온', 9391), ('집눈쓸기', 9392), ('그림을그린다', 9393), ('폐품을', 9394), ('곡물비누', 9395), ('헌티셔츠의', 9396), ('김장보쌈고기', 9397), ('두건과', 9398), ('증가억제', 9399), ('고지혈', 9400), ('단기준', 9401), ('미술', 9402), ('도구판', 9403), ('장해독', 9404), ('향기', 9405), ('테라스에', 9406), ('뇌의', 9407), ('불면증에', 9408), ('주문을', 9409), ('오메가', 9410), ('수확', 9411), ('혈당을낮혀주고', 9412), ('백김치', 9413), ('충치', 9414), ('숙취해소에', 9415), ('시는분', 9416), ('하실분', 9417), ('주름살펴는초특급', 9418), ('동맥경화에', 9419), ('맛난', 9420), ('매는', 9421), ('는고추절임', 9422), ('단풍진', 9423), ('대박집안', 9424), ('는파래물김치', 9425), ('식욕증진', 9426), ('황산화', 9427), ('중년이후회하지', 9428), ('이루고', 9429), ('분만해도', 9430), ('의피로가싸악', 9431), ('항암', 9432), ('당뇨병', 9433), ('고혈', 9434), ('법자색', 9435), ('선인장', 9436), ('돌에그린그림', 9437), ('해열', 9438), ('이뇨', 9439), ('순김치', 9440), ('우울중을', 9441), ('안개낀', 9442), ('집풍경', 9443), ('시키는법', 9444), ('헌실내화', 9445), ('망설이시는분', 9446), ('유리창', 9447), ('비번식시키는', 9448), ('컵받침', 9449), ('아까운', 9450), ('물티슈캡', 9451), ('김치에', 9452), ('거치면', 9453), ('얼갈이김치에', 9454), ('구석구석', 9455), ('새것처럼', 9456), ('페트병', 9457), ('쌀뜨물', 9458), ('미역국에', 9459), ('주방꿀템', 9460), ('식초', 9461), ('파래전에', 9462), ('세트로', 9463), ('린스', 9464), ('데친물', 9465), ('주방에', 9466), ('양보해', 9467), ('떡만두국', 9468), ('씹는', 9469), ('녹두빈대떡', 9470), ('나물에', 9471), ('법부터', 9472), ('흰', 9473), ('다리미질', 9474), ('좋게', 9475), ('세세한', 9476), ('려요', 9477), ('알맹이만', 9478), ('변질', 9479), ('미역줄기', 9480), ('불리는법', 9481), ('해감', 9482), ('년내내', 9483), ('정성과', 9484), ('가루', 9485), ('숙성', 9486), ('새지', 9487), ('싸는법', 9488), ('이상도', 9489), ('고춧가루', 9490), ('씹을수록', 9491), ('사용할', 9492), ('볶는법', 9493), ('비린맛', 9494), ('돋고', 9495), ('막김치', 9496), ('휘리릭', 9497), ('복날', 9498), ('국물내기', 9499), ('부서짐', 9500), ('찌는법', 9501), ('덥지', 9502), ('천연의', 9503), ('잎과', 9504), ('골고루', 9505), ('뇌혈관', 9506), ('설탕비율', 9507), ('과육만', 9508), ('깊고', 9509), ('나박물김치', 9510), ('아리지', 9511), ('변기세정제', 9512), ('김치통', 9513), ('감쪽', 9514), ('맑고', 9515), ('년치', 9516), ('찌든', 9517), ('누렇게', 9518), ('흰옷', 9519), ('해동', 9520), ('망고', 9521), ('풀쑤는법', 9522), ('풀쑤기', 9523), ('행주', 9524), ('쉰내', 9525), ('살균세탁', 9526), ('주방배수구', 9527), ('한달이상', 9528), ('칼국수', 9529), ('전문집', 9530), ('취나물', 9531), ('배도록', 9532), ('윤기나고', 9533), ('쫀든하게', 9534), ('벗기는', 9535), ('까져', 9536), ('줄눈', 9537), ('진공해서', 9538), ('농약', 9539), ('씻는법', 9540), ('예쁘고', 9541), ('진한맛의', 9542), ('어우러진', 9543), ('한단', 9544), ('달도', 9545), ('조기찜', 9546), ('후드', 9547), ('아린맛', 9548), ('몇달이', 9549), ('밴', 9550), ('유자차', 9551), ('오삼', 9552), ('무청', 9553), ('제철에', 9554), ('감초', 9555), ('삭힌고추', 9556), ('찬바람', 9557), ('불때', 9558), ('새까맣게', 9559), ('탄냄비', 9560), ('것처럼', 9561), ('세척하기', 9562), ('물기', 9563), ('군밤의', 9564), ('더해져', 9565), ('튀도록', 9566), ('돋워줘요', 9567), ('일정한', 9568), ('꽃게탕', 9569), ('고들빼기무침', 9570), ('무치기', 9571), ('탱글', 9572), ('집안에', 9573), ('풍기지', 9574), ('반죽', 9575), ('국물로', 9576), ('입안', 9577), ('찌는', 9578), ('별미', 9579), ('씹히는', 9580), ('부스러', 9581), ('잡내', 9582), ('배이상', 9583), ('줄여줄', 9584), ('고운빛깔과', 9585), ('아작한', 9586), ('알싸한', 9587), ('싱크대', 9588), ('배수구', 9589), ('묵은', 9590), ('향기로워요', 9591), ('향긋', 9592), ('짠지무침', 9593), ('당기게', 9594), ('깨볶는', 9595), ('고소해서', 9596), ('실치', 9597), ('비빔밥에', 9598), ('없애고', 9599), ('수란', 9600), ('떫지', 9601), ('만물상', 9602), ('한정식', 9603), ('부럽지', 9604), ('참외', 9605), ('수분', 9606), ('반죽하여', 9607), ('야채로', 9608), ('파릇파릇', 9609), ('북어국', 9610), ('내서', 9611), ('봄의', 9612), ('세척', 9613), ('물때', 9614), ('석회', 9615), ('말끔히', 9616), ('말려', 9617), ('사용하', 9618), ('마튀각', 9619), ('벗겨져요', 9620), ('데치기', 9621), ('사라다', 9622), ('방지해서', 9623), ('신선하게', 9624), ('진미', 9625), ('푸딩처럼', 9626), ('찰지게', 9627), ('들러', 9628), ('식품에선', 9629), ('느낄', 9630), ('반년이', 9631), ('무의', 9632), ('분육포', 9633), ('살짝', 9634), ('태운', 9635), ('주부', 9636), ('봄맞이', 9637), ('파래', 9638), ('오뚜기스', 9639), ('팥', 9640), ('팥죽', 9641), ('팥앙금', 9642), ('스팸김치', 9643), ('와인', 9644), ('뱅쇼', 9645), ('유부', 9646), ('온쫄면', 9647), ('풀치조림', 9648), ('호로록', 9649), ('꼬들', 9650), ('김장전', 9651), ('스낵', 9652), ('무조림', 9653), ('나물이', 9654), ('짤때는', 9655), ('석류청', 9656), ('갱년기', 9657), ('끓였습니다', 9658), ('부세요', 9659), ('몸도', 9660), ('고급스런', 9661), ('어지는', 9662), ('고기소스', 9663), ('참소스', 9664), ('장어구이', 9665), ('납니다', 9666), ('국을', 9667), ('하실겁니다', 9668), ('맛은', 9669), ('풍성', 9670), ('무침에', 9671), ('짝', 9672), ('붙게', 9673), ('채전', 9674), ('짝꿍', 9675), ('양갱', 9676), ('크리', 9677), ('미한', 9678), ('소스는', 9679), ('메밀국수', 9680), ('포테토칩', 9681), ('년숙성', 9682), ('쫀쫀하니', 9683), ('데치는법과', 9684), ('밥이', 9685), ('회춘', 9686), ('파근파근하게', 9687), ('밥두그릇', 9688), ('더위날리는', 9689), ('쉽습니다', 9690), ('어떠세요', 9691), ('가락국수', 9692), ('부추향이', 9693), ('밀가루', 9694), ('적게', 9695), ('드셔', 9696), ('듀플랩', 9697), ('바베큐', 9698), ('어느유명한', 9699), ('일식', 9700), ('고기맛을', 9701), ('고기집', 9702), ('더운날에는', 9703), ('절임', 9704), ('츠케모노', 9705), ('뻘건', 9706), ('날라', 9707), ('진한맛', 9708), ('오뚜기', 9709), ('대파무침', 9710), ('명가', 9711), ('설렁탕', 9712), ('줄서는', 9713), ('망향', 9714), ('닭강정은', 9715), ('저리가라', 9716), ('봄에는', 9717), ('곰취', 9718), ('드셔보이소', 9719), ('좋네예', 9720), ('그맛', 9721), ('이바돔', 9722), ('잘벗겨집니다', 9723), ('대추인삼차', 9724), ('고급스러워요', 9725), ('맛을낸', 9726), ('유채나물무침', 9727), ('고급스럽고', 9728), ('유채', 9729), ('쑥국', 9730), ('스르르', 9731), ('녹는', 9732), ('찌기', 9733), ('여경래', 9734), ('쉐프의', 9735), ('달큰하고', 9736), ('봄기운을', 9737), ('수원왕', 9738), ('떡강정', 9739), ('슈가떡', 9740), ('우엉전', 9741), ('짜', 9742), ('보셨나요', 9743), ('굴은', 9744), ('녹진', 9745), ('풀무원', 9746), ('생가득', 9747), ('유부초', 9748), ('유부초밥', 9749), ('쨈', 9750), ('톳나물', 9751), ('쥐포채', 9752), ('라볶이', 9753), ('물미역', 9754), ('데치는법', 9755), ('초장', 9756), ('보쌈무김치', 9757), ('완소메뉴', 9758), ('여수돌산', 9759), ('쎄야', 9760), ('덜나고', 9761), ('짜글이', 9762), ('양희경의', 9763), ('고급지게', 9764), ('꼬치전', 9765), ('나박', 9766), ('물넣지', 9767), ('탕국', 9768), ('꽃게무침', 9769), ('모듬', 9770), ('소주한잔', 9771), ('느낄수', 9772), ('젓갈로', 9773), ('쌈과', 9774), ('송이', 9775), ('홍고추', 9776), ('홍고추갈아서', 9777), ('마요네즈로', 9778), ('맛깔난', 9779), ('안동찜닭', 9780), ('가루로', 9781), ('까기부터', 9782), ('피클보다', 9783), ('무보다', 9784), ('속풀이', 9785), ('자반', 9786), ('질척이지', 9787), ('고추무침', 9788), ('돋구는', 9789), ('슆게', 9790), ('짭', 9791), ('심플하게', 9792), ('넣지', 9793), ('비오는', 9794), ('비름나물무침', 9795), ('소박이', 9796), ('포실하게', 9797), ('달큰하게', 9798), ('짭조롬하게', 9799), ('맥반석', 9800), ('씀바귀', 9801), ('롬하고', 9802), ('알싸하고', 9803), ('계피향과', 9804), ('사과쨈', 9805), ('놀부', 9806), ('아빠표', 9807), ('박철민님을', 9808), ('울려버린', 9809), ('맘스텔라', 9810), ('꽁치찌개', 9811), ('그릴야채와', 9812), ('윤아의', 9813), ('밀푀유', 9814), ('나베', 9815), ('윤아', 9816), ('먹은것중', 9817), ('청양', 9818), ('소세지', 9819), ('생굴', 9820), ('통살', 9821), ('기와', 9822), ('큐민향', 9823), ('수육과', 9824), ('마약김밥', 9825), ('겨자소스', 9826), ('무로', 9827), ('무우전', 9828), ('두루치기', 9829), ('서민', 9830), ('또우장', 9831), ('요우티아오', 9832), ('두유와', 9833), ('꽈배기', 9834), ('선생을', 9835), ('콩밥', 9836), ('퀵', 9837), ('엄지척', 9838), ('오므', 9839), ('강호동까스', 9840), ('제이미', 9841), ('작렬', 9842), ('비프', 9843), ('겨자', 9844), ('기린', 9845), ('이치방과', 9846), ('교자만두', 9847), ('굽기와', 9848), ('물만두', 9849), ('고추기름소스', 9850), ('삼삼한', 9851), ('쌀국수', 9852), ('오븐구이', 9853), ('와사비', 9854), ('두르치기', 9855), ('중식만능소스', 9856), ('산미구엘과', 9857), ('만두피로', 9858), ('감싸서', 9859), ('꽃게찜', 9860), ('윤두준', 9861), ('앞다리살', 9862), ('한상차림', 9863), ('메쉬', 9864), ('제자들', 9865), ('온국수와', 9866), ('램지', 9867), ('연어스프', 9868), ('오사카의', 9869), ('고기극장', 9870), ('껍데기', 9871), ('진득한', 9872), ('까스와', 9873), ('메론소스', 9874), ('콩의', 9875), ('향기가', 9876), ('땅의', 9877), ('싱그러운', 9878), ('아라비아따', 9879), ('매시', 9880), ('살사', 9881), ('레드와인', 9882), ('오가피', 9883), ('방메뉴', 9884), ('요거트스무디', 9885), ('식땅콩', 9886), ('양꼬치집땅콩', 9887), ('베리', 9888), ('레어', 9889), ('레드향소스', 9890), ('레드향을', 9891), ('후루룩', 9892), ('룸포케익만의', 9893), ('피넛', 9894), ('조려', 9895), ('육쪽', 9896), ('허니브레드볼', 9897), ('주꾸미가', 9898), ('주꾸미샤브샤브', 9899), ('더덕생채', 9900), ('알라뷰', 9901), ('앵', 9902), ('너구리', 9903), ('뭇국과', 9904), ('제격', 9905), ('만요교로', 9906), ('모양의', 9907), ('미트로프', 9908), ('도우가없을때', 9909), ('다쿠아즈', 9910), ('솔티캐러멜과', 9911), ('다쿠와즈', 9912), ('꼬꼬밥', 9913), ('마라꼬꼬밥', 9914), ('랑꼬꼬밥', 9915), ('와플반죽', 9916), ('고기로', 9917), ('채워', 9918), ('도넛마카롱', 9919), ('제격인', 9920), ('너비', 9921), ('수제리코타', 9922), ('민초단', 9923), ('민초', 9924), ('빠네', 9925), ('빠네빵', 9926), ('여행어때', 9927), ('팔도유명', 9928), ('볼의', 9929), ('커스터드', 9930), ('된찌밥', 9931), ('농가는', 9932), ('한공기는', 9933), ('우동', 9934), ('시판용', 9935), ('일치', 9936), ('반숙', 9937), ('너는', 9938), ('이였어', 9939), ('반숙란이', 9940), ('반숙과', 9941), ('춘권피에', 9942), ('튀겨보기', 9943), ('춘권', 9944), ('아보카도', 9945), ('드레싱와', 9946), ('몰티져스를', 9947), ('고민될', 9948), ('땅콩우엉강정', 9949), ('우엉에', 9950), ('연결고리', 9951), ('홀릭한다', 9952), ('너란', 9953), ('몸보신', 9954), ('누룽지백숙', 9955), ('전엔', 9956), ('고로케만두', 9957), ('싱연습', 9958), ('빈티지', 9959), ('명란젓을', 9960), ('메뉴들', 9961), ('한끼에', 9962), ('분식메뉴', 9963), ('고로케', 9964), ('믹스로', 9965), ('진저브레드', 9966), ('게장을', 9967), ('해물땅콩', 9968), ('호화스럽게', 9969), ('짜파', 9970), ('조합은', 9971), ('봄내음을', 9972), ('메뉴로', 9973), ('차려', 9974), ('봉골레수제비', 9975), ('뇨끼인', 9976), ('수제비오일', 9977), ('깨지는', 9978), ('탕후루', 9979), ('기념일은', 9980), ('스위스머랭', 9981), ('영롱한', 9982), ('소소하게', 9983), ('김장하기', 9984), ('통큰', 9985), ('가까이', 9986), ('다가올꺼', 9987), ('호롱', 9988), ('버물버물', 9989), ('먹거나', 9990), ('쟁여두기', 9991), ('슈렉', 9992), ('또띠아로', 9993), ('육회', 9994), ('파채', 9995), ('콩불은', 9996), ('없을수', 9997), ('파콩제육', 9998), ('소스취향', 9999), ('소스종류', 10000), ('뒷다리살의', 10001), ('유자청만', 10002), ('유자', 10003), ('동참해', 10004), ('안머랭', 10005), ('레몬머랭', 10006), ('땡길때', 10007), ('아포가토', 10008), ('안젓고', 10009), ('달고나밀크티', 10010), ('달고나스콘', 10011), ('모양깍지', 10012), ('모양깍지가', 10013), ('양세', 10014), ('더스가', 10015), ('양세형의', 10016), ('김치죽', 10017), ('보들보들한', 10018), ('콜리플라워', 10019), ('추미', 10020), ('머드', 10021), ('계피설탕을', 10022), ('묻힌', 10023), ('츄로스', 10024), ('츄러스', 10025), ('롤바베큐', 10026), ('익어서', 10027), ('해먹기', 10028), ('슬슬', 10029), ('왔나봄', 10030), ('탑골', 10031), ('다방쌍화차', 10032), ('다방', 10033), ('맑게', 10034), ('해조류', 10035), ('근엄', 10036), ('매생이로', 10037), ('뷰', 10038), ('김준현의', 10039), ('김치비빔', 10040), ('밤팥', 10041), ('흰우유랑', 10042), ('바닐라롤', 10043), ('호떡믹스로', 10044), ('공갈빵', 10045), ('야식은', 10046), ('호르몬동', 10047), ('찾', 10048), ('대창', 10049), ('땡초김밥', 10050), ('땡초를', 10051), ('오는정', 10052), ('진주맛집', 10053), ('우아하게', 10054), ('통조림', 10055), ('알쓰들을', 10056), ('이영자가', 10057), ('싶지', 10058), ('김떡만', 10059), ('랍스터구이', 10060), ('굴소스마요', 10061), ('마요말고', 10062), ('타르트지의', 10063), ('파트슈크레로', 10064), ('직한', 10065), ('타르트', 10066), ('족발포니아롤', 10067), ('분식집', 10068), ('떡꼬치', 10069), ('원두', 10070), ('산미', 10071), ('주문법', 10072), ('로제랑은', 10073), ('입안이', 10074), ('깔꼼하게', 10075), ('해줄', 10076), ('후식', 10077), ('고기를', 10078), ('만화방', 10079), ('스프를', 10080), ('뒤따를', 10081), ('마카롱', 10082), ('버팔로봉', 10083), ('닭봉구이', 10084), ('밤잼의', 10085), ('오예스와', 10086), ('끼려서', 10087), ('시트에', 10088), ('뽕', 10089), ('탁', 10090), ('쉬울수', 10091), ('자취', 10092), ('번쯤은', 10093), ('할꺼', 10094), ('와인과', 10095), ('알밥', 10096), ('열두달', 10097), ('매생이', 10098), ('육원전', 10099), ('고소와', 10100), ('끗', 10101), ('차리고', 10102), ('함박', 10103), ('덕후들도', 10104), ('수제양갱', 10105), ('귤양갱', 10106), ('추워져서', 10107), ('도넛과', 10108), ('유재석한테', 10109), ('전수한', 10110), ('이연복', 10111), ('퓨전', 10112), ('무화과스콘', 10113), ('무화과를', 10114), ('스콘', 10115), ('캐비지롤', 10116), ('달인되쟈', 10117), ('정월대보름에', 10118), ('마른나물', 10119), ('야식과안주는', 10120), ('이거면', 10121), ('벅스의', 10122), ('누들', 10123), ('넘쳐서', 10124), ('호떡믹스를', 10125), ('중화시켜줄', 10126), ('새싹', 10127), ('새싹비빔밥', 10128), ('말아서', 10129), ('멘보샤', 10130), ('멘보어묵', 10131), ('이국적', 10132), ('향신료가', 10133), ('시미트볼', 10134), ('탄수화', 10135), ('버들을', 10136), ('향과', 10137), ('조개찜', 10138), ('갓의', 10139), ('갓김', 10140), ('타타', 10141), ('여행하기', 10142), ('퐁신퐁신', 10143), ('춘천닭', 10144), ('김밥덕후들을', 10145), ('맵찔이들을', 10146), ('고고', 10147), ('후닥후닥', 10148), ('입천장', 10149), ('코코넛쉬림프', 10150), ('밥전', 10151), ('돌나물사과무침', 10152), ('돌나물로', 10153), ('쉴', 10154), ('봉골레', 10155), ('무밥', 10156), ('귀차니즘이', 10157), ('떼우쟈', 10158), ('쯤', 10159), ('채우기', 10160), ('칙피', 10161), ('연휴에', 10162), ('카스텔라로', 10163), ('노오븐몽블랑', 10164), ('앙금플라워', 10165), ('앙금꽃', 10166), ('찐한', 10167), ('둬요', 10168), ('전통음료', 10169), ('내쟈', 10170), ('춘장닭', 10171), ('맛의', 10172), ('겨자냉채', 10173), ('꼬불이', 10174), ('식혜를', 10175), ('까치까치', 10176), ('끼리는', 10177), ('유산슬', 10178), ('설맞이', 10179), ('메밀로', 10180), ('갈레트', 10181), ('메밀크레이프', 10182), ('마른안주를', 10183), ('돌리면', 10184), ('캐', 10185), ('워킹맘은', 10186), ('추운', 10187), ('갓돈찌개', 10188), ('굴짬뽕', 10189), ('빨간짬뽕이', 10190), ('바다의향', 10191), ('짬뽕은', 10192), ('팥베기를', 10193), ('백설기', 10194), ('한방닭죽', 10195), ('풍기는', 10196), ('쌍화탕닭죽', 10197), ('나들이', 10198), ('갈때', 10199), ('케타', 10200), ('소와', 10201), ('드립', 10202), ('주문하고', 10203), ('마실까', 10204), ('나트륨을', 10205), ('줄여', 10206), ('진만당', 10207), ('우엉차', 10208), ('자격증', 10209), ('반숙란', 10210), ('죄책감을', 10211), ('덜어줄', 10212), ('따땃하게', 10213), ('맛밤', 10214), ('밤스프', 10215), ('분수에', 10216), ('퐁당퐁당', 10217), ('퐁듀', 10218), ('기장', 10219), ('흑미로', 10220), ('곡물', 10221), ('편안하게', 10222), ('독특한', 10223), ('갈릭', 10224), ('후후불어가며', 10225), ('면이', 10226), ('여행이', 10227), ('후다닥', 10228), ('운을', 10229), ('유제품의', 10230), ('뒷다릿살의', 10231), ('맛남', 10232), ('제육면', 10233), ('사오는', 10234), ('한라봉칩', 10235), ('한라봉', 10236), ('생화로', 10237), ('오리지널', 10238), ('멀티쿠커', 10239), ('인스턴트팟', 10240), ('상륙', 10241), ('처트니', 10242), ('와상', 10243), ('단감', 10244), ('편털', 10245), ('정과', 10246), ('알코올로', 10247), ('챙겼으면', 10248), ('해장할', 10249), ('김치품', 10250), ('오미자배숙', 10251), ('추운날엔', 10252), ('전기장판위', 10253), ('집돌이를', 10254), ('출출할때', 10255), ('허니윙', 10256), ('떙기는지', 10257), ('인이긴한가바', 10258), ('두배로', 10259), ('대파우유', 10260), ('아슬란', 10261), ('곶감무침', 10262), ('곶감을', 10263), ('폭식', 10264), ('다음날엔', 10265), ('폭식다음날', 10266), ('식탁차리기', 10267), ('진저', 10268), ('트리', 10269), ('어린무송어', 10270), ('솔로들의', 10271), ('전주비빔밥', 10272), ('폭찹', 10273), ('달랑고기', 10274), ('날에', 10275), ('담을', 10276), ('동짓날', 10277), ('팥죽과', 10278), ('새알ㅁ로', 10279), ('한살', 10280), ('트리컵', 10281), ('조합도', 10282), ('쥬키니캐서롤', 10283), ('수요일이라서', 10284), ('고수무침과', 10285), ('목살구이', 10286), ('갸또쇼', 10287), ('초콜렛의', 10288), ('이색별미', 10289), ('연두', 10290), ('목요일에', 10291), ('카노', 10292), ('스노우맨레드벨벳컵', 10293), ('내린', 10294), ('레드벨벳컵', 10295), ('미쿡', 10296), ('맥앤', 10297), ('소스무침', 10298), ('차갑게', 10299), ('마셔왔던', 10300), ('이름들', 10301), ('배꿀찜', 10302), ('먹게', 10303), ('왕국이', 10304), ('떠오르는', 10305), ('프스틱', 10306), ('루돌프', 10307), ('인볼티니', 10308), ('만레스튜디오', 10309), ('감성에', 10310), ('통나무', 10311), ('부쉬드노엘', 10312), ('북어구이', 10313), ('서양식', 10314), ('와인찜닭', 10315), ('코코뱅', 10316), ('퐁신퐁신한', 10317), ('크시트', 10318), ('관도', 10319), ('식후경', 10320), ('전참시', 10321), ('이영자', 10322), ('짜글이장', 10323), ('설기떡에', 10324), ('사과가', 10325), ('사과설기', 10326), ('만요교', 10327), ('유아알레르기', 10328), ('대처법', 10329), ('미음의', 10330), ('우렁강', 10331), ('우렁각시', 10332), ('어렸을', 10333), ('나윱', 10334), ('학창시절', 10335), ('메인은', 10336), ('찜닭', 10337), ('잡내를', 10338), ('쏘옥', 10339), ('후렌치', 10340), ('만두피가', 10341), ('젓국찌개', 10342), ('이왕', 10343), ('통통한', 10344), ('돌돌돌', 10345), ('출시품', 10346), ('켓이', 10347), ('여도', 10348), ('켓', 10349), ('튀겨야함', 10350), ('꾸덕꾸덕', 10351), ('총집합체', 10352), ('비엔나소세지를', 10353), ('앙증', 10354), ('찌개와', 10355), ('닭맥적구이의', 10356), ('쌀미음의', 10357), ('라자냐', 10358), ('필링', 10359), ('라자냐면', 10360), ('익었을꺼야', 10361), ('조합을', 10362), ('서서서서', 10363), ('페퍼', 10364), ('요알못의', 10365), ('정복기', 10366), ('용피디', 10367), ('우유스프', 10368), ('북어찜', 10369), ('우동이닭', 10370), ('우동편', 10371), ('전골이', 10372), ('추워지는', 10373), ('아프기전에', 10374), ('기력을', 10375), ('뿜뿜하게', 10376), ('기력보충', 10377), ('정종은', 10378), ('데리야끼', 10379), ('이한슬', 10380), ('다대기', 10381), ('문혜자', 10382), ('안주에는', 10383), ('캬', 10384), ('최우수상', 10385), ('이미랑', 10386), ('이우림', 10387), ('다짐장', 10388), ('프렌치', 10389), ('방어가', 10390), ('체철이라며', 10391), ('땅콩소스', 10392), ('식판', 10393), ('기억소환해줄', 10394), ('도우가', 10395), ('우로', 10396), ('비스퀵버거', 10397), ('비스퀵', 10398), ('해물찜과', 10399), ('푸짐하게', 10400), ('오리랑', 10401), ('주물주물', 10402), ('바베큐의', 10403), ('풀드포크', 10404), ('럽', 10405), ('미니도넛', 10406), ('건고추로', 10407), ('빵이랑', 10408), ('가래떡을', 10409), ('가래떡', 10410), ('북어포푸라기', 10411), ('집은', 10412), ('김장을', 10413), ('안했지만', 10414), ('보쌈과', 10415), ('삼치를', 10416), ('칠리삼치강정', 10417), ('부각부각', 10418), ('같지', 10419), ('김부각', 10420), ('군밤장수', 10421), ('부러운', 10422), ('군밤', 10423), ('진피', 10424), ('귤칩', 10425), ('때워서는', 10426), ('낙곱새', 10427), ('안주가', 10428), ('랑곱창이랑', 10429), ('아몬드미트볼', 10430), ('아몬드소스와', 10431), ('편한', 10432), ('쏘콩면', 10433), ('오동동', 10434), ('우동과', 10435), ('핫바의', 10436), ('스물스물', 10437), ('베리류의', 10438), ('몬테', 10439), ('땡길수', 10440), ('목막힐', 10441), ('뭐랑', 10442), ('두었던', 10443), ('가래떡이', 10444), ('가래떡닭', 10445), ('얹어본', 10446), ('레옹처럼', 10447), ('마틸다', 10448), ('쏟은', 10449), ('소환할', 10450), ('고고구구', 10451), ('삼양', 10452), ('쇠고기면', 10453), ('밤잼', 10454), ('수능대박기원', 10455), ('수험생을', 10456), ('쿡할때', 10457), ('수블수블', 10458), ('편강', 10459), ('생강말리기', 10460), ('이력제로', 10461), ('합격을', 10462), ('소울푸드', 10463), ('후무스', 10464), ('허머스', 10465), ('후무스랩', 10466), ('끌리는', 10467), ('한식의', 10468), ('어딧어', 10469), ('유럽풍', 10470), ('얼그레이', 10471), ('티', 10472), ('홍차의', 10473), ('향을', 10474), ('명란젓의', 10475), ('머랭빼빼로', 10476), ('시나몬사과잼', 10477), ('입동에', 10478), ('걸으면서', 10479), ('신선한', 10480), ('깐풍', 10481), ('기전에', 10482), ('킹크랩은', 10483), ('비싸니까', 10484), ('참깨소스', 10485), ('타히니', 10486), ('오리구이와', 10487), ('수제육포', 10488), ('뽕디뽕잎가루와', 10489), ('스쿱', 10490), ('게살을', 10491), ('모닝빵의', 10492), ('배에', 10493), ('채워주세요', 10494), ('케밥', 10495), ('티비처럼', 10496), ('식탁차리고', 10497), ('대구로', 10498), ('내볼까', 10499), ('송곳니', 10500), ('단순히', 10501), ('터키식', 10502), ('필라프', 10503), ('으스스스', 10504), ('밥이지', 10505), ('기관지를', 10506), ('지켜줘', 10507), ('입벌리는', 10508), ('지겹자나', 10509), ('묘비', 10510), ('김치어묵국밥', 10511), ('효리처럼', 10512), ('방의', 10513), ('라떼위드샷', 10514), ('그릇', 10515), ('미역과', 10516), ('마의', 10517), ('선정한', 10518), ('차트쇼', 10519), ('콩불', 10520), ('크기는', 10521), ('잭오랜턴', 10522), ('지글지글', 10523), ('뽕잎이', 10524), ('뽕칼', 10525), ('단맛', 10526), ('날땐', 10527), ('며느리가', 10528), ('전어랑', 10529), ('으스스', 10530), ('유령', 10531), ('우니', 10532), ('쌀조청을', 10533), ('맞춤', 10534), ('하지롤', 10535), ('레몬너한테피치나', 10536), ('꽂기만', 10537), ('안주랑', 10538), ('뚜뚱', 10539), ('통통', 10540), ('삼각', 10541), ('구울수록', 10542), ('장국죽', 10543), ('젓갈은', 10544), ('거지요', 10545), ('젓갈의', 10546), ('점심은', 10547), ('알김치', 10548), ('철지난', 10549), ('대신할', 10550), ('노놉', 10551), ('무덤에', 10552), ('고슬고슬한', 10553), ('한그릇', 10554), ('콩가루라떼', 10555), ('스랑', 10556), ('거랑', 10557), ('둘다', 10558), ('육개장과', 10559), ('돋우는', 10560), ('초계', 10561), ('오통통한', 10562), ('헛헛할땐', 10563), ('버거가', 10564), ('쵝오', 10565), ('시즌이', 10566), ('탱탱', 10567), ('건어물', 10568), ('건어물의', 10569), ('소면과', 10570), ('놓칠수', 10571), ('진다는', 10572), ('땡길땐', 10573), ('굴어묵탕', 10574), ('입벌려', 10575), ('수제고추', 10576), ('해산물', 10577), ('축제는', 10578), ('구경해', 10579), ('바다의맛', 10580), ('스럽게', 10581), ('노오란', 10582), ('당면이', 10583), ('쿠크다스', 10584), ('봉지', 10585), ('쿠쿠다스가', 10586), ('원래', 10587), ('랑그드샤야', 10588), ('용가리는', 10589), ('내입속', 10590), ('너겟', 10591), ('고기썰고', 10592), ('버거랑', 10593), ('될땐', 10594), ('소든', 10595), ('삼치에', 10596), ('마요소스를', 10597), ('푸우욱', 10598), ('제발유', 10599), ('삼치마', 10600), ('케찹구이', 10601), ('촉박할', 10602), ('바게트에그슬럿', 10603), ('바게트구이', 10604), ('꿀떡꿀떡', 10605), ('꿀떡버거', 10606), ('이상민의', 10607), ('단맛의', 10608), ('밥버거를', 10609), ('제육밥버거', 10610), ('사각사각', 10611), ('귀찮은', 10612), ('그라탕은', 10613), ('빠염', 10614), ('쉬고왔으니', 10615), ('산뜻하게', 10616), ('최애', 10617), ('흥건한', 10618), ('바싹', 10619), ('밤도깨비', 10620), ('푸드트럭', 10621), ('쉬니까', 10622), ('한잔해도', 10623), ('롱치', 10624), ('않지', 10625), ('무뼈닭발', 10626), ('카로', 10627), ('나초콘', 10628), ('못난이빵', 10629), ('남아도는', 10630), ('는거는', 10631), ('순대우동', 10632), ('지중해식', 10633), ('전어구이', 10634), ('한식조리기능사', 10635), ('아침은', 10636), ('상콤상콤한', 10637), ('한정판', 10638), ('유니콘쉐이크', 10639), ('리조또를', 10640), ('풍기리조또', 10641), ('카나페지', 10642), ('꼴깍꼴깍', 10643), ('소래포구', 10644), ('대하축제장인', 10645), ('소금대하구이', 10646), ('조려줘', 10647), ('만두랑', 10648), ('부침개는', 10649), ('롤전', 10650), ('풍년이라지', 10651), ('닭부위', 10652), ('가마솥', 10653), ('뚜껑을', 10654), ('타파할', 10655), ('늒', 10656), ('볼빨간', 10657), ('자에게', 10658), ('블루베리', 10659), ('샤박샤박', 10660), ('안주와', 10661), ('제격이라지', 10662), ('쯤은', 10663), ('있쟈냐', 10664), ('밤라떼', 10665), ('가불하지', 10666), ('고기인줄', 10667), ('산촌편', 10668), ('아욱', 10669), ('잡숴봐', 10670), ('얼얼한', 10671), ('프렌치토', 10672), ('보들보들', 10673), ('기름기를', 10674), ('씻겨', 10675), ('보내줄', 10676), ('버블이', 10677), ('푸딩푸딩해', 10678), ('흑당버블티푸딩', 10679), ('아쉽다면', 10680), ('김치짜글이', 10681), ('순대꼬치', 10682), ('그대', 10683), ('메뉴가', 10684), ('땡기는구먼', 10685), ('우럭', 10686), ('탕과', 10687), ('한끼식사', 10688), ('청란은', 10689), ('하다지', 10690), ('딱이지', 10691), ('스팸마요', 10692), ('파먹기', 10693), ('한가득', 10694), ('고기보다', 10695), ('아린', 10696), ('법은', 10697), ('갑각류', 10698), ('않쥽', 10699), ('갑각류의', 10700), ('한가위엔', 10701), ('송편아놀자', 10702), ('육전이', 10703), ('무쳐야대', 10704), ('맛도', 10705), ('부치는법', 10706), ('지나기', 10707), ('북숭아청', 10708), ('스티', 10709), ('월이라구', 10710), ('안판다면', 10711), ('수부터', 10712), ('바사삭', 10713), ('바사락', 10714), ('모였다', 10715), ('닭다리가', 10716), ('땡겨', 10717), ('산촌', 10718), ('밭', 10719), ('뜯은', 10720), ('야들야들한', 10721), ('튀겨바바', 10722), ('떡에', 10723), ('말아줘', 10724), ('베떡베떡', 10725), ('흔해', 10726), ('아보카도김밥', 10727), ('직원들', 10728), ('리엑션', 10729), ('최애의', 10730), ('도토리', 10731), ('인덕션과', 10732), ('잘어울려', 10733), ('만두는', 10734), ('만두피라비', 10735), ('강정이랑은', 10736), ('실렵니까', 10737), ('호떡믹스의', 10738), ('삼각주먹밥', 10739), ('무더위에', 10740), ('우릴', 10741), ('지켜줄', 10742), ('빙수', 10743), ('중화풍에', 10744), ('마라감바스', 10745), ('국수는', 10746), ('크런키', 10747), ('이연복의', 10748), ('멘보샤만', 10749), ('있던가', 10750), ('멘보샤가', 10751), ('생선구이와', 10752), ('콩물에', 10753), ('더티섹시', 10754), ('콩물', 10755), ('푸딩', 10756), ('정우성의', 10757), ('좋았겠지', 10758), ('맛살을', 10759), ('튀길', 10760), ('기분은', 10761), ('맛살', 10762), ('스프의', 10763), ('게살땅콩잼스프', 10764), ('유일무이', 10765), ('무알콜', 10766), ('네오플램', 10767), ('모던모던한', 10768), ('구겐', 10769), ('그릇을', 10770), ('구경해볼까', 10771), ('달코롬한', 10772), ('헤이즐넛', 10773), ('으니', 10774), ('채워볼까나', 10775), ('나초', 10776), ('김밥이', 10777), ('흰밥이라는', 10778), ('뒀', 10779), ('보들보들하게', 10780), ('채식위주로', 10781), ('특제', 10782), ('곁들여진', 10783), ('튀긴다는', 10784), ('섭섭해', 10785), ('당면을', 10786), ('해물당면', 10787), ('찍먹부먹', 10788), ('알록달록', 10789), ('아몬드모카프라푸치노', 10790), ('안주로', 10791), ('마카로니', 10792), ('윤기', 10793), ('냉방병엔', 10794), ('콘그라탕', 10795), ('허니브레드', 10796), ('부치면', 10797), ('등푸른', 10798), ('생선의', 10799), ('캬아악', 10800), ('맵다매워', 10801), ('파전', 10802), ('다람쥐한테', 10803), ('청국장과', 10804), ('도란도란', 10805), ('청포묵', 10806), ('일세', 10807), ('마시게', 10808), ('흑임자소스와', 10809), ('닭은', 10810), ('한입크기로', 10811), ('맹글어', 10812), ('노노', 10813), ('죠리퐁미숫가루', 10814), ('이곳은', 10815), ('헤븐', 10816), ('에그인헤븐', 10817), ('메밀비빔면', 10818), ('밀크와', 10819), ('닭구이닭', 10820), ('닭구이', 10821), ('연유', 10822), ('꽃빵', 10823), ('이라능', 10824), ('퐁퐁퐁', 10825), ('겟구만', 10826), ('먹었다면', 10827), ('뽀오얀', 10828), ('구름', 10829), ('때깔의', 10830), ('할꼬니', 10831), ('마라찜닭', 10832), ('푸짐한', 10833), ('사과조림에', 10834), ('시나몬사과라떼', 10835), ('비가오면', 10836), ('저온', 10837), ('숙성한', 10838), ('여수', 10839), ('연안', 10840), ('신다면', 10841), ('마요가', 10842), ('화아악', 10843), ('꽁치부대찌개', 10844), ('말아야', 10845), ('페', 10846), ('알갱이가', 10847), ('소떡소떡', 10848), ('요거트바크', 10849), ('말복엔', 10850), ('줘야대', 10851), ('전자레인지만', 10852), ('배는', 10853), ('연남동', 10854), ('닭침개', 10855), ('라네', 10856), ('콩불과', 10857), ('퍽퍽하기만', 10858), ('건빵은', 10859), ('가랏', 10860), ('건빵', 10861), ('통조림의', 10862), ('칼집', 10863), ('소면의', 10864), ('만남이란', 10865), ('냉국수', 10866), ('우유빙수', 10867), ('꼬옥', 10868), ('팥빙수', 10869), ('안주로도', 10870), ('푸욱', 10871), ('보실랑가', 10872), ('더워서', 10873), ('불끈불근', 10874), ('빵빵', 10875), ('카치오에페페', 10876), ('그라노파다노', 10877), ('고급져', 10878), ('빠아알간', 10879), ('정성을', 10880), ('모아모아', 10881), ('도넛츠에', 10882), ('샤워', 10883), ('쌈밥', 10884), ('육전', 10885), ('강핏자', 10886), ('강호동의', 10887), ('강불파', 10888), ('비리다는', 10889), ('문어를', 10890), ('쵝오얌', 10891), ('명란젓', 10892), ('외출을', 10893), ('나가볼까', 10894), ('윌레스와', 10895), ('밋의', 10896), ('볶기만', 10897), ('소면이', 10898), ('생면부터', 10899), ('나폴리탄', 10900), ('중독성이', 10901), ('온닷', 10902), ('스모어딥', 10903), ('구워먹기', 10904), ('어려웠다면', 10905), ('바질페', 10906), ('아라비아따의', 10907), ('맛녀들표', 10908), ('점심', 10909), ('라비', 10910), ('반포', 10911), ('억에도', 10912), ('안팔리는', 10913), ('사옥', 10914), ('금시세', 10915), ('잠실리센츠', 10916), ('층간소음', 10917), ('내역', 10918), ('벌었습니다', 10919), ('어떡하죠', 10920), ('살면', 10921), ('못삽니다', 10922), ('끊어야', 10923), ('취득세', 10924), ('손해', 10925), ('봅니다', 10926), ('학자금대출', 10927), ('갚고', 10928), ('자인가요', 10929), ('투기꾼인가요', 10930), ('오르는데', 10931), ('광역교통망', 10932), ('공실', 10933), ('상가의', 10934), ('욜로족에', 10935), ('무기력할', 10936), ('출산예정인', 10937), ('이직', 10938), ('직은', 10939), ('육아로', 10940), ('보내주는게', 10941), ('아까운데', 10942), ('사실인가요', 10943), ('때도', 10944), ('퇴직금도', 10945), ('금이', 10946), ('무주택자인데', 10947), ('가져야', 10948), ('대충하기', 10949), ('성격인데', 10950), ('신부와', 10951), ('관이', 10952), ('벌자고', 10953), ('기러기아빠', 10954), ('돈자랑에', 10955), ('열등감이', 10956), ('져요', 10957), ('젊을', 10958), ('모으고', 10959), ('노년에', 10960), ('사업과', 10961), ('뒀습니다', 10962), ('사업이', 10963), ('하고싶습니다', 10964), ('모았는데', 10965), ('조급하게', 10966), ('최근에', 10967), ('저축과', 10968), ('적금', 10969), ('기본은', 10970), ('저축이다', 10971), ('오피스텔', 10972), ('계기가', 10973), ('됐으면', 10974), ('좋겠습니다', 10975), ('불황에도', 10976), ('모으지', 10977), ('불리세요', 10978), ('독한', 10979), ('마인드를', 10980), ('가져라', 10981), ('두게', 10982), ('상가에', 10983), ('무주택자', 10984), ('혜택을', 10985), ('맞나요', 10986), ('경매를', 10987), ('주택임대사업자', 10988), ('빌라를', 10989), ('샀는데', 10990), ('전세보다', 10991), ('싸게', 10992), ('위험하', 10993), ('야근을', 10994), ('세법개정안', 10995), ('임대사업자', 10996), ('개편', 10997), ('많으면', 10998), ('공부부터', 10999), ('학군이', 11000), ('살거', 11001), ('사세요', 11002), ('전세기간이', 11003), ('남았는데', 11004), ('나가라고', 11005), ('전세끼고', 11006), ('매매의', 11007), ('샀더니', 11008), ('수익율', 11009), ('기요사키는', 11010), ('파산', 11011), ('외롭습니다', 11012), ('채인데', 11013), ('사기꾼을', 11014), ('마인드가', 11015), ('기술보다', 11016), ('실비보험', 11017), ('해지', 11018), ('나쁜걸까요', 11019), ('토지', 11020), ('념이', 11021), ('자녀에게', 11022), ('꺼리지', 11023), ('청약통장', 11024), ('깨야', 11025), ('내집마련', 11026), ('좋을까요', 11027), ('세금과세', 11028), ('상가임대차보호법', 11029), ('개정안', 11030), ('형공장', 11031), ('임대주택', 11032), ('등록', 11033), ('집수리', 11034), ('해줘야', 11035), ('재무설계법', 11036), ('가계부채', 11037), ('개년', 11038), ('법인', 11039), ('사업자', 11040), ('유리한가', 11041), ('방향은', 11042), ('보험부터', 11043), ('해지하라', 11044), ('담보대출용어', 11045), ('전월', 11046), ('한제', 11047), ('개념잡기', 11048), ('지나고', 11049), ('쉬워', 11050), ('분양의', 11051), ('부정적인', 11052), ('사요', 11053), ('돌디는', 11054), ('이거사요', 11055), ('소양강댐', 11056), ('미쳤을까', 11057), ('인강강사', 11058), ('독서', 11059), ('술마셨어요', 11060), ('되다니', 11061), ('가짜다', 11062), ('저축만', 11063), ('돌디의', 11064), ('포부', 11065), ('실버버튼', 11066), ('가상화폐', 11067), ('죄송', 11068), ('기다렸죠', 11069), ('설참', 11070), ('매매시', 11071), ('환경', 11072), ('교통', 11073), ('가실분이나', 11074), ('부도의날을', 11075), ('한번은', 11076), ('상이', 11077), ('끼칠', 11078), ('급식조리사', 11079), ('급식', 11080), ('실업대란', 11081), ('고용보험료', 11082), ('증권계좌', 11083), ('대거', 11084), ('환승', 11085), ('베팅도', 11086), ('파느냐', 11087), ('유가가', 11088), ('선별해', 11089), ('정유주', 11090), ('불구에도', 11091), ('대기속', 11092), ('초당', 11093), ('안사고', 11094), ('당해', 11095), ('이틀째', 11096), ('금통위', 11097), ('참았다', 11098), ('보복소비', 11099), ('강원랜드', 11100), ('살릴까', 11101), ('우후죽순', 11102), ('우량하다', 11103), ('전환점', 11104), ('정상궤도', 11105), ('경계하며', 11106), ('미경선', 11107), ('오바마', 11108), ('속출', 11109), ('터져', 11110), ('걷히면', 11111), ('버니', 11112), ('하차', 11113), ('부활한', 11114), ('벤치마크', 11115), ('구매에', 11116), ('선지급', 11117), ('업무', 11118), ('돈의', 11119), ('걸릴', 11120), ('달릴까', 11121), ('약효', 11122), ('비어가는', 11123), ('곳간', 11124), ('통신주', 11125), ('기름붓기', 11126), ('정유업', 11127), ('방어주', 11128), ('커들로', 11129), ('재개될', 11130), ('약보합', 11131), ('감염자는', 11132), ('시험대', 11133), ('잠정', 11134), ('웃었다', 11135), ('내지만', 11136), ('가정하자', 11137), ('유진', 11138), ('가이던스', 11139), ('상회', 11140), ('토끼', 11141), ('불패신화', 11142), ('줄어드는', 11143), ('신호는', 11144), ('추이', 11145), ('주래', 11146), ('필라델피아', 11147), ('소매', 11148), ('열풍', 11149), ('감소세', 11150), ('사주려구요', 11151), ('지자체는', 11152), ('준법위', 11153), ('상사', 11154), ('한줄기', 11155), ('황무지에', 11156), ('볕들까', 11157), ('부양엔', 11158), ('중재에도', 11159), ('유가로', 11160), ('실업수당', 11161), ('청구건수', 11162), ('길다', 11163), ('조급할', 11164), ('산산조각', 11165), ('펠로톤', 11166), ('완만한', 11167), ('실업률', 11168), ('증발', 11169), ('풀었지만', 11170), ('협력업체', 11171), ('지와', 11172), ('주린이', 11173), ('개미들은', 11174), ('납품', 11175), ('음란물', 11176), ('폭격에', 11177), ('보안', 11178), ('귀해진', 11179), ('웬', 11180), ('조각', 11181), ('실업보험청구자', 11182), ('영안실', 11183), ('포화상태', 11184), ('시신가방', 11185), ('휘발유', 11186), ('깨진다', 11187), ('쌀이', 11188), ('밥보다', 11189), ('창고', 11190), ('기내식', 11191), ('부채의', 11192), ('부풀렸나', 11193), ('셧다운', 11194), ('제넥신과', 11195), ('늪', 11196), ('났는데', 11197), ('이중고', 11198), ('놨다', 11199), ('지표는', 11200), ('약세장', 11201), ('전저점', 11202), ('안간다', 11203), ('즌', 11204), ('동학삼전', 11205), ('사들이는', 11206), ('대박날', 11207), ('고통스러운', 11208), ('클러스터', 11209), ('면역', 11210), ('개시', 11211), ('전화위복', 11212), ('양적', 11213), ('질적', 11214), ('기존의', 11215), ('틀', 11216), ('엔씨', 11217), ('자금도', 11218), ('재건에', 11219), ('시행에', 11220), ('풀겠다', 11221), ('이자상환', 11222), ('등터진', 11223), ('정유화학', 11224), ('시련의', 11225), ('바꿔', 11226), ('적기인', 11227), ('순차적', 11228), ('반등을', 11229), ('가구당', 11230), ('대주주', 11231), ('팔면', 11232), ('고심', 11233), ('가려진', 11234), ('노터스', 11235), ('시총상위', 11236), ('진폭에', 11237), ('존슨앤존슨', 11238), ('임상미', 11239), ('강세에', 11240), ('버핏', 11241), ('싱어', 11242), ('생사', 11243), ('강성부', 11244), ('판로', 11245), ('신차로', 11246), ('뚫는다', 11247), ('제조사', 11248), ('강도가', 11249), ('원격제어', 11250), ('트래픽', 11251), ('고객예탁금', 11252), ('실업자', 11253), ('우아', 11254), ('날렵하다', 11255), ('풀체인지', 11256), ('허술한', 11257), ('사각지대', 11258), ('지분', 11259), ('가족용', 11260), ('카니발급', 11261), ('쏘렌토', 11262), ('디젤', 11263), ('풀옵션', 11264), ('시승기', 11265), ('영업정지', 11266), ('사재기', 11267), ('기다림', 11268), ('변곡점', 11269), ('주력', 11270), ('저유가', 11271), ('전반적인', 11272), ('순환매로', 11273), ('껐지만', 11274), ('난제', 11275), ('고점대비', 11276), ('반반', 11277), ('벗나', 11278), ('패키지', 11279), ('실업수당청구건수', 11280), ('금호석화', 11281), ('원료공급', 11282), ('구슬땀', 11283), ('미루고', 11284), ('믿어도', 11285), ('장막판', 11286), ('반전한', 11287), ('바운스인가', 11288), ('이커머스', 11289), ('미미', 11290), ('롱숏', 11291), ('된서리', 11292), ('떠오른', 11293), ('메신저', 11294), ('연이틀', 11295), ('후끈', 11296), ('내일도', 11297), ('트라우마는', 11298), ('남는다', 11299), ('티엠', 11300), ('째깍째깍', 11301), ('조단위', 11302), ('금처럼', 11303), ('뮤추얼', 11304), ('공급망', 11305), ('화가난', 11306), ('실리는', 11307), ('약책', 11308), ('근접', 11309), ('노후', 11310), ('수직낙하', 11311), ('써라', 11312), ('파격', 11313), ('자산매입', 11314), ('솅겐조약이', 11315), ('뭐길래', 11316), ('대재앙', 11317), ('종식돼야', 11318), ('네오위즈', 11319), ('국내매출액의', 11320), ('고스톱', 11321), ('하락세', 11322), ('수준은', 11323), ('구체화', 11324), ('하방', 11325), ('년과', 11326), ('결이', 11327), ('김진의', 11328), ('조건', 11329), ('불붙은', 11330), ('부나방', 11331), ('서든', 11332), ('어음', 11333), ('뉴노멀', 11334), ('여파는', 11335), ('최저치', 11336), ('증가한다', 11337), ('클로로퀸', 11338), ('사태에도', 11339), ('반영한', 11340), ('원자재', 11341), ('최진', 11342), ('전제', 11343), ('조원태에', 11344), ('넣자', 11345), ('월에', 11346), ('센게', 11347), ('매물출회', 11348), ('최저가', 11349), ('의구심이', 11350), ('극도로', 11351), ('안정감을', 11352), ('암흑과', 11353), ('대가들의', 11354), ('홍정웅의', 11355), ('약세장에', 11356), ('혼돈', 11357), ('펀더', 11358), ('무색한', 11359), ('붙들고', 11360), ('가치주는', 11361), ('부도로', 11362), ('국방물자생산법', 11363), ('서명할', 11364), ('캐나다', 11365), ('패쇄', 11366), ('열흘새', 11367), ('사망할', 11368), ('방어를', 11369), ('초저유가', 11370), ('모색', 11371), ('내수', 11372), ('이불', 11373), ('밖은', 11374), ('급제동', 11375), ('지점', 11376), ('변했고', 11377), ('수젠텍', 11378), ('유독', 11379), ('통했나', 11380), ('재무부장관', 11381), ('양에', 11382), ('눈독', 11383), ('켈', 11384), ('미끼', 11385), ('꺾기영업', 11386), ('성행', 11387), ('끝낼', 11388), ('폴기', 11389), ('급한데', 11390), ('늦은', 11391), ('지원대책', 11392), ('사상초유', 11393), ('전세가', 11394), ('사상첫', 11395), ('신음', 11396), ('비롯한', 11397), ('터장세', 11398), ('뜰', 11399), ('만회', 11400), ('자원도', 11401), ('아끼지', 11402), ('스톰이', 11403), ('생존에', 11404), ('테러급', 11405), ('대공황', 11406), ('그루에게', 11407), ('이후에', 11408), ('인증', 11409), ('중고차', 11410), ('자세는', 11411), ('이탈제', 11412), ('트럭', 11413), ('신공장', 11414), ('체계', 11415), ('마지', 11416), ('숨을', 11417), ('상장된', 11418), ('연저점', 11419), ('탐욕지수', 11420), ('극도의', 11421), ('상존', 11422), ('매매', 11423), ('론은', 11424), ('리즘', 11425), ('유가와', 11426), ('과열', 11427), ('기초가', 11428), ('성진', 11429), ('정종현', 11430), ('엎친', 11431), ('신중', 11432), ('호텔신라', 11433), ('부실화', 11434), ('빚의', 11435), ('조정에도', 11436), ('놔뒀던', 11437), ('털린다', 11438), ('국채발행', 11439), ('한심한', 11440), ('급여세', 11441), ('훔쳤다', 11442), ('중흥통신', 11443), ('원유가격', 11444), ('엄습한', 11445), ('리먼', 11446), ('사태급', 11447), ('악몽의', 11448), ('스루', 11449), ('대세하락', 11450), ('전조현상', 11451), ('연이은', 11452), ('상어', 11453), ('뒤를', 11454), ('잇는', 11455), ('신비', 11456), ('오로라', 11457), ('구원', 11458), ('액', 11459), ('증가의', 11460), ('지주사주', 11461), ('년물', 11462), ('국채', 11463), ('비관론자의', 11464), ('둔화는', 11465), ('법이다', 11466), ('진단키트의', 11467), ('며칠', 11468), ('호재인가', 11469), ('부양에', 11470), ('연동', 11471), ('큰일났다', 11472), ('공유미용실', 11473), ('직격', 11474), ('곤두박질', 11475), ('락', 11476), ('극심', 11477), ('금수저로', 11478), ('섬유', 11479), ('절실', 11480), ('매로', 11481), ('줄서라', 11482), ('사스보다', 11483), ('위축된', 11484), ('군계일학의', 11485), ('전공정', 11486), ('매출을', 11487), ('이루다', 11488), ('김충회', 11489), ('악켐라', 11490), ('중외제약', 11491), ('자율주행에', 11492), ('한울에프앤비', 11493), ('김상현', 11494), ('보도와', 11495), ('구해냈다', 11496), ('품귀', 11497), ('성지된', 11498), ('우체국', 11499), ('강제격리', 11500), ('시행할', 11501), ('방향성과', 11502), ('망은', 11503), ('대안인가', 11504), ('의구심', 11505), ('전격인하', 11506), ('수익성', 11507), ('조선주', 11508), ('뱃고동', 11509), ('울리나', 11510), ('내려도', 11511), ('값도', 11512), ('처방', 11513), ('시스탬', 11514), ('팜캐드', 11515), ('영재', 11516), ('에듀', 11517), ('아베와', 11518), ('일새', 11519), ('덮치나', 11520), ('채찍질', 11521), ('느려', 11522), ('낮아야', 11523), ('펜데믹', 11524), ('재난수준', 11525), ('갈팡질팡', 11526), ('시점은', 11527), ('바뀌나', 11528), ('보수적', 11529), ('이제부터', 11530), ('잘가는', 11531), ('전자결제주', 11532), ('융자', 11533), ('잔고', 11534), ('차홍선의', 11535), ('버티고', 11536), ('설왕설래', 11537), ('예외', 11538), ('지속된', 11539), ('리나', 11540), ('비행기표', 11541), ('임대료', 11542), ('인하분', 11543), ('분담', 11544), ('당일', 11545), ('전격돌입', 11546), ('화상', 11547), ('지형도', 11548), ('코미팜', 11549), ('한마디에', 11550), ('예산만', 11551), ('낭비', 11552), ('전부터', 11553), ('부를까', 11554), ('스린스완', 11555), ('제넥신', 11556), ('끝인가', 11557), ('카오스', 11558), ('습관은', 11559), ('윈팩', 11560), ('동트기', 11561), ('어둡다', 11562), ('기로에선', 11563), ('우량주는', 11564), ('장단기', 11565), ('곡선', 11566), ('이틀내', 11567), ('조정구간', 11568), ('화물', 11569), ('타라고', 11570), ('전자상', 11571), ('리테일', 11572), ('점유', 11573), ('거센', 11574), ('신제품', 11575), ('마케팅', 11576), ('매출도', 11577), ('상해지수', 11578), ('내놓나', 11579), ('낙폭', 11580), ('훈수', 11581), ('늦다', 11582), ('삼켰다', 11583), ('하단', 11584), ('찾자', 11585), ('홈엔터테인먼트', 11586), ('부진에', 11587), ('죽느냐', 11588), ('내몰린', 11589), ('광풍', 11590), ('대전은', 11591), ('모신소재', 11592), ('피크', 11593), ('쳤나', 11594), ('원격진료', 11595), ('한경', 11596), ('어려워도', 11597), ('지대', 11598), ('사각지대는', 11599), ('강세가', 11600), ('누른다', 11601), ('폭스콘', 11602), ('부추겼다', 11603), ('억제', 11604), ('노총', 11605), ('꽂힌', 11606), ('총력전', 11607), ('부침을', 11608), ('딛고', 11609), ('대체육', 11610), ('트업', 11611), ('맥도날드와', 11612), ('제휴로', 11613), ('확장', 11614), ('호재대', 11615), ('지대는', 11616), ('대장은', 11617), ('박영호의', 11618), ('실망스러운', 11619), ('하락분', 11620), ('전반', 11621), ('국면에', 11622), ('분체', 11623), ('일인자를', 11624), ('대마', 11625), ('이종구', 11626), ('산불처럼', 11627), ('번지는', 11628), ('임금', 11629), ('최저임금은', 11630), ('타다는', 11631), ('합법', 11632), ('모빌리티', 11633), ('진전', 11634), ('무죄', 11635), ('공유', 11636), ('주소와', 11637), ('리프트', 11638), ('비엔비', 11639), ('그린스완', 11640), ('아모그린텍', 11641), ('후공정', 11642), ('전염된', 11643), ('가야하죠', 11644), ('엇박자', 11645), ('경계', 11646), ('모뎀', 11647), ('구상', 11648), ('모건스탠리', 11649), ('생산차질', 11650), ('꺽였다', 11651), ('임금공시제', 11652), ('깔겠습니다', 11653), ('뱅크그룹', 11654), ('조원에', 11655), ('비전', 11656), ('파헤치기', 11657), ('키트', 11658), ('약세장에도', 11659), ('임플란트', 11660), ('격리', 11661), ('파쇄', 11662), ('동향은', 11663), ('쏠려도', 11664), ('쏠렸다', 11665), ('코윈', 11666), ('오마하의', 11667), ('현인', 11668), ('워렌버핏', 11669), ('추세적', 11670), ('기간별', 11671), ('추세로', 11672), ('이상일', 11673), ('장세의', 11674), ('메지온', 11675), ('저어라', 11676), ('이해와', 11677), ('훈풍에', 11678), ('피디아', 11679), ('깎아준다', 11680), ('소비지표', 11681), ('감세에', 11682), ('혼조', 11683), ('독주', 11684), ('도시', 11685), ('발효', 11686), ('증폭', 11687), ('몸살', 11688), ('반지하방', 11689), ('수용성', 11690), ('광남산', 11691), ('종근당', 11692), ('대웅제약', 11693), ('내미는', 11694), ('재계는', 11695), ('속앓이', 11696), ('스프린트', 11697), ('재편에', 11698), ('퀀트로', 11699), ('우는데', 11700), ('차선호주', 11701), ('그룹주', 11702), ('접을까', 11703), ('적기', 11704), ('보유주는', 11705), ('팽팽', 11706), ('사흘', 11707), ('한방', 11708), ('시스코시스템스', 11709), ('엠더블유', 11710), ('서진시스템', 11711), ('사야할지', 11712), ('고민이', 11713), ('유럽공략', 11714), ('날렸다', 11715), ('한글', 11716), ('색상', 11717), ('정점', 11718), ('과소', 11719), ('금물', 11720), ('뺀다', 11721), ('닫는게', 11722), ('남는', 11723), ('단속', 11724), ('광운대역', 11725), ('일대', 11726), ('천지개벽', 11727), ('월계', 11728), ('몽에', 11729), ('끼얹나', 11730), ('한류의', 11731), ('향상과', 11732), ('건축자재', 11733), ('유통업체', 11734), ('홈디포', 11735), ('신규편입', 11736), ('합작법인', 11737), ('땡큐', 11738), ('흥행몰이', 11739), ('이어간다', 11740), ('믿었던', 11741), ('패시브', 11742), ('미결제약정', 11743), ('가스', 11744), ('가격은', 11745), ('보일러는', 11746), ('잘팔리고', 11747), ('경동나비엔', 11748), ('책은', 11749), ('추이의', 11750), ('숏커버링', 11751), ('역이용', 11752), ('주주', 11753), ('전운고조', 11754), ('크루즈', 11755), ('빼줘', 11756), ('빌딩', 11757), ('중계기', 11758), ('다노', 11759), ('수업에', 11760), ('지마', 11761), ('혐오', 11762), ('파장은', 11763), ('현지사업', 11764), ('눈덩이', 11765), ('수록', 11766), ('차가', 11767), ('자율주행차', 11768), ('상친', 11769), ('메탈', 11770), ('특레상장', 11771), ('창궐마다', 11772), ('성과낼', 11773), ('신용도', 11774), ('리원량', 11775), ('애도', 11776), ('불났다', 11777), ('살돈', 11778), ('났나요', 11779), ('대이동', 11780), ('가입은', 11781), ('깐깐', 11782), ('낙폭과대', 11783), ('민감', 11784), ('지난주로', 11785), ('반등세를', 11786), ('하인환의', 11787), ('인하에', 11788), ('공략주', 11789), ('다나', 11790), ('투기와의', 11791), ('씽씽', 11792), ('요동치나', 11793), ('공장의', 11794), ('대흥푸드', 11795), ('장순묵', 11796), ('크루즈유람선', 11797), ('내리지마', 11798), ('김성진', 11799), ('메드팩토', 11800), ('기술이전', 11801), ('반락', 11802), ('밸류', 11803), ('비해', 11804), ('날까', 11805), ('찰까', 11806), ('망해요', 11807), ('세무조사', 11808), ('뗀', 11809), ('준법경영', 11810), ('강세장', 11811), ('줄줄이', 11812), ('전기전자', 11813), ('벗었다', 11814), ('에스앤에스텍', 11815), ('살얼음판', 11816), ('예의주시', 11817), ('단순', 11818), ('채권과', 11819), ('특판', 11820), ('생색내기', 11821), ('일우의', 11822), ('담았나', 11823), ('아모레퍼시픽', 11824), ('투성이', 11825), ('경착륙', 11826), ('안정기', 11827), ('주가도', 11828), ('종근당홀딩스', 11829), ('마케팅에', 11830), ('속지말자', 11831), ('물주', 11832), ('안갯속', 11833), ('력과', 11834), ('춘절', 11835), ('꺼냈다', 11836), ('허와', 11837), ('육로', 11838), ('뱃길', 11839), ('변해버린', 11840), ('신도시', 11841), ('당혹스러운', 11842), ('환자', 11843), ('뒤덮은', 11844), ('실체봤더니', 11845), ('비엠티', 11846), ('못가요', 11847), ('온라', 11848), ('메가엠디', 11849), ('포치', 11850), ('튀나', 11851), ('하락해도', 11852), ('탐색', 11853), ('저가', 11854), ('노려보자', 11855), ('밀레니얼', 11856), ('전세기도', 11857), ('주민반발도', 11858), ('주먹구구', 11859), ('컨트롤타워는', 11860), ('들려도', 11861), ('움찔', 11862), ('낙관론과', 11863), ('비관론', 11864), ('지양', 11865), ('낙폭공략보단', 11866), ('추이를', 11867), ('이어지는', 11868), ('방향성', 11869), ('만장일치', 11870), ('떠난다', 11871), ('전세기', 11872), ('교민도', 11873), ('조사자', 11874), ('호흡곤란', 11875), ('원전에', 11876), ('머물지', 11877), ('도어', 11878), ('센트랄모텍', 11879), ('상쳤네', 11880), ('료', 11881), ('주문하신', 11882), ('삼품은', 11883), ('품절', 11884), ('손세정제', 11885), ('질병만', 11886), ('골골', 11887), ('점화', 11888), ('고점은', 11889), ('버블은', 11890), ('틀리다', 11891), ('워렌', 11892), ('버핏도', 11893), ('보건복지부', 11894), ('질병의', 11895), ('대장주', 11896), ('스냅', 11897), ('통신기술', 11898), ('선두', 11899), ('통신모뎀칩', 11900), ('독과점적', 11901), ('지배력', 11902), ('영위', 11903), ('퀄컴의', 11904), ('점유율과', 11905), ('톱텍', 11906), ('이겨낼까', 11907), ('만시대', 11908), ('사도', 11909), ('상속', 11910), ('증여', 11911), ('메뚜기', 11912), ('취업족을', 11913), ('척추관', 11914), ('협착증', 11915), ('개별주', 11916), ('묶이네', 11917), ('플폰', 11918), ('시중', 11919), ('넘었다', 11920), ('손발부터', 11921), ('썩어간다', 11922), ('나가도', 11923), ('샤워기', 11924), ('원조의', 11925), ('샤워플러스', 11926), ('오교선', 11927), ('성동', 11928), ('마포', 11929), ('공시가격', 11930), ('대폭', 11931), ('음서제', 11932), ('집행유예', 11933), ('환경정책기조', 11934), ('우회', 11935), ('대선과', 11936), ('다보스에', 11937), ('큰손들이', 11938), ('안정화', 11939), ('이어가나', 11940), ('공장을', 11941), ('설연휴', 11942), ('재무장관', 11943), ('철회하지', 11944), ('스태그', 11945), ('막강', 11946), ('낼까', 11947), ('겸비', 11948), ('트진로', 11949), ('타볼까', 11950), ('쟁점은', 11951), ('훈풍론', 11952), ('부나', 11953), ('쳤지만', 11954), ('영등포', 11955), ('쪽방촌', 11956), ('서남권', 11957), ('본궤도', 11958), ('견조한', 11959), ('슈피겐', 11960), ('마라탕', 11961), ('다낭', 11962), ('관료', 11963), ('팔께요', 11964), ('강남집만', 11965), ('쌍용차와', 11966), ('이혼할', 11967), ('마힌', 11968), ('잰걸음', 11969), ('연초', 11970), ('소외됐던', 11971), ('프랑켄슈타인', 11972), ('엔터주', 11973), ('품었더니', 11974), ('이륙채비', 11975), ('비욘드', 11976), ('고점일까', 11977), ('화폐', 11978), ('언급보다', 11979), ('강기정', 11980), ('정무수석의', 11981), ('허가세', 11982), ('초과', 11983), ('주택보유자', 11984), ('가인', 11985), ('사라지나', 11986), ('설에', 11987), ('설과', 11988), ('쿠데', 11989), ('설도', 11990), ('나도나', 11991), ('무한한', 11992), ('상상력', 11993), ('인피니', 11994), ('디자인', 11995), ('백경준', 11996), ('골디락스', 11997), ('구간이', 11998), ('이뤄지면', 11999), ('자들은', 12000), ('취업자', 12001), ('고용의', 12002), ('제네시스', 12003), ('최신기술', 12004), ('집약', 12005), ('나가는', 12006), ('반색', 12007), ('이끌까', 12008), ('가른다', 12009), ('기회다', 12010), ('불티나게', 12011), ('팔린', 12012), ('용품이', 12013), ('시들', 12014), ('품질', 12015), ('강화한다더니', 12016), ('회계법인', 12017), ('돈벌이로', 12018), ('난기류', 12019), ('수입차', 12020), ('입질', 12021), ('담자', 12022), ('절상', 12023), ('원마저', 12024), ('의심에도', 12025), ('조사대상', 12026), ('석연찮은', 12027), ('도시가스', 12028), ('화윤가스', 12029), ('대도시', 12030), ('고수익성을', 12031), ('독점사업권', 12032), ('보유로', 12033), ('수요증가', 12034), ('임에', 12035), ('열리나', 12036), ('뇌관', 12037), ('이갈이', 12038), ('보톡스', 12039), ('맞았더니', 12040), ('외환보유', 12041), ('사업환경', 12042), ('선루프', 12043), ('해킹에', 12044), ('자율주행', 12045), ('홍수나면', 12046), ('대림대', 12047), ('삼중', 12048), ('천장', 12049), ('드론택시', 12050), ('보약', 12051), ('극대화', 12052), ('김선형의', 12053), ('어닝시즌', 12054), ('원치', 12055), ('모면', 12056), ('국산화를', 12057), ('씨엔원', 12058), ('정재학', 12059), ('거세진', 12060), ('건전성', 12061), ('순교자', 12062), ('기지로', 12063), ('현황과', 12064), ('아스피린이', 12065), ('암을', 12066), ('이란발', 12067), ('선별', 12068), ('위장된', 12069), ('축복', 12070), ('모피아', 12071), ('전운', 12072), ('줄였다', 12073), ('쏠린다', 12074), ('볼리야', 12075), ('이리와', 12076), ('대중비행기', 12077), ('김진일', 12078), ('사스', 12079), ('분기당', 12080), ('영업익', 12081), ('장세에도', 12082), ('대박주는', 12083), ('이정기', 12084), ('벤처팀장의', 12085), ('빛날', 12086), ('피킹', 12087), ('유가보다', 12088), ('몸집', 12089), ('줄이기', 12090), ('똘똘한', 12091), ('중저가', 12092), ('바뀌는', 12093), ('배민', 12094), ('새차', 12095), ('구입한', 12096), ('안정적', 12097), ('커버드콜', 12098), ('콜옵션', 12099), ('하락을', 12100), ('방어할', 12101), ('특성을', 12102), ('인증은', 12103), ('해주나', 12104), ('단기로', 12105), ('그칠까', 12106), ('매매패턴', 12107), ('억누른다', 12108), ('세광에프엠', 12109), ('차량공유사업', 12110), ('금값은', 12111), ('낙상', 12112), ('킬러', 12113), ('지준율', 12114), ('치에도', 12115), ('홀로', 12116), ('연금개편', 12117), ('최장파업', 12118), ('지수를', 12119), ('띄운', 12120), ('사항', 12121), ('집계', 12122), ('뒷전', 12123), ('양극화', 12124), ('최저임금', 12125), ('의존할', 12126), ('대국', 12127), ('년에도', 12128), ('비중은', 12129), ('빅샷', 12130), ('벌려면', 12131), ('탄력성을', 12132), ('감안한', 12133), ('패턴을', 12134), ('바꿔야', 12135), ('대안주는', 12136), ('원익머트', 12137), ('눌린', 12138), ('어긋난', 12139), ('장밋빛', 12140), ('두차례', 12141), ('밴드', 12142), ('볕들날을', 12143), ('공략하라', 12144), ('못지않게', 12145), ('면세', 12146), ('품주', 12147), ('대주주양도세', 12148), ('버블일까', 12149), ('차입금', 12150), ('미인대회를', 12151), ('미인', 12152), ('숙취', 12153), ('해소음료', 12154), ('환', 12155), ('해장술', 12156), ('교란', 12157), ('구현모', 12158), ('개선에', 12159), ('할인', 12160), ('불어줄', 12161), ('턴', 12162), ('과다', 12163), ('국방수권법', 12164), ('천선', 12165), ('껌', 12166), ('꼼꼼히', 12167), ('흐림', 12168), ('김종철의', 12169), ('텔콘', 12170), ('청산', 12171), ('꽃피운', 12172), ('잡힌다', 12173), ('조정이', 12174), ('이상하지', 12175), ('차트', 12176), ('다음달', 12177), ('서명식', 12178), ('보험료', 12179), ('손잡은', 12180), ('역내', 12181), ('고개드는', 12182), ('불황에', 12183), ('한진', 12184), ('조현아', 12185), ('쌍용차', 12186), ('백주', 12187), ('대접', 12188), ('문화유산', 12189), ('등재된', 12190), ('송구영신', 12191), ('소주를', 12192), ('욕해', 12193), ('소주도', 12194), ('내요', 12195), ('가결', 12196), ('소폭', 12197), ('적이다', 12198), ('견조', 12199), ('영구채', 12200), ('잔에', 12201), ('결산', 12202), ('스코틀랜드', 12203), ('자치', 12204), ('공식요청', 12205), ('공방전', 12206), ('트윗', 12207), ('발령', 12208), ('기상도', 12209), ('브레이크', 12210), ('가결에도', 12211), ('클의', 12212), ('손성원', 12213), ('원대', 12214), ('고마워요', 12215), ('화두는', 12216), ('정책방향', 12217), ('희소식', 12218), ('절세', 12219), ('배달의', 12220), ('조대', 12221), ('배달앱', 12222), ('하락률', 12223), ('상위주', 12224), ('온고지신', 12225), ('탑픽은', 12226), ('물산', 12227), ('인터', 12228), ('내셔날', 12229), ('팔라고', 12230), ('나무를', 12231), ('소목수', 12232), ('산화목재', 12233), ('유재동', 12234), ('니즈', 12235), ('이세돌', 12236), ('고강도', 12237), ('거세지는', 12238), ('기본권', 12239), ('침해', 12240), ('는다', 12241), ('오픈뱅킹', 12242), ('주요지표', 12243), ('잡으신', 12244), ('기다렸습니다', 12245), ('힐스', 12246), ('잡으려다가', 12247), ('알래스카', 12248), ('세금만', 12249), ('올린다', 12250), ('강남에', 12251), ('잦아든', 12252), ('넘겼다', 12253), ('페덱스', 12254), ('배송', 12255), ('탈퇴협정', 12256), ('전환기간', 12257), ('연장은', 12258), ('기후', 12259), ('친환경', 12260), ('앞세운', 12261), ('적임자', 12262), ('줄어든다', 12263), ('서초동에', 12264), ('윙', 12265), ('펩트론', 12266), ('구글이', 12267), ('시계제로', 12268), ('돌린', 12269), ('민감주', 12270), ('지표의', 12271), ('안정을', 12272), ('젬백스', 12273), ('중공업', 12274), ('예언은', 12275), ('틀렸다', 12276), ('구리', 12277), ('가전', 12278), ('원에는', 12279), ('조작에', 12280), ('휘말린', 12281), ('하야설', 12282), ('국장급', 12283), ('보인', 12284), ('토스뱅크', 12285), ('행보와', 12286), ('일희일비', 12287), ('ㅁㅁㅁ', 12288), ('안도하긴', 12289), ('이른', 12290), ('두려움', 12291), ('화해', 12292), ('웰컴', 12293), ('호재야', 12294), ('찍나', 12295), ('초고가', 12296), ('대출제한', 12297), ('종부세', 12298), ('대두', 12299), ('불확실', 12300), ('한고비', 12301), ('넘겨', 12302), ('기다린', 12303), ('키코', 12304), ('조인트벤처', 12305), ('접었다', 12306), ('뼈를', 12307), ('한걸음', 12308), ('보수당', 12309), ('탈퇴', 12310), ('대만서', 12311), ('인력', 12312), ('실질', 12313), ('높여라', 12314), ('유럽중앙', 12315), ('기조', 12316), ('대책의', 12317), ('대반란인가', 12318), ('택할지', 12319), ('첨단에', 12320), ('감성을', 12321), ('고령층', 12322), ('넘기진', 12323), ('추월한다', 12324), ('다툼', 12325), ('원단', 12326), ('두림', 12327), ('박두성', 12328), ('억도', 12329), ('이모티콘', 12330), ('고용률', 12331), ('홍남기', 12332), ('불만인', 12333), ('보완책', 12334), ('걷히나', 12335), ('천수답식', 12336), ('중통', 12337), ('디폴트', 12338), ('빌보드', 12339), ('넘긴다', 12340), ('질주', 12341), ('엔텍', 12342), ('막간이음', 12343), ('시세', 12344), ('판도가', 12345), ('오르면', 12346), ('텐베거', 12347), ('무상증자', 12348), ('위지윅스튜디오', 12349), ('마녀사', 12350), ('늙다리', 12351), ('세에도', 12352), ('버틴다', 12353), ('연금보다', 12354), ('웨어', 12355), ('등돌리는', 12356), ('갈림', 12357), ('보완', 12358), ('분식회계', 12359), ('가계부채가', 12360), ('이오', 12361), ('닉스', 12362), ('만기일', 12363), ('파생', 12364), ('대외', 12365), ('자랑하고', 12366), ('정도의', 12367), ('최상', 12368), ('빅딜', 12369), ('나가네', 12370), ('수급공백', 12371), ('삼바최', 12372), ('소통문화연구소', 12373), ('소통의', 12374), ('인문학강연', 12375), ('천광정밀', 12376), ('김남천', 12377), ('균형을', 12378), ('천연가스', 12379), ('선박', 12380), ('줄고', 12381), ('옵트로', 12382), ('김완수', 12383), ('배럴', 12384), ('논의', 12385), ('테면', 12386), ('해봐라', 12387), ('비수기도', 12388), ('옛말', 12389), ('뷰티', 12390), ('강조했지만', 12391), ('배상해라', 12392), ('학자에게', 12393), ('강경', 12394), ('느린', 12395), ('한달째', 12396), ('불발', 12397), ('잡음', 12398), ('꼬이는', 12399), ('파블로프의', 12400), ('압축', 12401), ('내년에', 12402), ('마찰', 12403), ('솽스이', 12404), ('시계를', 12405), ('신무기', 12406), ('떨고', 12407), ('허창수', 12408), ('주택정비사업', 12409), ('수난시대', 12410), ('돈버는', 12411), ('저물가', 12412), ('케미칼', 12413), ('트리거는', 12414), ('기학습법', 12415), ('원어민쌤', 12416), ('안부러운', 12417), ('학습법', 12418), ('짙어진', 12419), ('화두와', 12420), ('접는', 12421), ('구는', 12422), ('동조화', 12423), ('줄선다', 12424), ('변경도', 12425), ('외신도', 12426), ('순수출국', 12427), ('팔렸다', 12428), ('쌓였던', 12429), ('블룸', 12430), ('물량', 12431), ('꺾고', 12432), ('레이스', 12433), ('아세안에', 12434), ('스마트', 12435), ('시티', 12436), ('수출한다', 12437), ('상저하고', 12438), ('공략나선', 12439), ('콘텐츠의', 12440), ('해가', 12441), ('지켰다', 12442), ('정기변경', 12443), ('성사돼도', 12444), ('바뀌지', 12445), ('소확종', 12446), ('소소', 12447), ('정책주에', 12448), ('공백에', 12449), ('투심', 12450), ('재발', 12451), ('원선', 12452), ('재현', 12453), ('블프', 12454), ('도약을', 12455), ('네오씨앤씨', 12456), ('김찬호', 12457), ('시총이', 12458), ('장부', 12459), ('미달', 12460), ('재고', 12461), ('종점', 12462), ('다가오나', 12463), ('칼자루는', 12464), ('같고', 12465), ('다르나', 12466), ('독식한', 12467), ('위챗', 12468), ('텐센트', 12469), ('가본', 12470), ('허마센셩', 12471), ('루이싱', 12472), ('부메랑', 12473), ('조정특위', 12474), ('리니지', 12475), ('쌓이는', 12476), ('분양전환은', 12477), ('글쎄', 12478), ('이외', 12479), ('황창규', 12480), ('대혼전', 12481), ('청약', 12482), ('이관', 12483), ('한남', 12484), ('구역', 12485), ('입찰무효', 12486), ('어쩌지', 12487), ('내수부진', 12488), ('고착화', 12489), ('콤텍시스템', 12490), ('동운아나텍', 12491), ('새내기주도', 12492), ('해빙', 12493), ('욜로', 12494), ('답이다', 12495), ('지재권', 12496), ('보호강화', 12497), ('서밋', 12498), ('김태기', 12499), ('치솟는', 12500), ('재부각', 12501), ('가깝다', 12502), ('스테이', 12503), ('써보니', 12504), ('출시한', 12505), ('뭐죠', 12506), ('눈앞', 12507), ('팜', 12508), ('썼다', 12509), ('뇌물죄', 12510), ('성립도', 12511), ('지정도', 12512), ('오너', 12513), ('적신호', 12514), ('원적외선', 12515), ('맥섬석의', 12516), ('연금술', 12517), ('맥섬석', 12518), ('곽성근', 12519), ('건너', 12520), ('중첩', 12521), ('조정은', 12522), ('고위급', 12523), ('키신져', 12524), ('고르기', 12525), ('장세에는', 12526), ('지원사격', 12527), ('장시영의', 12528), ('강준혁의', 12529), ('희귀질환', 12530), ('발굴', 12531), ('티움', 12532), ('신규상장', 12533), ('파월의장', 12534), ('회동', 12535), ('마이너스', 12536), ('방탄소년단', 12537), ('어워드', 12538), ('앙금', 12539), ('주재', 12540), ('대가성', 12541), ('페그제', 12542), ('엔비디아', 12543), ('즐길', 12544), ('볼모잡은', 12545), ('철도', 12546), ('그랜저', 12547), ('세단의', 12548), ('멀어지는', 12549), ('반목', 12550), ('사두면', 12551), ('뿌듯한', 12552), ('왕관의', 12553), ('록을', 12554), ('정책이', 12555), ('구를', 12556), ('찾다', 12557), ('한화케미칼', 12558), ('지누스', 12559), ('무력개입', 12560), ('연중', 12561), ('유예로', 12562), ('양자협의', 12563), ('낮아', 12564), ('이해진', 12565), ('억명', 12566), ('푼이', 12567), ('특판예금', 12568), ('항서제약', 12569), ('펙트체크', 12570), ('이어폰에', 12571), ('왜들', 12572), ('지적한', 12573), ('땅값', 12574), ('공해', 12575), ('부처', 12576), ('고위직', 12577), ('내팽개친', 12578), ('전전긍긍', 12579), ('파수꾼은', 12580), ('커녕', 12581), ('주가조작에', 12582), ('가담한', 12583), ('회계사들', 12584), ('집도', 12585), ('외지서', 12586), ('사드보복', 12587), ('상적인', 12588), ('연착륙', 12589), ('대신증권', 12590), ('주주서한', 12591), ('오너지분', 12592), ('구심점이', 12593), ('약해진', 12594), ('현황', 12595), ('부상한', 12596), ('민부론', 12597), ('방점', 12598), ('이경은', 12599), ('앵커의', 12600), ('일년', 12601), ('버텼다', 12602), ('분야에', 12603), ('개척정신', 12604), ('호창', 12605), ('홍의창', 12606), ('불화', 12607), ('농산물', 12608), ('강세에도', 12609), ('솟아날', 12610), ('공청회', 12611), ('분도', 12612), ('낙관', 12613), ('고가전세는', 12614), ('전월세', 12615), ('주택연금', 12616), ('가입문턱', 12617), ('낮춘다', 12618), ('재무제표', 12619), ('박자', 12620), ('꺽고', 12621), ('링크의', 12622), ('원웹의', 12623), ('신흥국에', 12624), ('장세대비', 12625), ('한달간', 12626), ('첫날부터', 12627), ('플러스', 12628), ('런칭', 12629), ('첫날', 12630), ('곽철용의', 12631), ('명대사', 12632), ('쓰이나', 12633), ('불협화음', 12634), ('복병', 12635), ('알리바바', 12636), ('론에', 12637), ('특혜시비', 12638), ('사업재편', 12639), ('기활법', 12640), ('시큰둥', 12641), ('풀린', 12642), ('미디어', 12643), ('주금공', 12644), ('꿈틀', 12645), ('경남권', 12646), ('완연', 12647), ('을지로', 12648), ('꽃미남의', 12649), ('우드로', 12650), ('호재는', 12651), ('주가에', 12652), ('선반영', 12653), ('채권이든', 12654), ('투입될', 12655), ('일진머티', 12656), ('닷컴버블', 12657), ('호황기', 12658), ('목전', 12659), ('도이치', 12660), ('요소', 12661), ('난기류에', 12662), ('사라고', 12663), ('외치나', 12664), ('창사', 12665), ('반환점', 12666), ('양지로', 12667), ('중고폰', 12668), ('무인기기가', 12669), ('서희', 12670), ('이수', 12671), ('건산법', 12672), ('최다위반', 12673), ('린노알미늄', 12674), ('이세영', 12675), ('사들이더니', 12676), ('부메랑된', 12677), ('헤지', 12678), ('환매', 12679), ('주당순이익', 12680), ('지켜질', 12681), ('견인', 12682), ('쇼를', 12683), ('걸림돌', 12684), ('공멸', 12685), ('자금력', 12686), ('애경', 12687), ('레벨업', 12688), ('정책전환', 12689), ('시급', 12690), ('개구', 12691), ('찍혔다', 12692), ('고공비행', 12693), ('백기', 12694), ('대국화로', 12695), ('밀림의', 12696), ('사냥법', 12697), ('돌지', 12698), ('미엄', 12699), ('귀주모태', 12700), ('뉴지랩', 12701), ('독보적인', 12702), ('문전성시', 12703), ('득템', 12704), ('일렌', 12705), ('옥석가리기', 12706), ('ㅁㅁ지', 12707), ('핀셋지정', 12708), ('점증', 12709), ('춘추', 12710), ('시커먼', 12711), ('득실', 12712), ('직수형', 12713), ('써도', 12714), ('정기예금에', 12715), ('쪼개팔기가', 12716), ('핵이라고', 12717), ('피아노로', 12718), ('무한의', 12719), ('계단에', 12720), ('계정', 12721), ('바라겠습니다', 12722), ('콩쿠르', 12723), ('장인들', 12724), ('재단에', 12725), ('리겠습니다', 12726), ('에코가', 12727), ('처치', 12728), ('어를', 12729), ('도용', 12730), ('브론즈인데', 12731), ('궁극기가', 12732), ('저게', 12733), ('사줬습니다', 12734), ('핵노잼게', 12735), ('터졌', 12736), ('났네요', 12737), ('박수쳐주는', 12738), ('무섭네요', 12739), ('공기', 12740), ('게이밍', 12741), ('방종이', 12742), ('된줄', 12743), ('숨김', 12744), ('볼수도', 12745), ('죽기전에', 12746), ('해볼수', 12747), ('안나와서', 12748), ('떴네요', 12749), ('엇', 12750), ('롤버워치', 12751), ('접어야', 12752), ('풀수', 12753), ('속보다', 12754), ('종료한', 12755), ('게렌이', 12756), ('정지당', 12757), ('핵쟁이', 12758), ('빡쳤습니', 12759), ('났습니', 12760), ('기묘워치', 12761), ('맵이', 12762), ('스팀', 12763), ('ㅋ보다', 12764), ('형이ㅁㅊ', 12765), ('대기중인데', 12766), ('시비를', 12767), ('거네요', 12768), ('사슴', 12769), ('영웅들은', 12770), ('버전을', 12771), ('템템', 12772), ('이었던', 12773), ('롤백된', 12774), ('됐습니', 12775), ('요정을', 12776), ('안올린', 12777), ('밝히겠습니다', 12778), ('나무위키', 12779), ('사칭', 12780), ('무인도가', 12781), ('광경', 12782), ('ㅋ유가', 12783), ('있었네', 12784), ('클리어한', 12785), ('막장게', 12786), ('엔터키로', 12787), ('책에', 12788), ('실린', 12789), ('뇌파를', 12790), ('이용해서', 12791), ('이동수단을', 12792), ('ㅋ러나', 12793), ('억울하게', 12794), ('팔라딘스', 12795), ('경보', 12796), ('떴습니', 12797), ('제보만', 12798), ('패치가', 12799), ('안됐습니다', 12800), ('좁아진', 12801), ('이딴건', 12802), ('금메달을', 12803), ('먹었습니', 12804), ('합성', 12805), ('아닙니', 12806), ('인걸', 12807), ('고쳐주세요', 12808), ('잘한', 12809), ('판매될', 12810), ('스바가', 12811), ('이사하고', 12812), ('딜량만큼', 12813), ('게이머인척', 12814), ('놓아주려고', 12815), ('무기를', 12816), ('감도를', 12817), ('이메일에', 12818), ('제보가', 12819), ('영웅들의', 12820), ('가질수', 12821), ('할뻔한', 12822), ('카락이', 12823), ('끔찍한', 12824), ('생김', 12825), ('체감안', 12826), ('알바가', 12827), ('이웃주민이랑', 12828), ('에가서', 12829), ('위였던', 12830), ('시절로', 12831), ('여장', 12832), ('구현을', 12833), ('퀘', 12834), ('생겼습니', 12835), ('러다', 12836), ('모드도', 12837), ('전투방식', 12838), ('밀기모드', 12839), ('김블루님', 12840), ('형독님', 12841), ('우정잉님', 12842), ('믿어주세요', 12843), ('얼음벽은', 12844), ('알수', 12845), ('무언가로', 12846), ('이어져', 12847), ('아셨습니까', 12848), ('게이머가', 12849), ('될수', 12850), ('하지마세', 12851), ('스위치로', 12852), ('게이머들이', 12853), ('장소를', 12854), ('보신적이', 12855), ('테두리', 12856), ('머독님', 12857), ('ㅋ버워치', 12858), ('조준점만', 12859), ('바꿨는데', 12860), ('연습전투가', 12861), ('사기가', 12862), ('천박한', 12863), ('봤', 12864), ('크아', 12865), ('뿌시러', 12866), ('가겠습니다', 12867), ('시만', 12868), ('말고도', 12869), ('고이다', 12870), ('썩어', 12871), ('건즈', 12872), ('응은', 12873), ('나버렸습니다', 12874), ('초월로', 12875), ('젠야', 12876), ('해설자분들도', 12877), ('갈까요', 12878), ('무리', 12879), ('폐가', 12880), ('래요', 12881), ('패치로인해', 12882), ('느린대전이', 12883), ('터트리면', 12884), ('초뒤', 12885), ('이태준님에게', 12886), ('원을', 12887), ('장비탓이', 12888), ('스터를', 12889), ('표절한', 12890), ('이동기로', 12891), ('보낼수있', 12892), ('낙사가', 12893), ('소보다', 12894), ('보일까', 12895), ('판교', 12896), ('백화점', 12897), ('뉴에라', 12898), ('스킬을', 12899), ('만든겁니까', 12900), ('본섭', 12901), ('그마갈수', 12902), ('배웠습니', 12903), ('순금을', 12904), ('인질전을', 12905), ('머독님이랑', 12906), ('깠습니다', 12907), ('사용해', 12908), ('원콤낸다', 12909), ('오토체스가', 12910), ('체스', 12911), ('목격', 12912), ('시끄럽습니다', 12913), ('켰습니다', 12914), ('폰번호를', 12915), ('저장', 12916), ('혈압마라톤', 12917), ('궁극기를', 12918), ('초고속', 12919), ('자책', 12920), ('안타까운', 12921), ('사연이', 12922), ('빡빡이가', 12923), ('킬이', 12924), ('딜이', 12925), ('접시를', 12926), ('마주치면', 12927), ('한방전', 12928), ('멀어지면', 12929), ('힐무새', 12930), ('일부러', 12931), ('그러는거임', 12932), ('도박의', 12933), ('깨닫게', 12934), ('등산모드', 12935), ('등산하러', 12936), ('갔습니', 12937), ('왜그러세요', 12938), ('버프된', 12939), ('사기인가요', 12940), ('될수있었던', 12941), ('즐겁게', 12942), ('ㅈ대전', 12943), ('투사체가', 12944), ('바뀌었습니', 12945), ('철권모드', 12946), ('사우나', 12947), ('시점을', 12948), ('데리고', 12949), ('떠납니', 12950), ('징', 12951), ('부사장이', 12952), ('인내의숲을', 12953), ('노리고', 12954), ('메달', 12955), ('모았습니다', 12956), ('상자만', 12957), ('까서', 12958), ('에반데', 12959), ('감탄', 12960), ('장안의화제', 12961), ('제작자가', 12962), ('상점모드', 12963), ('유즈맵을', 12964), ('혈압마라', 12965), ('이코급', 12966), ('연습이', 12967), ('고칠수', 12968), ('안하고', 12969), ('이거만', 12970), ('눔바', 12971), ('꼴지', 12972), ('개꿀', 12973), ('해설을', 12974), ('스킬은', 12975), ('것일까요', 12976), ('미치겠습니다', 12977), ('느리게', 12978), ('이기', 12979), ('나왔는데', 12980), ('셨어요', 12981), ('구라안치고', 12982), ('썼습니다', 12983), ('투니', 12984), ('본캐가', 12985), ('미소를', 12986), ('잃었습니다', 12987), ('신규전장', 12988), ('하바', 12989), ('의서막', 12990), ('사기라', 12991), ('에다가', 12992), ('현질', 12993), ('안잡히자', 12994), ('드레이븐', 12995), ('펙스', 12996), ('송출', 12997), ('영웅을', 12998), ('죄송합니', 12999), ('인벤', 13000), ('문상내기', 13001), ('노잼이', 13002), ('빡치네', 13003), ('머독', 13004), ('형독', 13005), ('겐트', 13006), ('나와버렸', 13007), ('귀요미인데', 13008), ('낙사', 13009), ('무인도에', 13010), ('갇히면', 13011), ('패드로', 13012), ('빤스입고', 13013), ('빤스그', 13014), ('메달이', 13015), ('정답이', 13016), ('주실래요', 13017), ('그램을', 13018), ('망쳤습니다', 13019), ('진행자분', 13020), ('대본던', 13021), ('테두리핵', 13022), ('신캐로', 13023), ('월수익이', 13024), ('큰맘', 13025), ('교환소', 13026), ('일찍', 13027), ('바꾸고', 13028), ('바꿨습니다', 13029), ('가겠습니', 13030), ('콩순이컴', 13031), ('준다해', 13032), ('힘의', 13033), ('고퀄', 13034), ('하니까', 13035), ('호강하네', 13036), ('앤썸', 13037), ('드가', 13038), ('유저한테', 13039), ('크아하', 13040), ('점이죠', 13041), ('빡겜해서', 13042), ('인싸됨', 13043), ('피아노연주', 13044), ('이겼는데', 13045), ('었지만', 13046), ('잘만듭니', 13047), ('보급동굴', 13048), ('트롤을', 13049), ('장비탓', 13050), ('치곤', 13051), ('잘만든거', 13052), ('흠', 13053), ('ㅋ맵', 13054), ('같음', 13055), ('똥겜인줄', 13056), ('이였습니', 13057), ('ㅋ구리', 13058), ('자님', 13059), ('모니터에', 13060), ('돋보기를', 13061), ('한방콤보', 13062), ('스킨을', 13063), ('사세', 13064), ('자괴감이', 13065), ('들었습니다', 13066), ('막자', 13067), ('개빡쳤습니', 13068), ('주먹킬로그', 13069), ('주먹킬로', 13070), ('접었어야', 13071), ('피흡', 13072), ('관종이던', 13073), ('녹여줄', 13074), ('한곡의', 13075), ('해기념', 13076), ('각보다', 13077), ('빡치는', 13078), ('화났습니다', 13079), ('자연스럽게', 13080), ('랜드', 13081), ('자님이랑', 13082), ('떠서', 13083), ('러가기', 13084), ('나올때마다', 13085), ('궁써지는', 13086), ('시끄러운', 13087), ('듀', 13088), ('정전이난', 13089), ('시니', 13090), ('접으세요', 13091), ('날게하', 13092), ('ㅋ런', 13093), ('이죠', 13094), ('점인', 13095), ('꺾인다', 13096), ('듀오를', 13097), ('돌려야', 13098), ('바람의', 13099), ('겜방이야', 13100), ('돼서', 13101), ('끊김', 13102), ('조합대법관', 13103), ('서든어택을', 13104), ('ㅋ난충의', 13105), ('캠켰는데', 13106), ('병이면', 13107), ('잘보라고', 13108), ('오즈', 13109), ('애쉬는', 13110), ('하필이면', 13111), ('꿀빨다가', 13112), ('팟지먹었습니', 13113), ('예능배', 13114), ('거울의', 13115), ('네ㅋ', 13116), ('한조장인이', 13117), ('개빡치는', 13118), ('다니면', 13119), ('당황스러운', 13120), ('텐', 13121), ('이녕님', 13122), ('개구몽님', 13123), ('미로님', 13124), ('안티카페', 13125), ('야생동물', 13126), ('끝말잇기', 13127), ('헬륨가스', 13128), ('떠들면', 13129), ('조준점을', 13130), ('없앴는데', 13131), ('찍기전', 13132), ('시메의', 13133), ('공개합니', 13134), ('한조충', 13135), ('한조고수', 13136), ('그램써서', 13137), ('유치원생인척', 13138), ('미치겠습니', 13139), ('파라무기', 13140), ('김블루', 13141), ('예능듀오', 13142), ('아가면', 13143), ('안내려주면', 13144), ('뵙고싶습니', 13145), ('기간이', 13146), ('인내의숲', 13147), ('화낼때마다', 13148), ('만듭니', 13149), ('고소감인데', 13150), ('제프', 13151), ('카플란과', 13152), ('중계진도', 13153), ('ㅋ잔형', 13154), ('장인을', 13155), ('이겼습니다', 13156), ('게이머도', 13157), ('못참겠습니다', 13158), ('헨발데', 13159), ('알려드립니', 13160), ('훅', 13161), ('어릴적', 13162), ('쓸때마다', 13163), ('돌진충의', 13164), ('줬던', 13165), ('피카츄', 13166), ('배구', 13167), ('폭염에', 13168), ('힐로', 13169), ('시켰습니', 13170), ('인이랑', 13171), ('방학', 13172), ('노예를', 13173), ('움에', 13174), ('노는방', 13175), ('아나한방전에', 13176), ('소질이', 13177), ('있나봅니', 13178), ('고수인척하', 13179), ('정지', 13180), ('하시면', 13181), ('치라고', 13182), ('핵유저다', 13183), ('가전제품', 13184), ('뿌셨습니다', 13185), ('카이저님', 13186), ('테섭에', 13187), ('인기도', 13188), ('대지분쇄', 13189), ('맞죠', 13190), ('어렵고', 13191), ('김영권', 13192), ('마네킹', 13193), ('마을의', 13194), ('이동기', 13195), ('무빙', 13196), ('사격해', 13197), ('반동', 13198), ('개쩜', 13199), ('초월도', 13200), ('뚫는', 13201), ('블리자드는', 13202), ('패치해라', 13203), ('신챔', 13204), ('그마들', 13205), ('말빨로', 13206), ('전체채팅', 13207), ('팬과', 13208), ('멱살잡고', 13209), ('싸웠습니', 13210), ('자아', 13211), ('저희팀이였던', 13212), ('한조님', 13213), ('아나가', 13214), ('신한테', 13215), ('궁을', 13216), ('쓸수', 13217), ('날렸습니', 13218), ('쉽습니', 13219), ('원격조종', 13220), ('만명때', 13221), ('한조해도', 13222), ('됩니', 13223), ('구걸로', 13224), ('메소', 13225), ('벌었습니', 13226), ('엠넷', 13227), ('개빡', 13228), ('감정기복이', 13229), ('심해지는', 13230), ('떴습니다', 13231), ('스킨이', 13232), ('퀄리티', 13233), ('핵이', 13234), ('있네요', 13235), ('배그에', 13236), ('전체이용', 13237), ('섬난충은', 13238), ('좋습니', 13239), ('박으면', 13240), ('궁극기', 13241), ('스나실', 13242), ('도우', 13243), ('딜금', 13244), ('ㅋ박', 13245), ('벽타기', 13246), ('녹이네요', 13247), ('예능듀', 13248), ('한번쯤', 13249), ('라인하', 13250), ('공부법', 13251), ('경악시킨', 13252), ('빡쳐서', 13253), ('부실뻔', 13254), ('계략인게', 13255), ('접습니다', 13256), ('운다는', 13257), ('편이', 13258), ('자살을', 13259), ('ㅋ짜', 13260), ('절교각', 13261), ('ㅏㅏㅣㅏ', 13262), ('시끄럽고', 13263), ('야함', 13264), ('하세', 13265), ('발굴한', 13266), ('소개합니', 13267), ('정점을', 13268), ('대리의심', 13269), ('피아노빌', 13270), ('혼모노', 13271), ('신입생', 13272), ('새학기', 13273), ('사귀는', 13274), ('조준점', 13275), ('나잘', 13276), ('카톡', 13277), ('연락온', 13278), ('저승', 13279), ('드레드아웃', 13280), ('뺏기', 13281), ('단합력', 13282), ('치사하게', 13283), ('수만명', 13284), ('절교', 13285), ('할뻔', 13286), ('플랫', 13287), ('시켜줬습니', 13288), ('시마다', 13289), ('일족의', 13290), ('섹시한', 13291), ('뱅츠님', 13292), ('원빈', 13293), ('말조심', 13294), ('찾고', 13295), ('유저인', 13296), ('공식대회', 13297), ('스킨나', 13298), ('사러가야해', 13299), ('겁쟁이', 13300), ('귀요미와의', 13301), ('첫만남인게', 13302), ('더웃', 13303), ('ㅋ인유저', 13304), ('두려워서', 13305), ('조별과제', 13306), ('이끌기', 13307), ('병에', 13308), ('양학을', 13309), ('했으니', 13310), ('죄값을', 13311), ('받겠습니다', 13312), ('브론즈를', 13313), ('멱살하드', 13314), ('시비충', 13315), ('예티를', 13316), ('이중인격', 13317), ('동해번쩍', 13318), ('서해번쩍', 13319), ('성대모사를', 13320), ('커로', 13321), ('샷장인', 13322), ('그림자', 13323), ('흑역', 13324), ('게이머와', 13325), ('알콩달콩한', 13326), ('히오스', 13327), ('전단지를', 13328), ('나눠주면', 13329), ('화물근처도', 13330), ('못가는', 13331), ('패왕색', 13332), ('사귀면', 13333), ('빡치라고', 13334), ('ㅋ재원의', 13335), ('항아리', 13336), ('피흡력을', 13337), ('새영웅', 13338), ('참혹한', 13339), ('쿵쾅아', 13340), ('성연아', 13341), ('오래만이야', 13342), ('당할뻔', 13343), ('맥크', 13344), ('돌진을', 13345), ('겁니다', 13346), ('무릎꿇으면', 13347), ('딜량', 13348), ('간지나게', 13349), ('얼렸습니', 13350), ('렙낮은곳', 13351), ('포탑을', 13352), ('내주고', 13353), ('문상을', 13354), ('얻었습니다', 13355), ('누굽니꽈', 13356), ('먼지가', 13357), ('팀보에', 13358), ('ㅋ클릭', 13359), ('두판연속', 13360), ('몽땅이형', 13361), ('다크맨', 13362), ('여신은', 13363), ('대화동여신', 13364), ('주변인', 13365), ('기분좋', 13366), ('깝죽거려', 13367), ('눈감고', 13368), ('ㅋ가', 13369), ('처지', 13370), ('얼공', 13371), ('재원이', 13372), ('웃길수', 13373), ('파라로', 13374), ('닉값', 13375), ('공중대결', 13376), ('게렌이한테', 13377), ('해버렸습니', 13378), ('한방컷', 13379), ('팬티도둑', 13380), ('ㅋ마', 13381), ('팬티도둑이', 13382), ('너냐', 13383), ('빠른대', 13384), ('빙벽', 13385), ('막은', 13386), ('ㅋ리자드님들', 13387), ('막으셔야할듯', 13388), ('완막이란', 13389), ('이런거다', 13390), ('환타', 13391), ('환타보단', 13392), ('외장하드', 13393), ('복구에', 13394), ('녹여버립니', 13395), ('ㅍ', 13396), ('택붸', 13397), ('다잡', 13398), ('뿝시우를', 13399), ('뿝시', 13400), ('학공부', 13401), ('는걸', 13402), ('회피', 13403), ('킹재원의', 13404), ('관종짓', 13405), ('여친을', 13406), ('카이저님과의', 13407), ('설렜던', 13408), ('장소로', 13409), ('해킹당', 13410), ('갓조인지', 13411), ('대결해볼까', 13412), ('설움', 13413), ('싸인구하러', 13414), ('범퍼님이', 13415), ('처치기여', 13416), ('덤벼', 13417), ('운전', 13418), ('초고수', 13419), ('부끄럼이', 13420), ('타마', 13421), ('사샤', 13422), ('리퍼의', 13423), ('나루토', 13424), ('오글', 13425), ('파일들', 13426), ('힛', 13427), ('서말고', 13428), ('루레이서', 13429), ('그려봅시다', 13430), ('컬러', 13431), ('뿝뿝은', 13432), ('뿝', 13433), ('게하', 13434), ('해냅니다', 13435), ('전판의', 13436), ('였지만', 13437), ('먹잇감', 13438), ('트위치첫방', 13439), ('양보를', 13440), ('를해준다는', 13441), ('재원이에게도', 13442), ('팀보', 13443), ('강도', 13444), ('징징', 13445), ('났습니다', 13446), ('제욕을', 13447), ('하길래', 13448), ('사칭이랑', 13449), ('미러전', 13450), ('성대모사장', 13451), ('생겨버린', 13452), ('생존왕', 13453), ('내이름', 13454), ('오더를', 13455), ('주게', 13456), ('세포', 13457), ('커질수', 13458), ('밥위', 13459), ('한조춤', 13460), ('추면', 13461), ('난투', 13462), ('이안', 13463), ('한조장인', 13464), ('에맞춰', 13465), ('알던', 13466), ('수행한다', 13467), ('방방타기', 13468), ('오래싸운', 13469), ('맞', 13470), ('불태웠다', 13471), ('패드립', 13472), ('매드무비', 13473), ('입털기', 13474), ('안내려와', 13475), ('꽁승', 13476), ('상윤이', 13477), ('꼬지르기', 13478), ('방어구', 13479), ('잘노는', 13480), ('피드백', 13481), ('존나', 13482), ('비장한', 13483), ('환생', 13484), ('호옹이', 13485), ('된김에', 13486), ('실ㅎ', 13487), ('각성한', 13488), ('무빙왕', 13489), ('우콘파워', 13490), ('죽일거란', 13491), ('직감이와', 13492), ('닌자의길', 13493), ('욕해도', 13494), ('정신만차리면', 13495), ('파라좀', 13496), ('짤라주세요', 13497), ('그이후로', 13498), ('시상식', 13499), ('허언증', 13500), ('허세', 13501), ('오리사', 13502), ('남들이', 13503), ('오리사를', 13504), ('연구할때', 13505), ('오리사가', 13506), ('레고', 13507), ('ㅋ청함과', 13508), ('메들리', 13509), ('레드존', 13510), ('필킬법', 13511), ('ㅋ재원', 13512), ('음ㅠ', 13513), ('뿅', 13514), ('한조픽을', 13515), ('활을', 13516), ('당길때마다', 13517), ('슬퍼지는', 13518), ('꽃길만', 13519), ('걷자', 13520), ('자결해라', 13521), ('재원이가', 13522), ('왕의길', 13523), ('완막', 13524), ('뜨롸마', 13525), ('발렌타인', 13526), ('셨나요', 13527), ('받음', 13528), ('자리야로', 13529), ('키야아아', 13530), ('집가는거', 13531), ('이였다', 13532), ('백마', 13533), ('ㄹ', 13534), ('웹툰', 13535), ('감상', 13536), ('개간지나게', 13537), ('수혁이', 13538), ('빠대에', 13539), ('연속처치', 13540), ('나머지', 13541), ('진리를', 13542), ('깨달은', 13543), ('해킹의', 13544), ('절묘한', 13545), ('거점은', 13546), ('나한테맡겨', 13547), ('백도왕', 13548), ('춤대결', 13549), ('끝을', 13550), ('재원님', 13551), ('만나러가요', 13552), ('빽', 13553), ('직감한', 13554), ('찍기로', 13555), ('무서웠던', 13556), ('쎄다고', 13557), ('오아시스', 13558), ('비열한', 13559), ('합쳤더니', 13560), ('렸다', 13561), ('리퍼는', 13562), ('한조를', 13563), ('인더', 13564), ('팡', 13565), ('보내지마', 13566), ('화풀이', 13567), ('허접', 13568), ('이였다니', 13569), ('규동아', 13570), ('쪼랭이', 13571), ('개깡', 13572), ('초반부터', 13573), ('신에게는', 13574), ('상자한개가', 13575), ('찍는', 13576), ('리퍼갓', 13577), ('승급마술', 13578), ('안에있어', 13579), ('짱구의', 13580), ('해바라기반', 13581), ('좁아서', 13582), ('루저', 13583), ('상처뿐인', 13584), ('듀오', 13585), ('음성보이스하기', 13586), ('님을', 13587), ('의견에', 13588), ('와주라', 13589), ('목감기', 13590), ('이시대의', 13591), ('젠틀남', 13592), ('너는내', 13593), ('정코렛', 13594), ('지마라', 13595), ('고다니기', 13596), ('초부터', 13597), ('춤꾼', 13598), ('데자뷰', 13599), ('작곡왕', 13600), ('한명만', 13601), ('쿵쾅이편', 13602), ('장인과', 13603), ('개간지', 13604), ('쑤셔뿌까', 13605), ('뽀삐', 13606), ('눔바니로', 13607), ('만난썰', 13608), ('비벼욧', 13609), ('경치좋네', 13610), ('캡쳐', 13611), ('자살하게', 13612), ('사기올려주는법', 13613), ('재코더', 13614), ('별풍리', 13615), ('신나요', 13616), ('아나사기단', 13617), ('한조유저를', 13618), ('건들지마라', 13619), ('감을', 13620), ('이기지', 13621), ('가족사진', 13622), ('옴닉', 13623), ('루시', 13624), ('서버팅김과', 13625), ('유혹적인', 13626), ('혀놀림', 13627), ('음성채팅', 13628), ('임창정', 13629), ('신곡을', 13630), ('아나코', 13631), ('자칭', 13632), ('서버여는법', 13633), ('접속법', 13634), ('한조각', 13635), ('두조각', 13636), ('벌레퇴치', 13637), ('찡', 13638), ('한조충도', 13639), ('조져야', 13640), ('트롤제국의', 13641), ('충의', 13642), ('회상', 13643), ('일리오스', 13644), ('우물', 13645), ('참신한', 13646), ('프렌스', 13647), ('예아', 13648), ('박효신', 13649), ('야생화', 13650), ('단고음', 13651), ('토리둥절', 13652), ('한조의', 13653), ('폭력성을', 13654), ('심장쫄릴때', 13655), ('주간난투', 13656), ('리우', 13657), ('솔져', 13658), ('제보가와서', 13659), ('안나게', 13660), ('짧고굵게', 13661), ('꿔요', 13662), ('사랑은', 13663), ('오프닝', 13664), ('됐는데', 13665), ('옷안에', 13666), ('혼령을', 13667), ('숲에', 13668), ('구박받지만', 13669), ('노력해서', 13670), ('집들이를', 13671), ('이상형을', 13672), ('줄려고', 13673), ('한거다', 13674), ('주민은', 13675), ('문대', 13676), ('야심한', 13677), ('알바', 13678), ('초록옷을', 13679), ('다니며', 13680), ('헤집는', 13681), ('기한', 13682), ('꾸며보자', 13683), ('괴이한', 13684), ('비트가', 13685), ('치팅', 13686), ('근성과', 13687), ('근력만', 13688), ('감성이란', 13689), ('괴식투쟁을', 13690), ('저주', 13691), ('가서는', 13692), ('캠', 13693), ('세팅', 13694), ('만우절', 13695), ('마크를', 13696), ('저랑', 13697), ('하네요', 13698), ('생존의', 13699), ('젊었을', 13700), ('보기엔', 13701), ('알코홀', 13702), ('포이즌', 13703), ('어려우면', 13704), ('어떡해요', 13705), ('침략한', 13706), ('달변', 13707), ('냐고요', 13708), ('다음중', 13709), ('못살겠는', 13710), ('양들을', 13711), ('옮겨주면', 13712), ('첫사랑과의', 13713), ('풉니다', 13714), ('판떼기는', 13715), ('제껍니다', 13716), ('하다보면', 13717), ('가는곳마다', 13718), ('사건이', 13719), ('빌게이츠', 13720), ('가신다고요', 13721), ('대명사', 13722), ('고쳐', 13723), ('전화하기', 13724), ('항문', 13725), ('먹힌', 13726), ('드린답니다', 13727), ('운세를', 13728), ('악성', 13729), ('우결충과', 13730), ('참는다', 13731), ('유전', 13732), ('길어', 13733), ('채팅을', 13734), ('칠까', 13735), ('어쩐지', 13736), ('연관검색어가', 13737), ('었다는', 13738), ('금액에', 13739), ('인건비를', 13740), ('절감', 13741), ('발전에있어', 13742), ('라는걸', 13743), ('나이를', 13744), ('트보드를', 13745), ('배울', 13746), ('지옥에', 13747), ('시체로', 13748), ('대망의', 13749), ('미리가', 13750), ('대칭이', 13751), ('야만', 13752), ('까다로운', 13753), ('내밀며', 13754), ('자기브랜드', 13755), ('가려도', 13756), ('버거를', 13757), ('맞출수', 13758), ('하라는거죠', 13759), ('엮인', 13760), ('피고인이', 13761), ('불합리한', 13762), ('헨젤과', 13763), ('그레텔', 13764), ('재입대', 13765), ('꾸는', 13766), ('버에', 13767), ('소식이', 13768), ('들려서', 13769), ('동물원', 13770), ('상상함', 13771), ('어림도없지', 13772), ('심이', 13773), ('강연이란', 13774), ('보기전에', 13775), ('사건을', 13776), ('이름이', 13777), ('댄서분이', 13778), ('남겨주셨네요', 13779), ('삿대질을', 13780), ('저처럼', 13781), ('자라주면', 13782), ('좋을텐데', 13783), ('키게', 13784), ('듣기만해도', 13785), ('거위가', 13786), ('마을주민들을', 13787), ('보실', 13788), ('형보다', 13789), ('유명해지고', 13790), ('퇴치', 13791), ('겨드랑이', 13792), ('샀어요', 13793), ('추운날', 13794), ('사온', 13795), ('잘마시지', 13796), ('되실', 13797), ('근정이와', 13798), ('소드', 13799), ('주셨습니다', 13800), ('초조한', 13801), ('눈빛을', 13802), ('링피트', 13803), ('분명한데', 13804), ('한글을', 13805), ('남성이', 13806), ('탈수로', 13807), ('나르랴', 13808), ('죽겠어요', 13809), ('구해', 13810), ('유치원', 13811), ('세번보면', 13812), ('이루어집니다', 13813), ('한발한발', 13814), ('조정해서', 13815), ('나아가게', 13816), ('못깹니다', 13817), ('섬네일', 13818), ('문구', 13819), ('본인이', 13820), ('것임', 13821), ('유노윤호', 13822), ('집돌이', 13823), ('참으며', 13824), ('한바를', 13825), ('어의', 13826), ('지가', 13827), ('웃겨야', 13828), ('웃기만', 13829), ('가치가', 13830), ('조각들을', 13831), ('배팅을', 13832), ('자연을', 13833), ('이러는게', 13834), ('이해가', 13835), ('슈와', 13836), ('그랬지', 13837), ('순돌이와', 13838), ('주울건가요', 13839), ('흙을', 13840), ('이기기', 13841), ('만든날', 13842), ('없을리', 13843), ('초밥집', 13844), ('띵호와', 13845), ('사내', 13846), ('피구대회를', 13847), ('면담을', 13848), ('드를', 13849), ('하실거죠', 13850), ('호통을', 13851), ('경비', 13852), ('갓난', 13853), ('소떡', 13854), ('귀찮은게', 13855), ('귀찮아져버렸습니다', 13856), ('기괴한', 13857), ('협곡', 13858), ('가자는', 13859), ('좋죠', 13860), ('과자를', 13861), ('수염에', 13862), ('공룡은', 13863), ('열었습니다', 13864), ('사인회에', 13865), ('이들에게', 13866), ('예의를', 13867), ('가르쳐주겠습니다', 13868), ('조상님들', 13869), ('됩니까', 13870), ('룰렛이', 13871), ('방귀가', 13872), ('딱딱', 13873), ('그게뭔지', 13874), ('아세요', 13875), ('십자가를', 13876), ('퇴마', 13877), ('징크스', 13878), ('기억해주십시오', 13879), ('마법사', 13880), ('힙합마법사의', 13881), ('학번이오', 13882), ('휴학남아있소', 13883), ('창피한', 13884), ('이걸로', 13885), ('것과', 13886), ('생필품을', 13887), ('다녀오는', 13888), ('외계행성', 13889), ('보내주는', 13890), ('마십시오', 13891), ('배고픈', 13892), ('팝핑보바를', 13893), ('핀란드에', 13894), ('운전을', 13895), ('무슨일', 13896), ('합법인가', 13897), ('정보들의', 13898), ('총결산', 13899), ('최하층을', 13900), ('들여다', 13901), ('고안해낸', 13902), ('비효율적인', 13903), ('수면법', 13904), ('녹턴', 13905), ('롤한다', 13906), ('걸이란', 13907), ('이런것일까요', 13908), ('롭게', 13909), ('다스리려고', 13910), ('분들이', 13911), ('생활이', 13912), ('갖은', 13913), ('핑계를', 13914), ('대며', 13915), ('징크스로', 13916), ('이사온지', 13917), ('오래됐는데도', 13918), ('굉장히', 13919), ('몸속의', 13920), ('횡격막', 13921), ('티모', 13922), ('사용법', 13923), ('그랬을까요', 13924), ('드럽게', 13925), ('구원해줄', 13926), ('티모를', 13927), ('무수한', 13928), ('개봉요청', 13929), ('어색하고', 13930), ('숨막', 13931), ('혀요', 13932), ('야생마다', 13933), ('스튜디오가', 13934), ('차버렸습니다', 13935), ('사인회를', 13936), ('얘들아', 13937), ('연애할', 13938), ('아닌것', 13939), ('엠티의', 13940), ('중의', 13941), ('한곡', 13942), ('심즈는', 13943), ('폐교', 13944), ('동창회', 13945), ('올래', 13946), ('기억나', 13947), ('기철이', 13948), ('훔쳐먹다가', 13949), ('순진한', 13950), ('뛰쳐나가게', 13951), ('게이머한테', 13952), ('차세대', 13953), ('게이머로', 13954), ('엔더', 13955), ('양치를', 13956), ('블럭안에', 13957), ('우주가', 13958), ('할만한', 13959), ('안먹었을', 13960), ('야생은', 13961), ('도르마무', 13962), ('사탄학', 13963), ('전공', 13964), ('졸업생이', 13965), ('안될', 13966), ('감격의', 13967), ('도의', 13968), ('매니아', 13969), ('과시', 13970), ('펜이라는걸', 13971), ('구매해', 13972), ('팬분이', 13973), ('뿔보', 13974), ('참아요', 13975), ('빡치게', 13976), ('악랄하게', 13977), ('마법사야', 13978), ('우디르는', 13979), ('합류를', 13980), ('말해요', 13981), ('얘만', 13982), ('더라', 13983), ('개콘편', 13984), ('흑사병과', 13985), ('쥐떼가', 13986), ('남매가', 13987), ('보냈습니다', 13988), ('꿀벌을', 13989), ('둘중에', 13990), ('나쁜짓이랑', 13991), ('나쁜짓은', 13992), ('제작해서', 13993), ('이혼', 13994), ('생활을', 13995), ('폈습니다', 13996), ('환자를', 13997), ('펼치세요', 13998), ('복학을', 13999), ('대할지', 14000), ('이모티콘에', 14001), ('가다가', 14002), ('다녔더니', 14003), ('단촐하다', 14004), ('단출하다', 14005), ('누르면', 14006), ('바뀌는데', 14007), ('죠', 14008), ('만나자고', 14009), ('의도지', 14010), ('난다면', 14011), ('도구는', 14012), ('뜨다', 14013), ('먹긴', 14014), ('사탕', 14015), ('들린집을', 14016), ('부장님께', 14017), ('훈수두는', 14018), ('농사짓는', 14019), ('엄복동을', 14020), ('일할', 14021), ('요상한걸', 14022), ('마셔', 14023), ('어린시절부터', 14024), ('끼', 14025), ('죽었습니다', 14026), ('그녀는', 14027), ('농장일기', 14028), ('롤린이', 14029), ('법칙', 14030), ('쎈캐는', 14031), ('실종된', 14032), ('날까요', 14033), ('노선을', 14034), ('짜서', 14035), ('불편함을', 14036), ('가중시키는', 14037), ('하라니까', 14038), ('시대는', 14039), ('일리', 14040), ('없잖아요', 14041), ('스타듀', 14042), ('밸리의', 14043), ('한번들으면', 14044), ('씨엠송', 14045), ('끼치는', 14046), ('장염', 14047), ('고증', 14048), ('한물간', 14049), ('레크레이션', 14050), ('등하기', 14051), ('언더테일', 14052), ('제작진이', 14053), ('그랬으면', 14054), ('좋겠어', 14055), ('마약을', 14056), ('간접', 14057), ('궁중의', 14058), ('암투를', 14059), ('비에', 14060), ('놀줄', 14061), ('열라', 14062), ('어려워서', 14063), ('쫄라', 14064), ('닌자', 14065), ('세키로', 14066), ('개론', 14067), ('냐옹이에게', 14068), ('안아주고', 14069), ('바깥은', 14070), ('였군요', 14071), ('수척포동맨', 14072), ('이런일들이', 14073), ('한대서', 14074), ('경멸', 14075), ('인싸들은', 14076), ('협곡송', 14077), ('성인만', 14078), ('법대생', 14079), ('노각짱', 14080), ('리듬과', 14081), ('탄막이', 14082), ('적절히', 14083), ('음악에', 14084), ('아오오니', 14085), ('보셨습니까', 14086), ('자본에', 14087), ('환멸을', 14088), ('귀농', 14089), ('심한', 14090), ('식에', 14091), ('원피스식', 14092), ('웃소랑', 14093), ('탁구치는', 14094), ('어이가', 14095), ('기절할뻔', 14096), ('심사관이', 14097), ('여권을', 14098), ('지기전에', 14099), ('해주고', 14100), ('쓰읍', 14101), ('매움을', 14102), ('요호', 14103), ('틀린그림', 14104), ('종이를', 14105), ('비의', 14106), ('마셔야', 14107), ('이사와서', 14108), ('범을', 14109), ('모아야', 14110), ('도넘은', 14111), ('용하다면서요', 14112), ('리아는', 14113), ('순도', 14114), ('한것만', 14115), ('왔는데요', 14116), ('봄바스틱을', 14117), ('착해서', 14118), ('카트', 14119), ('자들중', 14120), ('흥을', 14121), ('괴이증후군', 14122), ('변태가', 14123), ('이런걸', 14124), ('하시는거죠', 14125), ('레이나님에게', 14126), ('지코를', 14127), ('드려', 14128), ('따르라', 14129), ('왕자병에', 14130), ('걸려버린', 14131), ('크큭', 14132), ('인보다는', 14133), ('장비를', 14134), ('변기를', 14135), ('내려야만', 14136), ('사칭하지', 14137), ('피젯스피너를', 14138), ('돌리면서', 14139), ('바다포도랑', 14140), ('세지능의', 14141), ('시참', 14142), ('선우가', 14143), ('정직하게', 14144), ('킹푸딩', 14145), ('견뎌', 14146), ('한적이', 14147), ('인이면', 14148), ('타코야끼', 14149), ('추며', 14150), ('인싸력을', 14151), ('모욕을', 14152), ('줘버렸습니다', 14153), ('수염님', 14154), ('비싼옷을', 14155), ('입히고', 14156), ('오기가', 14157), ('버의', 14158), ('걸이', 14159), ('갓갓', 14160), ('멤버', 14161), ('면도', 14162), ('버를', 14163), ('정복한', 14164), ('역겨움의', 14165), ('한떨기', 14166), ('음료수', 14167), ('파섹', 14168), ('끄고', 14169), ('있었나요', 14170), ('트란', 14171), ('데서', 14172), ('기사를', 14173), ('자극적', 14174), ('오지게', 14175), ('못먹겠다', 14176), ('없을수가', 14177), ('웃소', 14178), ('주시는거', 14179), ('맞습니까', 14180), ('실을', 14181), ('황야보다', 14182), ('황량한', 14183), ('군상들의', 14184), ('극장이', 14185), ('펼쳐지는', 14186), ('생신', 14187), ('축하드려요', 14188), ('정의로운', 14189), ('도둑이', 14190), ('허락해', 14191), ('크기', 14192), ('땅땅땅', 14193), ('우쿠렐레', 14194), ('코드', 14195), ('추잡해질대로', 14196), ('추잡해진', 14197), ('ㄴ', 14198), ('기사가', 14199), ('봤지만', 14200), ('피카츄가', 14201), ('착하게', 14202), ('보려고', 14203), ('못자요', 14204), ('마녀의', 14205), ('연행을', 14206), ('피카츄와', 14207), ('로켓단', 14208), ('갔어요', 14209), ('있단다', 14210), ('로이로사나옹비주기', 14211), ('기다려라', 14212), ('스위치', 14213), ('큐즈미를', 14214), ('사기치고', 14215), ('기억해줘', 14216), ('지하실에는', 14217), ('네코미미', 14218), ('파카를', 14219), ('사왔는데', 14220), ('입지를', 14221), ('숙련된', 14222), ('탭볼', 14223), ('겁이', 14224), ('하라는대로', 14225), ('할게요', 14226), ('괴상망측', 14227), ('연대기', 14228), ('야옹이와', 14229), ('마라톤을', 14230), ('쿠킹마마와', 14231), ('뽀드카', 14232), ('굴리다가', 14233), ('멤버가', 14234), ('믿', 14235), ('주사위를', 14236), ('금전을', 14237), ('구슬', 14238), ('관종인가', 14239), ('겨루는', 14240), ('정복하다', 14241), ('패션을', 14242), ('아시는', 14243), ('짱인데요', 14244), ('부셔버릴거다냥', 14245), ('나만해', 14246), ('이거보다', 14247), ('쳐다', 14248), ('마네킹이', 14249), ('말해선', 14250), ('공부해', 14251), ('볼래', 14252), ('아는척해서는', 14253), ('살에', 14254), ('악랄', 14255), ('우주를', 14256), ('이리저리', 14257), ('주무르다가', 14258), ('톰과', 14259), ('제리', 14260), ('랭크', 14261), ('에히', 14262), ('하알', 14263), ('딱선준', 14264), ('리듬은', 14265), ('윷의', 14266), ('아우', 14267), ('투캠', 14268), ('코코넛', 14269), ('짓습니다', 14270), ('언급하셨어요', 14271), ('트의', 14272), ('쾌', 14273), ('판다는', 14274), ('판다판다하고', 14275), ('팝핑보바', 14276), ('듣지', 14277), ('맥도날드', 14278), ('울렸던', 14279), ('라켓을', 14280), ('휘두른다', 14281), ('상식을', 14282), ('파괴한다', 14283), ('헤비', 14284), ('메탈이', 14285), ('착한일을', 14286), ('ㄴ상도', 14287), ('정ㄱ', 14288), ('한판만', 14289), ('꽃들에게', 14290), ('구멍에', 14291), ('빠뜨리는', 14292), ('집짓기', 14293), ('팝', 14294), ('핑', 14295), ('도술로', 14296), ('자전거', 14297), ('난이도', 14298), ('설문조사를', 14299), ('굴리는', 14300), ('네모', 14301), ('누리꾼', 14302), ('요오리사', 14303), ('가위바위보', 14304), ('아래로', 14305), ('순전히', 14306), ('화를', 14307), ('돋우기', 14308), ('손과', 14309), ('열정이다', 14310), ('명체들이', 14311), ('기관차가', 14312), ('오기전에', 14313), ('얼른', 14314), ('디자인이', 14315), ('굉장하다', 14316), ('핵버튼을', 14317), ('누를까', 14318), ('모모', 14319), ('싸웠는데', 14320), ('아끼면', 14321), ('방구를', 14322), ('대전을', 14323), ('뭐요', 14324), ('굿즈가', 14325), ('테일즈', 14326), ('런너', 14327), ('테런의', 14328), ('버블팝인데', 14329), ('거품', 14330), ('터질', 14331), ('날것', 14332), ('버블팝', 14333), ('두둑하다', 14334), ('고독한', 14335), ('파니룸에', 14336), ('쏟지마', 14337), ('시급이', 14338), ('선준', 14339), ('내이름은', 14340), ('김석바', 14341), ('폰을', 14342), ('감시당', 14343), ('아악', 14344), ('대마왕', 14345), ('옥황상제', 14346), ('매워요', 14347), ('갈수록', 14348), ('이은날', 14349), ('배터짐', 14350), ('증거물을', 14351), ('천천히', 14352), ('봐오는', 14353), ('우주에', 14354), ('남았지만', 14355), ('보기전엔', 14356), ('무엇인', 14357), ('부담스러운', 14358), ('징징이', 14359), ('원장님', 14360), ('있으신가요', 14361), ('모스크바', 14362), ('수치를', 14363), ('피도', 14364), ('식물의', 14365), ('어금니', 14366), ('으스러지기', 14367), ('이네요', 14368), ('과제하기', 14369), ('놀기만', 14370), ('광기의', 14371), ('생명체가', 14372), ('회식자리', 14373), ('물회', 14374), ('생명체', 14375), ('사마', 14376), ('발디샘이', 14377), ('영혼의', 14378), ('도트와', 14379), ('연애한다', 14380), ('타짜', 14381), ('못깬', 14382), ('깨드릴게요', 14383), ('구해서', 14384), ('한가요', 14385), ('거슬림', 14386), ('장사를', 14387), ('화상채팅', 14388), ('시켜주는', 14389), ('구매해서', 14390), ('보급품을', 14391), ('나눠줘야', 14392), ('나쁘다', 14393), ('켠왕', 14394), ('이치를', 14395), ('배워보자', 14396), ('비켜주는', 14397), ('화살표만', 14398), ('누르는', 14399), ('때때로', 14400), ('집착하', 14401), ('기계가', 14402), ('갖게', 14403), ('개그는', 14404), ('였습니다', 14405), ('안해집니다', 14406), ('카톡을', 14407), ('므와', 14408), ('선우야', 14409), ('속냐', 14410), ('무심코', 14411), ('돌에', 14412), ('야호', 14413), ('발디쌤', 14414), ('스나이퍼가', 14415), ('종이로', 14416), ('피아노를', 14417), ('었더니', 14418), ('이럴거면', 14419), ('나눴어요', 14420), ('프이즈', 14421), ('튀겨져서', 14422), ('니모를', 14423), ('찾으러', 14424), ('갈수도', 14425), ('있겠다', 14426), ('빨간', 14427), ('오토기리', 14428), ('거기서', 14429), ('웃소가', 14430), ('새들이', 14431), ('날지를', 14432), ('세번', 14433), ('홍삼이', 14434), ('하루만', 14435), ('법규하게', 14436), ('본적이', 14437), ('오예스를', 14438), ('박물관을', 14439), ('건가요', 14440), ('똥차를', 14441), ('고쳐서', 14442), ('정상에', 14443), ('빨래를', 14444), ('널고', 14445), ('동물들의', 14446), ('트라우마를', 14447), ('밑도', 14448), ('끝도', 14449), ('어둠속의', 14450), ('교촌', 14451), ('화염', 14452), ('곤과의', 14453), ('수학', 14454), ('틀리면', 14455), ('녕', 14456), ('호루라기', 14457), ('이상하다', 14458), ('리마더드', 14459), ('운전중인', 14460), ('렸어요', 14461), ('쉬워요', 14462), ('안무서웠다', 14463), ('멋지죠', 14464), ('골프공을', 14465), ('통통통', 14466), ('회식', 14467), ('롸', 14468), ('뿌요뿌요에', 14469), ('테트', 14470), ('더해서', 14471), ('맞기', 14472), ('풀가동', 14473), ('비즈공예', 14474), ('않냐고', 14475), ('영업하고', 14476), ('억울', 14477), ('파니팡', 14478), ('리듬에', 14479), ('타키쿤', 14480), ('꿨나요', 14481), ('이슬비가', 14482), ('기네스북에', 14483), ('못감', 14484), ('듣도', 14485), ('푸는', 14486), ('쵸코공장', 14487), ('아닌데요', 14488), ('반려동물을', 14489), ('고르세요', 14490), ('못다니겠어요', 14491), ('가버렸다', 14492), ('기회가', 14493), ('있었습니다', 14494), ('났지만', 14495), ('나으리', 14496), ('겁나', 14497), ('이로군요', 14498), ('해석해', 14499), ('주실', 14500), ('천왕', 14501), ('못먹게했으면', 14502), ('울었을거', 14503), ('추해요', 14504), ('그걸로', 14505), ('차리자', 14506), ('땅에', 14507), ('금괴를', 14508), ('슈님', 14509), ('실망이에요', 14510), ('아임프롬', 14511), ('카쿠라', 14512), ('장풍', 14513), ('전화를', 14514), ('모시모시', 14515), ('네에', 14516), ('맵찔이의', 14517), ('킹덤이', 14518), ('판과', 14519), ('제를', 14520), ('어버릴', 14521), ('향수', 14522), ('삶이', 14523), ('가난하게', 14524), ('라라랜드가', 14525), ('로맨스', 14526), ('제자리인', 14527), ('같을', 14528), ('흐림인', 14529), ('조커의', 14530), ('모티브가', 14531), ('명작이', 14532), ('조종하기', 14533), ('저수지의', 14534), ('개들', 14535), ('립', 14536), ('자낳괴', 14537), ('아재들의', 14538), ('코미디', 14539), ('샤이닝', 14540), ('자연인', 14541), ('가족의', 14542), ('민감한', 14543), ('소재로', 14544), ('코미디를', 14545), ('뭘까', 14546), ('박찬욱', 14547), ('나와버린다', 14548), ('웠던', 14549), ('지켜줘야', 14550), ('빵집', 14551), ('알바에', 14552), ('깨려고', 14553), ('출연한', 14554), ('르타가', 14555), ('사바하', 14556), ('과한', 14557), ('여행을', 14558), ('가야만', 14559), ('해피새아', 14560), ('어른이', 14561), ('검프', 14562), ('방향을', 14563), ('잃었을', 14564), ('어바웃', 14565), ('타임에', 14566), ('팬서는', 14567), ('걸작', 14568), ('람보의', 14569), ('주제의식', 14570), ('만화가', 14571), ('노인을', 14572), ('혐한', 14573), ('시위대에게', 14574), ('시전한', 14575), ('형님들', 14576), ('남길', 14577), ('원더풀', 14578), ('인랑', 14579), ('충만한', 14580), ('고민일', 14581), ('양준일이', 14582), ('슈가맨', 14583), ('현피', 14584), ('에반게리온의', 14585), ('관과', 14586), ('새학기에', 14587), ('겠을', 14588), ('마녀', 14589), ('사냥을', 14590), ('비트코인의', 14591), ('후회할', 14592), ('애인', 14593), ('오타쿠들의', 14594), ('지뢰', 14595), ('포로를', 14596), ('몬스터들이', 14597), ('모인다면', 14598), ('블레이드', 14599), ('러너', 14600), ('덕력을', 14601), ('자만이', 14602), ('판타지', 14603), ('디태치먼트', 14604), ('션계의', 14605), ('덩케르크에', 14606), ('대사가', 14607), ('어버이연합과', 14608), ('일베가', 14609), ('크래프트', 14610), ('오해', 14611), ('벌인', 14612), ('옥자의', 14613), ('요원의', 14614), ('여행갔는데', 14615), ('로맨스가', 14616), ('공각기동대', 14617), ('형에', 14618), ('대학에', 14619), ('져서', 14620), ('대학을', 14621), ('라라랜드', 14622), ('박두만이', 14623), ('바라본건', 14624), ('모노노케', 14625), ('히메', 14626), ('아시타카를', 14627), ('전개', 14628), ('색감에는', 14629), ('배부', 14630), ('광해', 14631), ('가짜일까', 14632), ('사제들', 14633), ('강동원은', 14634), ('퇴마사가', 14635), ('성매매', 14636), ('미진', 14637), ('자괴감', 14638), ('괴로울', 14639), ('쓸쓸한', 14640), ('가을에', 14641), ('인셉션', 14642), ('브이', 14643), ('벤데타', 14644), ('고래의', 14645), ('포스터를', 14646), ('베테랑', 14647), ('조태오는', 14648), ('라푼젤', 14649), ('공주는', 14650), ('있어도', 14651), ('주먹왕', 14652), ('랄프', 14653), ('어서오세요', 14654), ('보통의', 14655), ('재난', 14656), ('부다페', 14657), ('여행이었어', 14658), ('신카이', 14659), ('마코토', 14660), ('전성시대는', 14661), ('라퓨타를', 14662), ('느낄까', 14663), ('김복남', 14664), ('살펴', 14665), ('나홍진', 14666), ('매드맥스', 14667), ('페미니즘을', 14668), ('한강에', 14669), ('색깔은', 14670), ('파란색일까', 14671), ('제목의', 14672), ('설국열차', 14673), ('칸의', 14674), ('북극곰에', 14675), ('조커가', 14676), ('썸머', 14677), ('썸머는', 14678), ('나쁜년', 14679), ('이자성', 14680), ('이정재', 14681), ('강과장과', 14682), ('정청에', 14683), ('지배하게', 14684), ('선샤인에는', 14685), ('니체가', 14686), ('소녀에', 14687), ('숭배한', 14688), ('의식에', 14689), ('종이의', 14690), ('삽입한', 14691), ('킹덤에', 14692), ('열광', 14693), ('부산행', 14694), ('반도', 14695), ('우월한', 14696), ('성별을', 14697), ('통계학적', 14698), ('로키도', 14699), ('불멸의', 14700), ('제약사', 14701), ('합체', 14702), ('사냥의', 14703), ('이뤄지는', 14704), ('베놈의', 14705), ('천둥의', 14706), ('계승하게', 14707), ('조롱과', 14708), ('쌍욕을', 14709), ('로키', 14710), ('완다비전', 14711), ('팔콘과', 14712), ('윈터솔져', 14713), ('부딪힌', 14714), ('스칼렛', 14715), ('위치', 14716), ('방패를', 14717), ('뺏기는', 14718), ('개봉인', 14719), ('할리', 14720), ('퀸의', 14721), ('세포를', 14722), ('재생시켜', 14723), ('살았을까', 14724), ('이병헌의', 14725), ('견고한', 14726), ('감옥도', 14727), ('조작과', 14728), ('마자', 14729), ('점퍼의', 14730), ('후속편', 14731), ('밀고', 14732), ('성우로', 14733), ('컴백작', 14734), ('조원의', 14735), ('제조기들만', 14736), ('모아놓은', 14737), ('일진', 14738), ('심기를', 14739), ('소녀와', 14740), ('일진들만', 14741), ('찌질', 14742), ('몸의', 14743), ('일부만', 14744), ('병기가', 14745), ('고속', 14746), ('종말시키고', 14747), ('인체', 14748), ('생식', 14749), ('물들', 14750), ('성전환', 14751), ('초미녀가', 14752), ('바친', 14753), ('시술로', 14754), ('변종', 14755), ('순자산이', 14756), ('조가', 14757), ('소환된', 14758), ('구울', 14759), ('군단', 14760), ('엔도스켈레톤', 14761), ('광년', 14762), ('명체의', 14763), ('하려던', 14764), ('초의', 14765), ('암전을', 14766), ('겪은', 14767), ('말리피센트', 14768), ('꿀정보', 14769), ('윅', 14770), ('형태로', 14771), ('무기화', 14772), ('핑크색', 14773), ('나가면서', 14774), ('정거장', 14775), ('추락한', 14776), ('해저', 14777), ('진화한', 14778), ('백상아리를', 14779), ('소녀들', 14780), ('착륙해서', 14781), ('굳어', 14782), ('물체', 14783), ('소녀만', 14784), ('광대', 14785), ('튕긴', 14786), ('거울', 14787), ('일체화', 14788), ('신원미상의', 14789), ('제인', 14790), ('기계와', 14791), ('융합해', 14792), ('차원의', 14793), ('공주들의', 14794), ('판도를', 14795), ('뒤엎은', 14796), ('공주', 14797), ('중동인이', 14798), ('윅의', 14799), ('신에게', 14800), ('샴쌍둥이', 14801), ('죽일지', 14802), ('노트북', 14803), ('웹캠', 14804), ('윅과', 14805), ('생존한', 14806), ('깃', 14807), ('지배하러', 14808), ('신들의', 14809), ('후계자', 14810), ('발키리의', 14811), ('상상하거나', 14812), ('만나볼', 14813), ('후계자가', 14814), ('부술', 14815), ('육체를', 14816), ('의문점들', 14817), ('디즈', 14818), ('옮기는', 14819), ('촉수', 14820), ('뇌가', 14821), ('융합된', 14822), ('궁극', 14823), ('유료', 14824), ('임신하고', 14825), ('출산한', 14826), ('담보로', 14827), ('운반을', 14828), ('어스', 14829), ('상당', 14830), ('콘서트에', 14831), ('쥬라기', 14832), ('죠스', 14833), ('사후', 14834), ('지자', 14835), ('자살이', 14836), ('흑형을', 14837), ('건드린', 14838), ('백형', 14839), ('킬러가', 14840), ('유혹에', 14841), ('코나', 14842), ('에디션', 14843), ('생존자들', 14844), ('여친에게', 14845), ('명체', 14846), ('보드', 14847), ('오피셜', 14848), ('오류를', 14849), ('수정한', 14850), ('찬사를', 14851), ('유니', 14852), ('지닌', 14853), ('동거를', 14854), ('요괴', 14855), ('초특급', 14856), ('나노', 14857), ('제작된', 14858), ('동물사전', 14859), ('진화의', 14860), ('절단이', 14861), ('외골격', 14862), ('여중생에게', 14863), ('당해버린', 14864), ('변요한', 14865), ('소녀들은', 14866), ('베놈과', 14867), ('카니지가', 14868), ('임신', 14869), ('엽기', 14870), ('서양인들을', 14871), ('매료시킨', 14872), ('범블비', 14873), ('빠뜨린', 14874), ('미제', 14875), ('하룻동안', 14876), ('기란', 14877), ('제작만', 14878), ('하드코어', 14879), ('힘과', 14880), ('리턴즈', 14881), ('이겼을까', 14882), ('였을까', 14883), ('동성애자들을', 14884), ('살해하고', 14885), ('샤잠을', 14886), ('삼지창을', 14887), ('연을', 14888), ('예습', 14889), ('교도소', 14890), ('죄수를', 14891), ('크레딧', 14892), ('연관성', 14893), ('조용하고', 14894), ('잔인', 14895), ('빗', 14896), ('내포된', 14897), ('살상', 14898), ('이끌', 14899), ('진화된', 14900), ('설계와', 14901), ('설계', 14902), ('워는', 14903), ('원작을', 14904), ('오역', 14905), ('마징가', 14906), ('메인', 14907), ('쉴드를', 14908), ('블리딩', 14909), ('엣지', 14910), ('망작', 14911), ('유출로', 14912), ('와는', 14913), ('스포일러', 14914), ('년을', 14915), ('변태들', 14916), ('첨단', 14917), ('기술이', 14918), ('가림판을', 14919), ('붙이고', 14920), ('다녀야', 14921), ('누적', 14922), ('고문해서', 14923), ('비트코인보다', 14924), ('달인에게', 14925), ('팬서의', 14926), ('카의', 14927), ('방패', 14928), ('부대원의', 14929), ('돈버는데', 14930), ('천사들이', 14931), ('예언한', 14932), ('융합한', 14933), ('합체한', 14934), ('조선족은', 14935), ('운빨로', 14936), ('동술', 14937), ('바껴서', 14938), ('제수씨랑', 14939), ('자야', 14940), ('로키의', 14941), ('자식들을', 14942), ('죽인', 14943), ('오딘과', 14944), ('몬스터콜', 14945), ('디팬더스를', 14946), ('신을', 14947), ('창시자', 14948), ('개그가', 14949), ('발명가의', 14950), ('쌍', 14951), ('권총술의', 14952), ('셋이서', 14953), ('각성', 14954), ('코믹콘', 14955), ('욕쟁이들', 14956), ('옥자는', 14957), ('잘린', 14958), ('자비스와', 14959), ('전생안', 14960), ('보루토의', 14961), ('아몬드', 14962), ('수저', 14963), ('다룬', 14964), ('비안의', 14965), ('해적의', 14966), ('겟', 14967), ('로튼', 14968), ('할리우드판', 14969), ('에미넴의', 14970), ('교도소는', 14971), ('파괴된', 14972), ('묠니르', 14973), ('블과', 14974), ('스탠리', 14975), ('스톤과', 14976), ('건틀렛', 14977), ('로건', 14978), ('상사를', 14979), ('그레이트', 14980), ('억원의', 14981), ('블록', 14982), ('어인', 14983), ('블루', 14984), ('노진구', 14985), ('코믹스', 14986), ('명검', 14987), ('소울스톤', 14988), ('간달프', 14989), ('덤블도어', 14990), ('소서러', 14991), ('수프림', 14992), ('코믹스의', 14993), ('마법사들', 14994), ('동물사전의', 14995), ('루피의', 14996), ('기어', 14997), ('이스터', 14998), ('에그와', 14999), ('레드', 15000), ('불사', 15001), ('조로', 15002), ('중재하느라', 15003), ('바쁩니다', 15004), ('핥아줍니다', 15005), ('사대부', 15006), ('아리님', 15007), ('드렸습니다', 15008), ('켰', 15009), ('너랑은', 15010), ('격리해제', 15011), ('시답잖은', 15012), ('리랑자이너', 15013), ('아리신선', 15014), ('만져봤니', 15015), ('났네', 15016), ('에헤', 15017), ('마아리블', 15018), ('기원을', 15019), ('먹습니다', 15020), ('이불에', 15021), ('아리와', 15022), ('멍청해', 15023), ('발라듀엣', 15024), ('비명을', 15025), ('지르며', 15026), ('입혀보려', 15027), ('임마', 15028), ('줬습니다', 15029), ('안고서', 15030), ('거려', 15031), ('환생동물', 15032), ('트립니다', 15033), ('시청을', 15034), ('요청해', 15035), ('소환해', 15036), ('보호협회', 15037), ('시에', 15038), ('앉혀', 15039), ('더빙을', 15040), ('입혀', 15041), ('앨보', 15042), ('자전거바퀴', 15043), ('사기꾼', 15044), ('이모티콘을', 15045), ('고쳐보려', 15046), ('보내요', 15047), ('더위를', 15048), ('사행시를', 15049), ('뭅니다', 15050), ('아리마무', 15051), ('조절을', 15052), ('진열', 15053), ('비기닝', 15054), ('미쳐', 15055), ('날뛰고', 15056), ('때찌', 15057), ('코코코코를', 15058), ('척을', 15059), ('하얀디멘터', 15060), ('마법사가', 15061), ('고래를', 15062), ('이어폰을', 15063), ('이불을', 15064), ('덮었습니다', 15065), ('꾸었습니다', 15066), ('수험생', 15067), ('풍경을', 15068), ('들게', 15069), ('아리웨더', 15070), ('토막', 15071), ('헌집', 15072), ('줄게', 15073), ('새집다오를', 15074), ('차지', 15075), ('의논', 15076), ('해보았습', 15077), ('근접하여', 15078), ('바쳤습니다', 15079), ('달랐습니다', 15080), ('심어보려고', 15081), ('마술을', 15082), ('야옹해', 15083), ('주었습니다', 15084), ('편안한', 15085), ('멱살을', 15086), ('쵸비를', 15087), ('보리', 15088), ('벌였습니다', 15089), ('인사르', 15090), ('물었습니다', 15091), ('잠들었습니다', 15092), ('반항', 15093), ('아작내버렸습니다', 15094), ('샘솟았습니다', 15095), ('지었습니다', 15096), ('암모나이트가', 15097), ('진행해', 15098), ('광란의', 15099), ('밤을', 15100), ('지새웠습니다', 15101), ('맞이하여', 15102), ('다소곳하게', 15103), ('버퍼링에', 15104), ('걸려', 15105), ('썰어', 15106), ('참호를', 15107), ('팠습니다', 15108), ('재워', 15109), ('선처를', 15110), ('베풀었습니다', 15111), ('인사를', 15112), ('공룡에', 15113), ('삐졌습니다', 15114), ('모닝콜', 15115), ('몬스터화', 15116), ('비웃어', 15117), ('협정을', 15118), ('맺어', 15119), ('사투', 15120), ('다리털', 15121), ('제모하기', 15122), ('초전사', 15123), ('해상전투', 15124), ('배변', 15125), ('잠재우는', 15126), ('자랑대회', 15127), ('옷입히기', 15128), ('신발을', 15129), ('만난다면', 15130), ('미로미만', 15131), ('쮸쮸쮸송', 15132), ('털달린', 15133), ('짐승은', 15134), ('입기', 15135), ('추격전', 15136), ('이사오고', 15137), ('이사한', 15138), ('아자르앱편', 15139), ('잘때', 15140), ('입양을', 15141), ('멈춰주세요', 15142), ('가시', 15143), ('안아프게', 15144), ('만지는', 15145), ('랜덤화상채팅', 15146), ('었지', 15147), ('지내고', 15148), ('밝을', 15149), ('야행성', 15150), ('알레르기가', 15151), ('어느날', 15152), ('부름에', 15153), ('지문인식', 15154), ('반신욕', 15155), ('입양하게된', 15156), ('쯉쯉쯉강의', 15157), ('수박화채', 15158), ('달립니다', 15159), ('냥빠가', 15160), ('뿅간다', 15161), ('귀뚜라미', 15162), ('똥꾸멍', 15163), ('잡초가', 15164), ('무염', 15165), ('초원', 15166), ('먹이', 15167), ('퇴사후', 15168), ('안지르고', 15169), ('냥빠의', 15170), ('층주택', 15171), ('도치퀸', 15172), ('더빙버전', 15173), ('헬', 15174), ('도치', 15175), ('묻은', 15176), ('닦아줄', 15177), ('뿐인', 15178), ('향수를', 15179), ('발라드', 15180), ('치치', 15181), ('친밀도는', 15182), ('드려서', 15183), ('단잠을', 15184), ('깨운', 15185), ('똥치우기', 15186), ('똥래곤볼', 15187), ('소닉', 15188), ('암컷', 15189), ('핸들링', 15190), ('화보집', 15191), ('은신처', 15192), ('썩은양말', 15193), ('유기동물', 15194), ('자작곡', 15195), ('만기념', 15196), ('안함', 15197), ('이빨닦기', 15198), ('양치질', 15199), ('씻기기', 15200), ('부럽다', 15201), ('씌우기', 15202), ('에게만', 15203), ('상태로', 15204), ('똥싸는', 15205), ('말안', 15206), ('약먹이기', 15207), ('한적한', 15208), ('주말', 15209), ('밤송이풀기', 15210), ('자취방', 15211), ('반려동물들', 15212), ('얼음주기', 15213), ('한눈팔고', 15214), ('죽일듯이', 15215), ('훔쳐가는', 15216), ('장발장', 15217), ('바람에', 15218), ('곧휴', 15219), ('귓속은', 15220), ('생겼을까', 15221), ('귓속', 15222), ('발만지기', 15223), ('놀랠까', 15224), ('미러볼을', 15225), ('켰을', 15226), ('주고가면', 15227), ('경계심', 15228), ('대단함', 15229), ('주었을', 15230), ('깜빡이고', 15231), ('잘땐', 15232), ('감고', 15233), ('자요', 15234), ('줘서', 15235), ('아쉬워요', 15236), ('먹이기에', 15237), ('벽지를', 15238), ('물리쳤어요', 15239), ('콩선생', 15240), ('해부학', 15241), ('실언이었습니다', 15242), ('굿즈', 15243), ('일상이지만', 15244), ('초라도', 15245), ('아깝고', 15246), ('의자에', 15247), ('볼게', 15248), ('콩님이의', 15249), ('고백이', 15250), ('들을까요', 15251), ('입었어요', 15252), ('있었는데요', 15253), ('문틈', 15254), ('열렸을땐', 15255), ('서러움', 15256), ('보냐옹', 15257), ('예끼', 15258), ('이놈아', 15259), ('팔팔해', 15260), ('눕방', 15261), ('릴께요', 15262), ('뜯으려다가', 15263), ('말았네', 15264), ('쁘냐', 15265), ('할쁘', 15266), ('모래는', 15267), ('뒹구는', 15268), ('란다', 15269), ('잤어요', 15270), ('헷갈릴만', 15271), ('봄여사가', 15272), ('그럴까', 15273), ('뒤만', 15274), ('졸졸졸', 15275), ('튕김', 15276), ('튕길지', 15277), ('안튕길지', 15278), ('이와', 15279), ('헷갈린다구요', 15280), ('동공지진', 15281), ('망아지', 15282), ('시컴시컴쓰', 15283), ('화면', 15284), ('들린다면', 15285), ('행님만을', 15286), ('바라봅니다', 15287), ('새낀지', 15288), ('예쁘', 15289), ('방광에도', 15290), ('초록', 15291), ('신호가', 15292), ('냐옹트롯', 15293), ('분희가', 15294), ('부릅니다', 15295), ('쟈가운', 15296), ('고니형아', 15297), ('비극', 15298), ('파양', 15299), ('해피한', 15300), ('서운하다', 15301), ('전지적', 15302), ('초짜리', 15303), ('킬포가', 15304), ('몇개일까요', 15305), ('매서운', 15306), ('놓는데', 15307), ('말해도', 15308), ('주다가', 15309), ('유기동물에게', 15310), ('숨차는', 15311), ('수면무호흡증', 15312), ('서술하시오', 15313), ('고화질로', 15314), ('미우', 15315), ('대공사', 15316), ('엑스컴', 15317), ('장판', 15318), ('캔디를', 15319), ('먹었어요', 15320), ('카락', 15321), ('줘라', 15322), ('말랑말랑한', 15323), ('긁어주기', 15324), ('가져가겠다옹', 15325), ('괴도', 15326), ('근성', 15327), ('고앵이', 15328), ('정맥', 15329), ('묘와', 15330), ('구충', 15331), ('입만', 15332), ('뻐끔거려요', 15333), ('딱지', 15334), ('도수리남매편', 15335), ('이동장을', 15336), ('하우스로', 15337), ('하라부지도', 15338), ('한게', 15339), ('소소한', 15340), ('애옹편', 15341), ('생식이', 15342), ('다옹', 15343), ('마셔서', 15344), ('구해줘야지', 15345), ('병뚜껑', 15346), ('노림', 15347), ('귀약', 15348), ('서럽이의', 15349), ('럽이', 15350), ('고니야', 15351), ('추울땐', 15352), ('빵이지', 15353), ('코막혀서', 15354), ('었다옹', 15355), ('주문하러', 15356), ('총총총', 15357), ('요미는', 15358), ('낯가림', 15359), ('내렸나', 15360), ('하찮은', 15361), ('지켜만', 15362), ('참다참다', 15363), ('삐져버렸더니', 15364), ('바톤터치', 15365), ('싹싹', 15366), ('핥아', 15367), ('춘리', 15368), ('털공을', 15369), ('감격', 15370), ('잊을게', 15371), ('고앵이야', 15372), ('순발력', 15373), ('국내에', 15374), ('대뿐이라는', 15375), ('분홍색', 15376), ('연꽃', 15377), ('진진의', 15378), ('활', 15379), ('선생이', 15380), ('작업할때', 15381), ('형아누나', 15382), ('놓기', 15383), ('감각', 15384), ('과민증후군', 15385), ('고앵이들아', 15386), ('야한다니깐', 15387), ('대감', 15388), ('분량이', 15389), ('쉬야할땐', 15390), ('오더', 15391), ('멀티캣', 15392), ('신나서', 15393), ('펄쩍펄쩍', 15394), ('랍니다', 15395), ('들이대면', 15396), ('미안하고', 15397), ('방광을', 15398), ('화해하긴', 15399), ('예술가', 15400), ('선생의', 15401), ('비닐봉투', 15402), ('않겠는가', 15403), ('쿠후후후', 15404), ('성묘', 15405), ('이였을까', 15406), ('요미야', 15407), ('예뻐하고', 15408), ('쉬었어요', 15409), ('몸쓰기보단', 15410), ('식겁', 15411), ('어설프다', 15412), ('이놈ㅋ', 15413), ('땋아줄게요', 15414), ('미친냥', 15415), ('도른자', 15416), ('유기동물을', 15417), ('다름', 15418), ('분께', 15419), ('가끔은', 15420), ('했잖아', 15421), ('자수해라', 15422), ('난국임', 15423), ('찡찡이', 15424), ('헷갈리는', 15425), ('묘들', 15426), ('코코와', 15427), ('구별하기', 15428), ('자매냥', 15429), ('망아지가', 15430), ('상책', 15431), ('혼났습니다', 15432), ('찍다가', 15433), ('보라', 15434), ('재촉', 15435), ('환절기만', 15436), ('법석이에요', 15437), ('하트콧구멍', 15438), ('감상하실래요', 15439), ('반려동물', 15440), ('아무에게나', 15441), ('보내지', 15442), ('방석과', 15443), ('생식을', 15444), ('데쟈뷰', 15445), ('억울하다', 15446), ('젖은', 15447), ('애들을', 15448), ('말려줘야한다는', 15449), ('사명감을', 15450), ('미우숲', 15451), ('미우츄', 15452), ('날뛰는', 15453), ('망아지여', 15454), ('코코는', 15455), ('미쳤음ㅠ', 15456), ('콧구멍이', 15457), ('킁킁대는게', 15458), ('어설픈', 15459), ('친ㅋ', 15460), ('가을이', 15461), ('천사라구요', 15462), ('크더라', 15463), ('몬난이', 15464), ('덕이에게', 15465), ('니도', 15466), ('잊지마', 15467), ('잠만', 15468), ('쭈쭈쟁이', 15469), ('젖물리는', 15470), ('형아', 15471), ('옴뇸뇸뇸', 15472), ('얼매나', 15473), ('사르르', 15474), ('녹는구냥', 15475), ('외롭지', 15476), ('응급', 15477), ('왔었어요', 15478), ('웰츠', 15479), ('보러오새오', 15480), ('웃어라', 15481), ('화해중이니까', 15482), ('꾸고', 15483), ('살다살다', 15484), ('씻길', 15485), ('줄이야', 15486), ('각인가', 15487), ('가끔씩은', 15488), ('노는거', 15489), ('치카치카하기', 15490), ('칫솔', 15491), ('잘돼버렸다', 15492), ('이어폰', 15493), ('그랬어', 15494), ('안마해준대요', 15495), ('태어', 15496), ('아가를', 15497), ('명목', 15498), ('안기', 15499), ('자기를', 15500), ('묘생', 15501), ('별거있냐옹', 15502), ('뺀질', 15503), ('허버허버허버허버버버', 15504), ('아는분', 15505), ('봤어요', 15506), ('소제목', 15507), ('생략ㅠ', 15508), ('남이', 15509), ('감사합니', 15510), ('끝납니다', 15511), ('토커가', 15512), ('ㄲㅈ', 15513), ('근자감', 15514), ('예뻐서', 15515), ('한컷', 15516), ('대장에게', 15517), ('쿠션이', 15518), ('장단점', 15519), ('이이잉ㅣ이이ㅣㅣ이', 15520), ('네버', 15521), ('천장에', 15522), ('구멍이', 15523), ('웅둥이네', 15524), ('봤나여', 15525), ('면회', 15526), ('다녀왔', 15527), ('나봐요', 15528), ('카토', 15529), ('애옹', 15530), ('나가기', 15531), ('찡찡', 15532), ('혓', 15533), ('잇', 15534), ('발라줘요', 15535), ('해줬더니', 15536), ('후드끈은', 15537), ('바쳐지는', 15538), ('제물이지', 15539), ('못만지게', 15540), ('빨래해도', 15541), ('찜질', 15542), ('걸림', 15543), ('싸나웠던', 15544), ('코인사를', 15545), ('통가자미를', 15546), ('내렸어요', 15547), ('깜빡해서', 15548), ('미안한', 15549), ('주둥이', 15550), ('티비에', 15551), ('무쌍하게', 15552), ('댕댕이', 15553), ('무적의', 15554), ('약욕시켰는데', 15555), ('혔다', 15556), ('스포이드', 15557), ('뾱', 15558), ('구역질', 15559), ('몽글몽글해지는', 15560), ('품속의', 15561), ('정성스럽게', 15562), ('명치', 15563), ('사자로', 15564), ('예민한', 15565), ('놀람', 15566), ('가끔씩', 15567), ('예쁠', 15568), ('징그럽지', 15569), ('먹깨비', 15570), ('짓을', 15571), ('저질렀을까', 15572), ('구슬프게', 15573), ('려하다간', 15574), ('용품을', 15575), ('이뤄진', 15576), ('삐진', 15577), ('요청했으나', 15578), ('우두두두', 15579), ('해머', 15580), ('드릴', 15581), ('모닝', 15582), ('천방지축', 15583), ('뭬엙하고', 15584), ('소음', 15585), ('혼나서', 15586), ('냥무룩', 15587), ('스윗한', 15588), ('아서', 15589), ('심기불편해요', 15590), ('쭈굴', 15591), ('한걸까요', 15592), ('엉성한', 15593), ('혼나요', 15594), ('짧뚱', 15595), ('먹이는데', 15596), ('엄한', 15597), ('때아닌', 15598), ('정리가', 15599), ('이루어지고', 15600), ('말려주세요', 15601), ('털들', 15602), ('꾸러기의', 15603), ('놀고싶당', 15604), ('역방향', 15605), ('애지중지하던', 15606), ('여신님', 15607), ('대령했사옵니다', 15608), ('애옹쓰의', 15609), ('최애템', 15610), ('기분이', 15611), ('컨디션', 15612), ('양보할', 15613), ('웰그롬', 15614), ('실버버튼을', 15615), ('거울이렷다', 15616), ('손깍지끼는', 15617), ('눈꼽이', 15618), ('옥에', 15619), ('티에요', 15620), ('안겨서', 15621), ('돌본다는건', 15622), ('꾸물대고있음', 15623), ('법석', 15624), ('인사해요', 15625), ('잘잤니', 15626), ('개껌은', 15627), ('출렁출렁', 15628), ('찍으려다', 15629), ('흐르지', 15630), ('좋겠어요', 15631), ('허당', 15632), ('열빙어', 15633), ('쟁이들', 15634), ('니는', 15635), ('건드렸을까', 15636), ('소이한테', 15637), ('가련한', 15638), ('응석쟁이가', 15639), ('에픽', 15640), ('틀어주었다', 15641), ('산소방', 15642), ('산소발', 15643), ('안겨있기', 15644), ('끙끙대는', 15645), ('마녀손톱을', 15646), ('이럴때', 15647), ('어스푸름한', 15648), ('할선비를', 15649), ('조심해', 15650), ('큰일날뻔', 15651), ('볼거', 15652), ('랄까봐', 15653), ('안에는', 15654), ('살고있지', 15655), ('매혹적인', 15656), ('꽁냥꽁냥', 15657), ('시선을', 15658), ('강탈', 15659), ('눈인사', 15660), ('니를', 15661), ('구하라', 15662), ('토끼귀로', 15663), ('먼지', 15664), ('몬스터', 15665), ('삼촌', 15666), ('곡괭이', 15667), ('수확하기', 15668), ('세젤귀', 15669), ('애칭이', 15670), ('싸납쟁이', 15671), ('화낼', 15672), ('이삼이가', 15673), ('읽었어요', 15674), ('본능', 15675), ('병들었다는', 15676), ('말티즈', 15677), ('우주선이', 15678), ('이쁜이의', 15679), ('삼이의', 15680), ('이배기', 15681), ('오빠', 15682), ('내놔ㅠ', 15683), ('이빨이', 15684), ('단체접종', 15685), ('비용은', 15686), ('재보아요', 15687), ('여왕의', 15688), ('덕이의', 15689), ('금이야', 15690), ('옥이야', 15691), ('막내이고', 15692), ('평소엔', 15693), ('잘만', 15694), ('브레이커', 15695), ('눈꼴시릴', 15696), ('없잖아', 15697), ('시절을', 15698), ('초승달을', 15699), ('신나버렸어요', 15700), ('무성의한', 15701), ('눈꼴시려서', 15702), ('노곤노곤한', 15703), ('짜잔', 15704), ('손꾸락', 15705), ('약먹일때', 15706), ('벌리는', 15707), ('그럴때는', 15708), ('알약', 15709), ('까치', 15710), ('까롱이', 15711), ('개복치', 15712), ('소망', 15713), ('간지럽다면서', 15714), ('긁어', 15715), ('소듕한', 15716), ('감튀가', 15717), ('냠냠쩝쩝', 15718), ('앞발', 15719), ('목도리다', 15720), ('바쁘다', 15721), ('더블미트', 15722), ('나기를', 15723), ('소식을', 15724), ('알립니다', 15725), ('파괴왕', 15726), ('고단한', 15727), ('눕눕백에', 15728), ('갈거', 15729), ('약오르는', 15730), ('입양갔음', 15731), ('거묘도', 15732), ('이동가방', 15733), ('눕눕백', 15734), ('점보', 15735), ('덴탈', 15736), ('껌과', 15737), ('삐졌개', 15738), ('심장아', 15739), ('나대지마', 15740), ('펫페어', 15741), ('사냥품', 15742), ('질러댔을까요', 15743), ('뵈는거', 15744), ('햇반그릇', 15745), ('있던', 15746), ('만만한', 15747), ('이름의', 15748), ('유래', 15749), ('그때그', 15750), ('강림한', 15751), ('다칠까봐', 15752), ('오퍼스', 15753), ('링크스', 15754), ('유리너리', 15755), ('만만치가', 15756), ('나비랑', 15757), ('레이더망에', 15758), ('수염의', 15759), ('주무시고', 15760), ('멱따는', 15761), ('혀내밀고', 15762), ('용량', 15763), ('조절은', 15764), ('모여', 15765), ('미미의', 15766), ('시설보수를', 15767), ('펀딩', 15768), ('짓기', 15769), ('얌전하게', 15770), ('주저리주저리', 15771), ('묘린이', 15772), ('아깽이들', 15773), ('소이가', 15774), ('돌려대서', 15775), ('못돌리게', 15776), ('잠가버렸더니', 15777), ('투닥', 15778), ('놀리는', 15779), ('있음이다', 15780), ('도리냥냥냥냥냥냥', 15781), ('속눈썹', 15782), ('자랑하기', 15783), ('검진과', 15784), ('간질', 15785), ('에메랄드', 15786), ('바다를', 15787), ('품은', 15788), ('보아요', 15789), ('는날', 15790), ('깎았다', 15791), ('고쳤어요', 15792), ('수리비', 15793), ('비싸다', 15794), ('폰이', 15795), ('났을때', 15796), ('아카네캔', 15797), ('파우치', 15798), ('캣츠파인푸드', 15799), ('하기엔', 15800), ('야매미용', 15801), ('비포애프터', 15802), ('찍으러', 15803), ('보트를', 15804), ('태워줘요', 15805), ('도리도', 15806), ('타임을', 15807), ('가졌어요', 15808), ('혔어요', 15809), ('때끼', 15810), ('이놈', 15811), ('쓰담쓰담해주기', 15812), ('몸은', 15813), ('많고', 15814), ('천식과', 15815), ('비염', 15816), ('호흡곤란이', 15817), ('해줘요', 15818), ('다녀오느라', 15819), ('고생한', 15820), ('트릿을', 15821), ('도리를', 15822), ('소가', 15823), ('수비드', 15824), ('하주는', 15825), ('여아', 15826), ('증상들을', 15827), ('보일까요', 15828), ('통곡', 15829), ('안마해줬어요', 15830), ('빨', 15831), ('대감님', 15832), ('북돋아주기', 15833), ('반장', 15834), ('교복', 15835), ('다가와서', 15836), ('발한테', 15837), ('왜구랩', 15838), ('퍼즈야드', 15839), ('관절염', 15840), ('강림하다', 15841), ('만지면', 15842), ('틀어주어', 15843), ('가면을', 15844), ('될테야', 15845), ('쿠션', 15846), ('칸솔루션', 15847), ('모래를', 15848), ('써봤', 15849), ('모래연구소', 15850), ('흘ㄷㅏ옹', 15851), ('이사오던', 15852), ('우다다가', 15853), ('사료샘플', 15854), ('고집은', 15855), ('잔망스럽게', 15856), ('똥꼬발랄', 15857), ('입소', 15858), ('따아아아', 15859), ('굴리고', 15860), ('굴려지는', 15861), ('파리가', 15862), ('코골다말고', 15863), ('주책이얌', 15864), ('마마쿳쿠', 15865), ('파란만장', 15866), ('야성미', 15867), ('와그작와그작', 15868), ('아팠지만', 15869), ('울때도', 15870), ('수박을', 15871), ('새싹삔', 15872), ('서와', 15873), ('될꺼얌', 15874), ('끙아', 15875), ('굴러가는', 15876), ('할부지가', 15877), ('손주', 15878), ('소환진', 15879), ('냥반', 15880), ('대서', 15881), ('테이', 15882), ('사각형을', 15883), ('야무진', 15884), ('빨래', 15885), ('긁어주었다', 15886), ('청순할', 15887), ('구내염', 15888), ('다녔니', 15889), ('곰돌이', 15890), ('도리의', 15891), ('노는법', 15892), ('독극물로', 15893), ('애옹이', 15894), ('음수량', 15895), ('놔주세요', 15896), ('개봉기', 15897), ('잘먹이겠습니당', 15898), ('브금은', 15899), ('코골', 15900), ('급수기', 15901), ('옹달샘', 15902), ('똥멍충이', 15903), ('나님', 15904), ('자궁이', 15905), ('간신히', 15906), ('눈꼴시려', 15907), ('컬렉션', 15908), ('애미야', 15909), ('캣만두에', 15910), ('거다옹', 15911), ('급뿜어서', 15912), ('캣만두', 15913), ('방앗간', 15914), ('캣만두를', 15915), ('빻아줬어요', 15916), ('늙고', 15917), ('보모냥', 15918), ('요미의', 15919), ('훈육법', 15920), ('고얌', 15921), ('잃고싶지', 15922), ('시보', 15923), ('잡혀가', 15924), ('처했었던', 15925), ('담벼락에', 15926), ('기약', 15927), ('기다림을', 15928), ('컸는데도', 15929), ('젖빠는', 15930), ('쭈쭈쟁이들', 15931), ('해드려요', 15932), ('져있었던', 15933), ('막내였던', 15934), ('단단히', 15935), ('버린채', 15936), ('긁어줬어요', 15937), ('오줌테러묘', 15938), ('봄여사에게', 15939), ('봉투를', 15940), ('뜯으며', 15941), ('유기당', 15942), ('모녀', 15943), ('포대기로', 15944), ('묘', 15945), ('즐겨요', 15946), ('태워', 15947), ('방광염에', 15948), ('불며', 15949), ('콩이', 15950), ('엎어치기', 15951), ('뱃쨜', 15952), ('먹네요', 15953), ('줄래', 15954), ('사냥본능이', 15955), ('대장길', 15956), ('였으면', 15957), ('늬들', 15958), ('맴매였어', 15959), ('ㅂㄷㅂㄷ', 15960), ('약올려봤어요', 15961), ('간질로', 15962), ('증상들', 15963), ('펫가발을', 15964), ('사고치고', 15965), ('다녀서', 15966), ('뇌', 15967), ('질환', 15968), ('보조제들을', 15969), ('털뿜이란', 15970), ('항문낭', 15971), ('뒷다리만', 15972), ('내리면', 15973), ('되요', 15974), ('짜지', 15975), ('한다냥', 15976), ('천식약', 15977), ('흡입기', 15978), ('로켓', 15979), ('분신술', 15980), ('안구적출', 15981), ('범백', 15982), ('군이', 15983), ('한방동물', 15984), ('하품하기', 15985), ('미친냥은', 15986), ('달인이다옹', 15987), ('뭐라하', 15988), ('전체갈이', 15989), ('평상시', 15990), ('이동장', 15991), ('대기중일때', 15992), ('찌', 15993), ('안아서', 15994), ('올려줘야한다', 15995), ('왔으나', 15996), ('쭈구리', 15997), ('신세', 15998), ('소표', 15999), ('물그릇', 16000), ('이뻐요', 16001), ('눈꼽떼주기', 16002), ('씻을까', 16003), ('동거하던', 16004), ('이별', 16005), ('장애묘를', 16006), ('진료비만', 16007), ('버렸을', 16008), ('하리와', 16009), ('두면', 16010), ('뒤지며', 16011), ('굶은', 16012), ('먹지', 16013), ('소파', 16014), ('냈을', 16015), ('구해줬더니', 16016), ('잘가', 16017), ('털자르다', 16018), ('맡게', 16019), ('해선', 16020), ('귀찮아서', 16021), ('당겨', 16022), ('마시는', 16023), ('만원어치', 16024), ('수익을', 16025), ('기부하려', 16026), ('길가다', 16027), ('펭귄을', 16028), ('끓인', 16029), ('물로', 16030), ('감았을', 16031), ('너구리를', 16032), ('난간에', 16033), ('털뽑힌', 16034), ('때렸을', 16035), ('경련발작이', 16036), ('외박', 16037), ('미치도록', 16038), ('줬을', 16039), ('까불', 16040), ('아빠를', 16041), ('배고프면', 16042), ('낮', 16043), ('조르는', 16044), ('가뒀을', 16045), ('어주니', 16046), ('발에', 16047), ('비비며', 16048), ('수컷끼리', 16049), ('마운팅', 16050), ('귀진드기', 16051), ('위협을', 16052), ('림프절', 16053), ('만져서', 16054), ('뜨거', 16055), ('똥침', 16056), ('넣었', 16057), ('이빨뽑으려', 16058), ('응애', 16059), ('밥주는', 16060), ('도망갔을', 16061), ('서럽게', 16062), ('물려서', 16063), ('오기', 16064), ('잠들', 16065), ('핥아주는', 16066), ('맞음', 16067), ('상처가', 16068), ('키스하며', 16069), ('겨드랑이를', 16070), ('간지럽혔을', 16071), ('부위를', 16072), ('장애묘', 16073), ('뒷다리가', 16074), ('손인', 16075), ('샤워할', 16076), ('깝죽대다가', 16077), ('물린', 16078), ('수의대', 16079), ('흉내', 16080), ('죽고', 16081), ('앞발잡고', 16082), ('안놓아주기', 16083), ('옹알이', 16084), ('트라우마', 16085), ('못자는', 16086), ('내밀면', 16087), ('못쉬는', 16088), ('집나간다', 16089), ('애교부리', 16090), ('비명지를', 16091), ('놔주는', 16092), ('맡기', 16093), ('단단한', 16094), ('생선을', 16095), ('씹었을', 16096), ('깐족', 16097), ('쉬다올게요', 16098), ('지게', 16099), ('대화가', 16100), ('주사바늘', 16101), ('찌르기', 16102), ('흥분', 16103), ('뺏겼을', 16104), ('났을', 16105), ('묶어서', 16106), ('고친', 16107), ('건방진', 16108), ('조회수를', 16109), ('레이와', 16110), ('심해', 16111), ('입양가기', 16112), ('두었습니다', 16113), ('입양보냈습니다', 16114), ('애교부', 16115), ('릴', 16116), ('눈뜨고', 16117), ('주워다', 16118), ('시켜도', 16119), ('불만토로', 16120), ('겪는', 16121), ('굳어버린', 16122), ('잘라주다가', 16123), ('나간다', 16124), ('예뻐하니까', 16125), ('째려', 16126), ('남았을', 16127), ('먹혔습니다', 16128), ('줄듯말듯', 16129), ('안줬을', 16130), ('눕지', 16131), ('웬수', 16132), ('아프면', 16133), ('안기려', 16134), ('져줘', 16135), ('가려고', 16136), ('가방에', 16137), ('이상해요', 16138), ('싸는데', 16139), ('샴', 16140), ('칸숏', 16141), ('뒷목을', 16142), ('전기장판', 16143), ('구우면', 16144), ('몇도', 16145), ('시험기간', 16146), ('갔을', 16147), ('가둘', 16148), ('유전적', 16149), ('못차리네', 16150), ('장롱에', 16151), ('졌을', 16152), ('길러서', 16153), ('빨개질', 16154), ('혼냈을', 16155), ('가위눌려', 16156), ('움찔움찔', 16157), ('만진', 16158), ('종양', 16159), ('발정난', 16160), ('높으면', 16161), ('내쫓는다던', 16162), ('품종묘와', 16163), ('주사맞다', 16164), ('새고', 16165), ('뽑히도록', 16166), ('맞았던', 16167), ('오며', 16168), ('혔을', 16169), ('젖었을', 16170), ('정전기가', 16171), ('높을까', 16172), ('허벅지에', 16173), ('박혔어요', 16174), ('첫날에', 16175), ('절구와의', 16176), ('사랑할', 16177), ('봤을', 16178), ('동물', 16179), ('똥보다', 16180), ('두리안을', 16181), ('훔쳐', 16182), ('오는지', 16183), ('안락사를', 16184), ('권유', 16185), ('오구', 16186), ('고치기', 16187), ('만져줄', 16188), ('애착이', 16189), ('과해지면', 16190), ('책부터', 16191), ('동기였어', 16192), ('메롱', 16193), ('약오르면', 16194), ('와바', 16195), ('반겨주는', 16196), ('배를', 16197), ('밟았을', 16198), ('컸을까', 16199), ('줄도', 16200), ('어겼을', 16201), ('기절직전', 16202), ('진줄', 16203), ('벌떡', 16204), ('과도하게', 16205), ('눕겠다', 16206), ('전과', 16207), ('후의', 16208), ('해줘', 16209), ('젖을', 16210), ('만나자마자', 16211), ('볼을', 16212), ('마중나와', 16213), ('따발총', 16214), ('기어다니던', 16215), ('걸음마를', 16216), ('모금에', 16217), ('자식들과', 16218), ('생이별', 16219), ('안으면', 16220), ('떼어내도', 16221), ('열흘만에', 16222), ('버티면서', 16223), ('젖', 16224), ('달만에', 16225), ('울부짖던', 16226), ('떠날', 16227), ('기괴하게', 16228), ('미모원탑', 16229), ('잃으면', 16230), ('덩치', 16231), ('싸울까', 16232), ('동물농장', 16233), ('출연하다', 16234), ('고막', 16235), ('이로', 16236), ('고미의', 16237), ('철창에', 16238), ('실건가요', 16239), ('놀려요', 16240), ('열고', 16241), ('둘이', 16242), ('는데요', 16243), ('보내기로', 16244), ('고미를', 16245), ('구하러와주실분', 16246), ('만져보았', 16247), ('봤어', 16248), ('일명', 16249), ('놓으면', 16250), ('누워서도', 16251), ('남매를', 16252), ('뽑고', 16253), ('봉춤', 16254), ('아닐', 16255), ('존잘', 16256), ('트할', 16257), ('셀카찍는법', 16258), ('구겨', 16259), ('끌려고', 16260), ('올때', 16261), ('엄', 16262), ('눈뜬', 16263), ('아플', 16264), ('밟으면', 16265), ('자랐던', 16266), ('움이', 16267), ('못사줬더니', 16268), ('오네요', 16269), ('조심히', 16270), ('노려요', 16271), ('깨는것', 16272), ('드려요', 16273), ('더울수록', 16274), ('자세가', 16275), ('기괴해져요', 16276), ('말다툼', 16277), ('방구석', 16278), ('깜빡한', 16279), ('깎는', 16280), ('앉는', 16281), ('마주쳤으면', 16282), ('신발장', 16283), ('가두는', 16284), ('문다', 16285), ('놀래켜', 16286), ('이긴듯', 16287), ('투명벽', 16288), ('귀가', 16289), ('실화야', 16290), ('방언터진', 16291), ('알았지', 16292), ('인형이에요', 16293), ('맞대야', 16294), ('콧바람', 16295), ('계셨나요', 16296), ('벌서다가', 16297), ('허공에', 16298), ('찡얼찡얼', 16299), ('어리광부리는', 16300), ('조금이른', 16301), ('낸시랭은', 16302), ('인형이였지', 16303), ('깎다', 16304), ('키스', 16305), ('귀에', 16306), ('진드기가', 16307), ('체온이', 16308), ('복숭', 16309), ('키스로', 16310), ('여요', 16311), ('오줌', 16312), ('싸다가', 16313), ('줬는데', 16314), ('놓지를', 16315), ('재우는', 16316), ('만나버렸다', 16317), ('장화신은', 16318), ('눕겠다고', 16319), ('포도', 16320), ('현관', 16321), ('검정이', 16322), ('노랑이', 16323), ('텃세', 16324), ('기를게요', 16325), ('할줄이야', 16326), ('경험한', 16327), ('순진무구한', 16328), ('길어질까', 16329), ('감기걸려도', 16330), ('쉬도록', 16331), ('발견당시', 16332), ('자세로', 16333), ('새집', 16334), ('무섭지', 16335), ('가라고', 16336), ('알람', 16337), ('깎지', 16338), ('똥싸는데', 16339), ('지켜주는', 16340), ('가오나시', 16341), ('자는데요', 16342), ('느긋한', 16343), ('수의대생', 16344), ('간택한', 16345), ('목놓아', 16346), ('생고기', 16347), ('댕댕이들의', 16348), ('깜멍뭉하우스', 16349), ('주변을', 16350), ('서성이는', 16351), ('깜멍뭉과', 16352), ('개집', 16353), ('깜멍뭉의', 16354), ('줘보기', 16355), ('한달된', 16356), ('지능', 16357), ('깜이', 16358), ('멍이', 16359), ('뭉이', 16360), ('지어줬어요', 16361), ('깜', 16362), ('뭉', 16363), ('까만', 16364), ('멍뭉이들', 16365), ('링겔', 16366), ('소몰이', 16367), ('패서', 16368), ('구워주기', 16369), ('백색소음', 16370), ('사료와', 16371), ('건초', 16372), ('콧구멍', 16373), ('목장개', 16374), ('점례의', 16375), ('랑도', 16376), ('출산', 16377), ('밟힌', 16378), ('맞지', 16379), ('혼나니까', 16380), ('마술', 16381), ('싸웠어요', 16382), ('엎드려', 16383), ('자다가', 16384), ('가위눌렸니', 16385), ('두리안', 16386), ('뺏겨', 16387), ('큰일', 16388), ('캠핑하며', 16389), ('왕거미', 16390), ('잡으려다', 16391), ('뷔페를', 16392), ('차려줬어요', 16393), ('다사주기', 16394), ('수술하고', 16395), ('조카', 16396), ('첫외출', 16397), ('끼리만', 16398), ('먹냐', 16399), ('조물조물', 16400), ('부어', 16401), ('육회를', 16402), ('대형견을', 16403), ('대형견', 16404), ('소형견', 16405), ('레레모모나나', 16406), ('정규', 16407), ('보았습니', 16408), ('왔니', 16409), ('똑똑한', 16410), ('모듬구이', 16411), ('쪼', 16412), ('나눠요', 16413), ('말썽쟁이', 16414), ('혼꾸녕', 16415), ('이것도', 16416), ('동백꽃필무렵', 16417), ('많다구요', 16418), ('설채현', 16419), ('깔고', 16420), ('내던', 16421), ('특이하게', 16422), ('강물에', 16423), ('나무로만든', 16424), ('뗏목을', 16425), ('주세오', 16426), ('세배하고', 16427), ('털갈이', 16428), ('불쌍해서', 16429), ('들이니', 16430), ('아픈척', 16431), ('온천', 16432), ('엄살부리는', 16433), ('지어주세요', 16434), ('이모됐어요', 16435), ('크레인', 16436), ('낚아', 16437), ('키웠습니다', 16438), ('던질까', 16439), ('그랬음', 16440), ('견이니', 16441), ('잖아', 16442), ('시바의', 16443), ('한입만', 16444), ('보내시바', 16445), ('카락을', 16446), ('뜯는', 16447), ('감당', 16448), ('평', 16449), ('놀았어요', 16450), ('배고프다고', 16451), ('개밥그릇', 16452), ('안준다고', 16453), ('눈가리고', 16454), ('술래잡기를', 16455), ('거니', 16456), ('속상해', 16457), ('예뻐', 16458), ('피곤한', 16459), ('김치를', 16460), ('김치보쌈', 16461), ('내려서', 16462), ('터득한', 16463), ('침흘리는', 16464), ('애착담요를', 16465), ('하고가세요', 16466), ('개털인줄', 16467), ('한태', 16468), ('좋다는데', 16469), ('짖음', 16470), ('굿즈소식을', 16471), ('하우스에', 16472), ('년달력', 16473), ('인형키링이', 16474), ('나왔시바', 16475), ('녹여요', 16476), ('놀다가시는', 16477), ('켰어요', 16478), ('시켜줬어요', 16479), ('동경이', 16480), ('돌멩이', 16481), ('못먹게하니', 16482), ('삶아서', 16483), ('주심', 16484), ('밟았더니', 16485), ('새오', 16486), ('가오나시를', 16487), ('공원', 16488), ('이쁜카페', 16489), ('도자기', 16490), ('무한리필', 16491), ('팝콘에', 16492), ('중독됐어요', 16493), ('눈커짐', 16494), ('개엄살', 16495), ('신고당할뻔', 16496), ('하러오시바', 16497), ('곰인형인', 16498), ('견', 16499), ('맨손', 16500), ('뇌맑은', 16501), ('맡고', 16502), ('배위', 16503), ('늦', 16504), ('오시바', 16505), ('신기하게', 16506), ('비숑이', 16507), ('춘천여행', 16508), ('쪘어요', 16509), ('식탐', 16510), ('욕심쟁이', 16511), ('구해낸', 16512), ('이케아', 16513), ('립하기', 16514), ('할머', 16515), ('탄산수를', 16516), ('이뻐', 16517), ('늑대처럼', 16518), ('눈썹이', 16519), ('생겨서', 16520), ('감당할', 16521), ('천둥', 16522), ('대륙', 16523), ('고집부리는', 16524), ('종특', 16525), ('똥고', 16526), ('충성심이', 16527), ('남에게', 16528), ('반가워서', 16529), ('갇혀서', 16530), ('대모험', 16531), ('갯벌', 16532), ('잡이', 16533), ('주니', 16534), ('개신남', 16535), ('가자던', 16536), ('개껌인줄', 16537), ('알았어요', 16538), ('뜯어', 16539), ('컨', 16540), ('주었어요', 16541), ('비가와서', 16542), ('우울해요', 16543), ('개엄살부리는', 16544), ('주사가', 16545), ('아페스티벌', 16546), ('고라', 16547), ('고라니를', 16548), ('쓰담쓰담', 16549), ('방불케', 16550), ('열기와', 16551), ('잠이안와', 16552), ('지원유세', 16553), ('장애인', 16554), ('단체도', 16555), ('우유빛깔', 16556), ('돌급', 16557), ('적약자', 16558), ('사인회', 16559), ('주사위는', 16560), ('울부짖음에', 16561), ('허둥지둥', 16562), ('했었는지', 16563), ('김어준이란', 16564), ('공장장', 16565), ('신세돈', 16566), ('쥑이네', 16567), ('대권', 16568), ('오만에', 16569), ('어야', 16570), ('구름인파', 16571), ('투톱출격', 16572), ('이헌재', 16573), ('전부총리', 16574), ('공산당을', 16575), ('박수', 16576), ('노랭이들은', 16577), ('황급히', 16578), ('오세찬', 16579), ('커졌다', 16580), ('큰절에', 16581), ('일격', 16582), ('노조위원장', 16583), ('아빠도', 16584), ('등돌렸다', 16585), ('뽀롱나게', 16586), ('행태가', 16587), ('친일파냐', 16588), ('김두한의', 16589), ('김을동의', 16590), ('포효', 16591), ('김좌진장군', 16592), ('손녀', 16593), ('손녀가', 16594), ('지역주민', 16595), ('굳히기', 16596), ('귀족노조', 16597), ('통진당', 16598), ('해산시켰던', 16599), ('포스', 16600), ('산악인', 16601), ('엄홍길', 16602), ('정기모아', 16603), ('화끈하게', 16604), ('택하실래요', 16605), ('지상욱', 16606), ('그늘', 16607), ('큰형님', 16608), ('모시겠다', 16609), ('밝히다', 16610), ('횡포와', 16611), ('죽으려고', 16612), ('백혜련은', 16613), ('명확하게', 16614), ('시민을', 16615), ('정미경의', 16616), ('독무대', 16617), ('똑부러지는', 16618), ('일꾼', 16619), ('인품과', 16620), ('환한', 16621), ('배인', 16622), ('섬김', 16623), ('오르막길', 16624), ('톨에게', 16625), ('백혜련', 16626), ('짠', 16627), ('지원금의', 16628), ('꼬집고', 16629), ('실효성', 16630), ('역제안', 16631), ('어쩔래', 16632), ('삶은소대가리', 16633), ('하수들과', 16634), ('엮지', 16635), ('매너있게', 16636), ('덤벼라', 16637), ('낙연이에게', 16638), ('원의', 16639), ('적벽대전', 16640), ('최지영', 16641), ('차분', 16642), ('의인', 16643), ('여럿', 16644), ('다친다', 16645), ('간교한', 16646), ('강서을', 16647), ('열광의', 16648), ('도가니', 16649), ('낙연', 16650), ('천심이다', 16651), ('전우회', 16652), ('특전사', 16653), ('수방사', 16654), ('현아의', 16655), ('구국동지회', 16656), ('유세', 16657), ('교통마비', 16658), ('개헌악법', 16659), ('최룡해의', 16660), ('울린다', 16661), ('삼고초려', 16662), ('과반의석', 16663), ('원죄에', 16664), ('속죄', 16665), ('황선', 16666), ('응답', 16667), ('견디지', 16668), ('덕에', 16669), ('푸줏간', 16670), ('총각들', 16671), ('바른말', 16672), ('배달됩니다', 16673), ('간보다', 16674), ('뇌염', 16675), ('파손', 16676), ('대대손손', 16677), ('벌을', 16678), ('돈살포', 16679), ('끄덕', 16680), ('해체하자', 16681), ('발사에', 16682), ('속상하실', 16683), ('서해수호', 16684), ('대신하여', 16685), ('대북관', 16686), ('위안부를', 16687), ('강제연행', 16688), ('사실인가', 16689), ('ㄸ은', 16690), ('째려보지', 16691), ('잘새겨', 16692), ('논', 16693), ('파렴치가', 16694), ('우상화', 16695), ('선동의', 16696), ('허구', 16697), ('열화상', 16698), ('웃은', 16699), ('육사교장', 16700), ('겁먹은', 16701), ('개가된', 16702), ('스텔스', 16703), ('사기치다', 16704), ('들리지', 16705), ('ㅆ기', 16706), ('못참아', 16707), ('윤호중', 16708), ('덫에', 16709), ('삼청', 16710), ('벌벌떨게한', 16711), ('원색비난에', 16712), ('숨지말고', 16713), ('깨갱하게', 16714), ('치러', 16715), ('전도사가', 16716), ('계십니다', 16717), ('사역자들이여', 16718), ('죄짓고', 16719), ('나마', 16720), ('울지마라', 16721), ('미치지', 16722), ('미치겠다', 16723), ('밀알이', 16724), ('최태선국장도', 16725), ('김은혜의', 16726), ('실리콘밸리', 16727), ('창출', 16728), ('버텨라', 16729), ('아닌척하며', 16730), ('잘되시냐', 16731), ('야단만', 16732), ('맞았다', 16733), ('머저리들아', 16734), ('문측근', 16735), ('단톡방', 16736), ('문고집', 16737), ('미치겠다는', 16738), ('불만', 16739), ('측근들', 16740), ('공병호', 16741), ('총질에도', 16742), ('의연한', 16743), ('품위', 16744), ('박결이', 16745), ('이끈다', 16746), ('깨갱하며', 16747), ('소잃고', 16748), ('외양간', 16749), ('고치냐', 16750), ('좌절', 16751), ('발대식', 16752), ('과한욕심', 16753), ('꾸었구나', 16754), ('기상이변', 16755), ('형사고', 16756), ('교사들', 16757), ('케', 16758), ('가증스런', 16759), ('들켰다', 16760), ('과잉채증', 16761), ('모욕죄', 16762), ('딸랑딸랑', 16763), ('정숙', 16764), ('억울한', 16765), ('자결', 16766), ('원한을', 16767), ('풀려나', 16768), ('줬으니', 16769), ('집단을', 16770), ('김수현', 16771), ('질려', 16772), ('미친놈이', 16773), ('영광이라는', 16774), ('개새', 16775), ('부리다', 16776), ('제의에', 16777), ('낫살먹은', 16778), ('재인아', 16779), ('웃픈', 16780), ('식견', 16781), ('인식에', 16782), ('개탄', 16783), ('권영해', 16784), ('장군의', 16785), ('노익장', 16786), ('문에게', 16787), ('부역질하며', 16788), ('별값', 16789), ('장군들', 16790), ('가리', 16791), ('박어', 16792), ('포렌식', 16793), ('세뇌는', 16794), ('지워라', 16795), ('극단적', 16796), ('개헌은', 16797), ('있더라도', 16798), ('내각제식', 16799), ('로가는', 16800), ('정황증거', 16801), ('지속감시', 16802), ('약점', 16803), ('귀닫고', 16804), ('눈닫고', 16805), ('쇼하냐', 16806), ('깽판', 16807), ('쳤듯', 16808), ('가서도', 16809), ('깽판쳐야', 16810), ('주장이', 16811), ('설득력', 16812), ('고의에의한', 16813), ('대굴욕', 16814), ('강한자엔', 16815), ('약하고', 16816), ('자엔', 16817), ('낭떠러지', 16818), ('업고', 16819), ('이재용의', 16820), ('이재용을', 16821), ('집요하게', 16822), ('문은', 16823), ('재인과', 16824), ('실체에', 16825), ('술수', 16826), ('기만하며', 16827), ('시도할', 16828), ('방심말자', 16829), ('개헌이란', 16830), ('배급제라니', 16831), ('좋으라구', 16832), ('무능에도', 16833), ('불쌍하다', 16834), ('부들대는', 16835), ('보내서', 16836), ('왔냐고', 16837), ('진핑재인', 16838), ('한탕', 16839), ('둘의', 16840), ('만델라와', 16841), ('수치의', 16842), ('슨상', 16843), ('떼라', 16844), ('네거티브하게', 16845), ('ㅁㅅ자가', 16846), ('숨겼나', 16847), ('자신도', 16848), ('움을', 16849), ('아는건가', 16850), ('상인들도', 16851), ('깨달았다', 16852), ('사지로', 16853), ('서신', 16854), ('쇼질', 16855), ('선장이', 16856), ('무기징역이면', 16857), ('쳬렴', 16858), ('가시화', 16859), ('께도', 16860), ('복식조', 16861), ('무기징역', 16862), ('짝퉁시계', 16863), ('기만한', 16864), ('다물라', 16865), ('고쳐줄께', 16866), ('우나좌나', 16867), ('팔이하지', 16868), ('백번양보해서', 16869), ('조무룩', 16870), ('지영아', 16871), ('마이무따', 16872), ('정품', 16873), ('실물과', 16874), ('앞뒤', 16875), ('다르고', 16876), ('군림', 16877), ('부장의', 16878), ('독썰', 16879), ('가져야할', 16880), ('덕목', 16881), ('커밍아웃', 16882), ('감회가', 16883), ('헌판', 16884), ('고글', 16885), ('목구녕에', 16886), ('망쳐놓은', 16887), ('뼛가루', 16888), ('여의도', 16889), ('헌판식', 16890), ('수호에', 16891), ('스탭진을', 16892), ('세일', 16893), ('진핑정은', 16894), ('이와중에', 16895), ('띨빵한짓', 16896), ('아랑곳', 16897), ('민낯을', 16898), ('소독', 16899), ('수시로', 16900), ('직원의', 16901), ('경계강화된', 16902), ('처웃고', 16903), ('처웃어라', 16904), ('유감', 16905), ('발휘', 16906), ('오만한', 16907), ('안희정이', 16908), ('세부사연', 16909), ('파악하니', 16910), ('직원이', 16911), ('역고발로', 16912), ('복지부장관', 16913), ('감지', 16914), ('직썰', 16915), ('모락모락', 16916), ('등돌렸나', 16917), ('시민모임', 16918), ('백대용', 16919), ('아파하고', 16920), ('시동', 16921), ('청중년', 16922), ('등돌리고', 16923), ('뻗치기', 16924), ('입째지게', 16925), ('수천장을', 16926), ('자비로', 16927), ('돌리더니', 16928), ('인재들이', 16929), ('나눔맨', 16930), ('최선봉', 16931), ('전사가', 16932), ('이제와서', 16933), ('원론적', 16934), ('뒷북대책만', 16935), ('내놓는', 16936), ('충언', 16937), ('듣다가', 16938), ('안일한대처', 16939), ('의리와', 16940), ('막중한', 16941), ('부여', 16942), ('특위', 16943), ('단수공천신청', 16944), ('전파자는', 16945), ('은수미가', 16946), ('피토', 16947), ('의석수', 16948), ('방재태세로', 16949), ('계엄사령관이냐', 16950), ('엿', 16951), ('대박치는', 16952), ('대박친다', 16953), ('통인', 16954), ('낙천', 16955), ('연대가', 16956), ('이발소', 16957), ('인사법', 16958), ('잡으려는', 16959), ('횡설수설', 16960), ('이러냐', 16961), ('기레기들은', 16962), ('기사화', 16963), ('하겠지', 16964), ('고물상', 16965), ('반듯하게', 16966), ('자라', 16967), ('대행', 16968), ('고물상에', 16969), ('아픔을', 16970), ('노림수는', 16971), ('불매선동에', 16972), ('대박난', 16973), ('돌렸네', 16974), ('있으며', 16975), ('못보겠다', 16976), ('험한', 16977), ('내려와', 16978), ('꽃미남', 16979), ('구주와', 16980), ('일동', 16981), ('폭소가', 16982), ('터진', 16983), ('격언', 16984), ('잊지', 16985), ('지역구', 16986), ('맞춤형', 16987), ('매가', 16988), ('낫다', 16989), ('하였나', 16990), ('손잡다', 16991), ('느거', 16992), ('시노', 16993), ('돈도', 16994), ('빽도', 16995), ('서민에게도', 16996), ('해처', 16997), ('불공정한', 16998), ('사법시험', 16999), ('줄서고', 17000), ('소모품', 17001), ('폭정을', 17002), ('지간', 17003), ('넘쳐요', 17004), ('이루어낸', 17005), ('가슴벅찬', 17006), ('삼키는', 17007), ('이루겠다는', 17008), ('김광진', 17009), ('화한에', 17010), ('글씨는', 17011), ('이름만', 17012), ('박결을', 17013), ('친히', 17014), ('살뜰히', 17015), ('겸손의', 17016), ('김영환위원', 17017), ('중대가', 17018), ('유린한', 17019), ('원죄', 17020), ('갚겠습니다', 17021), ('준석아', 17022), ('여왕에게', 17023), ('헌신과', 17024), ('고선', 17025), ('실천은', 17026), ('잘좀하자', 17027), ('백의종군하여', 17028), ('불꽃이', 17029), ('정해졌다', 17030), ('바람몰이', 17031), ('입당에', 17032), ('정론관', 17033), ('원음을', 17034), ('반미시위대', 17035), ('껀에', 17036), ('오만하게', 17037), ('몰라도', 17038), ('법조인', 17039), ('진심에', 17040), ('일임', 17041), ('두목', 17042), ('뒷설거지는', 17043), ('당겨지고', 17044), ('진핑정은재인', 17045), ('밑', 17046), ('떼우는', 17047), ('어루만지는', 17048), ('임이', 17049), ('모욕죄로', 17050), ('건지', 17051), ('쪽집게', 17052), ('통진잔당', 17053), ('배상소송', 17054), ('닻을', 17055), ('올렸다', 17056), ('총회', 17057), ('떠받치는', 17058), ('손주찬과', 17059), ('유쾌', 17060), ('통쾌', 17061), ('역제안에', 17062), ('유력주자들의', 17063), ('여길', 17064), ('질까봐', 17065), ('사저에', 17066), ('표구걸', 17067), ('벤치든', 17068), ('세우는걸', 17069), ('재치', 17070), ('넘치', 17071), ('며느리', 17072), ('구한', 17073), ('일화', 17074), ('세대에게', 17075), ('인물과', 17076), ('적임자다', 17077), ('역임', 17078), ('부사장', 17079), ('승기', 17080), ('이인수박사', 17081), ('내외', 17082), ('문화계', 17083), ('백현주', 17084), ('연예', 17085), ('리더쉽에', 17086), ('인재가', 17087), ('자멸', 17088), ('바라냐', 17089), ('들께서', 17090), ('구구절절', 17091), ('숨긴', 17092), ('일시', 17093), ('조직인가', 17094), ('홍익표', 17095), ('하태경에', 17096), ('작심', 17097), ('공부도', 17098), ('불공평해', 17099), ('이준석과', 17100), ('묶어두려', 17101), ('투트랙', 17102), ('나네', 17103), ('말귀', 17104), ('먹여주는', 17105), ('대박났다', 17106), ('장애물', 17107), ('가뿐히', 17108), ('넘고', 17109), ('책상', 17110), ('번지', 17111), ('오해를', 17112), ('시키려는', 17113), ('문좌와', 17114), ('림종을', 17115), ('문좌', 17116), ('림종', 17117), ('단한놈도', 17118), ('안한', 17119), ('황운하에게', 17120), ('농간에', 17121), ('말로도', 17122), ('중공의', 17123), ('미인계', 17124), ('계에', 17125), ('목줄잡힌', 17126), ('유력인사들', 17127), ('책찢기', 17128), ('짜려는', 17129), ('우문에', 17130), ('현답', 17131), ('문떨거지들', 17132), ('찌르는', 17133), ('석권', 17134), ('엿먹이나', 17135), ('동영', 17136), ('인영', 17137), ('타겠네', 17138), ('불출마로', 17139), ('내려놓았더니', 17140), ('무능대처', 17141), ('자해공갈당', 17142), ('두려우면', 17143), ('생트집', 17144), ('엿먹였다', 17145), ('중앙당', 17146), ('천배', 17147), ('의겸아', 17148), ('끝이', 17149), ('바미당', 17150), ('이찬열', 17151), ('김명연의', 17152), ('비결이다', 17153), ('김영환의', 17154), ('혁통위', 17155), ('배포자료', 17156), ('서초동도', 17157), ('기폭제를', 17158), ('터뜨리겠다', 17159), ('이은택', 17160), ('머저리', 17161), ('울부짖음', 17162), ('박근혜대', 17163), ('환생해서', 17164), ('오신것', 17165), ('김영환', 17166), ('사과하다', 17167), ('역경속', 17168), ('선다', 17169), ('속죄의', 17170), ('태경아', 17171), ('앞이라', 17172), ('쫄았나', 17173), ('놓친', 17174), ('끌려다닌다고', 17175), ('우유부단', 17176), ('책동', 17177), ('탈을', 17178), ('근간을', 17179), ('많네', 17180), ('부활인가', 17181), ('부울경', 17182), ('우습냐', 17183), ('말래요', 17184), ('외신들은', 17185), ('부르는데', 17186), ('너만', 17187), ('서한문', 17188), ('미친자에게', 17189), ('운전대를', 17190), ('맡길수', 17191), ('요트', 17192), ('갈매기', 17193), ('밀알', 17194), ('지기가', 17195), ('전지검장', 17196), ('조전혁', 17197), ('해운대갑', 17198), ('반토막', 17199), ('초년병이', 17200), ('류성걸', 17201), ('승민이는', 17202), ('낄', 17203), ('없을껄', 17204), ('예선이', 17205), ('격전지를', 17206), ('꼴들을', 17207), ('투지', 17208), ('쌩깐', 17209), ('장애인들', 17210), ('모략질', 17211), ('음해에도', 17212), ('부역', 17213), ('게시판', 17214), ('바둑갱수', 17215), ('조꾹이', 17216), ('성토장', 17217), ('커뮤니티', 17218), ('민부론이', 17219), ('김광림', 17220), ('김성원위원', 17221), ('서민고통', 17222), ('질래', 17223), ('우문현답', 17224), ('돌려까기', 17225), ('민평당', 17226), ('찔렸다', 17227), ('요건', 17228), ('농부', 17229), ('농어촌', 17230), ('발전시킬', 17231), ('분들의', 17232), ('허심탄회한', 17233), ('흘린', 17234), ('못차린', 17235), ('일침과', 17236), ('아몰랑', 17237), ('반미는', 17238), ('겠고', 17239), ('건사연', 17240), ('쪽팔리지도', 17241), ('않냐', 17242), ('화한', 17243), ('찡하고', 17244), ('이들아', 17245), ('가슴깊이', 17246), ('새겨', 17247), ('겸', 17248), ('서라', 17249), ('은진핑', 17250), ('버르장', 17251), ('고쳐놓겠다', 17252), ('초재선', 17253), ('중진', 17254), ('내려놓았다', 17255), ('보수대', 17256), ('뚫리는', 17257), ('조성환', 17258), ('동참하라', 17259), ('방어선', 17260), ('지혜로', 17261), ('헤쳐모여', 17262), ('가느라', 17263), ('늦었을거란', 17264), ('하시길', 17265), ('부산경남', 17266), ('목덜미', 17267), ('속알', 17268), ('빨개져', 17269), ('전체가', 17270), ('칠백만', 17271), ('헤벌레', 17272), ('민생행보', 17273), ('유모차부대', 17274), ('세뇌해도', 17275), ('큰다', 17276), ('기백과', 17277), ('문씨는', 17278), ('숨었나', 17279), ('자리보존', 17280), ('문화회관', 17281), ('냈던', 17282), ('그때처럼', 17283), ('인성과', 17284), ('전진한다', 17285), ('황제를', 17286), ('어쩔건데', 17287), ('사약', 17288), ('내릴래', 17289), ('정진석', 17290), ('손톱만한', 17291), ('성조기와', 17292), ('기막히게', 17293), ('직업병인가', 17294), ('고마운', 17295), ('반성하며', 17296), ('잡혔다', 17297), ('캐비넷', 17298), ('방출시', 17299), ('씨레기', 17300), ('가로채', 17301), ('이란사태', 17302), ('예행연습', 17303), ('쪽팔리지', 17304), ('지목', 17305), ('영광이다', 17306), ('피고발', 17307), ('수천', 17308), ('까마귀떼', 17309), ('밤하늘', 17310), ('뒤덮다', 17311), ('관행이라고', 17312), ('무늬만', 17313), ('은사', 17314), ('소속일때도', 17315), ('흠모', 17316), ('승민아', 17317), ('의전', 17318), ('술마신게', 17319), ('영원한', 17320), ('생존차원', 17321), ('끄덕끄덕', 17322), ('차렷자세', 17323), ('울그락', 17324), ('붉으락', 17325), ('이러는걸까', 17326), ('폭격을', 17327), ('움은', 17328), ('몫인가', 17329), ('경호', 17330), ('수행원', 17331), ('한판붙자', 17332), ('밟아줄께', 17333), ('험지출마', 17334), ('침착대처', 17335), ('간절함이자', 17336), ('부메랑이', 17337), ('남재준', 17338), ('국정농단', 17339), ('수행원들', 17340), ('곤욕을', 17341), ('치른', 17342), ('초근접', 17343), ('뚫렸', 17344), ('일그러진', 17345), ('ㅆㄹㄱ', 17346), ('경영하니', 17347), ('나서야', 17348), ('시민권자', 17349), ('이희문', 17350), ('목포댁', 17351), ('가기가', 17352), ('누더기된', 17353), ('박정', 17354), ('권이', 17355), ('위법', 17356), ('막가', 17357), ('행위들', 17358), ('대모당은', 17359), ('강화하여', 17360), ('흘린다', 17361), ('교사가', 17362), ('해고한다', 17363), ('첫걸음', 17364), ('인권위원회', 17365), ('투쟁중인', 17366), ('애청자', 17367), ('질책', 17368), ('증거에도', 17369), ('소행', 17370), ('지키려', 17371), ('독이', 17372), ('이런짓을', 17373), ('떡고물', 17374), ('합리적의심', 17375), ('사법부가', 17376), ('맘카페', 17377), ('여호와의', 17378), ('나팔수들을', 17379), ('후련한', 17380), ('여명숙박사', 17381), ('신체고통', 17382), ('피로누적', 17383), ('가기전', 17384), ('내우외환', 17385), ('난무', 17386), ('가려구', 17387), ('과도한', 17388), ('대저택', 17389), ('혈세인데', 17390), ('변소는', 17391), ('정문', 17392), ('엎어야', 17393), ('상식적인', 17394), ('앞장서자', 17395), ('원해영', 17396), ('외치니', 17397), ('지키라는', 17398), ('집단에', 17399), ('웃기고', 17400), ('울리고', 17401), ('가슴벅차게', 17402), ('진가와', 17403), ('정곡찌른', 17404), ('보좌', 17405), ('엿가락', 17406), ('흥정들', 17407), ('한자리', 17408), ('주권자', 17409), ('오게', 17410), ('위급', 17411), ('극적', 17412), ('일일히', 17413), ('배웅', 17414), ('연루된', 17415), ('인사들', 17416), ('이랬다', 17417), ('저랬다', 17418), ('명확하다', 17419), ('좀전', 17420), ('마주치자', 17421), ('급꽁무니', 17422), ('무겁다', 17423), ('막나간다면', 17424), ('그에', 17425), ('맞게', 17426), ('폭정에', 17427), ('몇십만원에', 17428), ('팔지말자', 17429), ('감찰무마농단', 17430), ('탈바꿈', 17431), ('하였다', 17432), ('심장한', 17433), ('아픈다리', 17434), ('투톱', 17435), ('열망과', 17436), ('감찰농단', 17437), ('지들멋대로', 17438), ('투사가', 17439), ('막가파식', 17440), ('흔적도', 17441), ('해체될것임', 17442), ('발악을', 17443), ('즐겨라', 17444), ('신임', 17445), ('박완수', 17446), ('지들', 17447), ('멋대로', 17448), ('수단과', 17449), ('동원해', 17450), ('세우겠다', 17451), ('앞장서겠다', 17452), ('전사의', 17453), ('위헌적', 17454), ('밟고', 17455), ('접한', 17456), ('쯔쯔', 17457), ('자리가', 17458), ('인줄도', 17459), ('자멸하러', 17460), ('되려나', 17461), ('선도했으니', 17462), ('지키시길', 17463), ('단합된', 17464), ('신혼여행을', 17465), ('육사동기', 17466), ('이재수장군께', 17467), ('이재수장군', 17468), ('맡지', 17469), ('생을', 17470), ('을텐데', 17471), ('자책의', 17472), ('방관자', 17473), ('패잔병들의', 17474), ('수백의', 17475), ('꺾였나', 17476), ('쟁취', 17477), ('정조대왕', 17478), ('사도세자', 17479), ('영조의', 17480), ('형집', 17481), ('전수조사', 17482), ('편가르기', 17483), ('시키나', 17484), ('감은', 17485), ('안좋으면', 17486), ('쉬어라', 17487), ('폐단을', 17488), ('교사에게', 17489), ('인호군', 17490), ('화랑의', 17491), ('밟나', 17492), ('탁현민', 17493), ('왜왜왜', 17494), ('속국이라', 17495), ('깔', 17496), ('영접하신', 17497), ('재수감', 17498), ('세분과', 17499), ('비서실장', 17500), ('해찬', 17501), ('울렁거려', 17502), ('테잎', 17503), ('훈남', 17504), ('살라미전술', 17505), ('회심의', 17506), ('간판도', 17507), ('사엔', 17508), ('그물망', 17509), ('지은죄가', 17510), ('많나', 17511), ('살신성인', 17512), ('환골탈태', 17513), ('당직자', 17514), ('일괄', 17515), ('인적쇄신', 17516), ('당무', 17517), ('성지가', 17518), ('사랑채', 17519), ('강제집행', 17520), ('그놈', 17521), ('구청', 17522), ('민식이', 17523), ('잃을뻔한', 17524), ('터진다', 17525), ('못다한', 17526), ('술판', 17527), ('흡연', 17528), ('모금함', 17529), ('치우지도', 17530), ('무질서', 17531), ('무법', 17532), ('광야', 17533), ('밟을수록', 17534), ('칼꽂은', 17535), ('불었다', 17536), ('해쳐먹다', 17537), ('서류', 17538), ('대변하여', 17539), ('아프니까', 17540), ('청춘이다', 17541), ('의식', 17542), ('잃고', 17543), ('실려간', 17544), ('일차밤', 17545), ('셈인가', 17546), ('박근', 17547), ('령이사장의', 17548), ('전하다', 17549), ('항쟁에', 17550), ('문과', 17551), ('말년이', 17552), ('비참', 17553), ('똘마니', 17554), ('음해조롱', 17555), ('인실', 17556), ('병실로', 17557), ('옮겨', 17558), ('주치의', 17559), ('원희룡의', 17560), ('폄하성', 17561), ('어라', 17562), ('위장아줌마', 17563), ('내세워', 17564), ('트릭', 17565), ('뒷구녕', 17566), ('랬으니', 17567), ('움막', 17568), ('보셔', 17569), ('황제라고', 17570), ('할일이', 17571), ('완강한', 17572), ('위원들', 17573), ('혈세', 17574), ('택시인가', 17575), ('숙연하게', 17576), ('창백해진', 17577), ('일째밤', 17578), ('비바람과', 17579), ('기온', 17580), ('환경에도', 17581), ('전장터', 17582), ('누비며', 17583), ('이진숙', 17584), ('채고', 17585), ('태세전환', 17586), ('샤이', 17587), ('기력이', 17588), ('다가가는', 17589), ('정신력', 17590), ('누울수', 17591), ('있도록', 17592), ('건의', 17593), ('견인차', 17594), ('잘가라', 17595), ('ㅊㅎ', 17596), ('위대함', 17597), ('일째에도', 17598), ('우렁찬', 17599), ('야밤', 17600), ('백기들다', 17601), ('인권유린', 17602), ('동조자', 17603), ('독대', 17604), ('밀담', 17605), ('나누었나', 17606), ('김진태의', 17607), ('날라가는', 17608), ('아래엔', 17609), ('테이트와의', 17610), ('결전', 17611), ('박연차', 17612), ('스멜', 17613), ('타임즈에', 17614), ('화제기사화된', 17615), ('라니', 17616), ('제정신인가', 17617), ('만연한데', 17618), ('밥값하라', 17619), ('배째라는', 17620), ('만연한', 17621), ('자기야', 17622), ('멍멍', 17623), ('말세를', 17624), ('고공시위', 17625), ('장애인단체', 17626), ('열다', 17627), ('귀순', 17628), ('정신못차리는', 17629), ('뭐다', 17630), ('허현준이', 17631), ('인권말살', 17632), ('명시', 17633), ('방통위', 17634), ('주권자의', 17635), ('화났다', 17636), ('타겟', 17637), ('초라해진', 17638), ('유사시민', 17639), ('초라한', 17640), ('단체를', 17641), ('누굴', 17642), ('잡동사니', 17643), ('수호신', 17644), ('구현단', 17645), ('초라해졌네', 17646), ('엄정', 17647), ('교감', 17648), ('김상진총장', 17649), ('아들보다', 17650), ('인권말살에', 17651), ('제소', 17652), ('레짐체인지', 17653), ('이합집산', 17654), ('갱수', 17655), ('천인공노', 17656), ('자식만', 17657), ('귀하고', 17658), ('자식은', 17659), ('우든', 17660), ('좌든', 17661), ('중도든', 17662), ('좌', 17663), ('만행에', 17664), ('강제추방', 17665), ('상경', 17666), ('추기경', 17667), ('박홍', 17668), ('가시는', 17669), ('만찬', 17670), ('생쇼', 17671), ('비맞으며', 17672), ('순수성을', 17673), ('오마이에', 17674), ('장관에', 17675), ('가두지', 17676), ('맘이', 17677), ('이경자', 17678), ('개교', 17679), ('교정농단', 17680), ('분탕', 17681), ('차려줘도', 17682), ('이러면서', 17683), ('검경', 17684), ('버닝문', 17685), ('개혁이', 17686), ('독안에', 17687), ('불교는', 17688), ('천주교는', 17689), ('삼면', 17690), ('종교계가', 17691), ('뭉친다', 17692), ('방통위원장', 17693), ('우연인가', 17694), ('억압', 17695), ('쓰나', 17696), ('세금인데', 17697), ('한푼이라도', 17698), ('아껴야지요', 17699), ('고성국', 17700), ('편향이념', 17701), ('북에는', 17702), ('남에는', 17703), ('생긴다', 17704), ('큰걸로', 17705), ('엮어서', 17706), ('시주석', 17707), ('빠질', 17708), ('대예언', 17709), ('박찬주대장의', 17710), ('옳은', 17711), ('교사', 17712), ('단체에', 17713), ('뚫리다', 17714), ('탈환하기', 17715), ('단체간', 17716), ('사수하자', 17717), ('실행', 17718), ('조구기', 17719), ('급소를', 17720), ('표지판이', 17721), ('세워지다', 17722), ('분탕놈', 17723), ('하고는', 17724), ('물려주자', 17725), ('대깨조', 17726), ('가리는', 17727), ('기본예의', 17728), ('확바뀐', 17729), ('소통한다더니', 17730), ('말짱', 17731), ('위헌과', 17732), ('토사구팽', 17733), ('끊기', 17734), ('실행중인', 17735), ('순신간에', 17736), ('노랭이들', 17737), ('초라하다', 17738), ('무대만', 17739), ('좋으면', 17740), ('뭐해', 17741), ('폭망에', 17742), ('매너도', 17743), ('주지누', 17744), ('안민돌', 17745), ('입함부로', 17746), ('입놀리다', 17747), ('생겼네', 17748), ('일삼는', 17749), ('주진우', 17750), ('담당', 17751), ('떨다', 17752), ('그럼에도', 17753), ('최모군', 17754), ('중상모략', 17755), ('해체하라', 17756), ('정철', 17757), ('종석', 17758), ('닥칠것', 17759), ('대모의', 17760), ('근거지가', 17761), ('인권위', 17762), ('아재들이', 17763), ('성남시민을', 17764), ('근거지', 17765), ('이념편향', 17766), ('독도도', 17767), ('비굴하고', 17768), ('경두의', 17769), ('찌질함', 17770), ('정광작', 17771), ('좌인', 17772), ('추위', 17773), ('수녀들께', 17774), ('의견을', 17775), ('부탁하였더니', 17776), ('십여', 17777), ('전교장선생', 17778), ('행태', 17779), ('천주교', 17780), ('전도하라', 17781), ('정의도', 17782), ('부상투혼', 17783), ('방어막', 17784), ('세워', 17785), ('선행', 17786), ('이득본자', 17787), ('숨는자가', 17788), ('엮자는', 17789), ('국개의', 17790), ('군림하며', 17791), ('다스려야', 17792), ('가재', 17793), ('추도', 17794), ('분홍화', 17795), ('장세용', 17796), ('추도묘소에', 17797), ('조화를', 17798), ('업적지우기', 17799), ('갚아줄께', 17800), ('서거', 17801), ('추도식', 17802), ('불꺼지고', 17803), ('겨', 17804), ('추위에', 17805), ('문좌인과', 17806), ('좌국이', 17807), ('인파에', 17808), ('전차선이', 17809), ('지키러', 17810), ('뿔나니까', 17811), ('간대', 17812), ('빚독촉에', 17813), ('늙었나', 17814), ('잘난척', 17815), ('알랑방구', 17816), ('수백만', 17817), ('집결', 17818), ('쫄은', 17819), ('이동식', 17820), ('했네', 17821), ('산더미의', 17822), ('해가니', 17823), ('좌초의', 17824), ('똥볼차는', 17825), ('열심', 17826), ('벌벌', 17827), ('개혁의', 17828), ('모순', 17829), ('지긋지긋한', 17830), ('전학시킨', 17831), ('무리하게', 17832), ('군장악', 17833), ('걸다', 17834), ('편향된', 17835), ('사례와', 17836), ('아우들아', 17837), ('누나들과', 17838), ('다분히', 17839), ('의도성', 17840), ('답을하니', 17841), ('건진것', 17842), ('주저', 17843), ('울었다', 17844), ('유일하게', 17845), ('순수한', 17846), ('보도할지', 17847), ('기각인가', 17848), ('영장실질심사', 17849), ('포토', 17850), ('진단서', 17851), ('고발장', 17852), ('기가차네', 17853), ('허위진단서', 17854), ('오세정', 17855), ('라노', 17856), ('다치지', 17857), ('다치는', 17858), ('없기를', 17859), ('개나발귀', 17860), ('푼수떠는', 17861), ('본질을', 17862), ('김도은', 17863), ('체류를', 17864), ('합법화해', 17865), ('이런취급', 17866), ('난민이', 17867), ('우대', 17868), ('노욕인가', 17869), ('아집인가', 17870), ('예전', 17871), ('구국의', 17872), ('미대사관저', 17873), ('무단난입', 17874), ('소란피운', 17875), ('반미친북', 17876), ('문준용과', 17877), ('문다혜가', 17878), ('일백만', 17879), ('쥑인다', 17880), ('도덕성', 17881), ('인사참사', 17882), ('있냐라고', 17883), ('지들도', 17884), ('감추네', 17885), ('중징계', 17886), ('바미당을', 17887), ('역설', 17888), ('암울케', 17889), ('배승희', 17890), ('곽', 17891), ('신혼여행', 17892), ('잘말아', 17893), ('처드시고', 17894), ('누굽니까', 17895), ('간담을', 17896), ('서늘케하고', 17897), ('플랭', 17898), ('로에', 17899), ('휘날리다', 17900), ('카이님', 17901), ('거둔', 17902), ('촌철', 17903), ('밟을', 17904), ('타오른다', 17905), ('급변사태로', 17906), ('생명', 17907), ('싸다구', 17908), ('확바꾸어라', 17909), ('판결은', 17910), ('파면이', 17911), ('마땅', 17912), ('최서원', 17913), ('바늘', 17914), ('꿰맴', 17915), ('염려', 17916), ('십원', 17917), ('한푼', 17918), ('불꽃쇼', 17919), ('소환조사', 17920), ('노조공화국', 17921), ('온통', 17922), ('청구서', 17923), ('사필귀정', 17924), ('것에', 17925), ('일조', 17926), ('병실', 17927), ('옮긴', 17928), ('신세로', 17929), ('더한', 17930), ('이네', 17931), ('정신감정', 17932), ('아래에는', 17933), ('사퇴로', 17934), ('날라갔고', 17935), ('사퇴한다고', 17936), ('씹은', 17937), ('이때부터', 17938), ('사퇴를', 17939), ('결심하고', 17940), ('불행한', 17941), ('생의', 17942), ('잘좀합시다', 17943), ('위태롭다', 17944), ('윤규근', 17945), ('살길이다', 17946), ('구호에', 17947), ('장소엔', 17948), ('네개', 17949), ('해도해도', 17950), ('치사하고', 17951), ('정체모를', 17952), ('다량의', 17953), ('대나무는', 17954), ('인고', 17955), ('죽창가를', 17956), ('애드벌룬', 17957), ('서초동은', 17958), ('대동단결', 17959), ('완수하라', 17960), ('내란죄로', 17961), ('주었으니', 17962), ('화내시는', 17963), ('천인공노할', 17964), ('각에', 17965), ('이름값', 17966), ('규명에', 17967), ('사죄하라', 17968), ('편향', 17969), ('그후', 17970), ('출마로', 17971), ('진영이', 17972), ('짜놓은', 17973), ('진핑', 17974), ('정은', 17975), ('물밑', 17976), ('다녀와보니', 17977), ('북송시키자', 17978), ('신영복을', 17979), ('침투', 17980), ('진지전', 17981), ('저들의', 17982), ('까라', 17983), ('열기를', 17984), ('서인가', 17985), ('쪼잔한', 17986), ('인파가', 17987), ('델꼬와유', 17988), ('꾀병사기단', 17989), ('조작이라', 17990), ('안명도박사', 17991), ('민생이고', 17992), ('정의고', 17993), ('상식이다', 17994), ('평정심을', 17995), ('잃었나', 17996), ('시위대를', 17997), ('헌병들과', 17998), ('화기', 17999), ('허무는', 18000), ('정통한', 18001), ('소식통에', 18002), ('증거들', 18003), ('차곡', 18004), ('쌓여', 18005), ('보낸다', 18006), ('환경에', 18007), ('굴하지', 18008), ('가는길은', 18009), ('트로', 18010), ('단절', 18011), ('폭우도', 18012), ('못꺽는', 18013), ('꺼져버린', 18014), ('차벽', 18015), ('먹었을까', 18016), ('공로자들', 18017), ('시청하고', 18018), ('보도하라', 18019), ('인원수', 18020), ('축지법', 18021), ('대치한', 18022), ('순국결사대의', 18023), ('영적', 18024), ('수백만의', 18025), ('위원장의', 18026), ('유서를', 18027), ('식과', 18028), ('할건가', 18029), ('단군이래', 18030), ('밤샘', 18031), ('개천절', 18032), ('맥팔랜드', 18033), ('슈나이더', 18034), ('한미보수연합대회', 18035), ('직원엔', 18036), ('분에', 18037), ('출타', 18038), ('지뭐', 18039), ('시위자', 18040), ('원금손실', 18041), ('사기인가', 18042), ('사고인가', 18043), ('서민들', 18044), ('역장성', 18045), ('아프지만', 18046), ('장성을', 18047), ('급박한', 18048), ('초특혜', 18049), ('내란죄는', 18050), ('재임중에도', 18051), ('겁박한', 18052), ('공무집행', 18053), ('경심이는', 18054), ('별이', 18055), ('장군님들과의', 18056), ('장성들도', 18057), ('여운', 18058), ('와해', 18059), ('군복을', 18060), ('결기', 18061), ('반박해봐', 18062), ('반차휴가', 18063), ('힘드네', 18064), ('뒤로', 18065), ('하자는', 18066), ('냅다', 18067), ('부끄럼을', 18068), ('들인가', 18069), ('불시', 18070), ('쌍둥이', 18071), ('권자', 18072), ('석고대죄하라', 18073), ('비극적', 18074), ('양심을', 18075), ('도중에도', 18076), ('동부지검장', 18077), ('부산지검장', 18078), ('아픔', 18079), ('유발', 18080), ('허락구걸', 18081), ('국격추락', 18082), ('최성해총장', 18083), ('웅동', 18084), ('자진출두', 18085), ('채찍', 18086), ('딜', 18087), ('얜', 18088), ('분들도', 18089), ('고생많으시네', 18090), ('안희정', 18091), ('가르쳐주세요', 18092), ('해졌다', 18093), ('주가조작', 18094), ('겨누나', 18095), ('셈법', 18096), ('최다', 18097), ('삼천사백여', 18098), ('석고대죄', 18099), ('겨냥', 18100), ('부를수', 18101), ('생활이야', 18102), ('비꼬아', 18103), ('꼬인', 18104), ('투쟁에', 18105), ('리며', 18106), ('입원', 18107), ('못들겠다', 18108), ('포텐', 18109), ('본부', 18110), ('촌조카', 18111), ('답', 18112), ('김현미', 18113), ('치가', 18114), ('떨린다', 18115), ('남양주', 18116), ('왕숙', 18117), ('주민들의', 18118), ('이들을', 18119), ('궁지로', 18120), ('내모는가', 18121), ('해임을', 18122), ('틱한', 18123), ('철도노조원들', 18124), ('매국노', 18125), ('철도노조', 18126), ('집권후반기', 18127), ('해임건의안', 18128), ('장송곡과', 18129), ('그외', 18130), ('뭐냐며', 18131), ('하소연하네', 18132), ('내리자', 18133), ('정을', 18134), ('들썩인', 18135), ('평등의', 18136), ('일말에', 18137), ('양심이', 18138), ('부총', 18139), ('추해지기', 18140), ('내려오세요', 18141), ('공대생의', 18142), ('어찌할꼬', 18143), ('개에', 18144), ('권들아', 18145), ('땀흘려', 18146), ('일해서', 18147), ('가재가', 18148), ('연루', 18149), ('엮여', 18150), ('발버둥', 18151), ('치느라', 18152), ('칠백만원', 18153), ('한턱', 18154), ('한겨레신문', 18155), ('좌들의', 18156), ('치는데', 18157), ('예산집행은', 18158), ('이셨다', 18159), ('평등', 18160), ('사망선고에', 18161), ('뭉클', 18162), ('장례', 18163), ('이석기', 18164), ('국보법철폐', 18165), ('시위자들', 18166), ('찍', 18167), ('실시', 18168), ('축출사례와', 18169), ('겁대가리', 18170), ('포상줘야', 18171), ('북중러', 18172), ('불꽃싸다구', 18173), ('장관급이상', 18174), ('확언', 18175), ('괴로워도', 18176), ('자들만', 18177), ('동양대총장에게', 18178), ('전화하여', 18179), ('유력인사', 18180), ('동양대총장', 18181), ('보내기', 18182), ('싫을', 18183), ('정도이다', 18184), ('겁니까', 18185), ('지는데', 18186), ('공원에선', 18187), ('분수가', 18188), ('작동', 18189), ('비용절감', 18190), ('십년먹은', 18191), ('채증이', 18192), ('내려가는', 18193), ('위법사항', 18194), ('차고넘쳐', 18195), ('외곽', 18196), ('경호원', 18197), ('강행시', 18198), ('발의하라', 18199), ('투쟁하라', 18200), ('실시하라', 18201), ('오만방자', 18202), ('지명철회', 18203), ('허탈함과', 18204), ('앞장선다', 18205), ('인권보장', 18206), ('쑈', 18207), ('로였다', 18208), ('따끔한', 18209), ('급급한', 18210), ('화물연대', 18211), ('담배', 18212), ('행위는', 18213), ('삼가', 18214), ('공공질서를', 18215), ('블루코어밸류업', 18216), ('신기원에', 18217), ('민들', 18218), ('분향소에', 18219), ('코빼기도', 18220), ('치졸한', 18221), ('분향소는', 18222), ('잘만가더니', 18223), ('라던', 18224), ('왠말인가', 18225), ('뺏지를', 18226), ('사퇴시키고', 18227), ('다중인격', 18228), ('장애인가', 18229), ('무식', 18230), ('건방지고', 18231), ('가증스럽다', 18232), ('겁대가리를', 18233), ('상실했나', 18234), ('폭망해가는', 18235), ('분리해서', 18236), ('출국', 18237), ('고스톱인가', 18238), ('주사들의', 18239), ('스펙타클', 18240), ('팝콘각', 18241), ('나올것임', 18242), ('지들끼리', 18243), ('부르스', 18244), ('폄하', 18245), ('역린을', 18246), ('사죄', 18247), ('큰절', 18248), ('딴판이네', 18249), ('대생들을', 18250), ('적폐로', 18251), ('모는', 18252), ('사퇴시킬', 18253), ('사퇴할때', 18254), ('들겠다', 18255), ('대트', 18256), ('살자고', 18257), ('대항', 18258), ('뒤엎어라', 18259), ('부산파', 18260), ('법대', 18261), ('공동정범을', 18262), ('포토존', 18263), ('사유로', 18264), ('연행될뻔한', 18265), ('합', 18266), ('반미시위자', 18267), ('친미', 18268), ('반미민중', 18269), ('교는', 18270), ('젊음을', 18271), ('자녀들', 18272), ('기회조차', 18273), ('잃게된', 18274), ('선량한', 18275), ('어쩌란', 18276), ('꼴ㅇㅇㅣ다', 18277), ('불통이다', 18278), ('정조', 18279), ('걸그룹', 18280), ('속상한', 18281), ('보시고', 18282), ('탄해소추', 18283), ('반격의', 18284), ('성조기의', 18285), ('박지만', 18286), ('무겁습니다', 18287), ('이제부턴', 18288), ('피켓을', 18289), ('보더니', 18290), ('강남대로', 18291), ('상공을', 18292), ('수놓은', 18293), ('대형현수막', 18294), ('볼텐데', 18295), ('내려오시지', 18296), ('친일', 18297), ('깬다', 18298), ('설민', 18299), ('이태', 18300), ('노조로', 18301), ('노조에', 18302), ('땀을', 18303), ('비오듯', 18304), ('내면서도', 18305), ('달란트로', 18306), ('꾸준함', 18307), ('끈기', 18308), ('미대사관앞', 18309), ('고발하고', 18310), ('대단', 18311), ('아재들', 18312), ('주시다', 18313), ('스피커', 18314), ('비웃던', 18315), ('지들은', 18316), ('미사', 18317), ('민중가요와', 18318), ('아침이슬', 18319), ('남과북', 18320), ('찬송가와', 18321), ('복음성가는', 18322), ('안부르나요', 18323), ('어찌되건', 18324), ('모였다는', 18325), ('레인보우', 18326), ('옹호자', 18327), ('이순신장군님', 18328), ('양승동', 18329), ('뼈아픈', 18330), ('정곡을', 18331), ('나팔수가', 18332), ('되려는가', 18333), ('직원들도', 18334), ('수호하려고', 18335), ('보태는', 18336), ('한분한분이', 18337), ('나빠요', 18338), ('오남매', 18339), ('한분에게', 18340), ('짓인가', 18341), ('국익을', 18342), ('발생한건지', 18343), ('행위가', 18344), ('자신을', 18345), ('돌이켜', 18346), ('되길', 18347), ('자판', 18348), ('깔아', 18349), ('봤더니', 18350), ('소방차와', 18351), ('이기겠다', 18352), ('국내외정세', 18353), ('센터에', 18354), ('천지일보', 18355), ('견제', 18356), ('저널리즘이', 18357), ('폄하하지', 18358), ('도태우', 18359), ('악에받혀', 18360), ('부르르', 18361), ('떨면서', 18362), ('정의구현사제단', 18363), ('대반전에', 18364), ('쏟는', 18365), ('김지', 18366), ('악법과', 18367), ('댓가는', 18368), ('처절하다', 18369), ('성도들께', 18370), ('불교도', 18371), ('총연합', 18372), ('이건호고문', 18373), ('초월', 18374), ('조례안', 18375), ('진행한', 18376), ('재명아', 18377), ('옥분아', 18378), ('양성평등', 18379), ('성평등조례', 18380), ('사진만', 18381), ('대집행은', 18382), ('텐트에만', 18383), ('강제철거', 18384), ('금속노조', 18385), ('민중', 18386), ('전공노', 18387), ('천막촌', 18388), ('내로남불', 18389), ('이중잣대', 18390), ('체구', 18391), ('각자가', 18392), ('역할에', 18393), ('널리', 18394), ('친일파', 18395), ('꼴이', 18396), ('문모씨', 18397), ('같네', 18398), ('그시절', 18399), ('새청사', 18400), ('백은종', 18401), ('상식적', 18402), ('안먹힌다', 18403), ('경과', 18404), ('가의', 18405), ('윤용', 18406), ('안산시에', 18407), ('혜성처럼', 18408), ('동산고', 18409), ('노약자에게', 18410), ('내리면서', 18411), ('주둔', 18412), ('말리니까', 18413), ('해줄테니', 18414), ('오라', 18415), ('본받자', 18416), ('있자니', 18417), ('허파', 18418), ('디비지겠습니다', 18419), ('수호자로', 18420), ('주시길', 18421), ('바랍니다', 18422), ('채울수나', 18423), ('중증', 18424), ('몸값', 18425), ('독도침공', 18426), ('문고리들', 18427), ('붉은', 18428), ('물들인다', 18429), ('수호대연합', 18430), ('영우', 18431), ('전자개표기', 18432), ('성산', 18433), ('상반된', 18434), ('위원님', 18435), ('주십시요', 18436), ('방한이', 18437), ('남긴것', 18438), ('예외가', 18439), ('기필코', 18440), ('나팔수', 18441), ('인민의', 18442), ('수신료', 18443), ('총장이어도', 18444), ('김상진총장은', 18445), ('무죄다', 18446), ('아줌마들이', 18447), ('보호하자', 18448), ('올바', 18449), ('르게', 18450), ('이정도는', 18451), ('부역자들이', 18452), ('퍼질러', 18453), ('시켜서', 18454), ('보수는', 18455), ('김기연', 18456), ('무상급식', 18457), ('이종걸', 18458), ('두리뭉실', 18459), ('박영수', 18460), ('중수부장시절', 18461), ('악연', 18462), ('입힐', 18463), ('가슴에', 18464), ('비수를', 18465), ('꽂는', 18466), ('의길', 18467), ('주동식', 18468), ('해명해봐', 18469), ('이석기빠', 18470), ('기록할', 18471), ('민초들의', 18472), ('레드문', 18473), ('아작내러', 18474), ('못참겠다', 18475), ('레드문에', 18476), ('통나무집', 18477), ('백은종빠', 18478), ('은종창호', 18479), ('살거예요', 18480), ('계승발전시켜', 18481), ('질서유지', 18482), ('자원', 18483), ('공로자들을', 18484), ('개집신세', 18485), ('비오니까', 18486), ('퇴원후', 18487), ('싸지른', 18488), ('치워라', 18489), ('호구냐', 18490), ('남게', 18491), ('만든게', 18492), ('자랑이냐', 18493), ('리블린', 18494), ('허우적', 18495), ('불통인', 18496), ('한수원', 18497), ('가제창', 18498), ('국기에', 18499), ('경례', 18500), ('순국선열', 18501), ('대여', 18502), ('이익을', 18503), ('그자가', 18504), ('중단하라', 18505), ('노조원', 18506), ('한가운데서', 18507), ('하야하라를', 18508), ('한수원노조', 18509), ('정개특위', 18510), ('장악하기', 18511), ('악질적', 18512), ('장악', 18513), ('보궐', 18514), ('이동복전', 18515), ('김상곤', 18516), ('조사하라', 18517), ('위반사례', 18518), ('판례를', 18519), ('결기를', 18520), ('반성과', 18521), ('청원서', 18522), ('뒷통수맞은', 18523), ('철거용역비', 18524), ('사비로', 18525), ('소환에', 18526), ('몰렸나', 18527), ('아재님께', 18528), ('사연을', 18529), ('걸었다', 18530), ('다혜준용', 18531), ('정의롭고', 18532), ('장재원', 18533), ('이동찬', 18534), ('또한번', 18535), ('지난번', 18536), ('강제철거집행', 18537), ('용역', 18538), ('짓밟히고', 18539), ('더렵혀진', 18540), ('치하', 18541), ('실상인가', 18542), ('특히', 18543), ('잘난체', 18544), ('겸손', 18545), ('섬기고', 18546), ('다하자', 18547), ('한미일', 18548), ('와해하려는', 18549), ('층에', 18550), ('흘릴수', 18551), ('따', 18552), ('분들께', 18553), ('고맙다는', 18554), ('아팠다', 18555), ('사과드린다', 18556), ('리더가', 18557), ('가에', 18558), ('심취', 18559), ('눈시울', 18560), ('잡으러', 18561), ('대원들', 18562), ('찬가', 18563), ('뼈속', 18564), ('아재님', 18565), ('안방을', 18566), ('어느때라도', 18567), ('출동대기', 18568), ('가족들도', 18569), ('김사랑씨의', 18570), ('애끓는', 18571), ('문빠', 18572), ('여명', 18573), ('직무', 18574), ('남용', 18575), ('사기쇼', 18576), ('원숭씨', 18577), ('강후', 18578), ('한말씀', 18579), ('대선출마', 18580), ('처량하군', 18581), ('수십번', 18582), ('당해도', 18583), ('마땅하다', 18584), ('기관총', 18585), ('쏠테면', 18586), ('결기와', 18587), ('단장', 18588), ('일취월장', 18589), ('강요죄', 18590), ('배임죄', 18591), ('하였고', 18592), ('민사소송도', 18593), ('낮잠을', 18594), ('잘자는', 18595), ('웃어야할지', 18596), ('야할지', 18597), ('배신하고', 18598), ('내린다', 18599), ('집결하자', 18600), ('할거고', 18601), ('알권리', 18602), ('고발에', 18603), ('성립요건이', 18604), ('아님에도', 18605), ('경호처', 18606), ('비서실', 18607), ('까까까', 18608), ('장사도', 18609), ('성조기', 18610), ('음지', 18611), ('분들로', 18612), ('빛난다', 18613), ('김석우', 18614), ('전차관', 18615), ('내려와라', 18616), ('쪼르르', 18617), ('함축됨', 18618), ('경인선', 18619), ('유엔초전기념비', 18620), ('상식적인가', 18621), ('오산공군기지', 18622), ('뒤죽박죽', 18623), ('생체정보', 18624), ('잔여수명', 18625), ('성명서를', 18626), ('제출한다', 18627), ('생도', 18628), ('묘쇼', 18629), ('조상묘에', 18630), ('박아라', 18631), ('김명환', 18632), ('삐뚤어진', 18633), ('이념에', 18634), ('계실겁니까', 18635), ('자사고', 18636), ('무게는', 18637), ('탁상', 18638), ('표식', 18639), ('알림', 18640), ('토요타', 18641), ('생산방식', 18642), ('막으려는', 18643), ('대형화분', 18644), ('공정잣대', 18645), ('들이대니', 18646), ('줄행랑', 18647), ('명분도', 18648), ('실리도', 18649), ('차별을', 18650), ('저지선도', 18651), ('위태롭습니다', 18652), ('나누겠다는', 18653), ('공비들의', 18654), ('방첩대다', 18655), ('사표설', 18656), ('정체성을', 18657), ('가치정당', 18658), ('박성제', 18659), ('부능선에', 18660), ('선관위', 18661), ('연상시켜', 18662), ('동작을에선', 18663), ('굶겨', 18664), ('퇴물된', 18665), ('이데올로기를', 18666), ('개신교에', 18667), ('마르틴', 18668), ('루터의', 18669), ('탄트', 18670), ('끈질긴', 18671), ('항거불능', 18672), ('막판결집', 18673), ('정통성과', 18674), ('노을에', 18675), ('선동꾼들의', 18676), ('허무하게', 18677), ('나갈건가', 18678), ('묵살하고', 18679), ('침소봉', 18680), ('소신대로', 18681), ('저들은', 18682), ('빨대', 18683), ('꽂은', 18684), ('공황상태의', 18685), ('당지도부', 18686), ('사형선고', 18687), ('김대호가', 18688), ('자초지종', 18689), ('둘레', 18690), ('인권부터', 18691), ('챙길', 18692), ('무리수에', 18693), ('차관의', 18694), ('통렬한', 18695), ('비원', 18696), ('독감유행', 18697), ('성탄절도', 18698), ('작정인가', 18699), ('시속', 18700), ('리부터', 18701), ('비봉', 18702), ('산악', 18703), ('질주한', 18704), ('김신조', 18705), ('석을', 18706), ('제명된', 18707), ('김대호의', 18708), ('노인폄하', 18709), ('노인배려', 18710), ('인종', 18711), ('선동가', 18712), ('제명을', 18713), ('보기를', 18714), ('윤리위', 18715), ('회부', 18716), ('써진', 18717), ('출동을', 18718), ('김신조와', 18719), ('공보물', 18720), ('정통성을', 18721), ('전공학자', 18722), ('사퇴사유라고', 18723), ('이옥남', 18724), ('방역에', 18725), ('한심하다', 18726), ('전문분야인', 18727), ('틀로', 18728), ('다루는', 18729), ('윤덕민', 18730), ('관들의', 18731), ('성명', 18732), ('살립시다', 18733), ('변해가고', 18734), ('율이', 18735), ('남로당의', 18736), ('무장폭동이', 18737), ('민을', 18738), ('모독한', 18739), ('유령들', 18740), ('영웅이다', 18741), ('연대장이', 18742), ('군육군', 18743), ('지원병', 18744), ('미완에', 18745), ('그친', 18746), ('동백림', 18747), ('옥사', 18748), ('정면반박', 18749), ('진은', 18750), ('딸과', 18751), ('적어도', 18752), ('사망에', 18753), ('무장한', 18754), ('장교단', 18755), ('유지할', 18756), ('대구사범', 18757), ('꼴찌의', 18758), ('펜', 18759), ('칼과', 18760), ('싸웠던', 18761), ('이도형', 18762), ('박빙', 18763), ('당락', 18764), ('가를지도', 18765), ('기념사', 18766), ('생명존중의', 18767), ('격상시켜야', 18768), ('재떨이로', 18769), ('내려친', 18770), ('윤이상', 18771), ('회를', 18772), ('배달된', 18773), ('공보물을', 18774), ('지역구는', 18775), ('서청원', 18776), ('예배의', 18777), ('공보물이', 18778), ('겨운', 18779), ('최덕신을', 18780), ('줬을까', 18781), ('열흘간', 18782), ('목회자들', 18783), ('김용민에게', 18784), ('타워를', 18785), ('신격호에게', 18786), ('덮힌', 18787), ('외롭게', 18788), ('드린다', 18789), ('석촌호수', 18790), ('가치를', 18791), ('수호하여', 18792), ('다음세대를', 18793), ('파면한다', 18794), ('대조', 18795), ('퍼붓는', 18796), ('허민', 18797), ('이러다', 18798), ('생이', 18799), ('호언장담할', 18800), ('참패구도가', 18801), ('굳어졌다', 18802), ('천주교인이야', 18803), ('물만', 18804), ('주다', 18805), ('봄꽃의', 18806), ('향연', 18807), ('남산공원의', 18808), ('물레방아', 18809), ('김형욱은', 18810), ('강연', 18811), ('사상적', 18812), ('명료하게', 18813), ('정리하다', 18814), ('전폭적인', 18815), ('보니까', 18816), ('되더라', 18817), ('여의도보다', 18818), ('명소는', 18819), ('현란이를', 18820), ('기에', 18821), ('서지', 18822), ('수양', 18823), ('당대회', 18824), ('논의된', 18825), ('국치일', 18826), ('광폭행보', 18827), ('뭐했나', 18828), ('청주기지', 18829), ('어민북송', 18830), ('위반한', 18831), ('직필', 18832), ('근속', 18833), ('보류', 18834), ('임석진의', 18835), ('회고', 18836), ('강제만', 18837), ('때렸더', 18838), ('지더라', 18839), ('참패한다', 18840), ('도망다니던', 18841), ('김현희가', 18842), ('진범', 18843), ('맞나', 18844), ('최보식이', 18845), ('범민련', 18846), ('사무처장의', 18847), ('사상고백', 18848), ('쟁점', 18849), ('포섭된', 18850), ('경위를', 18851), ('월남참전', 18852), ('반공은', 18853), ('복권', 18854), ('암울한', 18855), ('고위공직자', 18856), ('특권과', 18857), ('원만', 18858), ('최성해', 18859), ('화환을', 18860), ('치워진', 18861), ('화환', 18862), ('벅차오르는', 18863), ('체코', 18864), ('특파원', 18865), ('강변의', 18866), ('개나리', 18867), ('보험', 18868), ('덕분', 18869), ('신고도', 18870), ('묻는다', 18871), ('달님과', 18872), ('샛별의', 18873), ('랑데뷰', 18874), ('우주쇼가', 18875), ('미제사건이라는', 18876), ('박지원', 18877), ('천정배', 18878), ('동지들과', 18879), ('배신과', 18880), ('이탈을', 18881), ('허무한', 18882), ('감이', 18883), ('풍진', 18884), ('만났으니', 18885), ('표어', 18886), ('인이여', 18887), ('땅엔', 18888), ('꽃이요', 18889), ('하늘엔', 18890), ('별이로다', 18891), ('정상배', 18892), ('민정수석의', 18893), ('수임료', 18894), ('돌출적', 18895), ('주자', 18896), ('동양화를', 18897), ('연상키는', 18898), ('지폐에', 18899), ('절제된', 18900), ('돋보였다', 18901), ('신속', 18902), ('뜻', 18903), ('쓴다', 18904), ('고성이', 18905), ('오고간', 18906), ('이석연을', 18907), ('꺾었다', 18908), ('유명해진', 18909), ('사진발', 18910), ('무효를', 18911), ('외치며', 18912), ('야당과', 18913), ('부결시키고', 18914), ('재심의', 18915), ('탈락이', 18916), ('특정인을', 18917), ('쓰라', 18918), ('장담', 18919), ('지역구와', 18920), ('과반', 18921), ('얻겠다', 18922), ('소원을', 18923), ('새삼', 18924), ('주역들이', 18925), ('대단해', 18926), ('광우병사태진압지휘자', 18927), ('컷오프시킨', 18928), ('한강은', 18929), ('설산', 18930), ('시옹성', 18931), ('거두다', 18932), ('번은', 18933), ('불자', 18934), ('페어', 18935), ('오션', 18936), ('무대', 18937), ('로마시대부터', 18938), ('별장지대', 18939), ('지낸', 18940), ('산맥이', 18941), ('병풍처럼', 18942), ('마조레', 18943), ('목뼈', 18944), ('관에', 18945), ('석에', 18946), ('첩보를', 18947), ('간부들을', 18948), ('보냈다', 18949), ('고문의', 18950), ('절호의', 18951), ('잡고도', 18952), ('오명', 18953), ('군을', 18954), ('하다니', 18955), ('조태용', 18956), ('정경희', 18957), ('신념과', 18958), ('의당', 18959), ('원내', 18960), ('진출시키는', 18961), ('속셈을', 18962), ('신경쓰지', 18963), ('고궁', 18964), ('살구나무', 18965), ('느티나무', 18966), ('쳐다보자', 18967), ('주먹만한', 18968), ('샛별이', 18969), ('기다린다', 18970), ('판다고요', 18971), ('구걸하지', 18972), ('월남파병', 18973), ('옹호', 18974), ('김의겸', 18975), ('권언', 18976), ('유착의', 18977), ('상징이', 18978), ('저렴하게', 18979), ('팬덤', 18980), ('망상', 18981), ('실현시켜', 18982), ('정당을', 18983), ('자작', 18984), ('해내다', 18985), ('공병호의', 18986), ('광우병', 18987), ('지휘자', 18988), ('경선에도', 18989), ('붙이지', 18990), ('충고', 18991), ('기록하며', 18992), ('씨와', 18993), ('심야', 18994), ('첩보', 18995), ('포용력', 18996), ('극단적이지', 18997), ('정보부', 18998), ('비대화', 18999), ('시절의', 19000), ('창가', 19001), ('프랑크푸르트', 19002), ('유라시아를', 19003), ('가로질렀다', 19004), ('소득분배', 19005), ('청중의', 19006), ('틀려요', 19007), ('선배라고', 19008), ('공손하게', 19009), ('안한다고', 19010), ('공적은', 19011), ('빈곤', 19012), ('패다', 19013), ('공병호를', 19014), ('지도력', 19015), ('숨돌렸다', 19016), ('부결되자', 19017), ('맑은', 19018), ('도심에', 19019), ('부는', 19020), ('바람', 19021), ('쏜', 19022), ('조원은', 19023), ('흘러도', 19024), ('갈지도', 19025), ('유세장을', 19026), ('공천탈락에', 19027), ('배신감을', 19028), ('토로', 19029), ('동요', 19030), ('낮고', 19031), ('스위스가', 19032), ('신참', 19033), ('뤼브케', 19034), ('춥지', 19035), ('텐데', 19036), ('위조증명서로', 19037), ('입시', 19038), ('잡범', 19039), ('사망률이', 19040), ('높고', 19041), ('배신자여', 19042), ('트롯과', 19043), ('음치', 19044), ('언젠가는', 19045), ('인물이다', 19046), ('바꾸다', 19047), ('문명사적', 19048), ('위축', 19049), ('도둑질', 19050), ('도둑놈', 19051), ('지역구에', 19052), ('조직력에', 19053), ('우세', 19054), ('쾌도난마', 19055), ('노예생활', 19056), ('강요당', 19057), ('꼴로', 19058), ('고려했지만', 19059), ('인물난', 19060), ('시점의', 19061), ('냉정한', 19062), ('강남병공천파동', 19063), ('내막', 19064), ('낙하산공천', 19065), ('원로', 19066), ('김세연에게', 19067), ('마신', 19068), ('우물에', 19069), ('뱉지는', 19070), ('말게나', 19071), ('부린당', 19072), ('목포는내꺼당', 19073), ('도피당', 19074), ('바쳤당', 19075), ('텅', 19076), ('경복궁', 19077), ('근정전', 19078), ('경회루', 19079), ('독차지', 19080), ('안동에', 19081), ('거취를', 19082), ('나쁘다면', 19083), ('바라오', 19084), ('본진과', 19085), ('모이면', 19086), ('강남병', 19087), ('공천에', 19088), ('전격사퇴', 19089), ('조선을', 19090), ('위정척사파의', 19091), ('답보상태', 19092), ('집권여당의', 19093), ('살포', 19094), ('기재부', 19095), ('막료들의', 19096), ('팽창', 19097), ('정구영', 19098), ('행세', 19099), ('강남공천은', 19100), ('지켜냈다', 19101), ('반문', 19102), ('셋째', 19103), ('형부패', 19104), ('글쎄요', 19105), ('양성된', 19106), ('미인들', 19107), ('며칠째', 19108), ('수호당', 19109), ('깨시민연대당', 19110), ('출현', 19111), ('전격제안', 19112), ('정당끼리', 19113), ('합치고', 19114), ('앞장섰던', 19115), ('권성동', 19116), ('배제', 19117), ('추대', 19118), ('내습', 19119), ('대구가', 19120), ('북인가', 19121), ('지역이니', 19122), ('봄비가', 19123), ('내어준', 19124), ('방이', 19125), ('정이', 19126), ('하자도', 19127), ('모욕주나', 19128), ('개정안에', 19129), ('공들이는', 19130), ('빨랐다', 19131), ('육박전', 19132), ('재떨이', 19133), ('보수도', 19134), ('백범기념사업협희장', 19135), ('김구', 19136), ('북벽', 19137), ('분간', 19138), ('명소', 19139), ('자락길의', 19140), ('교양이', 19141), ('약칭', 19142), ('사천', 19143), ('물자로', 19144), ('비축할', 19145), ('아껴', 19146), ('역경을', 19147), ('강적', 19148), ('든은', 19149), ('생전엔', 19150), ('이루더라도', 19151), ('실향민이', 19152), ('세웠다면', 19153), ('민은', 19154), ('안찬일', 19155), ('가정교사', 19156), ('이병철', 19157), ('후진성', 19158), ('탈피의', 19159), ('지름길은', 19160), ('공업화뿐', 19161), ('수호와', 19162), ('계십니까', 19163), ('고향이', 19164), ('저곳에', 19165), ('김성민', 19166), ('조치를', 19167), ('알았다니', 19168), ('문닫는', 19169), ('업체', 19170), ('의욕', 19171), ('낮다', 19172), ('박수를', 19173), ('소박한', 19174), ('미안', 19175), ('똥이나', 19176), ('김두한', 19177), ('얼어붙을', 19178), ('해경청장에게', 19179), ('혐의가', 19180), ('내각은', 19181), ('생산량', 19182), ('줄여야', 19183), ('표독한', 19184), ('김여정은', 19185), ('활달한', 19186), ('씨가', 19187), ('결벽증이', 19188), ('댔다', 19189), ('법인허가를', 19190), ('슬며시', 19191), ('두렵나', 19192), ('저질러', 19193), ('무능위선독선', 19194), ('뭉쳐야', 19195), ('스탈린의', 19196), ('소련군을', 19197), ('실수였다', 19198), ('경험하지', 19199), ('복합', 19200), ('찬사', 19201), ('울리는', 19202), ('노려보던', 19203), ('약소국', 19204), ('눈동자를', 19205), ('오원철', 19206), ('충성과', 19207), ('타부를', 19208), ('깬', 19209), ('책이', 19210), ('놈의', 19211), ('탓탓탓', 19212), ('지긋지긋', 19213), ('낙조', 19214), ('이병철과', 19215), ('이맹희의', 19216), ('사카린', 19217), ('밀수는', 19218), ('빙산의', 19219), ('일각', 19220), ('이었나', 19221), ('집요한', 19222), ('비방', 19223), ('예배를', 19224), ('막으라니까', 19225), ('대구나', 19226), ('굴종하다', 19227), ('벗긴', 19228), ('종족', 19229), ('굴종은', 19230), ('신념가임을', 19231), ('의심케', 19232), ('운석열', 19233), ('일제', 19234), ('악독하고', 19235), ('비굴하다', 19236), ('황당무계한', 19237), ('법의식', 19238), ('고의에', 19239), ('이후락', 19240), ('측근의', 19241), ('모집을', 19242), ('눈감아', 19243), ('비참하게', 19244), ('때와', 19245), ('무리수를', 19246), ('류근일', 19247), ('유투브', 19248), ('없었으면', 19249), ('치러지는', 19250), ('리턴매치', 19251), ('토순이의', 19252), ('개신교', 19253), ('수퍼전파자', 19254), ('문열어준', 19255), ('선장을', 19256), ('닮아간다', 19257), ('지언정', 19258), ('패륜아로', 19259), ('사대', 19260), ('패륜아', 19261), ('규가', 19262), ('사형집행', 19263), ('삼키나', 19264), ('유능', 19265), ('재앙엔', 19266), ('이해바람', 19267), ('부흥에', 19268), ('해낸', 19269), ('무식한', 19270), ('오르고', 19271), ('정통보수가', 19272), ('구도에', 19273), ('비디오', 19274), ('르포', 19275), ('숨죽인', 19276), ('도심을', 19277), ('보이니', 19278), ('전범', 19279), ('김원봉이', 19280), ('세종대', 19281), ('염장지르는', 19282), ('닷컴', 19283), ('도서', 19284), ('중단시켜야', 19285), ('푸대접은', 19286), ('대가를', 19287), ('적부심', 19288), ('풀려나지', 19289), ('통제불능', 19290), ('야외', 19291), ('예배는', 19292), ('관례대로', 19293), ('아부하다', 19294), ('생명을', 19295), ('악용', 19296), ('면하려', 19297), ('우익', 19298), ('고다마', 19299), ('김종필', 19300), ('강행이냐', 19301), ('고뇌', 19302), ('청원에', 19303), ('호응', 19304), ('시민에게', 19305), ('만원씩', 19306), ('중에도', 19307), ('차례나', 19308), ('몰라본', 19309), ('주막집', 19310), ('주모', 19311), ('새까맣고', 19312), ('크노', 19313), ('장관은', 19314), ('여행중', 19315), ('부모는', 19316), ('것인', 19317), ('권리가', 19318), ('인류애로', 19319), ('들이자', 19320), ('영장발부', 19321), ('야비하게', 19322), ('험담하더니', 19323), ('고영일', 19324), ('삼양식품', 19325), ('사장에게', 19326), ('전화한', 19327), ('고춧가루를', 19328), ('도주', 19329), ('재앙을', 19330), ('쇠몽둥이질', 19331), ('만듭니다', 19332), ('빈센트', 19333), ('고흐', 19334), ('지켜주려고', 19335), ('피흘린', 19336), ('장병', 19337), ('경의를', 19338), ('편들고', 19339), ('오더라도', 19340), ('바라보니', 19341), ('꼴이다', 19342), ('교민의', 19343), ('호피를', 19344), ('밟으실', 19345), ('선동을', 19346), ('손들다', 19347), ('싸늘', 19348), ('편든', 19349), ('맹타한', 19350), ('돌려보냈다', 19351), ('밀폐된', 19352), ('공간은', 19353), ('무대책인', 19354), ('의학을', 19355), ('알긴', 19356), ('생명보다', 19357), ('파안대소', 19358), ('땐가', 19359), ('단서', 19360), ('간부들이', 19361), ('수표의', 19362), ('기막힌', 19363), ('쪽인가', 19364), ('폭증', 19365), ('조간', 19366), ('사진의', 19367), ('여사를', 19368), ('이동복', 19369), ('기도', 19370), ('방첩기관', 19371), ('간첩을', 19372), ('황성준', 19373), ('출발해', 19374), ('나치당이', 19375), ('이상우', 19376), ('국립묘지와', 19377), ('사당의', 19378), ('하기를', 19379), ('간절히', 19380), ('기도하고', 19381), ('수갑채우겠다는', 19382), ('친북', 19383), ('공작을', 19384), ('각성시키자', 19385), ('제성호', 19386), ('기지를', 19387), ('이름값을', 19388), ('비겁하지', 19389), ('잔설', 19390), ('남았는가', 19391), ('전자파', 19392), ('전자기기', 19393), ('군벌의', 19394), ('나가나', 19395), ('시위대', 19396), ('병력', 19397), ('나르는', 19398), ('사드부대', 19399), ('정상화하라', 19400), ('상습적', 19401), ('황윤덕', 19402), ('잘쓴', 19403), ('사실과', 19404), ('제작소', 19405), ('시절에', 19406), ('무시된', 19407), ('음악회', 19408), ('유동열', 19409), ('준전시', 19410), ('상태와', 19411), ('매진', 19412), ('년대', 19413), ('수표', 19414), ('친인척이', 19415), ('이권', 19416), ('챙긴다는', 19417), ('할복자살', 19418), ('빠들', 19419), ('소통방식', 19420), ('돕기', 19421), ('개입할', 19422), ('명운을', 19423), ('공화', 19424), ('공정의', 19425), ('실현하고', 19426), ('후벼파는', 19427), ('선율', 19428), ('부상자', 19429), ('포로는', 19430), ('무법왕', 19431), ('삼다', 19432), ('신념은', 19433), ('무기는', 19434), ('주적은', 19435), ('항해', 19436), ('유일의', 19437), ('지상군', 19438), ('이회창', 19439), ('식인', 19440), ('비유하다', 19441), ('냈듯', 19442), ('영감에게', 19443), ('밉보였어', 19444), ('갉아', 19445), ('박선영', 19446), ('해방', 19447), ('인권유린한', 19448), ('제물로', 19449), ('바치다니', 19450), ('흥겨운', 19451), ('헝가리', 19452), ('무곡', 19453), ('상습적인', 19454), ('내리는데', 19455), ('감미로운', 19456), ('머나먼', 19457), ('집시', 19458), ('만악', 19459), ('근원', 19460), ('퇴치법', 19461), ('머지', 19462), ('도심의', 19463), ('명암', 19464), ('공원과', 19465), ('담배꽁초', 19466), ('자극제다', 19467), ('아부대상이', 19468), ('대상', 19469), ('부산에선', 19470), ('자지', 19471), ('가입안내', 19472), ('대소동', 19473), ('정홍원에게', 19474), ('답하라', 19475), ('채워야', 19476), ('책자로', 19477), ('공부하게', 19478), ('놔둘', 19479), ('조카사위', 19480), ('김종필의', 19481), ('숙명적', 19482), ('어제는', 19483), ('왼종일', 19484), ('선전물로', 19485), ('부장관을', 19486), ('혐의로', 19487), ('미신당', 19488), ('성창호', 19489), ('무죄선고', 19490), ('자백하라', 19491), ('주범임을', 19492), ('중공군에', 19493), ('전멸할', 19494), ('샤', 19495), ('김종필에게', 19496), ('돈과', 19497), ('개입하지', 19498), ('이성', 19499), ('윤리', 19500), ('쟁점이', 19501), ('중앙이', 19502), ('부대로', 19503), ('노크라트였다', 19504), ('오만', 19505), ('이토록', 19506), ('피흘리지', 19507), ('편을', 19508), ('해방시켜야', 19509), ('띄우는', 19510), ('따를까', 19511), ('시상식장을', 19512), ('봉준호의', 19513), ('유머', 19514), ('시네마', 19515), ('꿈이', 19516), ('이뤄졌다', 19517), ('다니나', 19518), ('맹비난', 19519), ('제도', 19520), ('처우를', 19521), ('나와야', 19522), ('규는', 19523), ('쏘았나', 19524), ('영토인', 19525), ('전체에', 19526), ('일기예보를', 19527), ('않나', 19528), ('펼쳐진다', 19529), ('한반', 19530), ('문가', 19531), ('니시오카', 19532), ('두렵지', 19533), ('조폭', 19534), ('취직', 19535), ('데모꾼', 19536), ('보도한', 19537), ('정보원', 19538), ('색출한답시고', 19539), ('애먼', 19540), ('들들', 19541), ('고아들을', 19542), ('성난', 19543), ('재고가', 19544), ('넉넉하다는데', 19545), ('이주', 19546), ('이득과', 19547), ('실리와', 19548), ('명분을', 19549), ('고루', 19550), ('파병', 19551), ('고급정보를', 19552), ('신속하게', 19553), ('경은', 19554), ('반역자를', 19555), ('가려다가', 19556), ('자초', 19557), ('장경순의', 19558), ('알린', 19559), ('사실은폐', 19560), ('개명', 19561), ('신장개업', 19562), ('맹호부대', 19563), ('환송식', 19564), ('받던', 19565), ('바보되다', 19566), ('진눈개비', 19567), ('맞으며', 19568), ('밤길', 19569), ('눈송이는', 19570), ('참새는', 19571), ('깔려', 19572), ('조선총독', 19573), ('기소장', 19574), ('할지도', 19575), ('몰지각한', 19576), ('버릇과', 19577), ('철부지', 19578), ('강을', 19579), ('건너려다가는', 19580), ('집토끼는', 19581), ('가출하고', 19582), ('정홍원', 19583), ('야합이', 19584), ('비자발급중단', 19585), ('번복', 19586), ('투사를', 19587), ('보내자', 19588), ('이적행위', 19589), ('중단하든지', 19590), ('불응', 19591), ('피맺힌', 19592), ('신문을', 19593), ('팔기', 19594), ('콩을', 19595), ('팥이라', 19596), ('본질은', 19597), ('수호자', 19598), ('대리전이다', 19599), ('합쳐야', 19600), ('한해에', 19601), ('시각에', 19602), ('모였을까', 19603), ('이기다', 19604), ('당으론', 19605), ('필패다', 19606), ('짓자', 19607), ('박태우', 19608), ('최인식', 19609), ('나아가는', 19610), ('고민하자', 19611), ('파가', 19612), ('단결시키겠다는', 19613), ('빠는', 19614), ('공정이고', 19615), ('정의다', 19616), ('양대', 19617), ('피의자', 19618), ('신분', 19619), ('만장일치로', 19620), ('흐리멍텅한', 19621), ('공짜복지로', 19622), ('얹나', 19623), ('합참차장의', 19624), ('무사할', 19625), ('읽을수록', 19626), ('용솟음', 19627), ('노예근성을', 19628), ('강령의', 19629), ('정일권', 19630), ('총리를', 19631), ('독설', 19632), ('숭고한', 19633), ('건전한', 19634), ('등쳐', 19635), ('피난민', 19636), ('파괴의', 19637), ('혐의자가', 19638), ('들먹이며', 19639), ('적반하장식', 19640), ('짧지만', 19641), ('수명을', 19642), ('단축시키고', 19643), ('호북', 19644), ('유서', 19645), ('보험수혜자', 19646), ('지정하라', 19647), ('욱', 19648), ('조강지처', 19649), ('첩도', 19650), ('잡겠다는', 19651), ('전두환은', 19652), ('내리지', 19653), ('파면하고', 19654), ('선관위의', 19655), ('중립성을', 19656), ('사령탑', 19657), ('상의', 19658), ('이재춘', 19659), ('줄엔', 19660), ('보조자일이', 19661), ('신당이란', 19662), ('단일화란', 19663), ('융합', 19664), ('감게', 19665), ('필패', 19666), ('박지원이', 19667), ('가선', 19668), ('이루자', 19669), ('패싱', 19670), ('기초자', 19671), ('제퍼슨', 19672), ('몬티첼로', 19673), ('품고', 19674), ('여공들', 19675), ('명칭', 19676), ('몽골기마군', 19677), ('해치우고', 19678), ('이념적', 19679), ('배신자와', 19680), ('부족하다는', 19681), ('핑계만', 19682), ('정당이', 19683), ('패밀리', 19684), ('손대면', 19685), ('트롯', 19686), ('열창', 19687), ('만은', 19688), ('칼기', 19689), ('실종이냐', 19690), ('발작인가', 19691), ('아무개와는', 19692), ('야권', 19693), ('가냘픈', 19694), ('처녀들의', 19695), ('가자고', 19696), ('울려', 19697), ('퍼진', 19698), ('나이가', 19699), ('어때서', 19700), ('전우야', 19701), ('잘자라', 19702), ('확장인가', 19703), ('가정을', 19704), ('이단', 19705), ('나길', 19706), ('식히는', 19707), ('레만호', 19708), ('멀', 19709), ('킹덤', 19710), ('망라한', 19711), ('이병철의', 19712), ('부려', 19713), ('부강하게', 19714), ('기린은', 19715), ('식사에', 19716), ('사자는', 19717), ('취침중', 19718), ('전두환', 19719), ('계엄령을', 19720), ('잡범이', 19721), ('신데렐라성', 19722), ('엘사', 19723), ('라운', 19724), ('새문안', 19725), ('층이', 19726), ('선유도의', 19727), ('연령제한을', 19728), ('이순임', 19729), ('부하', 19730), ('좀스러운', 19731), ('오자', 19732), ('구로공단', 19733), ('가발', 19734), ('세고', 19735), ('미술관에', 19736), ('총독이면', 19737), ('고종인가', 19738), ('심동보', 19739), ('지검장', 19740), ('부패', 19741), ('덮으려', 19742), ('난도질', 19743), ('감옥행', 19744), ('간주', 19745), ('전투중이다', 19746), ('주된', 19747), ('하다는', 19748), ('느꼈다', 19749), ('쇼킹', 19750), ('골수보수층', 19751), ('듣다니', 19752), ('정운천', 19753), ('공동개최라는', 19754), ('쇼쇼쇼', 19755), ('전옥현', 19756), ('반역자', 19757), ('내릴', 19758), ('영장에', 19759), ('복종하라', 19760), ('동료들', 19761), ('알리기', 19762), ('국군포로', 19763), ('사형을', 19764), ('암덩어리가', 19765), ('악의', 19766), ('피었다', 19767), ('공동개최', 19768), ('구상을', 19769), ('조롱하다', 19770), ('가져가고', 19771), ('숲이야', 19772), ('자주국방의지', 19773), ('굶주린', 19774), ('늑대', 19775), ('되고말았다', 19776), ('빨갱이', 19777), ('새빨간', 19778), ('핵을', 19779), ('힘얻는', 19780), ('침몰시키나', 19781), ('기술연구소', 19782), ('편이다', 19783), ('몸주고', 19784), ('인질로', 19785), ('바치려는', 19786), ('상갓집', 19787), ('항명', 19788), ('졌나', 19789), ('공산당과', 19790), ('국어', 19791), ('굳건이', 19792), ('분은', 19793), ('가져온', 19794), ('골칫', 19795), ('추는', 19796), ('결례를', 19797), ('범하다', 19798), ('편드는', 19799), ('상관에게', 19800), ('신격호', 19801), ('대화를', 19802), ('진행중이다', 19803), ('도부를', 19804), ('겨누는', 19805), ('참수부대', 19806), ('길목', 19807), ('장모', 19808), ('오보였다', 19809), ('성제준', 19810), ('팩맨', 19811), ('얘기도', 19812), ('주범은', 19813), ('대리인이다', 19814), ('오전', 19815), ('폭설', 19816), ('좌절시킬', 19817), ('독살하고', 19818), ('타살하고', 19819), ('이석복', 19820), ('정교모', 19821), ('월성', 19822), ('호기', 19823), ('술책', 19824), ('핵무', 19825), ('장하고', 19826), ('파기시키자', 19827), ('인사보안', 19828), ('중대사다', 19829), ('합류하기로', 19830), ('철면피', 19831), ('공문', 19832), ('보냈다가', 19833), ('반발에', 19834), ('짖어도', 19835), ('기차는', 19836), ('닭의', 19837), ('비틀어도', 19838), ('전기값', 19839), ('오르는', 19840), ('전기가', 19841), ('이병령', 19842), ('이희성', 19843), ('원자력발전본부장', 19844), ('논리는', 19845), ('해전', 19846), ('문명', 19847), ('의존하다', 19848), ('키웠다', 19849), ('정체를', 19850), ('레닌', 19851), ('임무는', 19852), ('정신에', 19853), ('결부시키는', 19854), ('동문회가', 19855), ('서훈', 19856), ('정의용', 19857), ('경남고', 19858), ('지성', 19859), ('봉건적', 19860), ('거역하라', 19861), ('대상자다', 19862), ('공직자', 19863), ('국교정상화의', 19864), ('구가', 19865), ('몰상식', 19866), ('구하려다가', 19867), ('고초당했나', 19868), ('건다던', 19869), ('배신자', 19870), ('소꿉', 19871), ('부정에', 19872), ('망설이면', 19873), ('찍으면', 19874), ('민이', 19875), ('머저리들이', 19876), ('벡스코', 19877), ('기도회', 19878), ('중동은', 19879), ('얕', 19880), ('천영우', 19881), ('호응한', 19882), ('이라크에선', 19883), ('식민통치에', 19884), ('몽둥이', 19885), ('뿌린', 19886), ('침입죄', 19887), ('입건한', 19888), ('고초', 19889), ('유엔묘지', 19890), ('바쳐', 19891), ('지켜주었더니', 19892), ('사기다', 19893), ('육중한', 19894), ('배짱', 19895), ('날리면', 19896), ('날리는대로', 19897), ('다할', 19898), ('교복을', 19899), ('입어', 19900), ('총장을', 19901), ('가짜개혁', 19902), ('똘똘', 19903), ('단죄하자', 19904), ('척결하라', 19905), ('요소를', 19906), ('갖추자', 19907), ('붐비는', 19908), ('할슈타트', 19909), ('유익한', 19910), ('도서관을', 19911), ('여는', 19912), ('열쇠를', 19913), ('정의용을', 19914), ('조롱한', 19915), ('담화는', 19916), ('맨정신', 19917), ('연간', 19918), ('수출액', 19919), ('노선의', 19920), ('채영문', 19921), ('시위가', 19922), ('지성인들의', 19923), ('대상자가', 19924), ('바꿔버린', 19925), ('죄들이', 19926), ('많기에', 19927), ('겁내나', 19928), ('누웠다가도', 19929), ('민항기', 19930), ('격추시켰다', 19931), ('나다니지', 19932), ('좋겠다', 19933), ('화보상금을', 19934), ('회수하자', 19935), ('총장이', 19936), ('갑질', 19937), ('비아냥', 19938), ('국법을', 19939), ('였으나', 19940), ('자체였다', 19941), ('총공세', 19942), ('거역한', 19943), ('징계', 19944), ('내편', 19945), ('변협', 19946), ('새장에', 19947), ('마이웨이', 19948), ('퍼주겠다니', 19949), ('원유가', 19950), ('꾀는', 19951), ('엮이는', 19952), ('인사학살', 19953), ('죄로', 19954), ('고뇌에', 19955), ('여객기', 19956), ('적기로', 19957), ('오판한듯', 19958), ('살길', 19959), ('헤매다가', 19960), ('꾀를', 19961), ('코너로', 19962), ('차장의', 19963), ('간다는데', 19964), ('있으란', 19965), ('예언하다', 19966), ('뽑자', 19967), ('간부들은', 19968), ('조성한', 19969), ('한동훈', 19970), ('부장을', 19971), ('부산고검', 19972), ('차장', 19973), ('좌천', 19974), ('벗으란', 19975), ('수요일의', 19976), ('수모를', 19977), ('믿어', 19978), ('장년들', 19979), ('탁구', 19980), ('역도', 19981), ('빼버린', 19982), ('부정입학', 19983), ('허위문서만', 19984), ('건이', 19985), ('파독', 19986), ('광부와', 19987), ('간호원을', 19988), ('흘리다', 19989), ('권총', 19990), ('빼들고', 19991), ('위협한', 19992), ('처를', 19993), ('쥔', 19994), ('거악', 19995), ('물리친다', 19996), ('중동을', 19997), ('이란제국', 19998), ('선봉', 19999), ('수비대', 20000), ('멋지게', 20001), ('늙는', 20002), ('의자처럼', 20003), ('닳고', 20004), ('문화시설', 20005), ('노예의', 20006), ('맹세', 20007), ('일편단심', 20008), ('울산부정', 20009), ('덮는다', 20010), ('재건을', 20011), ('쓰겠다', 20012), ('막았다', 20013), ('홀연히', 20014), ('일단의', 20015), ('외쳐', 20016), ('전두환을', 20017), ('학대', 20018), ('연가시', 20019), ('생태론적', 20020), ('공통점', 20021), ('이란이', 20022), ('이라야', 20023), ('가난한', 20024), ('초라하고', 20025), ('가엾어', 20026), ('보였다', 20027), ('부정행위다', 20028), ('연대는', 20029), ('드론이면', 20030), ('죽일', 20031), ('차려라', 20032), ('작아지는', 20033), ('끝난다', 20034), ('이란에', 20035), ('이란을', 20036), ('건드렸나', 20037), ('수단이', 20038), ('진면목을', 20039), ('예산안', 20040), ('자식', 20041), ('빚쟁이', 20042), ('음을', 20043), ('알았다', 20044), ('죗값', 20045), ('치르게', 20046), ('곁', 20047), ('떨', 20048), ('수도원을', 20049), ('계엄령', 20050), ('추인과', 20051), ('내각', 20052), ('의결', 20053), ('구도의', 20054), ('격변', 20055), ('전희경의', 20056), ('금요', 20057), ('이꼴', 20058), ('막고보자', 20059), ('읽고', 20060), ('출마할', 20061), ('인사권', 20062), ('호락호락', 20063), ('않다', 20064), ('장군을', 20065), ('폭사', 20066), ('종이', 20067), ('순국결사대가', 20068), ('여객기에', 20069), ('승객들과', 20070), ('합승해', 20071), ('서독에', 20072), ('깨울', 20073), ('구호를', 20074), ('준이', 20075), ('노무현처럼', 20076), ('중러의', 20077), ('부결시킬', 20078), ('도우미', 20079), ('표변하다', 20080), ('맥이', 20081), ('풀린다', 20082), ('실질심사', 20083), ('곤의', 20084), ('열도', 20085), ('기초적', 20086), ('파악도', 20087), ('심사를', 20088), ('주시한다', 20089), ('달력이', 20090), ('바뀐다고', 20091), ('닛산', 20092), ('레바논에', 20093), ('착륙', 20094), ('아베를', 20095), ('인사말도', 20096), ('들여다보며', 20097), ('일장', 20098), ('이끈', 20099), ('의리를', 20100), ('일으켰다', 20101), ('부재', 20102), ('비명만', 20103), ('원천', 20104), ('조직인', 20105), ('의장을', 20106), ('한기총의', 20107), ('차우셰스쿠', 20108), ('월남의', 20109), ('밀다', 20110), ('빼라', 20111), ('동문은', 20112), ('견제하라고', 20113), ('표결', 20114), ('뭉개면', 20115), ('길은', 20116), ('사죄로', 20117), ('저희들은', 20118), ('말썽만', 20119), ('부리니', 20120), ('의리', 20121), ('냉담', 20122), ('인권유린에', 20123), ('퍼나릅시다', 20124), ('당은', 20125), ('기각사유도', 20126), ('게으른', 20127), ('차디찬', 20128), ('반군', 20129), ('박찬주와', 20130), ('기무사', 20131), ('인권센터', 20132), ('소장에게', 20133), ('내렸다', 20134), ('장도영', 20135), ('수도원', 20136), ('신청은', 20137), ('순교정신', 20138), ('양승태', 20139), ('추악한', 20140), ('더럽혔다', 20141), ('꾀', 20142), ('푸른기와', 20143), ('퇴임', 20144), ('있으려면', 20145), ('보복에', 20146), ('나서는', 20147), ('천조의', 20148), ('조도', 20149), ('고려', 20150), ('설계한', 20151), ('행위를', 20152), ('구경만', 20153), ('하려는가', 20154), ('화제의', 20155), ('이수영', 20156), ('문닫아야', 20157), ('시도하려는', 20158), ('스무살', 20159), ('설레고', 20160), ('임재범급', 20161), ('오정태', 20162), ('역풍이', 20163), ('신랑', 20164), ('김경진의', 20165), ('홍진영과', 20166), ('나야나', 20167), ('하거나', 20168), ('거나', 20169), ('아슬아슬한', 20170), ('여소야대', 20171), ('애절할', 20172), ('일인가요', 20173), ('퀸', 20174), ('김양의', 20175), ('아찔함', 20176), ('이구나', 20177), ('년사', 20178), ('척도다', 20179), ('민생당을', 20180), ('백전노장', 20181), ('김태균의', 20182), ('쫑디가', 20183), ('안할거야', 20184), ('강다니엘과', 20185), ('너야', 20186), ('설렘', 20187), ('당합당', 20188), ('히트다', 20189), ('히트', 20190), ('안긴대전', 20191), ('문상훈', 20192), ('이영표가', 20193), ('달렸습니다', 20194), ('랜선', 20195), ('간담회', 20196), ('요정이', 20197), ('송을', 20198), ('이채윤의', 20199), ('공약들', 20200), ('경희대', 20201), ('춤출래', 20202), ('갬성인가요', 20203), ('안무', 20204), ('김진애의', 20205), ('맵고', 20206), ('노잼인', 20207), ('효능감은', 20208), ('송은이가', 20209), ('크롭티', 20210), ('윤정', 20211), ('오리무중', 20212), ('표심', 20213), ('천기누설', 20214), ('제아의', 20215), ('카다', 20216), ('광풍테너', 20217), ('조민규와', 20218), ('털기', 20219), ('해법을', 20220), ('신지는', 20221), ('거라는', 20222), ('정당변천사', 20223), ('표심의', 20224), ('향배는', 20225), ('세우는', 20226), ('이수정', 20227), ('크레용팝', 20228), ('후뢰시맨', 20229), ('춤신춤왕', 20230), ('외대', 20231), ('참신함이', 20232), ('도비는', 20233), ('표댄', 20234), ('레디', 20235), ('춘다고', 20236), ('신나자냐', 20237), ('독주에', 20238), ('더불어시민당이', 20239), ('췄다', 20240), ('인싸들이', 20241), ('개콘', 20242), ('송준근', 20243), ('지리', 20244), ('문쌤', 20245), ('출마하다', 20246), ('정우성이', 20247), ('묻습니다', 20248), ('시죠', 20249), ('가봄', 20250), ('신도시로', 20251), ('해둔', 20252), ('겠니', 20253), ('동래파전도', 20254), ('가실게요', 20255), ('공천이', 20256), ('경남의', 20257), ('표심을', 20258), ('마흔', 20259), ('긋는', 20260), ('공약이', 20261), ('개나', 20262), ('몇개나', 20263), ('건질까요', 20264), ('무능해요', 20265), ('퍼줬다고', 20266), ('반박해', 20267), ('말다툼한', 20268), ('홍현희의', 20269), ('흥과', 20270), ('제이쓴의', 20271), ('끼가', 20272), ('홍쓴부부의', 20273), ('꿍', 20274), ('사태를', 20275), ('서야', 20276), ('효능감', 20277), ('단순화', 20278), ('명언', 20279), ('포텐터진', 20280), ('그라', 20281), ('뭐고', 20282), ('뭐야', 20283), ('정리됨', 20284), ('본분', 20285), ('망각하고', 20286), ('사심', 20287), ('이다영', 20288), ('입덕용', 20289), ('카피', 20290), ('태진아의', 20291), ('박토벤', 20292), ('노잼신', 20293), ('일색인', 20294), ('뚜드려팬다', 20295), ('티키타카', 20296), ('유산슬의', 20297), ('박토벤의', 20298), ('카피추', 20299), ('박토벤님', 20300), ('영웅이', 20301), ('계시기에', 20302), ('이깁니다', 20303), ('노잼의', 20304), ('코러스', 20305), ('배현진이', 20306), ('자괴감에', 20307), ('각인될', 20308), ('난닝구', 20309), ('찢던', 20310), ('공천썰', 20311), ('수상하', 20312), ('금당에', 20313), ('진용진이', 20314), ('거를지', 20315), ('클릭', 20316), ('빽바지', 20317), ('소환한', 20318), ('공천의', 20319), ('악수', 20320), ('거르세요', 20321), ('했', 20322), ('인증하고', 20323), ('받자', 20324), ('머그컵은', 20325), ('티키타카를', 20326), ('의식의', 20327), ('대세죠잉', 20328), ('요정', 20329), ('여야의', 20330), ('대체로', 20331), ('여당에', 20332), ('위로의', 20333), ('건네는', 20334), ('정의화', 20335), ('닮고', 20336), ('힌트', 20337), ('타파', 20338), ('보수가', 20339), ('대답은', 20340), ('나름', 20341), ('명분과', 20342), ('이사장의', 20343), ('진보연대', 20344), ('재업', 20345), ('뽑을지', 20346), ('고민상담소', 20347), ('재오픈', 20348), ('회생의', 20349), ('설전', 20350), ('최욱', 20351), ('공약은', 20352), ('흘ㄷ', 20353), ('맞불', 20354), ('띵언극장', 20355), ('답정너', 20356), ('예능감', 20357), ('발견한', 20358), ('타니', 20359), ('대구를', 20360), ('누굴까', 20361), ('거물급', 20362), ('히딱', 20363), ('보수통', 20364), ('열쇠', 20365), ('벤처정신', 20366), ('비호감도', 20367), ('은가', 20368), ('최극좌', 20369), ('국장', 20370), ('표심은', 20371), ('정세와', 20372), ('시늉만', 20373), ('창들고', 20374), ('뒷산', 20375), ('다니다가', 20376), ('법대간', 20377), ('삐친', 20378), ('원하던', 20379), ('모래시계', 20380), ('새내기의', 20381), ('대통', 20382), ('순서', 20383), ('정해져', 20384), ('은가요', 20385), ('오디오', 20386), ('특선', 20387), ('되거나', 20388), ('묻히거나', 20389), ('임재훈', 20390), ('협치는', 20391), ('당사', 20392), ('당가', 20393), ('꿰뚫어', 20394), ('말씀할', 20395), ('떡잎부터', 20396), ('달랐던', 20397), ('새내기들', 20398), ('커밍아웃에', 20399), ('인턴들은', 20400), ('새내기', 20401), ('하기도', 20402), ('이사장을', 20403), ('유산슬이', 20404), ('합정역', 20405), ('출구를', 20406), ('작곡한', 20407), ('박토벤이', 20408), ('었다고', 20409), ('리서치', 20410), ('정한울에게', 20411), ('대답을', 20412), ('컨설턴트', 20413), ('박성민', 20414), ('이사장이', 20415), ('작작', 20416), ('팔팔', 20417), ('신인시절', 20418), ('퇴근이', 20419), ('간절', 20420), ('하냐고요', 20421), ('압니다', 20422), ('김대영', 20423), ('허진모에게', 20424), ('친절한', 20425), ('부럽다는', 20426), ('노필터', 20427), ('미방영분', 20428), ('본방', 20429), ('표가', 20430), ('이사장', 20431), ('쏠림', 20432), ('기구', 20433), ('사무총장이든지', 20434), ('기회에', 20435), ('치운다', 20436), ('일촉즉발의', 20437), ('손본다', 20438), ('격침', 20439), ('정찰', 20440), ('회로', 20441), ('늘려', 20442), ('표명', 20443), ('였다면', 20444), ('줄일', 20445), ('북중', 20446), ('고영환', 20447), ('테드로스', 20448), ('인물은', 20449), ('강경한', 20450), ('정책펼', 20451), ('내각제', 20452), ('보이기', 20453), ('대접을', 20454), ('모범이고', 20455), ('조치로', 20456), ('심장부', 20457), ('파벌', 20458), ('키신저', 20459), ('카아', 20460), ('파악', 20461), ('트루먼이', 20462), ('해임하지', 20463), ('부하의', 20464), ('명예를', 20465), ('맞바꾼', 20466), ('환적', 20467), ('츠가', 20468), ('관들', 20469), ('서한', 20470), ('어찌된', 20471), ('기지에', 20472), ('로는', 20473), ('나무라고', 20474), ('회피할', 20475), ('감출', 20476), ('매주', 20477), ('수만명씩', 20478), ('날텐데', 20479), ('묶음', 20480), ('이는가', 20481), ('유족', 20482), ('모욕이다', 20483), ('쏜다는', 20484), ('믿었다면', 20485), ('남포항', 20486), ('정박된', 20487), ('인공위성', 20488), ('모기', 20489), ('모기장', 20490), ('꿍꿍이는', 20491), ('빨라지는', 20492), ('타게팅', 20493), ('작업', 20494), ('소요', 20495), ('뒤통수', 20496), ('맏고도', 20497), ('윽박지르나', 20498), ('남한의', 20499), ('바보들', 20500), ('대상인가', 20501), ('개최의', 20502), ('주역들을', 20503), ('끼운', 20504), ('단추', 20505), ('궤변과', 20506), ('화상정상', 20507), ('가되고', 20508), ('모범방역', 20509), ('이겨야', 20510), ('식량난', 20511), ('굶는', 20512), ('위츠의', 20513), ('앉는가', 20514), ('금수', 20515), ('떠오르고', 20516), ('말자고', 20517), ('비와', 20518), ('생활비', 20519), ('수백만원을', 20520), ('자선사업', 20521), ('대사를', 20522), ('총독', 20523), ('비난하던', 20524), ('꿀먹은벙어리가', 20525), ('러포르', 20526), ('타락할', 20527), ('마련한', 20528), ('혜택', 20529), ('올려주고', 20530), ('지어야', 20531), ('성격은', 20532), ('노벨상', 20533), ('바르가스', 20534), ('요사', 20535), ('은폐한', 20536), ('발생할', 20537), ('국의', 20538), ('국운', 20539), ('융성을', 20540), ('끊임없', 20541), ('세균전', 20542), ('허위', 20543), ('열자는', 20544), ('우주왕복선', 20545), ('챌런지호', 20546), ('간호사', 20547), ('참는', 20548), ('한계가', 20549), ('동해안', 20550), ('시찰', 20551), ('피신용일', 20552), ('뿐만', 20553), ('문화에', 20554), ('입는', 20555), ('지역을', 20556), ('재난지역', 20557), ('선포하지', 20558), ('잠못드는', 20559), ('때인가', 20560), ('대공황과', 20561), ('부통령', 20562), ('고심을', 20563), ('거듭하고', 20564), ('간부들의', 20565), ('부패로', 20566), ('아프가니스탄', 20567), ('방사포', 20568), ('너마저', 20569), ('줄이고', 20570), ('강한가', 20571), ('등인가', 20572), ('개헌발의안', 20573), ('노림수를', 20574), ('나서면', 20575), ('정찰총국', 20576), ('멤버십', 20577), ('일은', 20578), ('담판파', 20579), ('중시파', 20580), ('말한마디', 20581), ('예일대', 20582), ('스볼릭', 20583), ('군축', 20584), ('흩어지면', 20585), ('김여정을', 20586), ('전면에', 20587), ('국격', 20588), ('국경분쟁', 20589), ('초기에', 20590), ('속의', 20591), ('기지개', 20592), ('켜는', 20593), ('나서나', 20594), ('경북만', 20595), ('거꾸로', 20596), ('사정', 20597), ('차량', 20598), ('자금세탁방지기구', 20599), ('죄수와', 20600), ('간수', 20601), ('맞댄', 20602), ('몽골에는', 20603), ('베토리에게', 20604), ('정찰기', 20605), ('띄웠나', 20606), ('자질은', 20607), ('샤프', 20608), ('전복전에', 20609), ('국영', 20610), ('장마당', 20611), ('대책을', 20612), ('선두주자', 20613), ('맞붙을까', 20614), ('깔아준', 20615), ('던트', 20616), ('꺼집어낼까', 20617), ('자금원', 20618), ('돈벌이', 20619), ('전면적', 20620), ('사드를', 20621), ('군산', 20622), ('칼럼', 20623), ('이후에도', 20624), ('고르바쵸프처럼', 20625), ('반발로', 20626), ('아랍의', 20627), ('합영', 20628), ('무력화시키고', 20629), ('리설주', 20630), ('현송월', 20631), ('명품산다', 20632), ('쿠알라룸푸르', 20633), ('재무부', 20634), ('기관과', 20635), ('대사에게', 20636), ('신임장', 20637), ('제정', 20638), ('라서', 20639), ('감염자', 20640), ('발생과', 20641), ('물가', 20642), ('오와주', 20643), ('지휘부', 20644), ('대비책', 20645), ('보냈나', 20646), ('연합제', 20647), ('군과', 20648), ('간부용', 20649), ('신의주', 20650), ('다량', 20651), ('자기들만', 20652), ('전파되고', 20653), ('동요와', 20654), ('높음', 20655), ('대북정책과', 20656), ('탑재', 20657), ('지휘부와', 20658), ('근해', 20659), ('보위성', 20660), ('차원', 20661), ('급변사태', 20662), ('몰수', 20663), ('호스텔', 20664), ('영업', 20665), ('견제에', 20666), ('단동', 20667), ('영사관과', 20668), ('세관', 20669), ('김경희의', 20670), ('주권론', 20671), ('주권의', 20672), ('형성', 20673), ('자들로부터', 20674), ('재개에', 20675), ('신드롬', 20676), ('수송기', 20677), ('울프', 20678), ('하운드', 20679), ('몽골로', 20680), ('항적', 20681), ('자력갱생', 20682), ('소름돋', 20683), ('양복', 20684), ('직면할', 20685), ('박해', 20686), ('신총독부', 20687), ('평등을', 20688), ('열망', 20689), ('직면하게', 20690), ('객', 20691), ('주변에', 20692), ('전단', 20693), ('하계', 20694), ('유치', 20695), ('그림의', 20696), ('라라랜드의', 20697), ('청해부대', 20698), ('파견하기로', 20699), ('늦었지만', 20700), ('당연한', 20701), ('북중합작', 20702), ('대미', 20703), ('세웠다', 20704), ('대사에', 20705), ('비난의', 20706), ('미일연', 20707), ('창설과', 20708), ('불허의', 20709), ('국세정세', 20710), ('파헤치는', 20711), ('지검', 20712), ('죄는', 20713), ('퍼지는', 20714), ('이후부터', 20715), ('긴밀한', 20716), ('연관성을', 20717), ('기름값', 20718), ('오르지', 20719), ('외무성과', 20720), ('경로', 20721), ('만표', 20722), ('정책과', 20723), ('일으키고', 20724), ('담화문', 20725), ('대내외적', 20726), ('찾지', 20727), ('밤의', 20728), ('수요일', 20729), ('자초하고', 20730), ('비었다', 20731), ('전폭적', 20732), ('확보하고', 20733), ('외치더니', 20734), ('정식', 20735), ('시아누크', 20736), ('국왕에게', 20737), ('궁전', 20738), ('지어준', 20739), ('캄보디아에게', 20740), ('확전', 20741), ('자제', 20742), ('에게도', 20743), ('보복전', 20744), ('튈까', 20745), ('끝전술', 20746), ('에게는', 20747), ('통하지', 20748), ('롤즈의', 20749), ('무지의', 20750), ('원초적', 20751), ('계약론을', 20752), ('정의론에', 20753), ('적용한', 20754), ('독창성', 20755), ('국방비', 20756), ('취약점', 20757), ('났다고', 20758), ('안락사하고', 20759), ('안기다', 20760), ('차례는', 20761), ('이란군', 20762), ('사어버', 20763), ('의지를', 20764), ('사라질', 20765), ('정당인가', 20766), ('때처럼', 20767), ('나폴레옹', 20768), ('주일', 20769), ('옵션과', 20770), ('무력시위', 20771), ('로크', 20772), ('사상가들', 20773), ('입법', 20774), ('닦기', 20775), ('미군에게', 20776), ('무력과시', 20777), ('기원론', 20778), ('자연', 20779), ('휴전선도', 20780), ('사면초가에', 20781), ('하원의', 20782), ('사건인가', 20783), ('분기점', 20784), ('중앙위', 20785), ('거주', 20786), ('발령을', 20787), ('수뇌부', 20788), ('타락했나', 20789), ('찰스', 20790), ('제퍼슨의', 20791), ('권과', 20792), ('훼손하고', 20793), ('책자', 20794), ('상과', 20795), ('할려고', 20796), ('남한에', 20797), ('자연상태는', 20798), ('만인에', 20799), ('빌을', 20800), ('시키는가', 20801), ('계약론과', 20802), ('성립', 20803), ('수입원', 20804), ('총책', 20805), ('일병', 20806), ('가족에게', 20807), ('벤츠', 20808), ('주었을까', 20809), ('밝힌다', 20810), ('급속한', 20811), ('내리막길을', 20812), ('재일', 20813), ('몰수할', 20814), ('열릴까', 20815), ('국방부와', 20816), ('공식적', 20817), ('대원군은', 20818), ('임오군란', 20819), ('압송', 20820), ('주장들', 20821), ('펼치고', 20822), ('채택', 20823), ('제이션', 20824), ('약화와', 20825), ('남용과', 20826), ('타락', 20827), ('통첩', 20828), ('해법될', 20829), ('왕리창', 20830), ('위조', 20831), ('국방수권', 20832), ('붙일', 20833), ('압류', 20834), ('막았는가', 20835), ('무산광산', 20836), ('가동', 20837), ('나카소네', 20838), ('홍위병', 20839), ('인권의', 20840), ('소중함', 20841), ('무산', 20842), ('철광산', 20843), ('무차별적', 20844), ('불길한', 20845), ('징조인가', 20846), ('정한가', 20847), ('옵션들을', 20848), ('연평도', 20849), ('포격', 20850), ('주년에', 20851), ('창린도', 20852), ('해안포', 20853), ('재개했나', 20854), ('선전에', 20855), ('휘둘리는가', 20856), ('압류하여', 20857), ('인하여', 20858), ('미동맹', 20859), ('신용등급', 20860), ('강등', 20861), ('치기', 20862), ('수용된', 20863), ('닥칠', 20864), ('조선왕조', 20865), ('월말', 20866), ('자충수', 20867), ('이와다', 20868), ('아키코', 20869), ('한일은', 20870), ('난민인가', 20871), ('파기는', 20872), ('조선의', 20873), ('불어닥친다', 20874), ('부모와', 20875), ('그러고도', 20876), ('자랑할', 20877), ('제왕적', 20878), ('강화시키는가', 20879), ('한미방위비', 20880), ('감정적', 20881), ('공산당의', 20882), ('들끓는가', 20883), ('대륙간탄도', 20884), ('아몬드형', 20885), ('고도의', 20886), ('속는가', 20887), ('영혼보다', 20888), ('호위사령부', 20889), ('밀반입', 20890), ('고문방지조약', 20891), ('위반인가', 20892), ('길이다', 20893), ('백기투항', 20894), ('허장성세', 20895), ('원탁', 20896), ('미일동맹처럼', 20897), ('발전시켜야', 20898), ('집무실', 20899), ('명중시키는', 20900), ('뺏기고', 20901), ('빰', 20902), ('속국', 20903), ('처형', 20904), ('궁정', 20905), ('예선', 20906), ('억압적', 20907), ('수용소', 20908), ('성격', 20909), ('보아야', 20910), ('평등의식', 20911), ('초음속', 20912), ('최룡해', 20913), ('인물이', 20914), ('탈미접북', 20915), ('정책인가', 20916), ('원상', 20917), ('노재봉', 20918), ('다수가', 20919), ('민정수석실', 20920), ('없애야', 20921), ('스텔스기로', 20922), ('갑작스런', 20923), ('대처방안은', 20924), ('선임자', 20925), ('시설', 20926), ('내라고', 20927), ('중동이어', 20928), ('동북아에도', 20929), ('총리의', 20930), ('대일', 20931), ('버웰', 20932), ('벨', 20933), ('전작권', 20934), ('전환을', 20935), ('일방적', 20936), ('중지시켜야', 20937), ('특혜', 20938), ('휩싸인', 20939), ('했고', 20940), ('탈미', 20941), ('접북', 20942), ('완결짓는', 20943), ('신장위구르', 20944), ('왕을', 20945), ('구호가', 20946), ('바는', 20947), ('깊어지면서', 20948), ('갔는지', 20949), ('폭격한', 20950), ('베긴독트린', 20951), ('주한', 20952), ('찮다', 20953), ('침몰할', 20954), ('두개의', 20955), ('국론', 20956), ('세종대왕의', 20957), ('문화적', 20958), ('구걸', 20959), ('유사한가', 20960), ('중공군이', 20961), ('짓눌려', 20962), ('풍계리', 20963), ('방사능', 20964), ('피폭', 20965), ('파국맞은', 20966), ('실무', 20967), ('아웃소싱', 20968), ('백안관', 20969), ('도청', 20970), ('젤렌스키', 20971), ('녹취록', 20972), ('테이프처럼', 20973), ('화염과', 20974), ('돌입한다', 20975), ('실시한다', 20976), ('미칠까', 20977), ('열병에', 20978), ('전멸', 20979), ('보훈처', 20980), ('방안과', 20981), ('남쪽', 20982), ('처분', 20983), ('개정된', 20984), ('부분보다', 20985), ('개정되지', 20986), ('조항들이', 20987), ('나설까', 20988), ('오라고', 20989), ('간청', 20990), ('필리핀처럼', 20991), ('바세나르협약', 20992), ('느나', 20993), ('암호', 20994), ('넘긴', 20995), ('모델은', 20996), ('시설도', 20997), ('구분하고', 20998), ('용천역', 20999), ('사건처럼', 21000), ('방해하', 21001), ('최선희', 21002), ('시설과', 21003), ('폭격할', 21004), ('일보', 21005), ('강화시켜', 21006), ('지키려고', 21007), ('근대성', 21008), ('이며', 21009), ('거쳐왔는가', 21010), ('무력화시킬', 21011), ('독도를', 21012), ('가져오는가', 21013), ('균형', 21014), ('제국에', 21015), ('르상티망', 21016), ('비롯된', 21017), ('제대', 21018), ('대상에', 21019), ('애치슨', 21020), ('그어지나', 21021), ('한일조약', 21022), ('주민봉기로', 21023), ('고리', 21024), ('금고와', 21025), ('외환보유고', 21026), ('바짝', 21027), ('유발한다', 21028), ('실체는', 21029), ('정보협정', 21030), ('통과시', 21031), ('킨다', 21032), ('쐐기박기', 21033), ('방한에', 21034), ('침범했나', 21035), ('부실화시키고', 21036), ('사치품', 21037), ('스탈린', 21038), ('주었는가', 21039), ('유사지', 21040), ('인공기', 21041), ('냈을까', 21042), ('무릎꿇은', 21043), ('자살로', 21044), ('날조', 21045), ('저승사자들', 21046), ('미팅', 21047), ('안내문', 21048), ('맥아더는', 21049), ('물리쳤는가', 21050), ('감춰진', 21051), ('일으킨다', 21052), ('붙여', 21053), ('좌절시', 21054), ('막오르다', 21055), ('피플', 21056), ('시민과', 21057), ('호국영령에', 21058), ('헬싱키', 21059), ('적대시', 21060), ('함대', 21061), ('일으켜', 21062), ('안들으면', 21063), ('일으킨', 21064), ('김원봉', 21065), ('포상금', 21066), ('서해', 21067), ('인계철선', 21068), ('오디세이아를', 21069), ('나아가다', 21070), ('신호등', 21071), ('켜지다', 21072), ('주민봉기가', 21073), ('지배층', 21074), ('지명', 21075), ('해제없고', 21076), ('전술핵', 21077), ('순항', 21078), ('유엔군', 21079), ('돌입하다', 21080), ('버린다', 21081), ('돈세탁', 21082), ('임진왜란', 21083), ('직전과', 21084), ('범수용소의', 21085), ('실상을', 21086), ('이스칸데르', 21087), ('인질', 21088), ('발부와', 21089), ('거세게', 21090), ('몸부림이다', 21091), ('신화가', 21092), ('가로막고', 21093), ('퍼주면', 21094), ('터트린다', 21095), ('천황', 21096), ('국빈', 21097), ('해제도', 21098), ('문건은', 21099), ('넘기기', 21100), ('죄고', 21101), ('튜울립', 21102), ('남기', 21103), ('지면서', 21104), ('내몰리', 21105), ('채택하다', 21106), ('내로', 21107), ('파병과', 21108), ('오류에', 21109), ('잃어버렸다', 21110), ('막고', 21111), ('대비한', 21112), ('때이다', 21113), ('통보', 21114), ('일방통행식', 21115), ('훈계형', 21116), ('될듯', 21117), ('초안', 21118), ('미네르바', 21119), ('신전의', 21120), ('부엉이는', 21121), ('황혼이', 21122), ('나래를', 21123), ('편다', 21124), ('민족공', 21125), ('화국', 21126), ('잠못들게', 21127), ('반북', 21128), ('옛', 21129), ('천리마민방위', 21130), ('세습', 21131), ('끊어버릴', 21132), ('카다피처럼', 21133), ('북콘서트', 21134), ('긋지', 21135), ('남한은', 21136), ('한미공조', 21137), ('뮬러', 21138), ('폴란드', 21139), ('두다', 21140), ('용미론', 21141), ('괴뢰', 21142), ('보금자리', 21143), ('주석제', 21144), ('차우세스쿠처럼', 21145), ('결렬', 21146), ('표면화되다', 21147), ('스푸트니크', 21148), ('시집간', 21149), ('열망을', 21150), ('고르바쵸프', 21151), ('프럼프', 21152), ('대사의', 21153), ('미일동맹을', 21154), ('그토록', 21155), ('남한과', 21156), ('연락사무소', 21157), ('위반시', 21158), ('개혁모델을', 21159), ('채택할', 21160), ('일국양제형', 21161), ('방안이다', 21162), ('서독의', 21163), ('동독', 21164), ('슈타지', 21165), ('연두교서', 21166), ('시민종교', 21167), ('강조하다', 21168), ('보장해', 21169), ('종선', 21170), ('강화시킨다', 21171), ('제국의', 21172), ('맥아더장군', 21173), ('라트비아', 21174), ('첩자들과', 21175), ('교훈', 21176), ('인들에게', 21177), ('튀면서', 21178), ('빼', 21179), ('시계추', 21180), ('이중삼중', 21181), ('목조르기에', 21182), ('파괴시켰나', 21183), ('일에게', 21184), ('동맹과', 21185), ('기준은', 21186), ('포퓰리즘이', 21187), ('이미지', 21188), ('바라', 21189), ('늘린다', 21190), ('튄다', 21191), ('동결에', 21192), ('방위비분담금', 21193), ('이어지나', 21194), ('샌델', 21195), ('분기별', 21196), ('채운다', 21197), ('꿰뚫어보다', 21198), ('김영철을', 21199), ('푸대접하다', 21200), ('주장하다', 21201), ('완충지대', 21202), ('싱크탱크', 21203), ('킨들', 21204), ('꺾을', 21205), ('비장의', 21206), ('꿇다', 21207), ('동구권을', 21208), ('헬싱키협정', 21209), ('발전의', 21210), ('원동력과', 21211), ('저해', 21212), ('요인은', 21213), ('브린의', 21214), ('칸트', 21215), ('자체가', 21216), ('근대', 21217), ('불렀나', 21218), ('보따리', 21219), ('놓나', 21220), ('북폭과', 21221), ('수십명', 21222), ('늘릴', 21223), ('기우나', 21224), ('무성', 21225), ('무덤파고', 21226), ('보통', 21227), ('발발', 21228), ('철군', 21229), ('정신상태', 21230), ('홀드', 21231), ('니이버의', 21232), ('북폭', 21233), ('질서에', 21234), ('핵불', 21235), ('신조공', 21236), ('구축한다', 21237), ('협정은', 21238), ('장이다', 21239), ('위협한다', 21240), ('무방비로', 21241), ('노출시키는', 21242), ('공화국이란', 21243), ('김영철', 21244), ('외무상', 21245), ('붉게', 21246), ('물드는', 21247), ('앉는다', 21248), ('돕는', 21249), ('숙이다', 21250), ('참사', 21251), ('재판소로', 21252), ('받드시', 21253), ('타락한', 21254), ('사법부', 21255), ('남침', 21256), ('사죄하지', 21257), ('주권을', 21258), ('겠다고', 21259), ('택일', 21260), ('철의', 21261), ('쳐지면서', 21262), ('유화정책', 21263), ('한미연', 21264), ('창설', 21265), ('몰고가나', 21266), ('겨냥한', 21267), ('진주만', 21268), ('직면하다', 21269), ('말은', 21270), ('몽둥이를', 21271), ('모욕', 21272), ('조평통위원장', 21273), ('강화한다', 21274), ('중이다', 21275), ('원정출산', 21276), ('어려워진다', 21277), ('율에', 21278), ('감시기구', 21279), ('핵보유', 21280), ('방안들을', 21281), ('부정적', 21282), ('주나', 21283), ('파괴하고', 21284), ('교황', 21285), ('성패', 21286), ('기술과', 21287), ('력에', 21288), ('카쇼기', 21289), ('없게', 21290), ('거쳐', 21291), ('나아갈', 21292), ('사고의', 21293), ('일상화', 21294), ('제시한', 21295), ('펜스부통령의', 21296), ('덥친다', 21297), ('부쳐야', 21298), ('혼동하고', 21299), ('당선시킨', 21300), ('스티브', 21301), ('배넌', 21302), ('제동걸다', 21303), ('훼손', 21304), ('교재', 21305), ('적대', 21306), ('보다는', 21307), ('한미공조와', 21308), ('공조로', 21309), ('시민종교란', 21310), ('참패', 21311), ('주민의', 21312), ('일상적', 21313), ('형태의', 21314), ('쫒겨나나', 21315), ('묶은', 21316), ('속나', 21317), ('타임스', 21318), ('칼럼을', 21319), ('주제', 21320), ('높나', 21321), ('독트린이란', 21322), ('주제와', 21323), ('핵보유국', 21324), ('시대적', 21325), ('변해왔는가', 21326), ('납북자를', 21327), ('실종자로', 21328), ('바꾸자는', 21329), ('송갑석', 21330), ('인권을', 21331), ('중시한', 21332), ('여풍', 21333), ('분다', 21334), ('카지노', 21335), ('커넥션', 21336), ('불바다', 21337), ('스캐들', 21338), ('파헤쳐', 21339), ('사임시', 21340), ('공세적이어야', 21341), ('인천상륙', 21342), ('정전협정', 21343), ('생산자', 21344), ('대화란', 21345), ('바꾸나', 21346), ('국방개혁', 21347), ('허무나', 21348), ('테디베어', 21349), ('곰인형은', 21350), ('반디의', 21351), ('소설', 21352), ('민간인들', 21353), ('예멘', 21354), ('프랭클린', 21355), ('한계', 21356), ('윌슨', 21357), ('식수원의', 21358), ('낙진', 21359), ('오염', 21360), ('덴마크', 21361), ('페타', 21362), ('유일합', 21363), ('신앙을', 21364), ('지켜온', 21365), ('카톨릭', 21366), ('레이건독트린', 21367), ('더불당', 21368), ('강선우', 21369), ('범여', 21370), ('하위버전', 21371), ('함경우', 21372), ('비호감', 21373), ('진선미', 21374), ('이수희', 21375), ('강동갑', 21376), ('우상호', 21377), ('이성헌', 21378), ('서대문갑', 21379), ('금감원', 21380), ('연수을', 21381), ('박종진', 21382), ('서구을', 21383), ('결사', 21384), ('웰빙야당', 21385), ('안양동안갑', 21386), ('민병덕', 21387), ('춘천갑', 21388), ('김용남', 21389), ('수원병', 21390), ('신부로부터', 21391), ('고대돈', 21392), ('수백억', 21393), ('날렸나', 21394), ('장들이', 21395), ('구상찬', 21396), ('김한나', 21397), ('동등한', 21398), ('국방의', 21399), ('의무', 21400), ('국방세', 21401), ('방한', 21402), ('앙의', 21403), ('빵꾸내고', 21404), ('논개', 21405), ('박쥐', 21406), ('당국이', 21407), ('해주던', 21408), ('제보자', 21409), ('양성', 21410), ('박수현', 21411), ('내연녀', 21412), ('세의가', 21413), ('김세의', 21414), ('개통', 21415), ('유정복', 21416), ('남동갑', 21417), ('방광', 21418), ('소피', 21419), ('마르소', 21420), ('밀러', 21421), ('여인의', 21422), ('욕설랩퍼', 21423), ('소피마르손', 21424), ('써키', 21425), ('신상진', 21426), ('윤영찬', 21427), ('되고도', 21428), ('아빠찬스', 21429), ('묘지조성', 21430), ('권영세', 21431), ('교두보', 21432), ('목격자', 21433), ('비서', 21434), ('장미인애', 21435), ('동반자는', 21436), ('검진킷', 21437), ('강남의', 21438), ('맏형', 21439), ('박진', 21440), ('강남을', 21441), ('서리', 21442), ('뜯겼다', 21443), ('개방성', 21444), ('자랑할래', 21445), ('모텔', 21446), ('미행한', 21447), ('서해수호의', 21448), ('자도', 21449), ('꺼낸', 21450), ('이종필', 21451), ('김영홍', 21452), ('횡령', 21453), ('행방은', 21454), ('먹튀', 21455), ('노예', 21456), ('없앴나', 21457), ('거금', 21458), ('강용석이', 21459), ('강간', 21460), ('소피마르소', 21461), ('속였다', 21462), ('공천무효', 21463), ('카르텔', 21464), ('뒷배', 21465), ('림종석', 21466), ('검진량을', 21467), ('줄인', 21468), ('잊고', 21469), ('갓갓을', 21470), ('증발사건', 21471), ('희대의', 21472), ('방역모범국', 21473), ('빈병호', 21474), ('조선혜', 21475), ('처넣겠다', 21476), ('강제노역', 21477), ('강제노역동원', 21478), ('억대출', 21479), ('지시했나', 21480), ('김도끼읍', 21481), ('빤스런', 21482), ('조수진의', 21483), ('위상', 21484), ('흙수저라', 21485), ('그런건가', 21486), ('칼질', 21487), ('상처', 21488), ('려던', 21489), ('능욕', 21490), ('동아일보의', 21491), ('리춘희', 21492), ('조수진', 21493), ('인보사', 21494), ('최혜영', 21495), ('가로챈', 21496), ('지하실', 21497), ('끝모를', 21498), ('식약처장', 21499), ('싸고도는', 21500), ('간병인', 21501), ('김남국은', 21502), ('배급에', 21503), ('십단', 21504), ('질본이', 21505), ('여직원', 21506), ('폭력', 21507), ('테러', 21508), ('폄훼', 21509), ('외신에', 21510), ('집단감염', 21511), ('타운의', 21512), ('구로구', 21513), ('대형감염사태', 21514), ('갑툭튀', 21515), ('달랐나', 21516), ('비난은', 21517), ('잠ㅋ', 21518), ('공적판매로', 21519), ('약국만', 21520), ('부산시당', 21521), ('부단장', 21522), ('지역민', 21523), ('경산시', 21524), ('밀집지역이다', 21525), ('여왕', 21526), ('조작하고', 21527), ('똥줄탄', 21528), ('중앙일보', 21529), ('수술복', 21530), ('알콜', 21531), ('소독제도', 21532), ('태부족', 21533), ('저능아', 21534), ('저능', 21535), ('김여정', 21536), ('조희대', 21537), ('대법관님', 21538), ('고생하셨습니다', 21539), ('약국', 21540), ('독점', 21541), ('살래야', 21542), ('부추긴', 21543), ('아비간', 21544), ('늦춰지는', 21545), ('술래잡기의', 21546), ('전향', 21547), ('공천줬나', 21548), ('전수조사가', 21549), ('죽였다', 21550), ('배현진', 21551), ('송파을', 21552), ('김은혜', 21553), ('정봉주', 21554), ('유체이탈', 21555), ('격노', 21556), ('꾀에', 21557), ('간병인이', 21558), ('유포', 21559), ('무능인가', 21560), ('소신인가', 21561), ('입지', 21562), ('방역복', 21563), ('줄이어', 21564), ('한상진', 21565), ('조현', 21566), ('심바자와디', 21567), ('꼼꼼한', 21568), ('역학조사', 21569), ('개념가수', 21570), ('조장혁', 21571), ('안쓴다', 21572), ('가난이', 21573), ('벼슬인가', 21574), ('감염주도방역', 21575), ('하야', 21576), ('정답은', 21577), ('강풀', 21578), ('조미료', 21579), ('평행이론', 21580), ('도플갱어', 21581), ('숨져', 21582), ('곽성문', 21583), ('육해공', 21584), ('쳐먹느라', 21585), ('미룬', 21586), ('노닥거린', 21587), ('권양숙', 21588), ('공천개입말고', 21589), ('피아제나', 21590), ('내놔라', 21591), ('몰두하다', 21592), ('막스마라', 21593), ('소년범도', 21594), ('서러운데', 21595), ('세배', 21596), ('해야하', 21597), ('강용석의', 21598), ('안심', 21599), ('강요한', 21600), ('한상헌', 21601), ('수시', 21602), ('원조미식회', 21603), ('영남권', 21604), ('찍자', 21605), ('늑장대처', 21606), ('무사안일에', 21607), ('터트리는', 21608), ('공식출범', 21609), ('어린신부', 21610), ('김건희', 21611), ('레퍼토리', 21612), ('회감염', 21613), ('경위', 21614), ('상습투약', 21615), ('하정우', 21616), ('임현주', 21617), ('어쩌라고', 21618), ('안물안궁', 21619), ('세균맨', 21620), ('적어', 21621), ('손님들', 21622), ('적으니까', 21623), ('바꿉시다', 21624), ('풉', 21625), ('입방정', 21626), ('존버', 21627), ('남대문', 21628), ('전격해부', 21629), ('행방불명', 21630), ('김태호', 21631), ('컷오', 21632), ('낙동강', 21633), ('오리알', 21634), ('개수작', 21635), ('다급한', 21636), ('김부선', 21637), ('용서할', 21638), ('타임즈', 21639), ('연상시키는', 21640), ('거물', 21641), ('인천공항', 21642), ('쾌거', 21643), ('얹으려는', 21644), ('이외수도', 21645), ('등돌린', 21646), ('창궐로', 21647), ('백약무효', 21648), ('기존통념', 21649), ('민변도', 21650), ('유병재', 21651), ('침묵하냐', 21652), ('빅매치', 21653), ('문갑식', 21654), ('게브레예수스', 21655), ('꼭꼭', 21656), ('부르길', 21657), ('김용민', 21658), ('김어준', 21659), ('가세연', 21660), ('우롱한', 21661), ('감추려', 21662), ('모란트', 21663), ('ㄹㅇ', 21664), ('이겨버린다', 21665), ('핸섬', 21666), ('거즈', 21667), ('장신', 21668), ('제치는', 21669), ('고오급', 21670), ('배워보다', 21671), ('최상위', 21672), ('팀과의', 21673), ('격차를', 21674), ('전역한', 21675), ('했지', 21676), ('마려운', 21677), ('돼야지', 21678), ('최단신', 21679), ('고딩한테', 21680), ('선배님', 21681), ('볼보이로', 21682), ('재취업한', 21683), ('왕과', 21684), ('초접전', 21685), ('허재', 21686), ('봤는데', 21687), ('다르', 21688), ('이관희가', 21689), ('해준', 21690), ('수비에', 21691), ('달아주세요', 21692), ('듀란트', 21693), ('탐슨', 21694), ('사육', 21695), ('도망쳐', 21696), ('거인의', 21697), ('휘문고', 21698), ('꺾었으니', 21699), ('꺾어보겠다고', 21700), ('한인', 21701), ('국대전력', 21702), ('이관희를', 21703), ('붙는다', 21704), ('언더아머의', 21705), ('시그니쳐', 21706), ('발목이', 21707), ('컷이다', 21708), ('나이츠의', 21709), ('신데렐라는', 21710), ('최성원', 21711), ('문경은', 21712), ('방성윤', 21713), ('동북지역', 21714), ('되야', 21715), ('신발이지', 21716), ('레벨이다', 21717), ('격파', 21718), ('정현이', 21719), ('갔어', 21720), ('박코치', 21721), ('제임스의', 21722), ('반지를', 21723), ('갑옷', 21724), ('국대를', 21725), ('열아홉', 21726), ('업이', 21727), ('도지적장애인', 21728), ('빡겜을', 21729), ('별끼가', 21730), ('뭇다', 21731), ('조성민의', 21732), ('클리닉', 21733), ('가리고', 21734), ('크블', 21735), ('썬더스', 21736), ('이관희의', 21737), ('스킬로', 21738), ('컴백', 21739), ('야니스의', 21740), ('버럭남', 21741), ('브룩과의', 21742), ('캐스터', 21743), ('드림팀', 21744), ('가리기', 21745), ('촌', 21746), ('길농', 21747), ('원정대', 21748), ('총합', 21749), ('삼인방의', 21750), ('진짭', 21751), ('있겠어', 21752), ('트라고', 21753), ('다를거', 21754), ('너네가', 21755), ('통곡의', 21756), ('급식장벽', 21757), ('건대', 21758), ('덤벼봐', 21759), ('팬들과', 21760), ('왔을까', 21761), ('제임스도', 21762), ('폭격기', 21763), ('정하냐', 21764), ('경', 21765), ('삼천포', 21766), ('포모남', 21767), ('피디', 21768), ('거구와', 21769), ('성사', 21770), ('종신', 21771), ('몇승을', 21772), ('런의', 21773), ('지쳐가는', 21774), ('연승은', 21775), ('퀀텀', 21776), ('단판', 21777), ('이탐슨', 21778), ('코치진과', 21779), ('숫자로', 21780), ('대결을', 21781), ('매치라니', 21782), ('영광은', 21783), ('보겸이형의', 21784), ('홍석팀의', 21785), ('원흉', 21786), ('콩코드', 21787), ('돈내고', 21788), ('참고로', 21789), ('김시래는', 21790), ('허훈은', 21791), ('혈전', 21792), ('형이', 21793), ('짱이야', 21794), ('ㅂㅇㄹ', 21795), ('팀을', 21796), ('뽑는다고', 21797), ('자진하차', 21798), ('컴백의', 21799), ('이뤄', 21800), ('기요미', 21801), ('멤버들의', 21802), ('방위대', 21803), ('구단', 21804), ('양희종', 21805), ('오세근', 21806), ('케어를', 21807), ('가드가', 21808), ('인형뽑기', 21809), ('골에', 21810), ('큰인형', 21811), ('영구결번이', 21812), ('제끼고', 21813), ('앨리웁', 21814), ('포텐터진날', 21815), ('이상을', 21816), ('이동준을', 21817), ('레이업', 21818), ('중고등부', 21819), ('맘스터치', 21820), ('상품권', 21821), ('얻는', 21822), ('슈터가', 21823), ('꽤나', 21824), ('자너', 21825), ('출몰', 21826), ('원주', 21827), ('천수형이', 21828), ('승현이형이', 21829), ('인유어', 21830), ('박아', 21831), ('세레머니', 21832), ('박는', 21833), ('수중', 21834), ('튜브띠', 21835), ('이승준의', 21836), ('전미한인', 21837), ('오져따리', 21838), ('전동보드', 21839), ('물병을', 21840), ('슛쟁이를', 21841), ('보스턴', 21842), ('얼평을', 21843), ('패션이', 21844), ('성립이', 21845), ('영어로', 21846), ('각자의', 21847), ('멘사', 21848), ('우지원에게', 21849), ('감점', 21850), ('돌밭', 21851), ('바운드', 21852), ('지압길', 21853), ('장갑을', 21854), ('넣을까', 21855), ('고무장갑', 21856), ('때밀이', 21857), ('점슈터가', 21858), ('넣기', 21859), ('점슈터는', 21860), ('몇개', 21861), ('강이슬', 21862), ('모교', 21863), ('슛대결', 21864), ('골대가', 21865), ('쉬어', 21866), ('셋이', 21867), ('클러치', 21868), ('코치는', 21869), ('시전', 21870), ('양민학살', 21871), ('개코', 21872), ('맞춘다고', 21873), ('지붕뚫는', 21874), ('쓰보ㅎ', 21875), ('끄는데', 21876), ('걸레를', 21877), ('슛이', 21878), ('부천', 21879), ('자이언트', 21880), ('무더위', 21881), ('깔깔이', 21882), ('패딩', 21883), ('완뽕', 21884), ('하프', 21885), ('첫경험', 21886), ('트램플린', 21887), ('방방', 21888), ('망할각', 21889), ('인형뽑기를', 21890), ('오종균', 21891), ('황빠다', 21892), ('웨더를', 21893), ('능가한다고', 21894), ('휘태커', 21895), ('가들의', 21896), ('여제', 21897), ('주먹에', 21898), ('석고를', 21899), ('애제자', 21900), ('야생의', 21901), ('이성현이', 21902), ('거구의', 21903), ('나올듯', 21904), ('창시자의', 21905), ('고난도', 21906), ('오블리크', 21907), ('어설퍼서', 21908), ('선보인', 21909), ('팀스턴건', 21910), ('사실이', 21911), ('연타', 21912), ('이소룡', 21913), ('약물', 21914), ('안토니오', 21915), ('빅풋', 21916), ('플라잉', 21917), ('아찔하고', 21918), ('거가', 21919), ('웨더에게', 21920), ('끓게', 21921), ('외모는', 21922), ('모범생', 21923), ('벨트', 21924), ('방어전', 21925), ('폭행한', 21926), ('순둥이', 21927), ('외모에', 21928), ('놓을', 21929), ('스릴', 21930), ('하빕의', 21931), ('다짐한', 21932), ('십자가', 21933), ('컨트롤을', 21934), ('입식', 21935), ('고석현', 21936), ('국내에는', 21937), ('적수가', 21938), ('성급', 21939), ('럭셔리', 21940), ('겸비한', 21941), ('초살', 21942), ('신인왕에게', 21943), ('깨진', 21944), ('슨', 21945), ('퓨리가', 21946), ('서신영', 21947), ('중계중', 21948), ('스포티비', 21949), ('엔강', 21950), ('투지를', 21951), ('노빠구', 21952), ('리언', 21953), ('터프가이를', 21954), ('이성철', 21955), ('차리게', 21956), ('레그킥', 21957), ('때린', 21958), ('경악할', 21959), ('버티네', 21960), ('무패의', 21961), ('킥을', 21962), ('였음', 21963), ('박충일의', 21964), ('팀혼', 21965), ('권도형', 21966), ('모았다', 21967), ('논스톱', 21968), ('꾼들', 21969), ('반전외모', 21970), ('보내버린', 21971), ('단신', 21972), ('황당해서', 21973), ('절로', 21974), ('규칙', 21975), ('근접한', 21976), ('투도', 21977), ('롱맨', 21978), ('알리도', 21979), ('루이스', 21980), ('노인의', 21981), ('눕혀버린다', 21982), ('독학', 21983), ('아일랜드', 21984), ('휘', 21985), ('킥과', 21986), ('문신남', 21987), ('퍼거슨', 21988), ('엘보', 21989), ('난폭함의', 21990), ('대가', 21991), ('꾼의', 21992), ('패기쩐다', 21993), ('첫경험을', 21994), ('어퍼컷', 21995), ('박진감', 21996), ('출세', 21997), ('트머니', 21998), ('나대다가', 21999), ('연패', 22000), ('미친듯이', 22001), ('전의를', 22002), ('상실한', 22003), ('도에', 22004), ('발전하다니', 22005), ('털리는', 22006), ('동유럽', 22007), ('어버린', 22008), ('러들과', 22009), ('꾼들이', 22010), ('습격한', 22011), ('네티즌들', 22012), ('빨라서', 22013), ('쁘아까오', 22014), ('방이다', 22015), ('될때', 22016), ('악에', 22017), ('받친', 22018), ('대중의', 22019), ('지나치게', 22020), ('프랭키', 22021), ('에드가', 22022), ('보겠다며', 22023), ('합법이라고', 22024), ('무제한급', 22025), ('박치기', 22026), ('단단하다', 22027), ('해군이', 22028), ('박치기에', 22029), ('낭심', 22030), ('반칙왕의', 22031), ('기절', 22032), ('터무니', 22033), ('맷집의', 22034), ('중량급', 22035), ('순수', 22036), ('밥샙', 22037), ('뱀인가', 22038), ('특공무술', 22039), ('경량급', 22040), ('무술대회', 22041), ('찰진', 22042), ('연승의', 22043), ('핵주먹', 22044), ('슨도', 22045), ('이고르', 22046), ('보브찬친', 22047), ('가드따위', 22048), ('미칠듯한', 22049), ('얼룩진', 22050), ('대립하고', 22051), ('루타', 22052), ('리브레', 22053), ('그런걸', 22054), ('편견을', 22055), ('코너에', 22056), ('전범기', 22057), ('혼내준', 22058), ('제패할', 22059), ('최두호', 22060), ('팅', 22061), ('보기만해도', 22062), ('값진', 22063), ('절에', 22064), ('무기들고', 22065), ('송주아', 22066), ('조회', 22067), ('팬더', 22068), ('힘찬', 22069), ('들인', 22070), ('김현종', 22071), ('성을', 22072), ('투지가', 22073), ('돋', 22074), ('갈아먹은', 22075), ('붙다니', 22076), ('기술도', 22077), ('사니이를', 22078), ('맷집', 22079), ('스톰의', 22080), ('살았다는', 22081), ('이청운', 22082), ('황제의', 22083), ('알렉산더의', 22084), ('당황하게', 22085), ('방재혁의', 22086), ('콤비', 22087), ('다구리가', 22088), ('드린', 22089), ('김동욱', 22090), ('가난의', 22091), ('이루어내다', 22092), ('슬프지만', 22093), ('불꽃같았던', 22094), ('흙수저', 22095), ('미군을', 22096), ('다녔다고', 22097), ('최배달', 22098), ('야만적인', 22099), ('강렬함', 22100), ('위와', 22101), ('붙는', 22102), ('전신마비', 22103), ('킥만', 22104), ('전투불능을', 22105), ('무섭고', 22106), ('살발한', 22107), ('자비란', 22108), ('한유석', 22109), ('전범기를', 22110), ('뭉게버린', 22111), ('한계는', 22112), ('지의', 22113), ('지배자', 22114), ('외팔이', 22115), ('뉴웰', 22116), ('혈투', 22117), ('이범규', 22118), ('합기도', 22119), ('오함마로', 22120), ('특기인', 22121), ('넉아웃', 22122), ('열도를', 22123), ('침묵하게', 22124), ('직관가는거지', 22125), ('불공평함도', 22126), ('날려버린', 22127), ('피말리는', 22128), ('계체량', 22129), ('내리고', 22130), ('도깨비', 22131), ('눈빛', 22132), ('장미가', 22133), ('이도경', 22134), ('핏불', 22135), ('빨라', 22136), ('지극히도', 22137), ('평범', 22138), ('하빕', 22139), ('노력파였구나', 22140), ('불곰도', 22141), ('눕혔다', 22142), ('삼촌도', 22143), ('베테랑과', 22144), ('패기의', 22145), ('대륙의', 22146), ('철권', 22147), ('웨일리', 22148), ('진출한', 22149), ('무술인다운', 22150), ('강함', 22151), ('거칠어진', 22152), ('대항전', 22153), ('꺾어', 22154), ('경악하게한', 22155), ('속사포', 22156), ('웬만한', 22157), ('센데', 22158), ('눕히는', 22159), ('쇼군', 22160), ('후아', 22161), ('동성애를', 22162), ('레즈비언', 22163), ('명재욱', 22164), ('고만', 22165), ('말아라', 22166), ('부러트린', 22167), ('팔만', 22168), ('피스톤', 22169), ('돌주먹', 22170), ('아미르', 22171), ('떨리네', 22172), ('칼을', 22173), ('갈고', 22174), ('난폭하고', 22175), ('은둔', 22176), ('캅', 22177), ('벨트를', 22178), ('죽였는가', 22179), ('미스테리', 22180), ('링위', 22181), ('차대전이', 22182), ('눕힌', 22183), ('제왕', 22184), ('호이스', 22185), ('여년', 22186), ('바다하리', 22187), ('원시적인', 22188), ('승의', 22189), ('전설을', 22190), ('키아누', 22191), ('리브스', 22192), ('벌인가', 22193), ('원수인가', 22194), ('거칠었던', 22195), ('벌전', 22196), ('자랑한', 22197), ('태극', 22198), ('핏불과', 22199), ('불독의', 22200), ('걸었던', 22201), ('사망전', 22202), ('진상', 22203), ('가가', 22204), ('낮에는', 22205), ('피닉스', 22206), ('존스', 22207), ('숙녀', 22208), ('패기와', 22209), ('노련함의', 22210), ('빡친다', 22211), ('허경영', 22212), ('워지는', 22213), ('유전자를', 22214), ('물려', 22215), ('약쟁이', 22216), ('좌절하게', 22217), ('훔치고', 22218), ('달아난', 22219), ('소유자', 22220), ('패라고', 22221), ('얼어붙게', 22222), ('장외패가', 22223), ('무술인', 22224), ('기본적인', 22225), ('자세라도', 22226), ('기억하자', 22227), ('이소룡의', 22228), ('이기려면', 22229), ('둬라', 22230), ('하구먼', 22231), ('맨주먹', 22232), ('존스가', 22233), ('무술을', 22234), ('재해석한', 22235), ('아저씬', 22236), ('혈압', 22237), ('증명한', 22238), ('금메', 22239), ('알도', 22240), ('히트맨', 22241), ('어른은', 22242), ('놀만한', 22243), ('욱일기를', 22244), ('가문을', 22245), ('닉이', 22246), ('위에게', 22247), ('짐승이야', 22248), ('도끼', 22249), ('반달레이', 22250), ('매미권법', 22251), ('강하길래', 22252), ('베우돔', 22253), ('전적', 22254), ('링을', 22255), ('중계해', 22256), ('징계먹은', 22257), ('불린', 22258), ('노네', 22259), ('쪽팔리고', 22260), ('두들겨', 22261), ('슨의', 22262), ('전찬미', 22263), ('스기야마', 22264), ('카포에라', 22265), ('효도르의', 22266), ('노예들이', 22267), ('초짜를', 22268), ('헌트', 22269), ('브록', 22270), ('레스너', 22271), ('웃겨서', 22272), ('취객', 22273), ('객의', 22274), ('미녀와', 22275), ('빵셔틀', 22276), ('더럽고', 22277), ('협회를', 22278), ('무찌르고', 22279), ('기필고', 22280), ('심권호', 22281), ('백사장', 22282), ('뭐냐구요', 22283), ('종지부를', 22284), ('찍겠습니다', 22285), ('허세부리는', 22286), ('애들은', 22287), ('모른다는', 22288), ('최홍만', 22289), ('최홍만에게', 22290), ('시비걸었다가', 22291), ('숙이고', 22292), ('사과한', 22293), ('경악하게', 22294), ('지렸다', 22295), ('해설이', 22296), ('충동', 22297), ('느꼈다는', 22298), ('후덜덜', 22299), ('평가받', 22300), ('해설자가', 22301), ('금강불괴', 22302), ('소림사', 22303), ('곤란한', 22304), ('터져버린', 22305), ('필리피노', 22306), ('올께요', 22307), ('어른한테', 22308), ('덤벼면', 22309), ('두명', 22310), ('몰', 22311), ('매장가면', 22312), ('당황스러울', 22313), ('던질', 22314), ('격파공지', 22315), ('따냅니다', 22316), ('빠던', 22317), ('뻥친', 22318), ('해버림', 22319), ('점차', 22320), ('전수하시는', 22321), ('마카오님께', 22322), ('안면마비로', 22323), ('날겁니다', 22324), ('타구', 22325), ('세우면', 22326), ('검증', 22327), ('계빡치게', 22328), ('초거구의', 22329), ('어딘지', 22330), ('익숙햇', 22331), ('난이도로', 22332), ('안끝', 22333), ('탑클', 22334), ('종이비행기', 22335), ('날리기', 22336), ('무서움을', 22337), ('강철로', 22338), ('낭심보호대는', 22339), ('공에도', 22340), ('등판한', 22341), ('윤코치는', 22342), ('내야의', 22343), ('야찐', 22344), ('회자', 22345), ('폐급', 22346), ('부활시키는', 22347), ('비싸게', 22348), ('치워', 22349), ('브로', 22350), ('조작이', 22351), ('노량진', 22352), ('대리운전', 22353), ('아무렇지도', 22354), ('이어가고', 22355), ('효신대장', 22356), ('트릭샷', 22357), ('위가', 22358), ('쥐더니', 22359), ('던짐', 22360), ('용품들을', 22361), ('방어율', 22362), ('점대로', 22363), ('인방', 22364), ('야채배달원', 22365), ('마운드에', 22366), ('풀세트', 22367), ('매장', 22368), ('매니저가', 22369), ('임창용이', 22370), ('맞힌', 22371), ('몇명', 22372), ('배팅장에', 22373), ('경연', 22374), ('젤', 22375), ('쩔음', 22376), ('살때부터', 22377), ('공만', 22378), ('놀던', 22379), ('잠입', 22380), ('방출된', 22381), ('때릴', 22382), ('스윙', 22383), ('작렬시킴', 22384), ('피셜', 22385), ('단연', 22386), ('재능충', 22387), ('배팅', 22388), ('연습장을', 22389), ('사기템', 22390), ('넘겨서', 22391), ('쳐묵쳐묵', 22392), ('상금잼', 22393), ('후덜덜한', 22394), ('코치님과', 22395), ('지켜봤어요', 22396), ('최준석의', 22397), ('쉐보레', 22398), ('볼트', 22399), ('다줬습니닼', 22400), ('파다', 22401), ('어볼러의', 22402), ('코치님이', 22403), ('중딩이', 22404), ('어볼', 22405), ('코치들도', 22406), ('탐', 22407), ('방범용', 22408), ('통짜', 22409), ('배트들고', 22410), ('뿌셔봄', 22411), ('최준석', 22412), ('양현종보다', 22413), ('김광현인', 22414), ('세다', 22415), ('가르치시고', 22416), ('드시고', 22417), ('드시는', 22418), ('어퍼스윙이란게', 22419), ('진상손님', 22420), ('용품점의', 22421), ('후려쳐', 22422), ('님들도', 22423), ('반값', 22424), ('레슨의', 22425), ('성과와', 22426), ('핸폰', 22427), ('일상을', 22428), ('다큐로', 22429), ('해설해드림', 22430), ('난이도에', 22431), ('전단지라도', 22432), ('복면의', 22433), ('야알못', 22434), ('여사친이랑', 22435), ('장가서', 22436), ('최연소', 22437), ('센서달린', 22438), ('넘사인', 22439), ('듀얼', 22440), ('오지탐험대', 22441), ('조용준에게', 22442), ('냄', 22443), ('생수', 22444), ('뽑았습니다', 22445), ('섭외해버림', 22446), ('한명', 22447), ('이론', 22448), ('맞붙게', 22449), ('만이야', 22450), ('갈쳐드림', 22451), ('샵의', 22452), ('신인상', 22453), ('렌터카', 22454), ('볼팀과', 22455), ('만원빵에', 22456), ('조종', 22457), ('조수행이', 22458), ('마구로', 22459), ('메쟈', 22460), ('하냐', 22461), ('강백호의', 22462), ('피칭', 22463), ('레어자료', 22464), ('들던', 22465), ('넘겨버릴', 22466), ('거제도', 22467), ('못이기면', 22468), ('중딩과', 22469), ('제구력', 22470), ('사야인', 22471), ('팀내', 22472), ('지림', 22473), ('가르쳐', 22474), ('ㅋ잖', 22475), ('전력피칭', 22476), ('왤케', 22477), ('진지해', 22478), ('칼답드림', 22479), ('반발력', 22480), ('들면', 22481), ('는다고', 22482), ('확신', 22483), ('류현진이', 22484), ('루디', 22485), ('외야수비도', 22486), ('잘되고', 22487), ('소화도', 22488), ('잘됩니다', 22489), ('축복의', 22490), ('닿는', 22491), ('자세교정', 22492), ('닫기', 22493), ('빨라지는지', 22494), ('리틀오승환', 22495), ('리틀선동열', 22496), ('유리함', 22497), ('도수', 22498), ('뉴발', 22499), ('샅샅이', 22500), ('개는', 22501), ('드릴게요', 22502), ('불펜', 22503), ('마운드', 22504), ('오승환이', 22505), ('발라버림', 22506), ('제구보소', 22507), ('진기록', 22508), ('편법', 22509), ('야알못도', 22510), ('저리거', 22511), ('반론', 22512), ('강견', 22513), ('팔뚜기가', 22514), ('불태웁니다', 22515), ('상품추첨', 22516), ('넘버원', 22517), ('햄스', 22518), ('트링', 22519), ('부상당', 22520), ('수정보충판', 22521), ('번스', 22522), ('루키', 22523), ('연봉왕인지', 22524), ('원미초', 22525), ('티볼', 22526), ('팬이', 22527), ('쓴다는', 22528), ('연습기', 22529), ('진지빨고', 22530), ('노경은', 22531), ('신정락', 22532), ('달푸림님', 22533), ('여중생이', 22534), ('오빠들을', 22535), ('스버킷', 22536), ('오모', 22537), ('유격수가', 22538), ('프동야', 22539), ('포크볼이', 22540), ('결합된', 22541), ('포수시점', 22542), ('위플볼', 22543), ('김주현', 22544), ('마구를', 22545), ('여중딩', 22546), ('불꺼진', 22547), ('추성훈을', 22548), ('제압한', 22549), ('모임일정', 22550), ('강외', 22551), ('존형', 22552), ('몸쪽', 22553), ('레젼', 22554), ('농아인', 22555), ('팔리는', 22556), ('유격수', 22557), ('더블슛', 22558), ('구경해요', 22559), ('강민호도', 22560), ('오모의', 22561), ('오오', 22562), ('컷다', 22563), ('고척돔의', 22564), ('부리거가', 22565), ('떡실신', 22566), ('너에게', 22567), ('체질개선', 22568), ('고무고무', 22569), ('파워로', 22570), ('살포식', 22571), ('바빠서', 22572), ('자비는', 22573), ('인천편', 22574), ('학년들', 22575), ('중간부터', 22576), ('승팀', 22577), ('용품점', 22578), ('몸개그로', 22579), ('끝남', 22580), ('칠테면', 22581), ('예쁨', 22582), ('두꺼비가', 22583), ('외출중이다', 22584), ('포지션별', 22585), ('쏴랑', 22586), ('반에', 22587), ('배정되고', 22588), ('능욕당함', 22589), ('미쳤따리', 22590), ('한강', 22591), ('급형이', 22592), ('공보다', 22593), ('재활', 22594), ('선출이', 22595), ('고교선출이', 22596), ('울려버림', 22597), ('베어스', 22598), ('탁구공', 22599), ('토미존', 22600), ('수술해서', 22601), ('접었나요', 22602), ('념', 22603), ('비인기', 22604), ('화낼때', 22605), ('깎아본다', 22606), ('못칠것', 22607), ('줬다', 22608), ('제주편', 22609), ('방망이를', 22610), ('외야수비를', 22611), ('정도임', 22612), ('배트가', 22613), ('개비싼배트', 22614), ('문방구배트', 22615), ('너클', 22616), ('치맥빵이래서', 22617), ('대결해', 22618), ('투머치토커', 22619), ('타아', 22620), ('왼손', 22621), ('오른손', 22622), ('찐박한', 22623), ('테이블', 22624), ('도루', 22625), ('피칭머신에', 22626), ('교가서', 22627), ('원주편', 22628), ('배트', 22629), ('제정신아님', 22630), ('진심전력', 22631), ('이닝', 22632), ('박사장', 22633), ('익숙한', 22634), ('추첨하겠음', 22635), ('위닝샷을', 22636), ('깝치면', 22637), ('코칭', 22638), ('특이폼인데', 22639), ('양손', 22640), ('종속', 22641), ('유희관', 22642), ('무실점', 22643), ('ㄱㄱ', 22644), ('챔프', 22645), ('티켓', 22646), ('고화질', 22647), ('늦어진', 22648), ('베지밀로', 22649), ('렙업하고', 22650), ('야광공', 22651), ('마카오갈매기가', 22652), ('인증한다', 22653), ('양학하러', 22654), ('갔음', 22655), ('먹인', 22656), ('종결', 22657), ('내기졌고', 22658), ('지킴', 22659), ('탔습니다', 22660), ('선발은', 22661), ('초청전', 22662), ('이대형', 22663), ('편인', 22664), ('노답', 22665), ('대치동', 22666), ('썩코치', 22667), ('맞힐', 22668), ('급식충은', 22669), ('혀야', 22670), ('하시길래', 22671), ('오셨어요', 22672), ('정수빈이', 22673), ('불꽃피칭', 22674), ('무시무시한', 22675), ('약점을', 22676), ('노리는', 22677), ('폭설속', 22678), ('조금의', 22679), ('갈린', 22680), ('승패', 22681), ('스탯', 22682), ('몇겹이면', 22683), ('블릿츠볼', 22684), ('세이프', 22685), ('매의눈', 22686), ('분투기', 22687), ('볼께요', 22688), ('개막전', 22689), ('월간', 22690), ('경력자', 22691), ('포수가', 22692), ('전역하고', 22693), ('익명요청', 22694), ('쭈욱쭉', 22695), ('뻣으시네요', 22696), ('올려봅니다', 22697), ('초반', 22698), ('한지', 22699), ('유격수를', 22700), ('명지대', 22701), ('전주', 22702), ('이건희', 22703), ('선우태건', 22704), ('지적아닌', 22705), ('조언부탁드려요', 22706), ('지적', 22707), ('해주세', 22708), ('언더', 22709), ('변칙', 22710), ('분전기', 22711), ('덤볐다가', 22712), ('해탈', 22713), ('최상위팀', 22714), ('하위팀', 22715), ('극장', 22716), ('기아팬인', 22717), ('공놓은지', 22718), ('년된', 22719), ('힘드네요', 22720), ('드심', 22721), ('조언부탁', 22722), ('입문한', 22723), ('조언구해요', 22724), ('해주신다는', 22725), ('대님', 22726), ('언더스로', 22727), ('연식', 22728), ('제구의', 22729), ('부족한점이', 22730), ('팔각도가', 22731), ('뻗는공', 22732), ('줄어드네요', 22733), ('하신분은', 22734), ('다르네요', 22735), ('포크볼', 22736), ('킬로', 22737), ('경남', 22738), ('조언구', 22739), ('답지', 22740), ('체구이지만', 22741), ('설기현', 22742), ('뽀록인가', 22743), ('스포티비도', 22744), ('짤림', 22745), ('흥민아', 22746), ('입대', 22747), ('병장', 22748), ('삭감', 22749), ('여병대', 22750), ('미모', 22751), ('쿠보가', 22752), ('국뽕이', 22753), ('레알마', 22754), ('이적설', 22755), ('미드필더의', 22756), ('현업', 22757), ('갈게요', 22758), ('빡쳤다', 22759), ('갈수', 22760), ('있었는데', 22761), ('구단들', 22762), ('의심하게', 22763), ('윙어', 22764), ('육상', 22765), ('떡상시킨', 22766), ('페르난', 22767), ('갈길이', 22768), ('멀었다', 22769), ('사무국', 22770), ('안이', 22771), ('어처구니', 22772), ('실수한', 22773), ('오블락', 22774), ('자칫', 22775), ('공중분해', 22776), ('발전이', 22777), ('애정이', 22778), ('손모', 22779), ('하비', 22780), ('박지성의', 22781), ('전술적', 22782), ('골대에', 22783), ('뒤바꾼', 22784), ('펩과', 22785), ('ㅣ레알', 22786), ('뮌헨이', 22787), ('몇위', 22788), ('빨무의', 22789), ('인피쉰', 22790), ('헹트', 22791), ('첼시의', 22792), ('서인', 22793), ('ㅣ첼시', 22794), ('당돌한', 22795), ('여신', 22796), ('나플라', 22797), ('루피와', 22798), ('뭐이', 22799), ('다놀', 22800), ('매과이어는', 22801), ('노파울', 22802), ('연속골', 22803), ('박고', 22804), ('메킷레인', 22805), ('동료', 22806), ('델레알리', 22807), ('했었다고', 22808), ('못뛸까', 22809), ('반백살', 22810), ('롤병지', 22811), ('옹호한', 22812), ('스털링도', 22813), ('정우영ㅣ', 22814), ('단언컨대', 22815), ('열에', 22816), ('아홉은', 22817), ('노리치전', 22818), ('국뽕왕', 22819), ('석세스', 22820), ('호주전', 22821), ('영재들', 22822), ('검증하고', 22823), ('요르단', 22824), ('지렸드아', 22825), ('창단', 22826), ('이공은', 22827), ('아쉬웠던', 22828), ('테니스공을', 22829), ('피한다길래', 22830), ('칼든강도', 22831), ('뭉쳐야찬다', 22832), ('읽다가', 22833), ('욕한', 22834), ('피디가', 22835), ('덫', 22836), ('ㅣ꽁지', 22837), ('함부르크발', 22838), ('이적설에', 22839), ('주전', 22840), ('에가면', 22841), ('꼭있음', 22842), ('꽁꽁', 22843), ('기안중', 22844), ('갈릴', 22845), ('램파드한테', 22846), ('첼시전', 22847), ('무패로', 22848), ('민재형', 22849), ('신태용', 22850), ('미나미노', 22851), ('ㅣ동', 22852), ('밍구학살시대', 22853), ('감수하고', 22854), ('난입한', 22855), ('노림수', 22856), ('호돈신', 22857), ('같았다고', 22858), ('푸스카스급', 22859), ('원더골ㅣ', 22860), ('번리', 22861), ('돌았맨', 22862), ('니시노', 22863), ('집보낸', 22864), ('수비가담에', 22865), ('온도', 22866), ('이적에', 22867), ('거절한', 22868), ('마레즈', 22869), ('뭔데', 22870), ('ㅋ구', 22871), ('첫어시는', 22872), ('의도한', 22873), ('행운의', 22874), ('미스일까', 22875), ('수비혹사', 22876), ('본머스전', 22877), ('볼보이의', 22878), ('살살차도', 22879), ('대활', 22880), ('태클', 22881), ('햄ㅣ', 22882), ('못본척', 22883), ('나이로', 22884), ('간다면', 22885), ('다닐루', 22886), ('실점을', 22887), ('아쉬워', 22888), ('김신욱', 22889), ('레바논', 22890), ('도중에', 22891), ('불경외', 22892), ('최용수', 22893), ('망할것', 22894), ('호골', 22895), ('셰필드전', 22896), ('나이불문', 22897), ('체력장', 22898), ('뽀개기', 22899), ('병수볼', 22900), ('뛰는', 22901), ('생명나눔', 22902), ('놀리려고', 22903), ('었는데', 22904), ('안필드의', 22905), ('벽은', 22906), ('높았다', 22907), ('수비벽', 22908), ('라멜라가', 22909), ('접을', 22910), ('즈베즈다전의', 22911), ('다행', 22912), ('말바꾸는', 22913), ('ㅋ근호', 22914), ('승규', 22915), ('얼짱', 22916), ('여중생', 22917), ('했냐', 22918), ('원정', 22919), ('스리랑카전', 22920), ('위썰', 22921), ('프런트', 22922), ('뭐부터', 22923), ('바꿔야됨', 22924), ('연출이', 22925), ('한신포차', 22926), ('기획한', 22927), ('오웬도', 22928), ('두명만', 22929), ('오면돼', 22930), ('보이비에게', 22931), ('피처링은', 22932), ('안시켜준다고', 22933), ('귀앵두지', 22934), ('보이비', 22935), ('혈압주', 22936), ('트럭면허', 22937), ('테', 22938), ('맨투맨', 22939), ('붙이기', 22940), ('멀티골', 22941), ('아육대', 22942), ('짱먹은', 22943), ('강슛', 22944), ('김신욱을', 22945), ('선발로', 22946), ('써야한다고', 22947), ('ㅣ투르크메니스탄전', 22948), ('ㅋ지형', 22949), ('아스널', 22950), ('땡볕', 22951), ('고픈', 22952), ('소집', 22953), ('뉴캐슬', 22954), ('꽉막힌', 22955), ('처참', 22956), ('킥실', 22957), ('닮는다더니', 22958), ('저절로', 22959), ('복귀전', 22960), ('터닝', 22961), ('잘한다는', 22962), ('근무', 22963), ('술쳐', 22964), ('뻗어', 22965), ('직원을', 22966), ('대부도맛집', 22967), ('유스', 22968), ('빡겜', 22969), ('수송', 22970), ('최경진', 22971), ('서핑', 22972), ('피서', 22973), ('기분드는', 22974), ('비유', 22975), ('축잘알임', 22976), ('안될줄', 22977), ('알았음', 22978), ('보상', 22979), ('팬분들', 22980), ('파도파도', 22981), ('악몽이', 22982), ('자빠트리는', 22983), ('춉', 22984), ('박겠습니다', 22985), ('박지성', 22986), ('기량은', 22987), ('전반전', 22988), ('노매너', 22989), ('선배랑', 22990), ('베컴처럼', 22991), ('강하고', 22992), ('치사함', 22993), ('할머님', 22994), ('살겠습니다', 22995), ('강호동과', 22996), ('킥이', 22997), ('쎔', 22998), ('있진', 22999), ('않나요', 23000), ('마르세유턴', 23001), ('심심', 23002), ('웨트', 23003), ('감상하시죠', 23004), ('헛다리', 23005), ('로빙슛은', 23006), ('흡수', 23007), ('더잘', 23008), ('페널티', 23009), ('선출들과', 23010), ('빡센', 23011), ('후리기', 23012), ('과격함', 23013), ('다있음', 23014), ('두유노', 23015), ('ㅋ흥민월클', 23016), ('슛파워', 23017), ('빨래줄슛', 23018), ('오졌다', 23019), ('장에선', 23020), ('국대도', 23021), ('터치실화', 23022), ('국대와', 23023), ('뮌헨', 23024), ('정우영', 23025), ('부르크', 23026), ('이적료', 23027), ('준주전', 23028), ('레슨을', 23029), ('이었습니다', 23030), ('담기는', 23031), ('포항', 23032), ('밝힌', 23033), ('수상자와', 23034), ('님들께', 23035), ('편에', 23036), ('디테일', 23037), ('미쳤음', 23038), ('보이나요', 23039), ('눈부신', 23040), ('호에게서', 23041), ('웨트와', 23042), ('본선', 23043), ('조추첨식', 23044), ('하편', 23045), ('상편', 23046), ('케인', 23047), ('판다컵', 23048), ('트로피', 23049), ('쫒아가기', 23050), ('기사님께서', 23051), ('남아공전', 23052), ('조영욱', 23053), ('전반은', 23054), ('후반은', 23055), ('싸인해달란', 23056), ('대결도', 23057), ('분량', 23058), ('됐던', 23059), ('체육대회', 23060), ('너네쫌부럽네', 23061), ('포르투갈전', 23062), ('어땠나', 23063), ('그와중에', 23064), ('세이브', 23065), ('파워초', 23066), ('제목', 23067), ('못마시게', 23068), ('시켰다면', 23069), ('십니까', 23070), ('헝', 23071), ('뛸것', 23072), ('보러갔는데', 23073), ('극장골', 23074), ('바르샤', 23075), ('보ㅎ', 23076), ('차니까', 23077), ('미친신기록', 23078), ('있음', 23079), ('강호동', 23080), ('다커도', 23081), ('뛴날', 23082), ('영원하', 23083), ('형컴이', 23084), ('입덕녀의', 23085), ('축잘알들', 23086), ('도와줘', 23087), ('버블수트', 23088), ('입으니', 23089), ('난투극', 23090), ('아주대', 23091), ('놀', 23092), ('남친이랑', 23093), ('대구에', 23094), ('빛현우가', 23095), ('반겨주는데', 23096), ('주시은', 23097), ('눈멀고옴', 23098), ('아휴', 23099), ('못넣냐', 23100), ('해봐', 23101), ('짜슥아', 23102), ('ㅣ의', 23103), ('족구는', 23104), ('김현회', 23105), ('폭주한', 23106), ('꽃리즈시절', 23107), ('피파실', 23108), ('넥센이', 23109), ('게이머에게', 23110), ('볼차는건', 23111), ('유상철이', 23112), ('진심어린', 23113), ('정재영이', 23114), ('발리는', 23115), ('선관위ㅣ경남', 23116), ('징계위ㅣ', 23117), ('견해는', 23118), ('시소코는', 23119), ('인듯', 23120), ('실점은', 23121), ('로즈', 23122), ('센치만', 23123), ('컸으면', 23124), ('갔지', 23125), ('못봤다', 23126), ('간접체ㅎ', 23127), ('콜롬비아', 23128), ('매치ㅣ', 23129), ('나왔으면', 23130), ('볼리비아', 23131), ('ㅣ슛', 23132), ('골ㅣ플스', 23133), ('경품', 23134), ('쏜다ㅣ', 23135), ('패드', 23136), ('플스', 23137), ('팟ㅣ', 23138), ('억에', 23139), ('올금카팀', 23140), ('못함', 23141), ('세리에', 23142), ('물오른', 23143), ('제치고', 23144), ('뽑힌', 23145), ('검증된', 23146), ('국대소집', 23147), ('오픈식', 23148), ('집착쩌네', 23149), ('ㅣ현영민은', 23150), ('몇번', 23151), ('찼을까', 23152), ('냉각기계에', 23153), ('동체시력', 23154), ('고요속의', 23155), ('개국어', 23156), ('총집합', 23157), ('박지영', 23158), ('눈부심', 23159), ('이정돕니다ㅣ', 23160), ('족구대결', 23161), ('솔샤르의', 23162), ('계약을', 23163), ('작업중이다', 23164), ('한달안에', 23165), ('티비와', 23166), ('둘중', 23167), ('한명은', 23168), ('첫탄부터', 23169), ('뛸때', 23170), ('빡침', 23171), ('푸른심장', 23172), ('ㅣ그때', 23173), ('억이랑', 23174), ('안바꾼다', 23175), ('하고픈', 23176), ('ㅣ네', 23177), ('피피엘', 23178), ('여보', 23179), ('허락해줘', 23180), ('즈만이', 23181), ('신는', 23182), ('하려다', 23183), ('대결ㅣ미션찍기', 23184), ('겁나어렵네', 23185), ('얼리코킹', 23186), ('벌리는법', 23187), ('기량발전은', 23188), ('다리벌려', 23189), ('요시다', 23190), ('별풍은', 23191), ('춤추게한다', 23192), ('선발출장', 23193), ('무기력한', 23194), ('부족했나', 23195), ('웃다', 23196), ('선배말에', 23197), ('사막서', 23198), ('펼쳐진', 23199), ('그와중', 23200), ('드는법', 23201), ('기성용', 23202), ('부상여파ㅣ', 23203), ('뛸까', 23204), ('이청용이', 23205), ('무개념', 23206), ('선출들의', 23207), ('뛰게한', 23208), ('혹사인가', 23209), ('이상무', 23210), ('물병', 23211), ('걷어찬', 23212), ('국대선배들은', 23213), ('미녀들의', 23214), ('밤문화', 23215), ('ㅣ눈', 23216), ('ㅣ선상뷔페', 23217), ('묵었던', 23218), ('쩐다ㅣ스위트룸', 23219), ('억원', 23220), ('밝음', 23221), ('못이긴', 23222), ('중등부', 23223), ('관왕팀', 23224), ('키르기스스탄전', 23225), ('끝이었다', 23226), ('냉정함', 23227), ('발로찬', 23228), ('무릎꿇기', 23229), ('필리핀전', 23230), ('진땀승', 23231), ('김승규실수', 23232), ('ㅣ운도', 23233), ('황제이발소', 23234), ('백은', 23235), ('꽁인사ㅣ', 23236), ('시합중', 23237), ('슬리핑원', 23238), ('졸리뉴', 23239), ('과로디', 23240), ('자미오네', 23241), ('차는법', 23242), ('잘차는', 23243), ('찰수', 23244), ('부위', 23245), ('최태욱', 23246), ('홍명보', 23247), ('자선', 23248), ('대회ㅣ', 23249), ('강수일', 23250), ('한골', 23251), ('아쉽다ㅣ신', 23252), ('나이스', 23253), ('ㅣ별별', 23254), ('있네ㅣ', 23255), ('시합', 23256), ('이운재', 23257), ('ㅣ밸런스', 23258), ('진격의', 23259), ('풋풋한', 23260), ('산이', 23261), ('토토', 23262), ('대박각', 23263), ('신들린', 23264), ('게해서', 23265), ('넘으면', 23266), ('자른다', 23267), ('썰ㅣ', 23268), ('남여', 23269), ('원탑', 23270), ('대결ㅣ', 23271), ('위끼리', 23272), ('붙음', 23273), ('만만하게', 23274), ('털렸습니다', 23275), ('만만하냐ㅣ', 23276), ('심서연', 23277), ('이세은ㅣ', 23278), ('외모', 23279), ('동심파괴', 23280), ('터진날ㅣ청춘', 23281), ('대단한데', 23282), ('쓰겠습니다ㅣ구단창단', 23283), ('랩볼', 23284), ('오프', 23285), ('알사건', 23286), ('말컹', 23287), ('잘할것', 23288), ('안밀림', 23289), ('파크', 23290), ('어ㅣ', 23291), ('티카ㅣ태산', 23292), ('지아', 23293), ('시온', 23294), ('지욱', 23295), ('명과', 23296), ('지구특', 23297), ('공대', 23298), ('살릴', 23299), ('니까요', 23300), ('썰전', 23301), ('ㅣ뛰는', 23302), ('놈ㅣ', 23303), ('아산무궁화', 23304), ('단의', 23305), ('존속을', 23306), ('모아주십시오', 23307), ('파나마', 23308), ('위팀과', 23309), ('포상휴가', 23310), ('대대', 23311), ('호사우지뉴', 23312), ('붙은', 23313), ('썰ㅣ한두', 23314), ('네ㅣ', 23315), ('ㅣ굴리트', 23316), ('임은', 23317), ('이정수', 23318), ('덕소', 23319), ('은혜', 23320), ('갚은', 23321), ('사러', 23322), ('싸카', 23323), ('현영민', 23324), ('다산네트웍스', 23325), ('카윗이', 23326), ('했네요', 23327), ('푼썰', 23328), ('염기훈', 23329), ('수원간', 23330), ('쐬뽕', 23331), ('신어', 23332), ('고랑', 23333), ('라ㅣ', 23334), ('ㅣ지능형', 23335), ('안티', 23336), ('경품상품이', 23337), ('아쉽지만', 23338), ('싸웠다', 23339), ('장어맛집', 23340), ('만수정', 23341), ('김피디', 23342), ('첫승ㅣ', 23343), ('타리카', 23344), ('남태희ㅣ', 23345), ('백이야ㅣ', 23346), ('백론ㅣ국대', 23347), ('ㅣ성지', 23348), ('예지력ㅣ', 23349), ('ㅣ아직', 23350), ('멀었어ㅣ', 23351), ('전ㅣ강남', 23352), ('모집ㅣ', 23353), ('까방권', 23354), ('획득ㅣ수고', 23355), ('갖는다', 23356), ('문란', 23357), ('ㅃ', 23358), ('혀컴', 23359), ('ㅣ쌀딩크는', 23360), ('중계진', 23361), ('ㅣ성지순례', 23362), ('강전ㅣ', 23363), ('송범근', 23364), ('리벤지', 23365), ('숙적', 23366), ('첫골', 23367), ('신고식ㅣ', 23368), ('키르기스스탄', 23369), ('ㅣ이겼지만', 23370), ('ㅣ이란전', 23371), ('위닝', 23372), ('가르치면', 23373), ('키퍼로', 23374), ('말레이시아', 23375), ('ㅣ참혹한', 23376), ('해트트릭ㅣ', 23377), ('한달만에', 23378), ('로스가', 23379), ('거라고', 23380), ('ㅣ국대', 23381), ('정리ㅣ주먹', 23382), ('두방', 23383), ('면ㅣ', 23384), ('맛나네', 23385), ('ㅣ이정도야', 23386), ('ㅣ아는', 23387), ('가져와봐ㅣ', 23388), ('아퐈', 23389), ('말벌집', 23390), ('토레스', 23391), ('이니에', 23392), ('볼링핀', 23393), ('ㅣ쉬워', 23394), ('해봐ㅣ', 23395), ('윙병지', 23396), ('뭘로하지', 23397), ('오빠차', 23398), ('꽁카', 23399), ('정당했나', 23400), ('ㅣ정', 23401), ('정리ㅣ', 23402), ('지ㅣ아직', 23403), ('녹슬지', 23404), ('이런것도', 23405), ('박건하', 23406), ('체크ㅣ', 23407), ('ㅣ이적', 23408), ('메디컬', 23409), ('ㅣ빵꾸', 23410), ('꽁벤트', 23411), ('한명한테', 23412), ('몰빵하기', 23413), ('이쯤', 23414), ('한달전', 23415), ('아티아ㅣ', 23416), ('이재성', 23417), ('아팠어요', 23418), ('ㅣ이재성', 23419), ('문선민편', 23420), ('ㅣ문선민', 23421), ('싶으세요', 23422), ('레알보다', 23423), ('구글민구의', 23424), ('외신', 23425), ('포브스', 23426), ('찌라시', 23427), ('강전', 23428), ('아티아', 23429), ('잉글랜드ㅣ미친체력', 23430), ('아티아ㅣ아', 23431), ('선진', 23432), ('극딜에', 23433), ('눈엔', 23434), ('수아레즈의', 23435), ('영리한', 23436), ('맞춰라ㅣ', 23437), ('개ㅣ', 23438), ('가랑이', 23439), ('공잼', 23440), ('기다렸다', 23441), ('벨기에', 23442), ('속내', 23443), ('축협', 23444), ('라디오', 23445), ('급만남', 23446), ('성사ㅣ', 23447), ('자ㅣ', 23448), ('아르헨티나', 23449), ('이시강', 23450), ('병지형이', 23451), ('쏩니다', 23452), ('사모님은', 23453), ('몰라야', 23454), ('패인', 23455), ('멕시코전', 23456), ('보거라', 23457), ('볼감각', 23458), ('향상', 23459), ('증진', 23460), ('버렸다ㅠ', 23461), ('레게노', 23462), ('장비빨', 23463), ('해리', 23464), ('케인의', 23465), ('박제로이', 23466), ('긁는', 23467), ('뭐지', 23468), ('한쿡살암보지마라요', 23469), ('즈만', 23470), ('으', 23471), ('터득', 23472), ('가레스', 23473), ('베일', 23474), ('ㅅ음', 23475), ('양학', 23476), ('전수할게', 23477), ('힐킥', 23478), ('돌기', 23479), ('화의', 23480), ('스핀', 23481), ('될수있음', 23482), ('골의', 23483), ('데터', 23484), ('볼게요', 23485), ('트라오레', 23486), ('재능보다', 23487), ('양발', 23488), ('데브', 23489), ('너와', 23490), ('불도저', 23491), ('황소도', 23492), ('차붐', 23493), ('차야', 23494), ('어려워요', 23495), ('파워슛', 23496), ('피르미누와', 23497), ('송파구', 23498), ('송파', 23499), ('저에게', 23500), ('배웠던', 23501), ('유스에', 23502), ('베컴이', 23503), ('킥커볼은', 23504), ('주급', 23505), ('전용화는', 23506), ('축존심', 23507), ('발견되네', 23508), ('분발', 23509), ('수원에', 23510), ('카메', 23511), ('룬', 23512), ('음메페', 23513), ('훈', 23514), ('막내형', 23515), ('장착', 23516), ('장ㄱ', 23517), ('구사', 23518), ('캉테', 23519), ('중딩님께', 23520), ('중력', 23521), ('대관령', 23522), ('쏭', 23523), ('날강두', 23524), ('습격', 23525), ('두유노우', 23526), ('세징야', 23527), ('혼날두', 23528), ('할게', 23529), ('정녕', 23530), ('축기부여', 23531), ('튜닝해서', 23532), ('욤', 23533), ('김종국', 23534), ('풀버', 23535), ('젼', 23536), ('해볼까요', 23537), ('실래요', 23538), ('꼴등은', 23539), ('남극', 23540), ('미드필더가', 23541), ('종아리', 23542), ('굵기', 23543), ('므하시노', 23544), ('휘는', 23545), ('꽂으면', 23546), ('낙차가', 23547), ('놀랍네요', 23548), ('모으세요', 23549), ('가천', 23550), ('만수르', 23551), ('소유', 23552), ('미드필더', 23553), ('화로', 23554), ('형이라고', 23555), ('치로', 23556), ('고종수와', 23557), ('넘사', 23558), ('기막힘', 23559), ('차는', 23560), ('꼴등', 23561), ('축튜버의', 23562), ('사촌', 23563), ('튕겼어요', 23564), ('수면제', 23565), ('킥커볼', 23566), ('가출', 23567), ('콰레스마', 23568), ('형과', 23569), ('중앙고', 23570), ('유니폼만', 23571), ('축잘ㅋ', 23572), ('네이마', 23573), ('ㄴㄴ', 23574), ('제이마르', 23575), ('스쿨어택', 23576), ('우주최', 23577), ('김연아슛', 23578), ('슛ㅣ번지', 23579), ('굵으면', 23580), ('국대님', 23581), ('뺏어보세ㅋ', 23582), ('손꼬락', 23583), ('보러', 23584), ('갔어ㅋ', 23585), ('습ㅋ', 23586), ('갸', 23587), ('다모임', 23588), ('갓의조', 23589), ('재연', 23590), ('감차랑', 23591), ('까ㅋ', 23592), ('탄ㅋ', 23593), ('녀', 23594), ('넘사벽', 23595), ('싱ㅋ', 23596), ('연ㅋ', 23597), ('해봄', 23598), ('해볼게뉴', 23599), ('제날두', 23600), ('제티뉴', 23601), ('알렸어욤', 23602), ('힙합', 23603), ('뮤지션', 23604), ('해봐뉴', 23605), ('돼즈아', 23606), ('맞음요', 23607), ('따봉', 23608), ('잘한다', 23609), ('인싸다', 23610), ('믿으십니까', 23611), ('꼬집는', 23612), ('열리는', 23613), ('ㄱㄱㄱ', 23614), ('안떨구기', 23615), ('떨구면', 23616), ('선ㅋ', 23617), ('강이가', 23618), ('만납니다', 23619), ('우뜽', 23620), ('실화임', 23621), ('준다고', 23622), ('삼행시', 23623), ('아익쿠', 23624), ('컨트', 23625), ('호호호', 23626), ('마르셀로는', 23627), ('기술의', 23628), ('애벌레', 23629), ('훈ㄱㄱ', 23630), ('이제야', 23631), ('자선대회', 23632), ('즈만의', 23633), ('시클', 23634), ('빨랫줄', 23635), ('보즈아', 23636), ('유니폼', 23637), ('레플리카', 23638), ('음바페', 23639), ('부러질뻔', 23640), ('댑', 23641), ('코발', 23642), ('오지는', 23643), ('만다ㅣ유소년', 23644), ('복원', 23645), ('소생술', 23646), ('마르셀로', 23647), ('퍼베놈', 23648), ('언박싱', 23649), ('잠재력', 23650), ('시져스', 23651), ('뗏목', 23652), ('몸풀기', 23653), ('편ㅣ', 23654), ('이란전', 23655), ('물총', 23656), ('해수욕장', 23657), ('배출한', 23658), ('쌤들의', 23659), ('티져', 23660), ('하기ㅣ', 23661), ('인기짱', 23662), ('돼볼까', 23663), ('ㅣ즐라탄', 23664), ('띄우기', 23665), ('찰', 23666), ('촙', 23667), ('충실하자', 23668), ('옥상', 23669), ('탁구공을', 23670), ('홈구장', 23671), ('이나랑', 23672), ('혁뿌쌤', 23673), ('습득', 23674), ('드로인', 23675), ('초급자를', 23676), ('마커', 23677), ('신기술', 23678), ('즐겁다', 23679), ('즐겁지', 23680), ('무각도', 23681), ('세우기', 23682), ('빨려', 23683), ('희열', 23684), ('수준급', 23685), ('가랑이도', 23686), ('노룩', 23687), ('뒤꿈치', 23688), ('경력', 23689), ('미만', 23690), ('맛세이', 23691), ('수영할뻔', 23692), ('위문', 23693), ('팔카오', 23694), ('레슨ㅣ유소년ㅣ', 23695), ('마라도나', 23696), ('화질', 23697), ('황형빈', 23698), ('성균관대', 23699), ('차별화된', 23700), ('고려청자도', 23701), ('ㅣ메리', 23702), ('자세히', 23703), ('투터치ㅣ', 23704), ('네덜란드', 23705), ('누나의', 23706), ('계곡에', 23707), ('호나우지뉴가', 23708), ('볼과', 23709), ('진다면', 23710), ('외질', 23711), ('불금', 23712), ('유연한', 23713), ('몸놀림을', 23714), ('바디', 23715), ('페인팅', 23716), ('살때', 23717), ('섭외', 23718), ('신동', 23719), ('관중들과', 23720), ('워밍업', 23721), ('동연', 23722), ('연습중', 23723), ('대기실', 23724), ('오스카의', 23725), ('권혁부', 23726), ('에피소드', 23727), ('윤지환', 23728), ('스텝', 23729), ('임채명', 23730), ('유성순', 23731), ('호날', 23732), ('호나우딩요', 23733), ('호빙요', 23734), ('카카', 23735), ('레드불', 23736), ('챔피', 23737), ('우창희', 23738), ('귀찮고', 23739), ('불편해서', 23740), ('시는분들', 23741), ('강해졌을까', 23742), ('껴', 23743), ('프가', 23744), ('사기당', 23745), ('넥', 23746), ('스다', 23747), ('벌크업을', 23748), ('안하던데', 23749), ('이러고', 23750), ('삽니다', 23751), ('자가진단', 23752), ('틀어짐', 23753), ('후방경사교정', 23754), ('일자목', 23755), ('굽은등의', 23756), ('넓어질까', 23757), ('신체스팩', 23758), ('없죠', 23759), ('공짜', 23760), ('불균형이', 23761), ('치팅이란', 23762), ('법에', 23763), ('안타깝습니다', 23764), ('살빼기', 23765), ('틀어지는', 23766), ('잡자', 23767), ('뭉트니스', 23768), ('코치가', 23769), ('산지도', 23770), ('칭보다', 23771), ('뭉다요', 23772), ('발란스', 23773), ('틀어진', 23774), ('넓은등의', 23775), ('컨트롤에', 23776), ('가동범위', 23777), ('되세요', 23778), ('전제조건의', 23779), ('금강연화님께', 23780), ('부탁드렸습니다', 23781), ('엠자', 23782), ('팔꿈치가', 23783), ('풀업', 23784), ('비절개', 23785), ('진지함', 23786), ('이두가', 23787), ('바벨컬', 23788), ('는걸까', 23789), ('팔다리는', 23790), ('가는데', 23791), ('조카와', 23792), ('증가는', 23793), ('파워리프터', 23794), ('파워게르만', 23795), ('린매스업', 23796), ('가슴이', 23797), ('쉽지', 23798), ('않구나', 23799), ('쇼킹호', 23800), ('터질뻔', 23801), ('빌더가', 23802), ('수트핏', 23803), ('쇼호', 23804), ('힘자랑', 23805), ('한편', 23806), ('암풀다운', 23807), ('김성환의', 23808), ('주겠다', 23809), ('오해는', 23810), ('풀고', 23811), ('가야죠', 23812), ('진다고요', 23813), ('무게보다는', 23814), ('가볍다', 23815), ('키토식', 23816), ('늘었을까', 23817), ('홍지승에게', 23818), ('믿으세요', 23819), ('안타까웠던', 23820), ('넓어지려면', 23821), ('지는건', 23822), ('멀티랙', 23823), ('헬장들의', 23824), ('찢고', 23825), ('인게이지', 23826), ('커몽', 23827), ('빠질까봐', 23828), ('겁나서', 23829), ('키토가', 23830), ('뛴다고', 23831), ('풀만', 23832), ('살찌는', 23833), ('키토', 23834), ('장보기', 23835), ('트코', 23836), ('끝낸다', 23837), ('폐업', 23838), ('자라네요', 23839), ('복구', 23840), ('걸릴까', 23841), ('프론', 23842), ('저만', 23843), ('경험하고', 23844), ('안하기', 23845), ('주동안은', 23846), ('면서요', 23847), ('치도', 23848), ('일수도', 23849), ('거미', 23850), ('탈모약', 23851), ('나요', 23852), ('모발이식의', 23853), ('증을', 23854), ('줄은', 23855), ('로그', 23856), ('실실', 23857), ('금단현상', 23858), ('인처럼', 23859), ('증명해볼게요', 23860), ('몸개그', 23861), ('가오가', 23862), ('인가봐', 23863), ('아랫배를', 23864), ('팔이', 23865), ('대니조가', 23866), ('성지', 23867), ('호점', 23868), ('인앤아웃', 23869), ('비행기', 23870), ('바디체크', 23871), ('즈가', 23872), ('상상초월', 23873), ('바쁠때', 23874), ('강자를', 23875), ('찌우기', 23876), ('가격이', 23877), ('생에', 23878), ('동국대', 23879), ('초컷', 23880), ('너를', 23881), ('수학과', 23882), ('남성을', 23883), ('코어', 23884), ('폭식후', 23885), ('쉴때는', 23886), ('쉬자', 23887), ('시티드', 23888), ('넓게', 23889), ('푸쉬업', 23890), ('쉽지만', 23891), ('제자리일까', 23892), ('탄력밴드로', 23893), ('지방연소', 23894), ('전신웨이트부터', 23895), ('범벅', 23896), ('세질', 23897), ('하십니까', 23898), ('접근법의', 23899), ('힙', 23900), ('남성', 23901), ('꾸지마', 23902), ('넓은등을', 23903), ('뒷태의', 23904), ('주름', 23905), ('호캉스', 23906), ('팝업', 23907), ('써더', 23908), ('빙에', 23909), ('수영', 23910), ('빈틈', 23911), ('넓은가슴을', 23912), ('어렵게', 23913), ('내맘대로', 23914), ('식도락여행', 23915), ('술한잔', 23916), ('머슬마니아', 23917), ('숯불구이', 23918), ('쿠킹', 23919), ('야외쿠킹', 23920), ('자극오는', 23921), ('아주쉬움', 23922), ('유지어터가', 23923), ('지방파괴', 23924), ('두번하', 23925), ('땀범벅', 23926), ('한자리수', 23927), ('별난', 23928), ('자극법', 23929), ('헌팅법', 23930), ('복잡하다고', 23931), ('턱수염제모', 23932), ('시술직후', 23933), ('유무', 23934), ('요요', 23935), ('유지법은', 23936), ('유지중', 23937), ('뀌면', 23938), ('굶지', 23939), ('핑계', 23940), ('이두보다', 23941), ('삼두를', 23942), ('하체와', 23943), ('소모', 23944), ('먹다', 23945), ('이두와', 23946), ('경계선을', 23947), ('바쁠땐', 23948), ('수염제모', 23949), ('되십니까', 23950), ('주말일상', 23951), ('인바디', 23952), ('맨체스터시티', 23953), ('디움', 23954), ('호셉', 23955), ('과르디', 23956), ('중량은', 23957), ('야한다', 23958), ('동기부여', 23959), ('핑계대고', 23960), ('논문이란', 23961), ('봤다가', 23962), ('갈뻔', 23963), ('블로', 23964), ('강자와', 23965), ('쉬었습니다', 23966), ('틴', 23967), ('단판이다', 23968), ('말왕', 23969), ('치윤', 23970), ('초급자', 23971), ('중급자', 23972), ('상급자', 23973), ('넓은', 23974), ('등하부', 23975), ('자극주는', 23976), ('런지의', 23977), ('공복', 23978), ('해롭다', 23979), ('방향과', 23980), ('팬싸인회', 23981), ('숄더', 23982), ('벌크업하지', 23983), ('아플때', 23984), ('쉬면', 23985), ('손목통증', 23986), ('아랫배', 23987), ('하복부', 23988), ('행잉레그레이즈', 23989), ('편암함', 23990), ('미각을', 23991), ('안쪽가슴', 23992), ('채우는', 23993), ('중량셋팅', 23994), ('무게셋팅', 23995), ('몇키로를', 23996), ('무게', 23997), ('풋쉬업만', 23998), ('이쁜몸', 23999), ('손목이', 24000), ('부상일까', 24001), ('중량에', 24002), ('최악인', 24003), ('척추는', 24004), ('푹잠메트', 24005), ('자기직전', 24006), ('카제인', 24007), ('부스터', 24008), ('외측', 24009), ('전완근', 24010), ('호흡만', 24011), ('대중량이', 24012), ('복압편', 24013), ('전완근을', 24014), ('크를', 24015), ('심하신분들', 24016), ('제발요', 24017), ('팔의', 24018), ('해머컬의', 24019), ('변비', 24020), ('불편한분', 24021), ('하시는분들께', 24022), ('악세서리', 24023), ('위아래로', 24024), ('손목에', 24025), ('부담', 24026), ('이지바컬', 24027), ('쉬다가', 24028), ('금방', 24029), ('머슬메모리', 24030), ('쳐스', 24031), ('팔꿈치', 24032), ('생길까', 24033), ('닝편', 24034), ('찌지', 24035), ('벤트', 24036), ('뽕을', 24037), ('한바퀴면', 24038), ('시트릿', 24039), ('자신에게', 24040), ('실망스럽다면', 24041), ('쳐진', 24042), ('수행', 24043), ('뽀종이', 24044), ('악력이', 24045), ('부족하다', 24046), ('랩이', 24047), ('없을때는', 24048), ('그립법', 24049), ('실수는', 24050), ('뺐다', 24051), ('김지훈', 24052), ('한손', 24053), ('깨기', 24054), ('블을', 24055), ('한자릿수', 24056), ('독이다', 24057), ('넓고', 24058)])"
      ]
     },
     "execution_count": 292,
     "metadata": {
      "tags": []
     },
     "output_type": "execute_result"
    }
   ],
   "source": [
    "lstm_tok.word_index.items()"
   ]
  },
  {
   "cell_type": "code",
   "execution_count": 0,
   "metadata": {
    "colab": {
     "base_uri": "https://localhost:8080/",
     "height": 208
    },
    "colab_type": "code",
    "id": "HzVn-PTv7roW",
    "outputId": "e18279a1-7795-4f3b-bf91-2fa8a79edb7b"
   },
   "outputs": [
    {
     "ename": "IndexError",
     "evalue": "ignored",
     "output_type": "error",
     "traceback": [
      "\u001b[0;31m---------------------------------------------------------------------------\u001b[0m",
      "\u001b[0;31mIndexError\u001b[0m                                Traceback (most recent call last)",
      "\u001b[0;32m<ipython-input-293-34beb07114cf>\u001b[0m in \u001b[0;36m<module>\u001b[0;34m()\u001b[0m\n\u001b[1;32m      2\u001b[0m     \u001b[0mtemp\u001b[0m \u001b[0;34m=\u001b[0m \u001b[0membedding_dict\u001b[0m\u001b[0;34m.\u001b[0m\u001b[0mget\u001b[0m\u001b[0;34m(\u001b[0m\u001b[0mword\u001b[0m\u001b[0;34m)\u001b[0m \u001b[0;31m# 단어(key) 해당되는 임베딩 벡터의 100개의 값(value)를 임시 변수에 저장\u001b[0m\u001b[0;34m\u001b[0m\u001b[0;34m\u001b[0m\u001b[0m\n\u001b[1;32m      3\u001b[0m     \u001b[0;32mif\u001b[0m \u001b[0mtemp\u001b[0m \u001b[0;32mis\u001b[0m \u001b[0;32mnot\u001b[0m \u001b[0;32mNone\u001b[0m\u001b[0;34m:\u001b[0m\u001b[0;34m\u001b[0m\u001b[0;34m\u001b[0m\u001b[0m\n\u001b[0;32m----> 4\u001b[0;31m         \u001b[0membedding_matrix\u001b[0m\u001b[0;34m[\u001b[0m\u001b[0mi\u001b[0m\u001b[0;34m]\u001b[0m \u001b[0;34m=\u001b[0m \u001b[0mtemp\u001b[0m \u001b[0;31m# 임수 변수의 값을 단어와 맵핑되는 인덱스의 행에 삽입\u001b[0m\u001b[0;34m\u001b[0m\u001b[0;34m\u001b[0m\u001b[0m\n\u001b[0m",
      "\u001b[0;31mIndexError\u001b[0m: index 6047 is out of bounds for axis 0 with size 6047"
     ]
    }
   ],
   "source": [
    "for word, i in lstm_tok.word_index.items(): # 훈련 데이터의 단어 집합에서 단어를 1개씩 꺼내온다.\n",
    "    temp = embedding_dict.get(word) # 단어(key) 해당되는 임베딩 벡터의 100개의 값(value)를 임시 변수에 저장\n",
    "    if temp is not None:\n",
    "        embedding_matrix[i] = temp # 임수 변수의 값을 단어와 맵핑되는 인덱스의 행에 삽입"
   ]
  },
  {
   "cell_type": "code",
   "execution_count": 0,
   "metadata": {
    "colab": {},
    "colab_type": "code",
    "id": "ntfsfZBy-akG"
   },
   "outputs": [],
   "source": []
  },
  {
   "cell_type": "code",
   "execution_count": 0,
   "metadata": {
    "colab": {},
    "colab_type": "code",
    "id": "inHfDL4M-aiU"
   },
   "outputs": [],
   "source": []
  },
  {
   "cell_type": "code",
   "execution_count": 0,
   "metadata": {
    "colab": {},
    "colab_type": "code",
    "id": "67HRdgxN7rnJ"
   },
   "outputs": [],
   "source": []
  },
  {
   "cell_type": "code",
   "execution_count": 0,
   "metadata": {
    "colab": {},
    "colab_type": "code",
    "id": "eVCpx7f96vj7"
   },
   "outputs": [],
   "source": [
    "model_mw = Sequential()\n",
    "model_mw.add(Embedding(vocab_size, 30))\n",
    "model_mw.add(LSTM(30))\n",
    "model_mw.add(Dense(7, activation='softmax'))"
   ]
  },
  {
   "cell_type": "code",
   "execution_count": 0,
   "metadata": {
    "colab": {},
    "colab_type": "code",
    "id": "x41mxehr6vj_"
   },
   "outputs": [],
   "source": [
    "es = EarlyStopping(monitor='val_loss', mode='min', verbose=1, patience=4)\n",
    "mc = ModelCheckpoint('best_model.h5', monitor='val_acc', mode='max', verbose=1, save_best_only=True)"
   ]
  },
  {
   "cell_type": "code",
   "execution_count": 0,
   "metadata": {
    "colab": {},
    "colab_type": "code",
    "id": "whA_EJ8t6vkC"
   },
   "outputs": [],
   "source": [
    "model_mw.compile(optimizer='rmsprop', loss='categorical_crossentropy', metrics=['acc'])"
   ]
  },
  {
   "cell_type": "code",
   "execution_count": 0,
   "metadata": {
    "colab": {},
    "colab_type": "code",
    "id": "dOQVqHLs6vkE"
   },
   "outputs": [],
   "source": [
    "history_mw = model_mw.fit(X_train, y_train, epochs=15, callbacks=[es, mc], batch_size=60, validation_split=0.2)"
   ]
  },
  {
   "cell_type": "code",
   "execution_count": 0,
   "metadata": {
    "colab": {
     "base_uri": "https://localhost:8080/",
     "height": 70
    },
    "colab_type": "code",
    "id": "b7oZCcxW6vkH",
    "outputId": "7e1c948a-1162-44ba-94f2-8fee8f2fcfa1"
   },
   "outputs": [
    {
     "name": "stdout",
     "output_type": "stream",
     "text": [
      "85/85 [==============================] - 0s 3ms/step - loss: 0.6681 - acc: 0.7837\n",
      "\n",
      " 테스트 정확도: 0.7837\n"
     ]
    }
   ],
   "source": [
    "loaded_model = load_model('best_model.h5')\n",
    "print(\"\\n 테스트 정확도: %.4f\" % (loaded_model.evaluate(X_test, y_test)[1]))"
   ]
  },
  {
   "cell_type": "code",
   "execution_count": 0,
   "metadata": {
    "colab": {
     "base_uri": "https://localhost:8080/",
     "height": 295
    },
    "colab_type": "code",
    "id": "E2U6x1O36vkJ",
    "outputId": "4cb5c365-6d8b-4538-f610-3d7a351b4a43"
   },
   "outputs": [
    {
     "data": {
      "image/png": "[encoded data removed]",
      "text/plain": [
       "<Figure size 432x288 with 1 Axes>"
      ]
     },
     "metadata": {
      "needs_background": "light",
      "tags": []
     },
     "output_type": "display_data"
    }
   ],
   "source": [
    "epochs = range(1, len(history_mw.history['acc']) + 1)\n",
    "plt.plot(epochs, history_mw.history['loss'])\n",
    "plt.plot(epochs, history_mw.history['val_loss'])\n",
    "plt.title('model loss')\n",
    "plt.ylabel('loss')\n",
    "plt.xlabel('epoch')\n",
    "plt.legend(['train', 'val'], loc='upper left')\n",
    "plt.show()"
   ]
  },
  {
   "cell_type": "markdown",
   "metadata": {
    "colab_type": "text",
    "id": "CXjoKDBwob6h"
   },
   "source": [
    "#### CNN"
   ]
  },
  {
   "cell_type": "code",
   "execution_count": 0,
   "metadata": {
    "colab": {},
    "colab_type": "code",
    "id": "zI2iqI5FxGXi"
   },
   "outputs": [],
   "source": [
    "import tensorflow as tf\n",
    "from tensorflow import keras\n",
    "assert tf.__version__ >= \"2.0\"\n"
   ]
  },
  {
   "cell_type": "code",
   "execution_count": 0,
   "metadata": {
    "colab": {},
    "colab_type": "code",
    "id": "RbzJIyi84QPZ"
   },
   "outputs": [],
   "source": []
  },
  {
   "cell_type": "code",
   "execution_count": 0,
   "metadata": {
    "colab": {},
    "colab_type": "code",
    "id": "Qi86FacU4S-u"
   },
   "outputs": [],
   "source": []
  },
  {
   "cell_type": "code",
   "execution_count": 0,
   "metadata": {
    "colab": {},
    "colab_type": "code",
    "id": "rk7oG5XD4S3b"
   },
   "outputs": [],
   "source": []
  },
  {
   "cell_type": "code",
   "execution_count": 0,
   "metadata": {
    "colab": {},
    "colab_type": "code",
    "id": "oKtrXzXd4S2K"
   },
   "outputs": [],
   "source": []
  },
  {
   "cell_type": "code",
   "execution_count": 0,
   "metadata": {
    "colab": {},
    "colab_type": "code",
    "id": "qbH_NsNv4QJt"
   },
   "outputs": [],
   "source": [
    "import tensorflow as tf\n",
    "import numpy as np\n",
    "\n",
    "\n",
    "class TextCNN(object):\n",
    "    \"\"\"\n",
    "    A CNN for text classification.\n",
    "    Uses an embedding layer, followed by a convolutional, max-pooling and softmax layer.\n",
    "    \"\"\"\n",
    "    def __init__(\n",
    "      self, sequence_length, num_classes, vocab_size,\n",
    "      embedding_size, filter_sizes, num_filters, l2_reg_lambda=0.0):\n",
    "\n",
    "        # Placeholders for input, output and dropout\n",
    "        self.input_x = tf.placeholder(tf.int32, [None, sequence_length], name=\"input_x\")\n",
    "        self.input_y = tf.placeholder(tf.float32, [None, num_classes], name=\"input_y\")\n",
    "        self.dropout_keep_prob = tf.placeholder(tf.float32, name=\"dropout_keep_prob\")\n",
    "\n",
    "        # Keeping track of l2 regularization loss (optional)\n",
    "        l2_loss = tf.constant(0.0)\n",
    "\n",
    "        # Embedding layer\n",
    "        with tf.device('/cpu:0'), tf.name_scope(\"embedding\"):\n",
    "            W = tf.Variable(\n",
    "                tf.random_uniform([vocab_size, embedding_size], -1.0, 1.0),\n",
    "                name=\"W\")\n",
    "            self.embedded_chars = tf.nn.embedding_lookup(W, self.input_x)\n",
    "            self.embedded_chars_expanded = tf.expand_dims(self.embedded_chars, -1)\n",
    "\n",
    "        # Create a convolution + maxpool layer for each filter size\n",
    "        pooled_outputs = []\n",
    "        for i, filter_size in enumerate(filter_sizes):\n",
    "            with tf.name_scope(\"conv-maxpool-%s\" % filter_size):\n",
    "                # Convolution Layer\n",
    "                filter_shape = [filter_size, embedding_size, 1, num_filters]\n",
    "                W = tf.Variable(tf.truncated_normal(filter_shape, stddev=0.1), name=\"W\")\n",
    "                b = tf.Variable(tf.constant(0.1, shape=[num_filters]), name=\"b\")\n",
    "                conv = tf.nn.conv2d(\n",
    "                    self.embedded_chars_expanded,\n",
    "                    W,\n",
    "                    strides=[1, 1, 1, 1],\n",
    "                    padding=\"VALID\",\n",
    "                    name=\"conv\")\n",
    "                # Apply nonlinearity\n",
    "                h = tf.nn.relu(tf.nn.bias_add(conv, b), name=\"relu\")\n",
    "                # Maxpooling over the outputs\n",
    "                pooled = tf.nn.max_pool(\n",
    "                    h,\n",
    "                    ksize=[1, sequence_length - filter_size + 1, 1, 1],\n",
    "                    strides=[1, 1, 1, 1],\n",
    "                    padding='VALID',\n",
    "                    name=\"pool\")\n",
    "                pooled_outputs.append(pooled)\n",
    "\n",
    "        # Combine all the pooled features\n",
    "        num_filters_total = num_filters * len(filter_sizes)\n",
    "        self.h_pool = tf.concat(3, pooled_outputs)\n",
    "        self.h_pool_flat = tf.reshape(self.h_pool, [-1, num_filters_total])\n",
    "\n",
    "        # Add dropout\n",
    "        with tf.name_scope(\"dropout\"):\n",
    "            self.h_drop = tf.nn.dropout(self.h_pool_flat, self.dropout_keep_prob)\n",
    "\n",
    "        # Final (unnormalized) scores and predictions\n",
    "        with tf.name_scope(\"output\"):\n",
    "            W = tf.get_variable(\n",
    "                \"W\",\n",
    "                shape=[num_filters_total, num_classes],\n",
    "                initializer=tf.contrib.layers.xavier_initializer())\n",
    "            b = tf.Variable(tf.constant(0.1, shape=[num_classes]), name=\"b\")\n",
    "            l2_loss += tf.nn.l2_loss(W)\n",
    "            l2_loss += tf.nn.l2_loss(b)\n",
    "            self.scores = tf.nn.xw_plus_b(self.h_drop, W, b, name=\"scores\")\n",
    "            self.predictions = tf.argmax(self.scores, 1, name=\"predictions\")\n",
    "\n",
    "        # CalculateMean cross-entropy loss\n",
    "        with tf.name_scope(\"loss\"):\n",
    "            losses = tf.nn.softmax_cross_entropy_with_logits(self.scores, self.input_y)\n",
    "            self.loss = tf.reduce_mean(losses) + l2_reg_lambda * l2_loss\n",
    "\n",
    "        # Accuracy\n",
    "        with tf.name_scope(\"accuracy\"):\n",
    "            correct_predictions = tf.equal(self.predictions, tf.argmax(self.input_y, 1))\n",
    "            self.accuracy = tf.reduce_mean(tf.cast(correct_predictions, \"float\"), name=\"accuracy\")"
   ]
  },
  {
   "cell_type": "code",
   "execution_count": 0,
   "metadata": {
    "colab": {
     "base_uri": "https://localhost:8080/",
     "height": 298
    },
    "colab_type": "code",
    "id": "Gnz4gAmq4QHz",
    "outputId": "6379b6f0-b237-411c-8212-2c14ab38cf6f"
   },
   "outputs": [
    {
     "ename": "AttributeError",
     "evalue": "ignored",
     "output_type": "error",
     "traceback": [
      "\u001b[0;31m---------------------------------------------------------------------------\u001b[0m",
      "\u001b[0;31mAttributeError\u001b[0m                            Traceback (most recent call last)",
      "\u001b[0;32m<ipython-input-246-f20c35d65780>\u001b[0m in \u001b[0;36m<module>\u001b[0;34m()\u001b[0m\n\u001b[0;32m----> 1\u001b[0;31m \u001b[0mTextCNN\u001b[0m\u001b[0;34m(\u001b[0m\u001b[0mX_train\u001b[0m\u001b[0;34m,\u001b[0m\u001b[0my_train\u001b[0m\u001b[0;34m,\u001b[0m\u001b[0mvocab_size\u001b[0m\u001b[0;34m=\u001b[0m\u001b[0mvocab_size\u001b[0m\u001b[0;34m,\u001b[0m\u001b[0membedding_size\u001b[0m\u001b[0;34m=\u001b[0m\u001b[0;36m100\u001b[0m\u001b[0;34m,\u001b[0m\u001b[0mfilter_sizes\u001b[0m\u001b[0;34m=\u001b[0m\u001b[0;36m2\u001b[0m\u001b[0;34m,\u001b[0m\u001b[0mnum_filters\u001b[0m\u001b[0;34m=\u001b[0m\u001b[0;36m1\u001b[0m\u001b[0;34m)\u001b[0m\u001b[0;34m\u001b[0m\u001b[0;34m\u001b[0m\u001b[0m\n\u001b[0m",
      "\u001b[0;32m<ipython-input-245-2d24df4df82a>\u001b[0m in \u001b[0;36m__init__\u001b[0;34m(self, sequence_length, num_classes, vocab_size, embedding_size, filter_sizes, num_filters, l2_reg_lambda)\u001b[0m\n\u001b[1;32m     13\u001b[0m \u001b[0;34m\u001b[0m\u001b[0m\n\u001b[1;32m     14\u001b[0m         \u001b[0;31m# Placeholders for input, output and dropout\u001b[0m\u001b[0;34m\u001b[0m\u001b[0;34m\u001b[0m\u001b[0;34m\u001b[0m\u001b[0m\n\u001b[0;32m---> 15\u001b[0;31m         \u001b[0mself\u001b[0m\u001b[0;34m.\u001b[0m\u001b[0minput_x\u001b[0m \u001b[0;34m=\u001b[0m \u001b[0mtf\u001b[0m\u001b[0;34m.\u001b[0m\u001b[0mplaceholder\u001b[0m\u001b[0;34m(\u001b[0m\u001b[0mtf\u001b[0m\u001b[0;34m.\u001b[0m\u001b[0mint32\u001b[0m\u001b[0;34m,\u001b[0m \u001b[0;34m[\u001b[0m\u001b[0;32mNone\u001b[0m\u001b[0;34m,\u001b[0m \u001b[0msequence_length\u001b[0m\u001b[0;34m]\u001b[0m\u001b[0;34m,\u001b[0m \u001b[0mname\u001b[0m\u001b[0;34m=\u001b[0m\u001b[0;34m\"input_x\"\u001b[0m\u001b[0;34m)\u001b[0m\u001b[0;34m\u001b[0m\u001b[0;34m\u001b[0m\u001b[0m\n\u001b[0m\u001b[1;32m     16\u001b[0m         \u001b[0mself\u001b[0m\u001b[0;34m.\u001b[0m\u001b[0minput_y\u001b[0m \u001b[0;34m=\u001b[0m \u001b[0mtf\u001b[0m\u001b[0;34m.\u001b[0m\u001b[0mplaceholder\u001b[0m\u001b[0;34m(\u001b[0m\u001b[0mtf\u001b[0m\u001b[0;34m.\u001b[0m\u001b[0mfloat32\u001b[0m\u001b[0;34m,\u001b[0m \u001b[0;34m[\u001b[0m\u001b[0;32mNone\u001b[0m\u001b[0;34m,\u001b[0m \u001b[0mnum_classes\u001b[0m\u001b[0;34m]\u001b[0m\u001b[0;34m,\u001b[0m \u001b[0mname\u001b[0m\u001b[0;34m=\u001b[0m\u001b[0;34m\"input_y\"\u001b[0m\u001b[0;34m)\u001b[0m\u001b[0;34m\u001b[0m\u001b[0;34m\u001b[0m\u001b[0m\n\u001b[1;32m     17\u001b[0m         \u001b[0mself\u001b[0m\u001b[0;34m.\u001b[0m\u001b[0mdropout_keep_prob\u001b[0m \u001b[0;34m=\u001b[0m \u001b[0mtf\u001b[0m\u001b[0;34m.\u001b[0m\u001b[0mplaceholder\u001b[0m\u001b[0;34m(\u001b[0m\u001b[0mtf\u001b[0m\u001b[0;34m.\u001b[0m\u001b[0mfloat32\u001b[0m\u001b[0;34m,\u001b[0m \u001b[0mname\u001b[0m\u001b[0;34m=\u001b[0m\u001b[0;34m\"dropout_keep_prob\"\u001b[0m\u001b[0;34m)\u001b[0m\u001b[0;34m\u001b[0m\u001b[0;34m\u001b[0m\u001b[0m\n",
      "\u001b[0;31mAttributeError\u001b[0m: module 'tensorflow' has no attribute 'placeholder'"
     ]
    }
   ],
   "source": [
    "TextCNN(X_train,y_train,vocab_size=vocab_size,embedding_size=100,filter_sizes=2,num_filters=1)"
   ]
  },
  {
   "cell_type": "code",
   "execution_count": 0,
   "metadata": {
    "colab": {},
    "colab_type": "code",
    "id": "8FETs2AhwAIV"
   },
   "outputs": [],
   "source": [
    "es = EarlyStopping(monitor='val_loss', mode='min', verbose=1, patience=4)\n",
    "mc = ModelCheckpoint('best_model.h1', monitor='val_acc', mode='max', verbose=1, save_best_only=True)"
   ]
  },
  {
   "cell_type": "code",
   "execution_count": 0,
   "metadata": {
    "colab": {},
    "colab_type": "code",
    "id": "tQEwK-OmwUVU"
   },
   "outputs": [],
   "source": [
    "model_cnn.compile(loss='categorical_crossentropy', optimizer='adam', metrics=['accuracy'])"
   ]
  },
  {
   "cell_type": "code",
   "execution_count": 0,
   "metadata": {
    "colab": {},
    "colab_type": "code",
    "id": "DI7NxNxQwqlj"
   },
   "outputs": [],
   "source": [
    "history_cnn = model_cnn.fit(X_train, y_train, epochs=15, callbacks=[es, mc], batch_size=60, validation_split=0.2)"
   ]
  }
 ],
 "metadata": {
  "colab": {
   "collapsed_sections": [
    "9u0PJQQsJfYt",
    "tc3qWSw3JiUi",
    "3TsoLvc-mXFV",
    "hWu6j1lImS1Z",
    "SWfUzVgGJmPJ",
    "HPDz9Y4utM0l",
    "MKM0_5BvtPyo",
    "Lj6_jYG2EJxD",
    "1JOLSismJxFD"
   ],
   "machine_shape": "hm",
   "name": "Text_FeatureExtraction.ipynb",
   "provenance": [],
   "toc_visible": true
  },
  "kernelspec": {
   "display_name": "Python 3",
   "language": "python",
   "name": "python3"
  },
  "language_info": {
   "codemirror_mode": {
    "name": "ipython",
    "version": 3
   },
   "file_extension": ".py",
   "mimetype": "text/x-python",
   "name": "python",
   "nbconvert_exporter": "python",
   "pygments_lexer": "ipython3",
   "version": "3.7.4"
  }
 },
 "nbformat": 4,
 "nbformat_minor": 1
}
